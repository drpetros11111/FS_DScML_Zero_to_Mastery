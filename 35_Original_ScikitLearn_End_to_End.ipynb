{
  "cells": [
    {
      "cell_type": "markdown",
      "metadata": {
        "id": "view-in-github",
        "colab_type": "text"
      },
      "source": [
        "<a href=\"https://colab.research.google.com/github/drpetros11111/FS_DScML_Zero_to_Mastery/blob/20_Python_Scikit-learn-0-to-mastery/35_Original_ScikitLearn_End_to_End.ipynb\" target=\"_parent\"><img src=\"https://colab.research.google.com/assets/colab-badge.svg\" alt=\"Open In Colab\"/></a>"
      ]
    },
    {
      "cell_type": "markdown",
      "metadata": {
        "id": "e2RhIAvzdAO_"
      },
      "source": [
        "# A Quick Machine Learning Modelling Tutorial with Python and Scikit-Learn\n",
        "This notebook goes through a range of common and useful featues of the Scikit-Learn library.\n",
        "\n",
        "It's long but it's called quick because of how vast the Scikit-Learn library is. Covering everything requires a [full-blown documentation](https://scikit-learn.org/stable/user_guide.html), of which, if you ever get stuck, you should read.\n",
        "\n",
        "## What is Scikit-Learn (sklearn)?\n",
        "\n",
        "[Scikit-Learn](https://scikit-learn.org/stable/index.html), also referred to as `sklearn`, is an open-source Python machine learning library.\n",
        "\n",
        "It's built on top on NumPy (Python library for numerical computing) and Matplotlib (Python library for data visualization).\n",
        "\n",
        "<img src=\"../images/sklearn-6-step-ml-framework-tools-scikit-learn-highlight.png\" alt=\"a 6 step machine learning framework along will tools you can use for each step\" width=\"700\"/>\n",
        "\n",
        "## Why Scikit-Learn?\n",
        "\n",
        "Although the field of machine learning is vast, the main goal is finding patterns within data and then using those patterns to make predictions.\n",
        "\n",
        "And there are certain categories which a majority of problems fall into.\n",
        "\n",
        "If you're trying to create a machine learning model to predict whether an email is spam and or not spam, you're working on a classification problem (whether something is something(s) or another).\n",
        "\n",
        "If you're trying to create a machine learning model to predict the price of houses given their characteristics, you're working on a regression problem (predicting a number).\n",
        "\n",
        "Once you know what kind of problem you're working on, there are also similar steps you'll take for each. Steps like splitting the data into different sets, one for your machine learning algorithms to learn on and another to test them on.\n",
        "Choosing a machine learning model and then evaluating whether or not your model has learned anything.\n",
        "\n",
        "Scikit-Learn offers Python implementations for doing all of these kinds of tasks. Saving you having to build them from scratch.\n",
        "\n",
        "\n",
        "## What does this notebook cover?\n",
        "\n",
        "The Scikit-Learn library is very capable. However, learning everything off by heart isn't necessary. Instead, this notebook focuses some of the main use cases of the library.\n",
        "\n",
        "More specifically, we'll cover:\n",
        "\n",
        "<img src=\"../images/sklearn-workflow-title.png\" alt=\"a 6 step scikit-learn workflow\"/>\n",
        "\n",
        "0. An end-to-end Scikit-Learn worfklow\n",
        "1. Getting the data ready\n",
        "2. Choosing the right maching learning estimator/aglorithm/model for your problem\n",
        "3. Fitting your chosen machine learning model to data and using it to make a prediction\n",
        "4. Evaluting a machine learning model\n",
        "5. Improving predictions through experimentation (hyperparameter tuning)\n",
        "6. Saving and loading a pretrained model\n",
        "7. Putting it all together in a pipeline\n",
        "\n",
        "**Note:** all of the steps in this notebook are focused on **supervised learning** (having data and labels).\n",
        "\n",
        "After going through it, you'll have the base knolwedge of Scikit-Learn you need to keep moving forward.\n",
        "\n",
        "## Where can I get help?\n",
        "If you get stuck or think of something you'd like to do which this notebook doesn't cover, don't fear!\n",
        "\n",
        "The recommended steps you take are:\n",
        "1. **Try it** - Since Scikit-Learn has been designed with usability in mind, your first step should be to use what you know and try figure out the answer to your own question (getting it wrong is part of the process). If in doubt, run your code.\n",
        "2. **Press SHIFT+TAB** - See you can the docstring of a function (information on what the function does) by pressing **SHIFT + TAB** inside it. Doing this is a good habit to develop. It'll improve your research skills and give you a better understanding of the library.\n",
        "3. **Search for it** - If trying it on your own doesn't work, since someone else has probably tried to do something similar, try searching for your problem. You'll likely end up in 1 of 2 places:\n",
        "    * [Scikit-Learn documentation/user guide](https://scikit-learn.org/stable/user_guide.html) - the most extensive resource you'll find for Scikit-Learn information.\n",
        "    * [Stack Overflow](https://stackoverflow.com/) - this is the developers Q&A hub, it's full of questions and answers of different problems across a wide range of software development topics and chances are, there's one related to your problem.\n",
        "    \n",
        "An example of searching for a Scikit-Learn solution might be:\n",
        "\n",
        "> \"how to tune the hyperparameters of a sklearn model\"\n",
        "\n",
        "Searching this on Google leads to the Scikit-Learn documentation for the `GridSearchCV` function: http://scikit-learn.org/stable/modules/grid_search.html\n",
        "\n",
        "The next steps here are to read through the documentation, check the examples and see if they line up to the problem you're trying to solve. If they do, **rewrite the code** to suit your needs, run it, and see what the outcomes are.\n",
        "\n",
        "4. **Ask for help** - If you've been through the above 3 steps and you're still stuck, you might want to ask your question on [Stack Overflow](https://www.stackoverflow.com). Be as specific as possible and provide details on what you've tried.\n",
        "\n",
        "Remember, you don't have to learn all of the functions off by heart to begin with.\n",
        "\n",
        "What's most important is continually asking yourself, \"what am I trying to do with the data?\".\n",
        "\n",
        "Start by answering that question and then practicing finding the code which does it.\n",
        "\n",
        "Let's get started."
      ]
    },
    {
      "cell_type": "code",
      "execution_count": 73,
      "metadata": {
        "id": "GcvQ73T1dAPE"
      },
      "outputs": [],
      "source": [
        "# Standard imports\n",
        "%matplotlib inline\n",
        "import matplotlib.pyplot as plt\n",
        "import numpy as np\n",
        "import pandas as pd"
      ]
    },
    {
      "cell_type": "markdown",
      "metadata": {
        "id": "1WX9kQu8dAPF"
      },
      "source": [
        "## 0. An end-to-end Scikit-Learn workflow\n",
        "\n",
        "Before we get in-depth, let's quickly check out what an end-to-end Scikit-Learn workflow might look like.\n",
        "\n",
        "Once we've seen an end-to-end workflow, we'll dive into each step a little deeper.\n",
        "\n",
        "**Note:** Since Scikit-Learn is such a vast library, capable of tackling many problems, the workflow we're using is only one example of how you can use it."
      ]
    },
    {
      "cell_type": "markdown",
      "metadata": {
        "id": "K8aLqcmMdAPG"
      },
      "source": [
        "### Random Forest Classifier Workflow for Classifying Heart Disease\n",
        "\n",
        "#### 1. Get the data ready\n",
        "\n",
        "As an example dataset, we'll import `heart-disease.csv`. This file contains anonymised patient medical records and whether or not they have heart disease or not."
      ]
    },
    {
      "cell_type": "code",
      "execution_count": 74,
      "metadata": {
        "id": "ojHZnZTXdAPH",
        "outputId": "d813067b-a259-419f-af08-ea58b0427eb8",
        "colab": {
          "base_uri": "https://localhost:8080/",
          "height": 206
        }
      },
      "outputs": [
        {
          "output_type": "execute_result",
          "data": {
            "text/plain": [
              "   age  sex  cp  trestbps  chol  fbs  restecg  thalach  exang  oldpeak  slope  \\\n",
              "0   63    1   3       145   233    1        0      150      0      2.3      0   \n",
              "1   37    1   2       130   250    0        1      187      0      3.5      0   \n",
              "2   41    0   1       130   204    0        0      172      0      1.4      2   \n",
              "3   56    1   1       120   236    0        1      178      0      0.8      2   \n",
              "4   57    0   0       120   354    0        1      163      1      0.6      2   \n",
              "\n",
              "   ca  thal  target  \n",
              "0   0     1       1  \n",
              "1   0     2       1  \n",
              "2   0     2       1  \n",
              "3   0     2       1  \n",
              "4   0     2       1  "
            ],
            "text/html": [
              "\n",
              "  <div id=\"df-75e13baf-fee9-4f2f-964c-74bf9604fb7d\" class=\"colab-df-container\">\n",
              "    <div>\n",
              "<style scoped>\n",
              "    .dataframe tbody tr th:only-of-type {\n",
              "        vertical-align: middle;\n",
              "    }\n",
              "\n",
              "    .dataframe tbody tr th {\n",
              "        vertical-align: top;\n",
              "    }\n",
              "\n",
              "    .dataframe thead th {\n",
              "        text-align: right;\n",
              "    }\n",
              "</style>\n",
              "<table border=\"1\" class=\"dataframe\">\n",
              "  <thead>\n",
              "    <tr style=\"text-align: right;\">\n",
              "      <th></th>\n",
              "      <th>age</th>\n",
              "      <th>sex</th>\n",
              "      <th>cp</th>\n",
              "      <th>trestbps</th>\n",
              "      <th>chol</th>\n",
              "      <th>fbs</th>\n",
              "      <th>restecg</th>\n",
              "      <th>thalach</th>\n",
              "      <th>exang</th>\n",
              "      <th>oldpeak</th>\n",
              "      <th>slope</th>\n",
              "      <th>ca</th>\n",
              "      <th>thal</th>\n",
              "      <th>target</th>\n",
              "    </tr>\n",
              "  </thead>\n",
              "  <tbody>\n",
              "    <tr>\n",
              "      <th>0</th>\n",
              "      <td>63</td>\n",
              "      <td>1</td>\n",
              "      <td>3</td>\n",
              "      <td>145</td>\n",
              "      <td>233</td>\n",
              "      <td>1</td>\n",
              "      <td>0</td>\n",
              "      <td>150</td>\n",
              "      <td>0</td>\n",
              "      <td>2.3</td>\n",
              "      <td>0</td>\n",
              "      <td>0</td>\n",
              "      <td>1</td>\n",
              "      <td>1</td>\n",
              "    </tr>\n",
              "    <tr>\n",
              "      <th>1</th>\n",
              "      <td>37</td>\n",
              "      <td>1</td>\n",
              "      <td>2</td>\n",
              "      <td>130</td>\n",
              "      <td>250</td>\n",
              "      <td>0</td>\n",
              "      <td>1</td>\n",
              "      <td>187</td>\n",
              "      <td>0</td>\n",
              "      <td>3.5</td>\n",
              "      <td>0</td>\n",
              "      <td>0</td>\n",
              "      <td>2</td>\n",
              "      <td>1</td>\n",
              "    </tr>\n",
              "    <tr>\n",
              "      <th>2</th>\n",
              "      <td>41</td>\n",
              "      <td>0</td>\n",
              "      <td>1</td>\n",
              "      <td>130</td>\n",
              "      <td>204</td>\n",
              "      <td>0</td>\n",
              "      <td>0</td>\n",
              "      <td>172</td>\n",
              "      <td>0</td>\n",
              "      <td>1.4</td>\n",
              "      <td>2</td>\n",
              "      <td>0</td>\n",
              "      <td>2</td>\n",
              "      <td>1</td>\n",
              "    </tr>\n",
              "    <tr>\n",
              "      <th>3</th>\n",
              "      <td>56</td>\n",
              "      <td>1</td>\n",
              "      <td>1</td>\n",
              "      <td>120</td>\n",
              "      <td>236</td>\n",
              "      <td>0</td>\n",
              "      <td>1</td>\n",
              "      <td>178</td>\n",
              "      <td>0</td>\n",
              "      <td>0.8</td>\n",
              "      <td>2</td>\n",
              "      <td>0</td>\n",
              "      <td>2</td>\n",
              "      <td>1</td>\n",
              "    </tr>\n",
              "    <tr>\n",
              "      <th>4</th>\n",
              "      <td>57</td>\n",
              "      <td>0</td>\n",
              "      <td>0</td>\n",
              "      <td>120</td>\n",
              "      <td>354</td>\n",
              "      <td>0</td>\n",
              "      <td>1</td>\n",
              "      <td>163</td>\n",
              "      <td>1</td>\n",
              "      <td>0.6</td>\n",
              "      <td>2</td>\n",
              "      <td>0</td>\n",
              "      <td>2</td>\n",
              "      <td>1</td>\n",
              "    </tr>\n",
              "  </tbody>\n",
              "</table>\n",
              "</div>\n",
              "    <div class=\"colab-df-buttons\">\n",
              "\n",
              "  <div class=\"colab-df-container\">\n",
              "    <button class=\"colab-df-convert\" onclick=\"convertToInteractive('df-75e13baf-fee9-4f2f-964c-74bf9604fb7d')\"\n",
              "            title=\"Convert this dataframe to an interactive table.\"\n",
              "            style=\"display:none;\">\n",
              "\n",
              "  <svg xmlns=\"http://www.w3.org/2000/svg\" height=\"24px\" viewBox=\"0 -960 960 960\">\n",
              "    <path d=\"M120-120v-720h720v720H120Zm60-500h600v-160H180v160Zm220 220h160v-160H400v160Zm0 220h160v-160H400v160ZM180-400h160v-160H180v160Zm440 0h160v-160H620v160ZM180-180h160v-160H180v160Zm440 0h160v-160H620v160Z\"/>\n",
              "  </svg>\n",
              "    </button>\n",
              "\n",
              "  <style>\n",
              "    .colab-df-container {\n",
              "      display:flex;\n",
              "      gap: 12px;\n",
              "    }\n",
              "\n",
              "    .colab-df-convert {\n",
              "      background-color: #E8F0FE;\n",
              "      border: none;\n",
              "      border-radius: 50%;\n",
              "      cursor: pointer;\n",
              "      display: none;\n",
              "      fill: #1967D2;\n",
              "      height: 32px;\n",
              "      padding: 0 0 0 0;\n",
              "      width: 32px;\n",
              "    }\n",
              "\n",
              "    .colab-df-convert:hover {\n",
              "      background-color: #E2EBFA;\n",
              "      box-shadow: 0px 1px 2px rgba(60, 64, 67, 0.3), 0px 1px 3px 1px rgba(60, 64, 67, 0.15);\n",
              "      fill: #174EA6;\n",
              "    }\n",
              "\n",
              "    .colab-df-buttons div {\n",
              "      margin-bottom: 4px;\n",
              "    }\n",
              "\n",
              "    [theme=dark] .colab-df-convert {\n",
              "      background-color: #3B4455;\n",
              "      fill: #D2E3FC;\n",
              "    }\n",
              "\n",
              "    [theme=dark] .colab-df-convert:hover {\n",
              "      background-color: #434B5C;\n",
              "      box-shadow: 0px 1px 3px 1px rgba(0, 0, 0, 0.15);\n",
              "      filter: drop-shadow(0px 1px 2px rgba(0, 0, 0, 0.3));\n",
              "      fill: #FFFFFF;\n",
              "    }\n",
              "  </style>\n",
              "\n",
              "    <script>\n",
              "      const buttonEl =\n",
              "        document.querySelector('#df-75e13baf-fee9-4f2f-964c-74bf9604fb7d button.colab-df-convert');\n",
              "      buttonEl.style.display =\n",
              "        google.colab.kernel.accessAllowed ? 'block' : 'none';\n",
              "\n",
              "      async function convertToInteractive(key) {\n",
              "        const element = document.querySelector('#df-75e13baf-fee9-4f2f-964c-74bf9604fb7d');\n",
              "        const dataTable =\n",
              "          await google.colab.kernel.invokeFunction('convertToInteractive',\n",
              "                                                    [key], {});\n",
              "        if (!dataTable) return;\n",
              "\n",
              "        const docLinkHtml = 'Like what you see? Visit the ' +\n",
              "          '<a target=\"_blank\" href=https://colab.research.google.com/notebooks/data_table.ipynb>data table notebook</a>'\n",
              "          + ' to learn more about interactive tables.';\n",
              "        element.innerHTML = '';\n",
              "        dataTable['output_type'] = 'display_data';\n",
              "        await google.colab.output.renderOutput(dataTable, element);\n",
              "        const docLink = document.createElement('div');\n",
              "        docLink.innerHTML = docLinkHtml;\n",
              "        element.appendChild(docLink);\n",
              "      }\n",
              "    </script>\n",
              "  </div>\n",
              "\n",
              "\n",
              "<div id=\"df-a608822b-c956-45ec-92b3-69c0d40c50c8\">\n",
              "  <button class=\"colab-df-quickchart\" onclick=\"quickchart('df-a608822b-c956-45ec-92b3-69c0d40c50c8')\"\n",
              "            title=\"Suggest charts\"\n",
              "            style=\"display:none;\">\n",
              "\n",
              "<svg xmlns=\"http://www.w3.org/2000/svg\" height=\"24px\"viewBox=\"0 0 24 24\"\n",
              "     width=\"24px\">\n",
              "    <g>\n",
              "        <path d=\"M19 3H5c-1.1 0-2 .9-2 2v14c0 1.1.9 2 2 2h14c1.1 0 2-.9 2-2V5c0-1.1-.9-2-2-2zM9 17H7v-7h2v7zm4 0h-2V7h2v10zm4 0h-2v-4h2v4z\"/>\n",
              "    </g>\n",
              "</svg>\n",
              "  </button>\n",
              "\n",
              "<style>\n",
              "  .colab-df-quickchart {\n",
              "      --bg-color: #E8F0FE;\n",
              "      --fill-color: #1967D2;\n",
              "      --hover-bg-color: #E2EBFA;\n",
              "      --hover-fill-color: #174EA6;\n",
              "      --disabled-fill-color: #AAA;\n",
              "      --disabled-bg-color: #DDD;\n",
              "  }\n",
              "\n",
              "  [theme=dark] .colab-df-quickchart {\n",
              "      --bg-color: #3B4455;\n",
              "      --fill-color: #D2E3FC;\n",
              "      --hover-bg-color: #434B5C;\n",
              "      --hover-fill-color: #FFFFFF;\n",
              "      --disabled-bg-color: #3B4455;\n",
              "      --disabled-fill-color: #666;\n",
              "  }\n",
              "\n",
              "  .colab-df-quickchart {\n",
              "    background-color: var(--bg-color);\n",
              "    border: none;\n",
              "    border-radius: 50%;\n",
              "    cursor: pointer;\n",
              "    display: none;\n",
              "    fill: var(--fill-color);\n",
              "    height: 32px;\n",
              "    padding: 0;\n",
              "    width: 32px;\n",
              "  }\n",
              "\n",
              "  .colab-df-quickchart:hover {\n",
              "    background-color: var(--hover-bg-color);\n",
              "    box-shadow: 0 1px 2px rgba(60, 64, 67, 0.3), 0 1px 3px 1px rgba(60, 64, 67, 0.15);\n",
              "    fill: var(--button-hover-fill-color);\n",
              "  }\n",
              "\n",
              "  .colab-df-quickchart-complete:disabled,\n",
              "  .colab-df-quickchart-complete:disabled:hover {\n",
              "    background-color: var(--disabled-bg-color);\n",
              "    fill: var(--disabled-fill-color);\n",
              "    box-shadow: none;\n",
              "  }\n",
              "\n",
              "  .colab-df-spinner {\n",
              "    border: 2px solid var(--fill-color);\n",
              "    border-color: transparent;\n",
              "    border-bottom-color: var(--fill-color);\n",
              "    animation:\n",
              "      spin 1s steps(1) infinite;\n",
              "  }\n",
              "\n",
              "  @keyframes spin {\n",
              "    0% {\n",
              "      border-color: transparent;\n",
              "      border-bottom-color: var(--fill-color);\n",
              "      border-left-color: var(--fill-color);\n",
              "    }\n",
              "    20% {\n",
              "      border-color: transparent;\n",
              "      border-left-color: var(--fill-color);\n",
              "      border-top-color: var(--fill-color);\n",
              "    }\n",
              "    30% {\n",
              "      border-color: transparent;\n",
              "      border-left-color: var(--fill-color);\n",
              "      border-top-color: var(--fill-color);\n",
              "      border-right-color: var(--fill-color);\n",
              "    }\n",
              "    40% {\n",
              "      border-color: transparent;\n",
              "      border-right-color: var(--fill-color);\n",
              "      border-top-color: var(--fill-color);\n",
              "    }\n",
              "    60% {\n",
              "      border-color: transparent;\n",
              "      border-right-color: var(--fill-color);\n",
              "    }\n",
              "    80% {\n",
              "      border-color: transparent;\n",
              "      border-right-color: var(--fill-color);\n",
              "      border-bottom-color: var(--fill-color);\n",
              "    }\n",
              "    90% {\n",
              "      border-color: transparent;\n",
              "      border-bottom-color: var(--fill-color);\n",
              "    }\n",
              "  }\n",
              "</style>\n",
              "\n",
              "  <script>\n",
              "    async function quickchart(key) {\n",
              "      const quickchartButtonEl =\n",
              "        document.querySelector('#' + key + ' button');\n",
              "      quickchartButtonEl.disabled = true;  // To prevent multiple clicks.\n",
              "      quickchartButtonEl.classList.add('colab-df-spinner');\n",
              "      try {\n",
              "        const charts = await google.colab.kernel.invokeFunction(\n",
              "            'suggestCharts', [key], {});\n",
              "      } catch (error) {\n",
              "        console.error('Error during call to suggestCharts:', error);\n",
              "      }\n",
              "      quickchartButtonEl.classList.remove('colab-df-spinner');\n",
              "      quickchartButtonEl.classList.add('colab-df-quickchart-complete');\n",
              "    }\n",
              "    (() => {\n",
              "      let quickchartButtonEl =\n",
              "        document.querySelector('#df-a608822b-c956-45ec-92b3-69c0d40c50c8 button');\n",
              "      quickchartButtonEl.style.display =\n",
              "        google.colab.kernel.accessAllowed ? 'block' : 'none';\n",
              "    })();\n",
              "  </script>\n",
              "</div>\n",
              "\n",
              "    </div>\n",
              "  </div>\n"
            ],
            "application/vnd.google.colaboratory.intrinsic+json": {
              "type": "dataframe",
              "variable_name": "heart_disease",
              "summary": "{\n  \"name\": \"heart_disease\",\n  \"rows\": 303,\n  \"fields\": [\n    {\n      \"column\": \"age\",\n      \"properties\": {\n        \"dtype\": \"number\",\n        \"std\": 9,\n        \"min\": 29,\n        \"max\": 77,\n        \"num_unique_values\": 41,\n        \"samples\": [\n          46,\n          66,\n          48\n        ],\n        \"semantic_type\": \"\",\n        \"description\": \"\"\n      }\n    },\n    {\n      \"column\": \"sex\",\n      \"properties\": {\n        \"dtype\": \"number\",\n        \"std\": 0,\n        \"min\": 0,\n        \"max\": 1,\n        \"num_unique_values\": 2,\n        \"samples\": [\n          0,\n          1\n        ],\n        \"semantic_type\": \"\",\n        \"description\": \"\"\n      }\n    },\n    {\n      \"column\": \"cp\",\n      \"properties\": {\n        \"dtype\": \"number\",\n        \"std\": 1,\n        \"min\": 0,\n        \"max\": 3,\n        \"num_unique_values\": 4,\n        \"samples\": [\n          2,\n          0\n        ],\n        \"semantic_type\": \"\",\n        \"description\": \"\"\n      }\n    },\n    {\n      \"column\": \"trestbps\",\n      \"properties\": {\n        \"dtype\": \"number\",\n        \"std\": 17,\n        \"min\": 94,\n        \"max\": 200,\n        \"num_unique_values\": 49,\n        \"samples\": [\n          104,\n          123\n        ],\n        \"semantic_type\": \"\",\n        \"description\": \"\"\n      }\n    },\n    {\n      \"column\": \"chol\",\n      \"properties\": {\n        \"dtype\": \"number\",\n        \"std\": 51,\n        \"min\": 126,\n        \"max\": 564,\n        \"num_unique_values\": 152,\n        \"samples\": [\n          277,\n          169\n        ],\n        \"semantic_type\": \"\",\n        \"description\": \"\"\n      }\n    },\n    {\n      \"column\": \"fbs\",\n      \"properties\": {\n        \"dtype\": \"number\",\n        \"std\": 0,\n        \"min\": 0,\n        \"max\": 1,\n        \"num_unique_values\": 2,\n        \"samples\": [\n          0,\n          1\n        ],\n        \"semantic_type\": \"\",\n        \"description\": \"\"\n      }\n    },\n    {\n      \"column\": \"restecg\",\n      \"properties\": {\n        \"dtype\": \"number\",\n        \"std\": 0,\n        \"min\": 0,\n        \"max\": 2,\n        \"num_unique_values\": 3,\n        \"samples\": [\n          0,\n          1\n        ],\n        \"semantic_type\": \"\",\n        \"description\": \"\"\n      }\n    },\n    {\n      \"column\": \"thalach\",\n      \"properties\": {\n        \"dtype\": \"number\",\n        \"std\": 22,\n        \"min\": 71,\n        \"max\": 202,\n        \"num_unique_values\": 91,\n        \"samples\": [\n          159,\n          152\n        ],\n        \"semantic_type\": \"\",\n        \"description\": \"\"\n      }\n    },\n    {\n      \"column\": \"exang\",\n      \"properties\": {\n        \"dtype\": \"number\",\n        \"std\": 0,\n        \"min\": 0,\n        \"max\": 1,\n        \"num_unique_values\": 2,\n        \"samples\": [\n          1,\n          0\n        ],\n        \"semantic_type\": \"\",\n        \"description\": \"\"\n      }\n    },\n    {\n      \"column\": \"oldpeak\",\n      \"properties\": {\n        \"dtype\": \"number\",\n        \"std\": 1.1610750220686348,\n        \"min\": 0.0,\n        \"max\": 6.2,\n        \"num_unique_values\": 40,\n        \"samples\": [\n          1.9,\n          3.0\n        ],\n        \"semantic_type\": \"\",\n        \"description\": \"\"\n      }\n    },\n    {\n      \"column\": \"slope\",\n      \"properties\": {\n        \"dtype\": \"number\",\n        \"std\": 0,\n        \"min\": 0,\n        \"max\": 2,\n        \"num_unique_values\": 3,\n        \"samples\": [\n          0,\n          2\n        ],\n        \"semantic_type\": \"\",\n        \"description\": \"\"\n      }\n    },\n    {\n      \"column\": \"ca\",\n      \"properties\": {\n        \"dtype\": \"number\",\n        \"std\": 1,\n        \"min\": 0,\n        \"max\": 4,\n        \"num_unique_values\": 5,\n        \"samples\": [\n          2,\n          4\n        ],\n        \"semantic_type\": \"\",\n        \"description\": \"\"\n      }\n    },\n    {\n      \"column\": \"thal\",\n      \"properties\": {\n        \"dtype\": \"number\",\n        \"std\": 0,\n        \"min\": 0,\n        \"max\": 3,\n        \"num_unique_values\": 4,\n        \"samples\": [\n          2,\n          0\n        ],\n        \"semantic_type\": \"\",\n        \"description\": \"\"\n      }\n    },\n    {\n      \"column\": \"target\",\n      \"properties\": {\n        \"dtype\": \"number\",\n        \"std\": 0,\n        \"min\": 0,\n        \"max\": 1,\n        \"num_unique_values\": 2,\n        \"samples\": [\n          0,\n          1\n        ],\n        \"semantic_type\": \"\",\n        \"description\": \"\"\n      }\n    }\n  ]\n}"
            }
          },
          "metadata": {},
          "execution_count": 74
        }
      ],
      "source": [
        "import pandas as pd\n",
        "heart_disease = pd.read_csv('/content/heart-disease.csv')\n",
        "heart_disease.head()"
      ]
    },
    {
      "cell_type": "markdown",
      "metadata": {
        "id": "Z_CCpPS8dAPJ"
      },
      "source": [
        "Here, each row is a different patient and all columns except `target` are different patient characteristics. `target` indicates whether the patient has heart disease (`target` = 1) or not (`target` = 0)."
      ]
    },
    {
      "cell_type": "code",
      "execution_count": 75,
      "metadata": {
        "id": "upjdnds4dAPJ"
      },
      "outputs": [],
      "source": [
        "# Create X (all the feature columns)\n",
        "X = heart_disease.drop(\"target\", axis=1)\n",
        "\n",
        "# Create y (the target column)\n",
        "y = heart_disease[\"target\"]"
      ]
    },
    {
      "cell_type": "code",
      "execution_count": 76,
      "metadata": {
        "id": "PLwqKfdfdAPK",
        "outputId": "ccff9af1-0a11-4900-d123-df25ec537003",
        "colab": {
          "base_uri": "https://localhost:8080/",
          "height": 206
        }
      },
      "outputs": [
        {
          "output_type": "execute_result",
          "data": {
            "text/plain": [
              "   age  sex  cp  trestbps  chol  fbs  restecg  thalach  exang  oldpeak  slope  \\\n",
              "0   63    1   3       145   233    1        0      150      0      2.3      0   \n",
              "1   37    1   2       130   250    0        1      187      0      3.5      0   \n",
              "2   41    0   1       130   204    0        0      172      0      1.4      2   \n",
              "3   56    1   1       120   236    0        1      178      0      0.8      2   \n",
              "4   57    0   0       120   354    0        1      163      1      0.6      2   \n",
              "\n",
              "   ca  thal  \n",
              "0   0     1  \n",
              "1   0     2  \n",
              "2   0     2  \n",
              "3   0     2  \n",
              "4   0     2  "
            ],
            "text/html": [
              "\n",
              "  <div id=\"df-33a4408a-edcf-4a2c-92cf-7977c7f05709\" class=\"colab-df-container\">\n",
              "    <div>\n",
              "<style scoped>\n",
              "    .dataframe tbody tr th:only-of-type {\n",
              "        vertical-align: middle;\n",
              "    }\n",
              "\n",
              "    .dataframe tbody tr th {\n",
              "        vertical-align: top;\n",
              "    }\n",
              "\n",
              "    .dataframe thead th {\n",
              "        text-align: right;\n",
              "    }\n",
              "</style>\n",
              "<table border=\"1\" class=\"dataframe\">\n",
              "  <thead>\n",
              "    <tr style=\"text-align: right;\">\n",
              "      <th></th>\n",
              "      <th>age</th>\n",
              "      <th>sex</th>\n",
              "      <th>cp</th>\n",
              "      <th>trestbps</th>\n",
              "      <th>chol</th>\n",
              "      <th>fbs</th>\n",
              "      <th>restecg</th>\n",
              "      <th>thalach</th>\n",
              "      <th>exang</th>\n",
              "      <th>oldpeak</th>\n",
              "      <th>slope</th>\n",
              "      <th>ca</th>\n",
              "      <th>thal</th>\n",
              "    </tr>\n",
              "  </thead>\n",
              "  <tbody>\n",
              "    <tr>\n",
              "      <th>0</th>\n",
              "      <td>63</td>\n",
              "      <td>1</td>\n",
              "      <td>3</td>\n",
              "      <td>145</td>\n",
              "      <td>233</td>\n",
              "      <td>1</td>\n",
              "      <td>0</td>\n",
              "      <td>150</td>\n",
              "      <td>0</td>\n",
              "      <td>2.3</td>\n",
              "      <td>0</td>\n",
              "      <td>0</td>\n",
              "      <td>1</td>\n",
              "    </tr>\n",
              "    <tr>\n",
              "      <th>1</th>\n",
              "      <td>37</td>\n",
              "      <td>1</td>\n",
              "      <td>2</td>\n",
              "      <td>130</td>\n",
              "      <td>250</td>\n",
              "      <td>0</td>\n",
              "      <td>1</td>\n",
              "      <td>187</td>\n",
              "      <td>0</td>\n",
              "      <td>3.5</td>\n",
              "      <td>0</td>\n",
              "      <td>0</td>\n",
              "      <td>2</td>\n",
              "    </tr>\n",
              "    <tr>\n",
              "      <th>2</th>\n",
              "      <td>41</td>\n",
              "      <td>0</td>\n",
              "      <td>1</td>\n",
              "      <td>130</td>\n",
              "      <td>204</td>\n",
              "      <td>0</td>\n",
              "      <td>0</td>\n",
              "      <td>172</td>\n",
              "      <td>0</td>\n",
              "      <td>1.4</td>\n",
              "      <td>2</td>\n",
              "      <td>0</td>\n",
              "      <td>2</td>\n",
              "    </tr>\n",
              "    <tr>\n",
              "      <th>3</th>\n",
              "      <td>56</td>\n",
              "      <td>1</td>\n",
              "      <td>1</td>\n",
              "      <td>120</td>\n",
              "      <td>236</td>\n",
              "      <td>0</td>\n",
              "      <td>1</td>\n",
              "      <td>178</td>\n",
              "      <td>0</td>\n",
              "      <td>0.8</td>\n",
              "      <td>2</td>\n",
              "      <td>0</td>\n",
              "      <td>2</td>\n",
              "    </tr>\n",
              "    <tr>\n",
              "      <th>4</th>\n",
              "      <td>57</td>\n",
              "      <td>0</td>\n",
              "      <td>0</td>\n",
              "      <td>120</td>\n",
              "      <td>354</td>\n",
              "      <td>0</td>\n",
              "      <td>1</td>\n",
              "      <td>163</td>\n",
              "      <td>1</td>\n",
              "      <td>0.6</td>\n",
              "      <td>2</td>\n",
              "      <td>0</td>\n",
              "      <td>2</td>\n",
              "    </tr>\n",
              "  </tbody>\n",
              "</table>\n",
              "</div>\n",
              "    <div class=\"colab-df-buttons\">\n",
              "\n",
              "  <div class=\"colab-df-container\">\n",
              "    <button class=\"colab-df-convert\" onclick=\"convertToInteractive('df-33a4408a-edcf-4a2c-92cf-7977c7f05709')\"\n",
              "            title=\"Convert this dataframe to an interactive table.\"\n",
              "            style=\"display:none;\">\n",
              "\n",
              "  <svg xmlns=\"http://www.w3.org/2000/svg\" height=\"24px\" viewBox=\"0 -960 960 960\">\n",
              "    <path d=\"M120-120v-720h720v720H120Zm60-500h600v-160H180v160Zm220 220h160v-160H400v160Zm0 220h160v-160H400v160ZM180-400h160v-160H180v160Zm440 0h160v-160H620v160ZM180-180h160v-160H180v160Zm440 0h160v-160H620v160Z\"/>\n",
              "  </svg>\n",
              "    </button>\n",
              "\n",
              "  <style>\n",
              "    .colab-df-container {\n",
              "      display:flex;\n",
              "      gap: 12px;\n",
              "    }\n",
              "\n",
              "    .colab-df-convert {\n",
              "      background-color: #E8F0FE;\n",
              "      border: none;\n",
              "      border-radius: 50%;\n",
              "      cursor: pointer;\n",
              "      display: none;\n",
              "      fill: #1967D2;\n",
              "      height: 32px;\n",
              "      padding: 0 0 0 0;\n",
              "      width: 32px;\n",
              "    }\n",
              "\n",
              "    .colab-df-convert:hover {\n",
              "      background-color: #E2EBFA;\n",
              "      box-shadow: 0px 1px 2px rgba(60, 64, 67, 0.3), 0px 1px 3px 1px rgba(60, 64, 67, 0.15);\n",
              "      fill: #174EA6;\n",
              "    }\n",
              "\n",
              "    .colab-df-buttons div {\n",
              "      margin-bottom: 4px;\n",
              "    }\n",
              "\n",
              "    [theme=dark] .colab-df-convert {\n",
              "      background-color: #3B4455;\n",
              "      fill: #D2E3FC;\n",
              "    }\n",
              "\n",
              "    [theme=dark] .colab-df-convert:hover {\n",
              "      background-color: #434B5C;\n",
              "      box-shadow: 0px 1px 3px 1px rgba(0, 0, 0, 0.15);\n",
              "      filter: drop-shadow(0px 1px 2px rgba(0, 0, 0, 0.3));\n",
              "      fill: #FFFFFF;\n",
              "    }\n",
              "  </style>\n",
              "\n",
              "    <script>\n",
              "      const buttonEl =\n",
              "        document.querySelector('#df-33a4408a-edcf-4a2c-92cf-7977c7f05709 button.colab-df-convert');\n",
              "      buttonEl.style.display =\n",
              "        google.colab.kernel.accessAllowed ? 'block' : 'none';\n",
              "\n",
              "      async function convertToInteractive(key) {\n",
              "        const element = document.querySelector('#df-33a4408a-edcf-4a2c-92cf-7977c7f05709');\n",
              "        const dataTable =\n",
              "          await google.colab.kernel.invokeFunction('convertToInteractive',\n",
              "                                                    [key], {});\n",
              "        if (!dataTable) return;\n",
              "\n",
              "        const docLinkHtml = 'Like what you see? Visit the ' +\n",
              "          '<a target=\"_blank\" href=https://colab.research.google.com/notebooks/data_table.ipynb>data table notebook</a>'\n",
              "          + ' to learn more about interactive tables.';\n",
              "        element.innerHTML = '';\n",
              "        dataTable['output_type'] = 'display_data';\n",
              "        await google.colab.output.renderOutput(dataTable, element);\n",
              "        const docLink = document.createElement('div');\n",
              "        docLink.innerHTML = docLinkHtml;\n",
              "        element.appendChild(docLink);\n",
              "      }\n",
              "    </script>\n",
              "  </div>\n",
              "\n",
              "\n",
              "<div id=\"df-a9eb1e32-4f52-47ad-af19-56ba7831fbcd\">\n",
              "  <button class=\"colab-df-quickchart\" onclick=\"quickchart('df-a9eb1e32-4f52-47ad-af19-56ba7831fbcd')\"\n",
              "            title=\"Suggest charts\"\n",
              "            style=\"display:none;\">\n",
              "\n",
              "<svg xmlns=\"http://www.w3.org/2000/svg\" height=\"24px\"viewBox=\"0 0 24 24\"\n",
              "     width=\"24px\">\n",
              "    <g>\n",
              "        <path d=\"M19 3H5c-1.1 0-2 .9-2 2v14c0 1.1.9 2 2 2h14c1.1 0 2-.9 2-2V5c0-1.1-.9-2-2-2zM9 17H7v-7h2v7zm4 0h-2V7h2v10zm4 0h-2v-4h2v4z\"/>\n",
              "    </g>\n",
              "</svg>\n",
              "  </button>\n",
              "\n",
              "<style>\n",
              "  .colab-df-quickchart {\n",
              "      --bg-color: #E8F0FE;\n",
              "      --fill-color: #1967D2;\n",
              "      --hover-bg-color: #E2EBFA;\n",
              "      --hover-fill-color: #174EA6;\n",
              "      --disabled-fill-color: #AAA;\n",
              "      --disabled-bg-color: #DDD;\n",
              "  }\n",
              "\n",
              "  [theme=dark] .colab-df-quickchart {\n",
              "      --bg-color: #3B4455;\n",
              "      --fill-color: #D2E3FC;\n",
              "      --hover-bg-color: #434B5C;\n",
              "      --hover-fill-color: #FFFFFF;\n",
              "      --disabled-bg-color: #3B4455;\n",
              "      --disabled-fill-color: #666;\n",
              "  }\n",
              "\n",
              "  .colab-df-quickchart {\n",
              "    background-color: var(--bg-color);\n",
              "    border: none;\n",
              "    border-radius: 50%;\n",
              "    cursor: pointer;\n",
              "    display: none;\n",
              "    fill: var(--fill-color);\n",
              "    height: 32px;\n",
              "    padding: 0;\n",
              "    width: 32px;\n",
              "  }\n",
              "\n",
              "  .colab-df-quickchart:hover {\n",
              "    background-color: var(--hover-bg-color);\n",
              "    box-shadow: 0 1px 2px rgba(60, 64, 67, 0.3), 0 1px 3px 1px rgba(60, 64, 67, 0.15);\n",
              "    fill: var(--button-hover-fill-color);\n",
              "  }\n",
              "\n",
              "  .colab-df-quickchart-complete:disabled,\n",
              "  .colab-df-quickchart-complete:disabled:hover {\n",
              "    background-color: var(--disabled-bg-color);\n",
              "    fill: var(--disabled-fill-color);\n",
              "    box-shadow: none;\n",
              "  }\n",
              "\n",
              "  .colab-df-spinner {\n",
              "    border: 2px solid var(--fill-color);\n",
              "    border-color: transparent;\n",
              "    border-bottom-color: var(--fill-color);\n",
              "    animation:\n",
              "      spin 1s steps(1) infinite;\n",
              "  }\n",
              "\n",
              "  @keyframes spin {\n",
              "    0% {\n",
              "      border-color: transparent;\n",
              "      border-bottom-color: var(--fill-color);\n",
              "      border-left-color: var(--fill-color);\n",
              "    }\n",
              "    20% {\n",
              "      border-color: transparent;\n",
              "      border-left-color: var(--fill-color);\n",
              "      border-top-color: var(--fill-color);\n",
              "    }\n",
              "    30% {\n",
              "      border-color: transparent;\n",
              "      border-left-color: var(--fill-color);\n",
              "      border-top-color: var(--fill-color);\n",
              "      border-right-color: var(--fill-color);\n",
              "    }\n",
              "    40% {\n",
              "      border-color: transparent;\n",
              "      border-right-color: var(--fill-color);\n",
              "      border-top-color: var(--fill-color);\n",
              "    }\n",
              "    60% {\n",
              "      border-color: transparent;\n",
              "      border-right-color: var(--fill-color);\n",
              "    }\n",
              "    80% {\n",
              "      border-color: transparent;\n",
              "      border-right-color: var(--fill-color);\n",
              "      border-bottom-color: var(--fill-color);\n",
              "    }\n",
              "    90% {\n",
              "      border-color: transparent;\n",
              "      border-bottom-color: var(--fill-color);\n",
              "    }\n",
              "  }\n",
              "</style>\n",
              "\n",
              "  <script>\n",
              "    async function quickchart(key) {\n",
              "      const quickchartButtonEl =\n",
              "        document.querySelector('#' + key + ' button');\n",
              "      quickchartButtonEl.disabled = true;  // To prevent multiple clicks.\n",
              "      quickchartButtonEl.classList.add('colab-df-spinner');\n",
              "      try {\n",
              "        const charts = await google.colab.kernel.invokeFunction(\n",
              "            'suggestCharts', [key], {});\n",
              "      } catch (error) {\n",
              "        console.error('Error during call to suggestCharts:', error);\n",
              "      }\n",
              "      quickchartButtonEl.classList.remove('colab-df-spinner');\n",
              "      quickchartButtonEl.classList.add('colab-df-quickchart-complete');\n",
              "    }\n",
              "    (() => {\n",
              "      let quickchartButtonEl =\n",
              "        document.querySelector('#df-a9eb1e32-4f52-47ad-af19-56ba7831fbcd button');\n",
              "      quickchartButtonEl.style.display =\n",
              "        google.colab.kernel.accessAllowed ? 'block' : 'none';\n",
              "    })();\n",
              "  </script>\n",
              "</div>\n",
              "\n",
              "    </div>\n",
              "  </div>\n"
            ],
            "application/vnd.google.colaboratory.intrinsic+json": {
              "type": "dataframe",
              "variable_name": "X",
              "summary": "{\n  \"name\": \"X\",\n  \"rows\": 303,\n  \"fields\": [\n    {\n      \"column\": \"age\",\n      \"properties\": {\n        \"dtype\": \"number\",\n        \"std\": 9,\n        \"min\": 29,\n        \"max\": 77,\n        \"num_unique_values\": 41,\n        \"samples\": [\n          46,\n          66,\n          48\n        ],\n        \"semantic_type\": \"\",\n        \"description\": \"\"\n      }\n    },\n    {\n      \"column\": \"sex\",\n      \"properties\": {\n        \"dtype\": \"number\",\n        \"std\": 0,\n        \"min\": 0,\n        \"max\": 1,\n        \"num_unique_values\": 2,\n        \"samples\": [\n          0,\n          1\n        ],\n        \"semantic_type\": \"\",\n        \"description\": \"\"\n      }\n    },\n    {\n      \"column\": \"cp\",\n      \"properties\": {\n        \"dtype\": \"number\",\n        \"std\": 1,\n        \"min\": 0,\n        \"max\": 3,\n        \"num_unique_values\": 4,\n        \"samples\": [\n          2,\n          0\n        ],\n        \"semantic_type\": \"\",\n        \"description\": \"\"\n      }\n    },\n    {\n      \"column\": \"trestbps\",\n      \"properties\": {\n        \"dtype\": \"number\",\n        \"std\": 17,\n        \"min\": 94,\n        \"max\": 200,\n        \"num_unique_values\": 49,\n        \"samples\": [\n          104,\n          123\n        ],\n        \"semantic_type\": \"\",\n        \"description\": \"\"\n      }\n    },\n    {\n      \"column\": \"chol\",\n      \"properties\": {\n        \"dtype\": \"number\",\n        \"std\": 51,\n        \"min\": 126,\n        \"max\": 564,\n        \"num_unique_values\": 152,\n        \"samples\": [\n          277,\n          169\n        ],\n        \"semantic_type\": \"\",\n        \"description\": \"\"\n      }\n    },\n    {\n      \"column\": \"fbs\",\n      \"properties\": {\n        \"dtype\": \"number\",\n        \"std\": 0,\n        \"min\": 0,\n        \"max\": 1,\n        \"num_unique_values\": 2,\n        \"samples\": [\n          0,\n          1\n        ],\n        \"semantic_type\": \"\",\n        \"description\": \"\"\n      }\n    },\n    {\n      \"column\": \"restecg\",\n      \"properties\": {\n        \"dtype\": \"number\",\n        \"std\": 0,\n        \"min\": 0,\n        \"max\": 2,\n        \"num_unique_values\": 3,\n        \"samples\": [\n          0,\n          1\n        ],\n        \"semantic_type\": \"\",\n        \"description\": \"\"\n      }\n    },\n    {\n      \"column\": \"thalach\",\n      \"properties\": {\n        \"dtype\": \"number\",\n        \"std\": 22,\n        \"min\": 71,\n        \"max\": 202,\n        \"num_unique_values\": 91,\n        \"samples\": [\n          159,\n          152\n        ],\n        \"semantic_type\": \"\",\n        \"description\": \"\"\n      }\n    },\n    {\n      \"column\": \"exang\",\n      \"properties\": {\n        \"dtype\": \"number\",\n        \"std\": 0,\n        \"min\": 0,\n        \"max\": 1,\n        \"num_unique_values\": 2,\n        \"samples\": [\n          1,\n          0\n        ],\n        \"semantic_type\": \"\",\n        \"description\": \"\"\n      }\n    },\n    {\n      \"column\": \"oldpeak\",\n      \"properties\": {\n        \"dtype\": \"number\",\n        \"std\": 1.1610750220686348,\n        \"min\": 0.0,\n        \"max\": 6.2,\n        \"num_unique_values\": 40,\n        \"samples\": [\n          1.9,\n          3.0\n        ],\n        \"semantic_type\": \"\",\n        \"description\": \"\"\n      }\n    },\n    {\n      \"column\": \"slope\",\n      \"properties\": {\n        \"dtype\": \"number\",\n        \"std\": 0,\n        \"min\": 0,\n        \"max\": 2,\n        \"num_unique_values\": 3,\n        \"samples\": [\n          0,\n          2\n        ],\n        \"semantic_type\": \"\",\n        \"description\": \"\"\n      }\n    },\n    {\n      \"column\": \"ca\",\n      \"properties\": {\n        \"dtype\": \"number\",\n        \"std\": 1,\n        \"min\": 0,\n        \"max\": 4,\n        \"num_unique_values\": 5,\n        \"samples\": [\n          2,\n          4\n        ],\n        \"semantic_type\": \"\",\n        \"description\": \"\"\n      }\n    },\n    {\n      \"column\": \"thal\",\n      \"properties\": {\n        \"dtype\": \"number\",\n        \"std\": 0,\n        \"min\": 0,\n        \"max\": 3,\n        \"num_unique_values\": 4,\n        \"samples\": [\n          2,\n          0\n        ],\n        \"semantic_type\": \"\",\n        \"description\": \"\"\n      }\n    }\n  ]\n}"
            }
          },
          "metadata": {},
          "execution_count": 76
        }
      ],
      "source": [
        "X.head()"
      ]
    },
    {
      "cell_type": "code",
      "execution_count": 77,
      "metadata": {
        "id": "4b1rSGxYdAPL",
        "outputId": "38cd6857-ce83-4b08-920c-9f8524248a70",
        "colab": {
          "base_uri": "https://localhost:8080/"
        }
      },
      "outputs": [
        {
          "output_type": "execute_result",
          "data": {
            "text/plain": [
              "(0    1\n",
              " 1    1\n",
              " 2    1\n",
              " 3    1\n",
              " 4    1\n",
              " Name: target, dtype: int64,\n",
              " target\n",
              " 1    165\n",
              " 0    138\n",
              " Name: count, dtype: int64)"
            ]
          },
          "metadata": {},
          "execution_count": 77
        }
      ],
      "source": [
        "y.head(), y.value_counts()"
      ]
    },
    {
      "cell_type": "code",
      "execution_count": 78,
      "metadata": {
        "id": "hDQHTpSFdAPM",
        "outputId": "2ac6020e-21df-4642-b891-f034ed59de8e",
        "colab": {
          "base_uri": "https://localhost:8080/"
        }
      },
      "outputs": [
        {
          "output_type": "execute_result",
          "data": {
            "text/plain": [
              "((227, 13), (76, 13), (227,), (76,))"
            ]
          },
          "metadata": {},
          "execution_count": 78
        }
      ],
      "source": [
        "# Split the data into training and test sets\n",
        "from sklearn.model_selection import train_test_split\n",
        "\n",
        "X_train, X_test, y_train, y_test = train_test_split(X, y)\n",
        "\n",
        "X_train.shape, X_test.shape, y_train.shape, y_test.shape"
      ]
    },
    {
      "cell_type": "markdown",
      "metadata": {
        "id": "pypynDwNdAPN"
      },
      "source": [
        "#### 2. Choose the model and hyperparameters\n",
        "This is often referred to as `model` or `clf` (short for classifier) or estimator (as in the Scikit-Learn) documentation.\n",
        "\n",
        "Hyperparameters are like knobs on an oven you can tune to cook your favourite dish."
      ]
    },
    {
      "cell_type": "code",
      "execution_count": 79,
      "metadata": {
        "id": "jl-464bwdAPN"
      },
      "outputs": [],
      "source": [
        "# We'll use a Random Forest\n",
        "from sklearn.ensemble import RandomForestClassifier\n",
        "clf = RandomForestClassifier()"
      ]
    },
    {
      "cell_type": "code",
      "execution_count": 80,
      "metadata": {
        "id": "kJEA-ZYzdAPN",
        "outputId": "087e308a-c0d5-4642-8e71-0106df2491c2",
        "colab": {
          "base_uri": "https://localhost:8080/"
        }
      },
      "outputs": [
        {
          "output_type": "execute_result",
          "data": {
            "text/plain": [
              "{'bootstrap': True,\n",
              " 'ccp_alpha': 0.0,\n",
              " 'class_weight': None,\n",
              " 'criterion': 'gini',\n",
              " 'max_depth': None,\n",
              " 'max_features': 'sqrt',\n",
              " 'max_leaf_nodes': None,\n",
              " 'max_samples': None,\n",
              " 'min_impurity_decrease': 0.0,\n",
              " 'min_samples_leaf': 1,\n",
              " 'min_samples_split': 2,\n",
              " 'min_weight_fraction_leaf': 0.0,\n",
              " 'n_estimators': 100,\n",
              " 'n_jobs': None,\n",
              " 'oob_score': False,\n",
              " 'random_state': None,\n",
              " 'verbose': 0,\n",
              " 'warm_start': False}"
            ]
          },
          "metadata": {},
          "execution_count": 80
        }
      ],
      "source": [
        "# We'll leave the hyperparameters as default to begin with...\n",
        "clf.get_params()"
      ]
    },
    {
      "cell_type": "markdown",
      "metadata": {
        "id": "7YDKFSEZdAPN"
      },
      "source": [
        "#### 3. Fit the model to the data and use it to make a prediction\n",
        "Fitting the model on the data involves passing it the data and asking it to figure out the patterns.\n",
        "\n",
        "If there are labels (supervised learning), the model tries to work out the relationship between the data and the labels.\n",
        "\n",
        "If there are no labels (unsupervised learning), the model tries to find patterns and group similar samples together."
      ]
    },
    {
      "cell_type": "code",
      "execution_count": 81,
      "metadata": {
        "id": "Lnbch8jUdAPO",
        "outputId": "96d78624-769a-415a-8fc5-95c5a4a57a26",
        "colab": {
          "base_uri": "https://localhost:8080/",
          "height": 74
        }
      },
      "outputs": [
        {
          "output_type": "execute_result",
          "data": {
            "text/plain": [
              "RandomForestClassifier()"
            ],
            "text/html": [
              "<style>#sk-container-id-5 {color: black;}#sk-container-id-5 pre{padding: 0;}#sk-container-id-5 div.sk-toggleable {background-color: white;}#sk-container-id-5 label.sk-toggleable__label {cursor: pointer;display: block;width: 100%;margin-bottom: 0;padding: 0.3em;box-sizing: border-box;text-align: center;}#sk-container-id-5 label.sk-toggleable__label-arrow:before {content: \"▸\";float: left;margin-right: 0.25em;color: #696969;}#sk-container-id-5 label.sk-toggleable__label-arrow:hover:before {color: black;}#sk-container-id-5 div.sk-estimator:hover label.sk-toggleable__label-arrow:before {color: black;}#sk-container-id-5 div.sk-toggleable__content {max-height: 0;max-width: 0;overflow: hidden;text-align: left;background-color: #f0f8ff;}#sk-container-id-5 div.sk-toggleable__content pre {margin: 0.2em;color: black;border-radius: 0.25em;background-color: #f0f8ff;}#sk-container-id-5 input.sk-toggleable__control:checked~div.sk-toggleable__content {max-height: 200px;max-width: 100%;overflow: auto;}#sk-container-id-5 input.sk-toggleable__control:checked~label.sk-toggleable__label-arrow:before {content: \"▾\";}#sk-container-id-5 div.sk-estimator input.sk-toggleable__control:checked~label.sk-toggleable__label {background-color: #d4ebff;}#sk-container-id-5 div.sk-label input.sk-toggleable__control:checked~label.sk-toggleable__label {background-color: #d4ebff;}#sk-container-id-5 input.sk-hidden--visually {border: 0;clip: rect(1px 1px 1px 1px);clip: rect(1px, 1px, 1px, 1px);height: 1px;margin: -1px;overflow: hidden;padding: 0;position: absolute;width: 1px;}#sk-container-id-5 div.sk-estimator {font-family: monospace;background-color: #f0f8ff;border: 1px dotted black;border-radius: 0.25em;box-sizing: border-box;margin-bottom: 0.5em;}#sk-container-id-5 div.sk-estimator:hover {background-color: #d4ebff;}#sk-container-id-5 div.sk-parallel-item::after {content: \"\";width: 100%;border-bottom: 1px solid gray;flex-grow: 1;}#sk-container-id-5 div.sk-label:hover label.sk-toggleable__label {background-color: #d4ebff;}#sk-container-id-5 div.sk-serial::before {content: \"\";position: absolute;border-left: 1px solid gray;box-sizing: border-box;top: 0;bottom: 0;left: 50%;z-index: 0;}#sk-container-id-5 div.sk-serial {display: flex;flex-direction: column;align-items: center;background-color: white;padding-right: 0.2em;padding-left: 0.2em;position: relative;}#sk-container-id-5 div.sk-item {position: relative;z-index: 1;}#sk-container-id-5 div.sk-parallel {display: flex;align-items: stretch;justify-content: center;background-color: white;position: relative;}#sk-container-id-5 div.sk-item::before, #sk-container-id-5 div.sk-parallel-item::before {content: \"\";position: absolute;border-left: 1px solid gray;box-sizing: border-box;top: 0;bottom: 0;left: 50%;z-index: -1;}#sk-container-id-5 div.sk-parallel-item {display: flex;flex-direction: column;z-index: 1;position: relative;background-color: white;}#sk-container-id-5 div.sk-parallel-item:first-child::after {align-self: flex-end;width: 50%;}#sk-container-id-5 div.sk-parallel-item:last-child::after {align-self: flex-start;width: 50%;}#sk-container-id-5 div.sk-parallel-item:only-child::after {width: 0;}#sk-container-id-5 div.sk-dashed-wrapped {border: 1px dashed gray;margin: 0 0.4em 0.5em 0.4em;box-sizing: border-box;padding-bottom: 0.4em;background-color: white;}#sk-container-id-5 div.sk-label label {font-family: monospace;font-weight: bold;display: inline-block;line-height: 1.2em;}#sk-container-id-5 div.sk-label-container {text-align: center;}#sk-container-id-5 div.sk-container {/* jupyter's `normalize.less` sets `[hidden] { display: none; }` but bootstrap.min.css set `[hidden] { display: none !important; }` so we also need the `!important` here to be able to override the default hidden behavior on the sphinx rendered scikit-learn.org. See: https://github.com/scikit-learn/scikit-learn/issues/21755 */display: inline-block !important;position: relative;}#sk-container-id-5 div.sk-text-repr-fallback {display: none;}</style><div id=\"sk-container-id-5\" class=\"sk-top-container\"><div class=\"sk-text-repr-fallback\"><pre>RandomForestClassifier()</pre><b>In a Jupyter environment, please rerun this cell to show the HTML representation or trust the notebook. <br />On GitHub, the HTML representation is unable to render, please try loading this page with nbviewer.org.</b></div><div class=\"sk-container\" hidden><div class=\"sk-item\"><div class=\"sk-estimator sk-toggleable\"><input class=\"sk-toggleable__control sk-hidden--visually\" id=\"sk-estimator-id-5\" type=\"checkbox\" checked><label for=\"sk-estimator-id-5\" class=\"sk-toggleable__label sk-toggleable__label-arrow\">RandomForestClassifier</label><div class=\"sk-toggleable__content\"><pre>RandomForestClassifier()</pre></div></div></div></div></div>"
            ]
          },
          "metadata": {},
          "execution_count": 81
        }
      ],
      "source": [
        "clf.fit(X_train, y_train)"
      ]
    },
    {
      "cell_type": "markdown",
      "metadata": {
        "id": "--aXMHxOdAPO"
      },
      "source": [
        "#### Use the model to make a prediction\n",
        "\n",
        "The whole point of training a machine learning model is to use it to make some kind of prediction in the future.\n",
        "\n",
        "Once our model instance is trained, you can use the `predict()` method to predict a target value given a set of features. In other words, use the model, along with some unlabelled data to predict the label.\n",
        "\n",
        "Note, data you predict on has to be in the same shape as data you trained on."
      ]
    },
    {
      "cell_type": "code",
      "execution_count": 95,
      "metadata": {
        "id": "r42TOnjedAPO",
        "outputId": "f09243cb-41f7-4a90-d34c-ca03c1a8f669",
        "colab": {
          "base_uri": "https://localhost:8080/",
          "height": 445
        }
      },
      "outputs": [
        {
          "output_type": "stream",
          "name": "stderr",
          "text": [
            "/usr/local/lib/python3.10/dist-packages/sklearn/base.py:465: UserWarning: X does not have valid feature names, but RandomForestClassifier was fitted with feature names\n",
            "  warnings.warn(\n"
          ]
        },
        {
          "output_type": "error",
          "ename": "ValueError",
          "evalue": "Expected 2D array, got 1D array instead:\narray=[0. 2. 3. 4.].\nReshape your data either using array.reshape(-1, 1) if your data has a single feature or array.reshape(1, -1) if it contains a single sample.",
          "traceback": [
            "\u001b[0;31m---------------------------------------------------------------------------\u001b[0m",
            "\u001b[0;31mValueError\u001b[0m                                Traceback (most recent call last)",
            "\u001b[0;32m<ipython-input-95-7049ed471bf9>\u001b[0m in \u001b[0;36m<cell line: 2>\u001b[0;34m()\u001b[0m\n\u001b[1;32m      1\u001b[0m \u001b[0;31m# This doesn't work... incorrect shapes\u001b[0m\u001b[0;34m\u001b[0m\u001b[0;34m\u001b[0m\u001b[0m\n\u001b[0;32m----> 2\u001b[0;31m \u001b[0my_label\u001b[0m \u001b[0;34m=\u001b[0m \u001b[0mclf\u001b[0m\u001b[0;34m.\u001b[0m\u001b[0mpredict\u001b[0m\u001b[0;34m(\u001b[0m\u001b[0mnp\u001b[0m\u001b[0;34m.\u001b[0m\u001b[0marray\u001b[0m\u001b[0;34m(\u001b[0m\u001b[0;34m[\u001b[0m\u001b[0;36m0\u001b[0m\u001b[0;34m,\u001b[0m \u001b[0;36m2\u001b[0m\u001b[0;34m,\u001b[0m \u001b[0;36m3\u001b[0m\u001b[0;34m,\u001b[0m \u001b[0;36m4\u001b[0m\u001b[0;34m]\u001b[0m\u001b[0;34m)\u001b[0m\u001b[0;34m)\u001b[0m\u001b[0;34m\u001b[0m\u001b[0;34m\u001b[0m\u001b[0m\n\u001b[0m",
            "\u001b[0;32m/usr/local/lib/python3.10/dist-packages/sklearn/ensemble/_forest.py\u001b[0m in \u001b[0;36mpredict\u001b[0;34m(self, X)\u001b[0m\n\u001b[1;32m    821\u001b[0m             \u001b[0mThe\u001b[0m \u001b[0mpredicted\u001b[0m \u001b[0mclasses\u001b[0m\u001b[0;34m.\u001b[0m\u001b[0;34m\u001b[0m\u001b[0;34m\u001b[0m\u001b[0m\n\u001b[1;32m    822\u001b[0m         \"\"\"\n\u001b[0;32m--> 823\u001b[0;31m         \u001b[0mproba\u001b[0m \u001b[0;34m=\u001b[0m \u001b[0mself\u001b[0m\u001b[0;34m.\u001b[0m\u001b[0mpredict_proba\u001b[0m\u001b[0;34m(\u001b[0m\u001b[0mX\u001b[0m\u001b[0;34m)\u001b[0m\u001b[0;34m\u001b[0m\u001b[0;34m\u001b[0m\u001b[0m\n\u001b[0m\u001b[1;32m    824\u001b[0m \u001b[0;34m\u001b[0m\u001b[0m\n\u001b[1;32m    825\u001b[0m         \u001b[0;32mif\u001b[0m \u001b[0mself\u001b[0m\u001b[0;34m.\u001b[0m\u001b[0mn_outputs_\u001b[0m \u001b[0;34m==\u001b[0m \u001b[0;36m1\u001b[0m\u001b[0;34m:\u001b[0m\u001b[0;34m\u001b[0m\u001b[0;34m\u001b[0m\u001b[0m\n",
            "\u001b[0;32m/usr/local/lib/python3.10/dist-packages/sklearn/ensemble/_forest.py\u001b[0m in \u001b[0;36mpredict_proba\u001b[0;34m(self, X)\u001b[0m\n\u001b[1;32m    863\u001b[0m         \u001b[0mcheck_is_fitted\u001b[0m\u001b[0;34m(\u001b[0m\u001b[0mself\u001b[0m\u001b[0;34m)\u001b[0m\u001b[0;34m\u001b[0m\u001b[0;34m\u001b[0m\u001b[0m\n\u001b[1;32m    864\u001b[0m         \u001b[0;31m# Check data\u001b[0m\u001b[0;34m\u001b[0m\u001b[0;34m\u001b[0m\u001b[0m\n\u001b[0;32m--> 865\u001b[0;31m         \u001b[0mX\u001b[0m \u001b[0;34m=\u001b[0m \u001b[0mself\u001b[0m\u001b[0;34m.\u001b[0m\u001b[0m_validate_X_predict\u001b[0m\u001b[0;34m(\u001b[0m\u001b[0mX\u001b[0m\u001b[0;34m)\u001b[0m\u001b[0;34m\u001b[0m\u001b[0;34m\u001b[0m\u001b[0m\n\u001b[0m\u001b[1;32m    866\u001b[0m \u001b[0;34m\u001b[0m\u001b[0m\n\u001b[1;32m    867\u001b[0m         \u001b[0;31m# Assign chunk of trees to jobs\u001b[0m\u001b[0;34m\u001b[0m\u001b[0;34m\u001b[0m\u001b[0m\n",
            "\u001b[0;32m/usr/local/lib/python3.10/dist-packages/sklearn/ensemble/_forest.py\u001b[0m in \u001b[0;36m_validate_X_predict\u001b[0;34m(self, X)\u001b[0m\n\u001b[1;32m    597\u001b[0m         Validate X whenever one tries to predict, apply, predict_proba.\"\"\"\n\u001b[1;32m    598\u001b[0m         \u001b[0mcheck_is_fitted\u001b[0m\u001b[0;34m(\u001b[0m\u001b[0mself\u001b[0m\u001b[0;34m)\u001b[0m\u001b[0;34m\u001b[0m\u001b[0;34m\u001b[0m\u001b[0m\n\u001b[0;32m--> 599\u001b[0;31m         \u001b[0mX\u001b[0m \u001b[0;34m=\u001b[0m \u001b[0mself\u001b[0m\u001b[0;34m.\u001b[0m\u001b[0m_validate_data\u001b[0m\u001b[0;34m(\u001b[0m\u001b[0mX\u001b[0m\u001b[0;34m,\u001b[0m \u001b[0mdtype\u001b[0m\u001b[0;34m=\u001b[0m\u001b[0mDTYPE\u001b[0m\u001b[0;34m,\u001b[0m \u001b[0maccept_sparse\u001b[0m\u001b[0;34m=\u001b[0m\u001b[0;34m\"csr\"\u001b[0m\u001b[0;34m,\u001b[0m \u001b[0mreset\u001b[0m\u001b[0;34m=\u001b[0m\u001b[0;32mFalse\u001b[0m\u001b[0;34m)\u001b[0m\u001b[0;34m\u001b[0m\u001b[0;34m\u001b[0m\u001b[0m\n\u001b[0m\u001b[1;32m    600\u001b[0m         \u001b[0;32mif\u001b[0m \u001b[0missparse\u001b[0m\u001b[0;34m(\u001b[0m\u001b[0mX\u001b[0m\u001b[0;34m)\u001b[0m \u001b[0;32mand\u001b[0m \u001b[0;34m(\u001b[0m\u001b[0mX\u001b[0m\u001b[0;34m.\u001b[0m\u001b[0mindices\u001b[0m\u001b[0;34m.\u001b[0m\u001b[0mdtype\u001b[0m \u001b[0;34m!=\u001b[0m \u001b[0mnp\u001b[0m\u001b[0;34m.\u001b[0m\u001b[0mintc\u001b[0m \u001b[0;32mor\u001b[0m \u001b[0mX\u001b[0m\u001b[0;34m.\u001b[0m\u001b[0mindptr\u001b[0m\u001b[0;34m.\u001b[0m\u001b[0mdtype\u001b[0m \u001b[0;34m!=\u001b[0m \u001b[0mnp\u001b[0m\u001b[0;34m.\u001b[0m\u001b[0mintc\u001b[0m\u001b[0;34m)\u001b[0m\u001b[0;34m:\u001b[0m\u001b[0;34m\u001b[0m\u001b[0;34m\u001b[0m\u001b[0m\n\u001b[1;32m    601\u001b[0m             \u001b[0;32mraise\u001b[0m \u001b[0mValueError\u001b[0m\u001b[0;34m(\u001b[0m\u001b[0;34m\"No support for np.int64 index based sparse matrices\"\u001b[0m\u001b[0;34m)\u001b[0m\u001b[0;34m\u001b[0m\u001b[0;34m\u001b[0m\u001b[0m\n",
            "\u001b[0;32m/usr/local/lib/python3.10/dist-packages/sklearn/base.py\u001b[0m in \u001b[0;36m_validate_data\u001b[0;34m(self, X, y, reset, validate_separately, cast_to_ndarray, **check_params)\u001b[0m\n\u001b[1;32m    603\u001b[0m                 \u001b[0mout\u001b[0m \u001b[0;34m=\u001b[0m \u001b[0mX\u001b[0m\u001b[0;34m,\u001b[0m \u001b[0my\u001b[0m\u001b[0;34m\u001b[0m\u001b[0;34m\u001b[0m\u001b[0m\n\u001b[1;32m    604\u001b[0m         \u001b[0;32melif\u001b[0m \u001b[0;32mnot\u001b[0m \u001b[0mno_val_X\u001b[0m \u001b[0;32mand\u001b[0m \u001b[0mno_val_y\u001b[0m\u001b[0;34m:\u001b[0m\u001b[0;34m\u001b[0m\u001b[0;34m\u001b[0m\u001b[0m\n\u001b[0;32m--> 605\u001b[0;31m             \u001b[0mout\u001b[0m \u001b[0;34m=\u001b[0m \u001b[0mcheck_array\u001b[0m\u001b[0;34m(\u001b[0m\u001b[0mX\u001b[0m\u001b[0;34m,\u001b[0m \u001b[0minput_name\u001b[0m\u001b[0;34m=\u001b[0m\u001b[0;34m\"X\"\u001b[0m\u001b[0;34m,\u001b[0m \u001b[0;34m**\u001b[0m\u001b[0mcheck_params\u001b[0m\u001b[0;34m)\u001b[0m\u001b[0;34m\u001b[0m\u001b[0;34m\u001b[0m\u001b[0m\n\u001b[0m\u001b[1;32m    606\u001b[0m         \u001b[0;32melif\u001b[0m \u001b[0mno_val_X\u001b[0m \u001b[0;32mand\u001b[0m \u001b[0;32mnot\u001b[0m \u001b[0mno_val_y\u001b[0m\u001b[0;34m:\u001b[0m\u001b[0;34m\u001b[0m\u001b[0;34m\u001b[0m\u001b[0m\n\u001b[1;32m    607\u001b[0m             \u001b[0mout\u001b[0m \u001b[0;34m=\u001b[0m \u001b[0m_check_y\u001b[0m\u001b[0;34m(\u001b[0m\u001b[0my\u001b[0m\u001b[0;34m,\u001b[0m \u001b[0;34m**\u001b[0m\u001b[0mcheck_params\u001b[0m\u001b[0;34m)\u001b[0m\u001b[0;34m\u001b[0m\u001b[0;34m\u001b[0m\u001b[0m\n",
            "\u001b[0;32m/usr/local/lib/python3.10/dist-packages/sklearn/utils/validation.py\u001b[0m in \u001b[0;36mcheck_array\u001b[0;34m(array, accept_sparse, accept_large_sparse, dtype, order, copy, force_all_finite, ensure_2d, allow_nd, ensure_min_samples, ensure_min_features, estimator, input_name)\u001b[0m\n\u001b[1;32m    936\u001b[0m             \u001b[0;31m# If input is 1D raise error\u001b[0m\u001b[0;34m\u001b[0m\u001b[0;34m\u001b[0m\u001b[0m\n\u001b[1;32m    937\u001b[0m             \u001b[0;32mif\u001b[0m \u001b[0marray\u001b[0m\u001b[0;34m.\u001b[0m\u001b[0mndim\u001b[0m \u001b[0;34m==\u001b[0m \u001b[0;36m1\u001b[0m\u001b[0;34m:\u001b[0m\u001b[0;34m\u001b[0m\u001b[0;34m\u001b[0m\u001b[0m\n\u001b[0;32m--> 938\u001b[0;31m                 raise ValueError(\n\u001b[0m\u001b[1;32m    939\u001b[0m                     \u001b[0;34m\"Expected 2D array, got 1D array instead:\\narray={}.\\n\"\u001b[0m\u001b[0;34m\u001b[0m\u001b[0;34m\u001b[0m\u001b[0m\n\u001b[1;32m    940\u001b[0m                     \u001b[0;34m\"Reshape your data either using array.reshape(-1, 1) if \"\u001b[0m\u001b[0;34m\u001b[0m\u001b[0;34m\u001b[0m\u001b[0m\n",
            "\u001b[0;31mValueError\u001b[0m: Expected 2D array, got 1D array instead:\narray=[0. 2. 3. 4.].\nReshape your data either using array.reshape(-1, 1) if your data has a single feature or array.reshape(1, -1) if it contains a single sample."
          ]
        }
      ],
      "source": [
        "# This doesn't work... incorrect shapes\n",
        "y_label = clf.predict(np.array([0, 2, 3, 4]))"
      ]
    },
    {
      "cell_type": "code",
      "execution_count": 85,
      "metadata": {
        "id": "r0YGOx43dAPO",
        "outputId": "3e6e2494-ae5b-41d8-923a-92bd889daad9",
        "colab": {
          "base_uri": "https://localhost:8080/",
          "height": 206
        }
      },
      "outputs": [
        {
          "output_type": "execute_result",
          "data": {
            "text/plain": [
              "     age  sex  cp  trestbps  chol  fbs  restecg  thalach  exang  oldpeak  \\\n",
              "166   67    1   0       120   229    0        0      129      1      2.6   \n",
              "12    49    1   1       130   266    0        1      171      0      0.6   \n",
              "182   61    0   0       130   330    0        0      169      0      0.0   \n",
              "282   59    1   2       126   218    1        1      134      0      2.2   \n",
              "177   64    1   2       140   335    0        1      158      0      0.0   \n",
              "\n",
              "     slope  ca  thal  \n",
              "166      1   2     3  \n",
              "12       2   0     2  \n",
              "182      2   0     2  \n",
              "282      1   1     1  \n",
              "177      2   0     2  "
            ],
            "text/html": [
              "\n",
              "  <div id=\"df-d8d4a6f0-34a2-42be-8331-0428e9829dcb\" class=\"colab-df-container\">\n",
              "    <div>\n",
              "<style scoped>\n",
              "    .dataframe tbody tr th:only-of-type {\n",
              "        vertical-align: middle;\n",
              "    }\n",
              "\n",
              "    .dataframe tbody tr th {\n",
              "        vertical-align: top;\n",
              "    }\n",
              "\n",
              "    .dataframe thead th {\n",
              "        text-align: right;\n",
              "    }\n",
              "</style>\n",
              "<table border=\"1\" class=\"dataframe\">\n",
              "  <thead>\n",
              "    <tr style=\"text-align: right;\">\n",
              "      <th></th>\n",
              "      <th>age</th>\n",
              "      <th>sex</th>\n",
              "      <th>cp</th>\n",
              "      <th>trestbps</th>\n",
              "      <th>chol</th>\n",
              "      <th>fbs</th>\n",
              "      <th>restecg</th>\n",
              "      <th>thalach</th>\n",
              "      <th>exang</th>\n",
              "      <th>oldpeak</th>\n",
              "      <th>slope</th>\n",
              "      <th>ca</th>\n",
              "      <th>thal</th>\n",
              "    </tr>\n",
              "  </thead>\n",
              "  <tbody>\n",
              "    <tr>\n",
              "      <th>166</th>\n",
              "      <td>67</td>\n",
              "      <td>1</td>\n",
              "      <td>0</td>\n",
              "      <td>120</td>\n",
              "      <td>229</td>\n",
              "      <td>0</td>\n",
              "      <td>0</td>\n",
              "      <td>129</td>\n",
              "      <td>1</td>\n",
              "      <td>2.6</td>\n",
              "      <td>1</td>\n",
              "      <td>2</td>\n",
              "      <td>3</td>\n",
              "    </tr>\n",
              "    <tr>\n",
              "      <th>12</th>\n",
              "      <td>49</td>\n",
              "      <td>1</td>\n",
              "      <td>1</td>\n",
              "      <td>130</td>\n",
              "      <td>266</td>\n",
              "      <td>0</td>\n",
              "      <td>1</td>\n",
              "      <td>171</td>\n",
              "      <td>0</td>\n",
              "      <td>0.6</td>\n",
              "      <td>2</td>\n",
              "      <td>0</td>\n",
              "      <td>2</td>\n",
              "    </tr>\n",
              "    <tr>\n",
              "      <th>182</th>\n",
              "      <td>61</td>\n",
              "      <td>0</td>\n",
              "      <td>0</td>\n",
              "      <td>130</td>\n",
              "      <td>330</td>\n",
              "      <td>0</td>\n",
              "      <td>0</td>\n",
              "      <td>169</td>\n",
              "      <td>0</td>\n",
              "      <td>0.0</td>\n",
              "      <td>2</td>\n",
              "      <td>0</td>\n",
              "      <td>2</td>\n",
              "    </tr>\n",
              "    <tr>\n",
              "      <th>282</th>\n",
              "      <td>59</td>\n",
              "      <td>1</td>\n",
              "      <td>2</td>\n",
              "      <td>126</td>\n",
              "      <td>218</td>\n",
              "      <td>1</td>\n",
              "      <td>1</td>\n",
              "      <td>134</td>\n",
              "      <td>0</td>\n",
              "      <td>2.2</td>\n",
              "      <td>1</td>\n",
              "      <td>1</td>\n",
              "      <td>1</td>\n",
              "    </tr>\n",
              "    <tr>\n",
              "      <th>177</th>\n",
              "      <td>64</td>\n",
              "      <td>1</td>\n",
              "      <td>2</td>\n",
              "      <td>140</td>\n",
              "      <td>335</td>\n",
              "      <td>0</td>\n",
              "      <td>1</td>\n",
              "      <td>158</td>\n",
              "      <td>0</td>\n",
              "      <td>0.0</td>\n",
              "      <td>2</td>\n",
              "      <td>0</td>\n",
              "      <td>2</td>\n",
              "    </tr>\n",
              "  </tbody>\n",
              "</table>\n",
              "</div>\n",
              "    <div class=\"colab-df-buttons\">\n",
              "\n",
              "  <div class=\"colab-df-container\">\n",
              "    <button class=\"colab-df-convert\" onclick=\"convertToInteractive('df-d8d4a6f0-34a2-42be-8331-0428e9829dcb')\"\n",
              "            title=\"Convert this dataframe to an interactive table.\"\n",
              "            style=\"display:none;\">\n",
              "\n",
              "  <svg xmlns=\"http://www.w3.org/2000/svg\" height=\"24px\" viewBox=\"0 -960 960 960\">\n",
              "    <path d=\"M120-120v-720h720v720H120Zm60-500h600v-160H180v160Zm220 220h160v-160H400v160Zm0 220h160v-160H400v160ZM180-400h160v-160H180v160Zm440 0h160v-160H620v160ZM180-180h160v-160H180v160Zm440 0h160v-160H620v160Z\"/>\n",
              "  </svg>\n",
              "    </button>\n",
              "\n",
              "  <style>\n",
              "    .colab-df-container {\n",
              "      display:flex;\n",
              "      gap: 12px;\n",
              "    }\n",
              "\n",
              "    .colab-df-convert {\n",
              "      background-color: #E8F0FE;\n",
              "      border: none;\n",
              "      border-radius: 50%;\n",
              "      cursor: pointer;\n",
              "      display: none;\n",
              "      fill: #1967D2;\n",
              "      height: 32px;\n",
              "      padding: 0 0 0 0;\n",
              "      width: 32px;\n",
              "    }\n",
              "\n",
              "    .colab-df-convert:hover {\n",
              "      background-color: #E2EBFA;\n",
              "      box-shadow: 0px 1px 2px rgba(60, 64, 67, 0.3), 0px 1px 3px 1px rgba(60, 64, 67, 0.15);\n",
              "      fill: #174EA6;\n",
              "    }\n",
              "\n",
              "    .colab-df-buttons div {\n",
              "      margin-bottom: 4px;\n",
              "    }\n",
              "\n",
              "    [theme=dark] .colab-df-convert {\n",
              "      background-color: #3B4455;\n",
              "      fill: #D2E3FC;\n",
              "    }\n",
              "\n",
              "    [theme=dark] .colab-df-convert:hover {\n",
              "      background-color: #434B5C;\n",
              "      box-shadow: 0px 1px 3px 1px rgba(0, 0, 0, 0.15);\n",
              "      filter: drop-shadow(0px 1px 2px rgba(0, 0, 0, 0.3));\n",
              "      fill: #FFFFFF;\n",
              "    }\n",
              "  </style>\n",
              "\n",
              "    <script>\n",
              "      const buttonEl =\n",
              "        document.querySelector('#df-d8d4a6f0-34a2-42be-8331-0428e9829dcb button.colab-df-convert');\n",
              "      buttonEl.style.display =\n",
              "        google.colab.kernel.accessAllowed ? 'block' : 'none';\n",
              "\n",
              "      async function convertToInteractive(key) {\n",
              "        const element = document.querySelector('#df-d8d4a6f0-34a2-42be-8331-0428e9829dcb');\n",
              "        const dataTable =\n",
              "          await google.colab.kernel.invokeFunction('convertToInteractive',\n",
              "                                                    [key], {});\n",
              "        if (!dataTable) return;\n",
              "\n",
              "        const docLinkHtml = 'Like what you see? Visit the ' +\n",
              "          '<a target=\"_blank\" href=https://colab.research.google.com/notebooks/data_table.ipynb>data table notebook</a>'\n",
              "          + ' to learn more about interactive tables.';\n",
              "        element.innerHTML = '';\n",
              "        dataTable['output_type'] = 'display_data';\n",
              "        await google.colab.output.renderOutput(dataTable, element);\n",
              "        const docLink = document.createElement('div');\n",
              "        docLink.innerHTML = docLinkHtml;\n",
              "        element.appendChild(docLink);\n",
              "      }\n",
              "    </script>\n",
              "  </div>\n",
              "\n",
              "\n",
              "<div id=\"df-613e2b0f-e546-4a29-9f62-c3c69042b177\">\n",
              "  <button class=\"colab-df-quickchart\" onclick=\"quickchart('df-613e2b0f-e546-4a29-9f62-c3c69042b177')\"\n",
              "            title=\"Suggest charts\"\n",
              "            style=\"display:none;\">\n",
              "\n",
              "<svg xmlns=\"http://www.w3.org/2000/svg\" height=\"24px\"viewBox=\"0 0 24 24\"\n",
              "     width=\"24px\">\n",
              "    <g>\n",
              "        <path d=\"M19 3H5c-1.1 0-2 .9-2 2v14c0 1.1.9 2 2 2h14c1.1 0 2-.9 2-2V5c0-1.1-.9-2-2-2zM9 17H7v-7h2v7zm4 0h-2V7h2v10zm4 0h-2v-4h2v4z\"/>\n",
              "    </g>\n",
              "</svg>\n",
              "  </button>\n",
              "\n",
              "<style>\n",
              "  .colab-df-quickchart {\n",
              "      --bg-color: #E8F0FE;\n",
              "      --fill-color: #1967D2;\n",
              "      --hover-bg-color: #E2EBFA;\n",
              "      --hover-fill-color: #174EA6;\n",
              "      --disabled-fill-color: #AAA;\n",
              "      --disabled-bg-color: #DDD;\n",
              "  }\n",
              "\n",
              "  [theme=dark] .colab-df-quickchart {\n",
              "      --bg-color: #3B4455;\n",
              "      --fill-color: #D2E3FC;\n",
              "      --hover-bg-color: #434B5C;\n",
              "      --hover-fill-color: #FFFFFF;\n",
              "      --disabled-bg-color: #3B4455;\n",
              "      --disabled-fill-color: #666;\n",
              "  }\n",
              "\n",
              "  .colab-df-quickchart {\n",
              "    background-color: var(--bg-color);\n",
              "    border: none;\n",
              "    border-radius: 50%;\n",
              "    cursor: pointer;\n",
              "    display: none;\n",
              "    fill: var(--fill-color);\n",
              "    height: 32px;\n",
              "    padding: 0;\n",
              "    width: 32px;\n",
              "  }\n",
              "\n",
              "  .colab-df-quickchart:hover {\n",
              "    background-color: var(--hover-bg-color);\n",
              "    box-shadow: 0 1px 2px rgba(60, 64, 67, 0.3), 0 1px 3px 1px rgba(60, 64, 67, 0.15);\n",
              "    fill: var(--button-hover-fill-color);\n",
              "  }\n",
              "\n",
              "  .colab-df-quickchart-complete:disabled,\n",
              "  .colab-df-quickchart-complete:disabled:hover {\n",
              "    background-color: var(--disabled-bg-color);\n",
              "    fill: var(--disabled-fill-color);\n",
              "    box-shadow: none;\n",
              "  }\n",
              "\n",
              "  .colab-df-spinner {\n",
              "    border: 2px solid var(--fill-color);\n",
              "    border-color: transparent;\n",
              "    border-bottom-color: var(--fill-color);\n",
              "    animation:\n",
              "      spin 1s steps(1) infinite;\n",
              "  }\n",
              "\n",
              "  @keyframes spin {\n",
              "    0% {\n",
              "      border-color: transparent;\n",
              "      border-bottom-color: var(--fill-color);\n",
              "      border-left-color: var(--fill-color);\n",
              "    }\n",
              "    20% {\n",
              "      border-color: transparent;\n",
              "      border-left-color: var(--fill-color);\n",
              "      border-top-color: var(--fill-color);\n",
              "    }\n",
              "    30% {\n",
              "      border-color: transparent;\n",
              "      border-left-color: var(--fill-color);\n",
              "      border-top-color: var(--fill-color);\n",
              "      border-right-color: var(--fill-color);\n",
              "    }\n",
              "    40% {\n",
              "      border-color: transparent;\n",
              "      border-right-color: var(--fill-color);\n",
              "      border-top-color: var(--fill-color);\n",
              "    }\n",
              "    60% {\n",
              "      border-color: transparent;\n",
              "      border-right-color: var(--fill-color);\n",
              "    }\n",
              "    80% {\n",
              "      border-color: transparent;\n",
              "      border-right-color: var(--fill-color);\n",
              "      border-bottom-color: var(--fill-color);\n",
              "    }\n",
              "    90% {\n",
              "      border-color: transparent;\n",
              "      border-bottom-color: var(--fill-color);\n",
              "    }\n",
              "  }\n",
              "</style>\n",
              "\n",
              "  <script>\n",
              "    async function quickchart(key) {\n",
              "      const quickchartButtonEl =\n",
              "        document.querySelector('#' + key + ' button');\n",
              "      quickchartButtonEl.disabled = true;  // To prevent multiple clicks.\n",
              "      quickchartButtonEl.classList.add('colab-df-spinner');\n",
              "      try {\n",
              "        const charts = await google.colab.kernel.invokeFunction(\n",
              "            'suggestCharts', [key], {});\n",
              "      } catch (error) {\n",
              "        console.error('Error during call to suggestCharts:', error);\n",
              "      }\n",
              "      quickchartButtonEl.classList.remove('colab-df-spinner');\n",
              "      quickchartButtonEl.classList.add('colab-df-quickchart-complete');\n",
              "    }\n",
              "    (() => {\n",
              "      let quickchartButtonEl =\n",
              "        document.querySelector('#df-613e2b0f-e546-4a29-9f62-c3c69042b177 button');\n",
              "      quickchartButtonEl.style.display =\n",
              "        google.colab.kernel.accessAllowed ? 'block' : 'none';\n",
              "    })();\n",
              "  </script>\n",
              "</div>\n",
              "\n",
              "    </div>\n",
              "  </div>\n"
            ],
            "application/vnd.google.colaboratory.intrinsic+json": {
              "type": "dataframe",
              "variable_name": "X_test",
              "summary": "{\n  \"name\": \"X_test\",\n  \"rows\": 76,\n  \"fields\": [\n    {\n      \"column\": \"age\",\n      \"properties\": {\n        \"dtype\": \"number\",\n        \"std\": 9,\n        \"min\": 29,\n        \"max\": 71,\n        \"num_unique_values\": 33,\n        \"samples\": [\n          35,\n          39,\n          48\n        ],\n        \"semantic_type\": \"\",\n        \"description\": \"\"\n      }\n    },\n    {\n      \"column\": \"sex\",\n      \"properties\": {\n        \"dtype\": \"number\",\n        \"std\": 0,\n        \"min\": 0,\n        \"max\": 1,\n        \"num_unique_values\": 2,\n        \"samples\": [\n          0,\n          1\n        ],\n        \"semantic_type\": \"\",\n        \"description\": \"\"\n      }\n    },\n    {\n      \"column\": \"cp\",\n      \"properties\": {\n        \"dtype\": \"number\",\n        \"std\": 0,\n        \"min\": 0,\n        \"max\": 3,\n        \"num_unique_values\": 4,\n        \"samples\": [\n          1,\n          3\n        ],\n        \"semantic_type\": \"\",\n        \"description\": \"\"\n      }\n    },\n    {\n      \"column\": \"trestbps\",\n      \"properties\": {\n        \"dtype\": \"number\",\n        \"std\": 18,\n        \"min\": 94,\n        \"max\": 192,\n        \"num_unique_values\": 30,\n        \"samples\": [\n          115,\n          110\n        ],\n        \"semantic_type\": \"\",\n        \"description\": \"\"\n      }\n    },\n    {\n      \"column\": \"chol\",\n      \"properties\": {\n        \"dtype\": \"number\",\n        \"std\": 46,\n        \"min\": 164,\n        \"max\": 407,\n        \"num_unique_values\": 62,\n        \"samples\": [\n          214,\n          305\n        ],\n        \"semantic_type\": \"\",\n        \"description\": \"\"\n      }\n    },\n    {\n      \"column\": \"fbs\",\n      \"properties\": {\n        \"dtype\": \"number\",\n        \"std\": 0,\n        \"min\": 0,\n        \"max\": 1,\n        \"num_unique_values\": 2,\n        \"samples\": [\n          1,\n          0\n        ],\n        \"semantic_type\": \"\",\n        \"description\": \"\"\n      }\n    },\n    {\n      \"column\": \"restecg\",\n      \"properties\": {\n        \"dtype\": \"number\",\n        \"std\": 0,\n        \"min\": 0,\n        \"max\": 2,\n        \"num_unique_values\": 3,\n        \"samples\": [\n          0,\n          1\n        ],\n        \"semantic_type\": \"\",\n        \"description\": \"\"\n      }\n    },\n    {\n      \"column\": \"thalach\",\n      \"properties\": {\n        \"dtype\": \"number\",\n        \"std\": 23,\n        \"min\": 99,\n        \"max\": 202,\n        \"num_unique_values\": 51,\n        \"samples\": [\n          180,\n          130\n        ],\n        \"semantic_type\": \"\",\n        \"description\": \"\"\n      }\n    },\n    {\n      \"column\": \"exang\",\n      \"properties\": {\n        \"dtype\": \"number\",\n        \"std\": 0,\n        \"min\": 0,\n        \"max\": 1,\n        \"num_unique_values\": 2,\n        \"samples\": [\n          0,\n          1\n        ],\n        \"semantic_type\": \"\",\n        \"description\": \"\"\n      }\n    },\n    {\n      \"column\": \"oldpeak\",\n      \"properties\": {\n        \"dtype\": \"number\",\n        \"std\": 1.4125173496838523,\n        \"min\": 0.0,\n        \"max\": 6.2,\n        \"num_unique_values\": 30,\n        \"samples\": [\n          0.2,\n          0.3\n        ],\n        \"semantic_type\": \"\",\n        \"description\": \"\"\n      }\n    },\n    {\n      \"column\": \"slope\",\n      \"properties\": {\n        \"dtype\": \"number\",\n        \"std\": 0,\n        \"min\": 0,\n        \"max\": 2,\n        \"num_unique_values\": 3,\n        \"samples\": [\n          1,\n          2\n        ],\n        \"semantic_type\": \"\",\n        \"description\": \"\"\n      }\n    },\n    {\n      \"column\": \"ca\",\n      \"properties\": {\n        \"dtype\": \"number\",\n        \"std\": 1,\n        \"min\": 0,\n        \"max\": 3,\n        \"num_unique_values\": 4,\n        \"samples\": [\n          0,\n          3\n        ],\n        \"semantic_type\": \"\",\n        \"description\": \"\"\n      }\n    },\n    {\n      \"column\": \"thal\",\n      \"properties\": {\n        \"dtype\": \"number\",\n        \"std\": 0,\n        \"min\": 1,\n        \"max\": 3,\n        \"num_unique_values\": 3,\n        \"samples\": [\n          3,\n          2\n        ],\n        \"semantic_type\": \"\",\n        \"description\": \"\"\n      }\n    }\n  ]\n}"
            }
          },
          "metadata": {},
          "execution_count": 85
        }
      ],
      "source": [
        "# In order to predict a label, data has to be in the same shape as X_train\n",
        "X_test.head()"
      ]
    },
    {
      "cell_type": "code",
      "execution_count": 86,
      "metadata": {
        "id": "g-Trvu6adAPP"
      },
      "outputs": [],
      "source": [
        "# Use the model to make a prediction on the test data (further evaluation)\n",
        "y_preds = clf.predict(X_test)"
      ]
    },
    {
      "cell_type": "markdown",
      "metadata": {
        "id": "_D4VEZZydAPP"
      },
      "source": [
        "#### 4. Evaluate the model\n",
        "\n",
        "Now we've made some predictions, we can start to use some more Scikit-Learn methods to figure out how good our model is.\n",
        "\n",
        "Each model or estimator has a built-in score method. This method compares how well the model was able to learn the patterns between the features and labels. In other words, it returns how accurate your model is."
      ]
    },
    {
      "cell_type": "code",
      "execution_count": 87,
      "metadata": {
        "id": "GarvhGNZdAPP",
        "outputId": "12349c67-2672-4375-99a4-23a998abfa62",
        "colab": {
          "base_uri": "https://localhost:8080/"
        }
      },
      "outputs": [
        {
          "output_type": "execute_result",
          "data": {
            "text/plain": [
              "1.0"
            ]
          },
          "metadata": {},
          "execution_count": 87
        }
      ],
      "source": [
        "# Evaluate the model on the training set\n",
        "clf.score(X_train, y_train)"
      ]
    },
    {
      "cell_type": "code",
      "execution_count": 88,
      "metadata": {
        "id": "xQI0A9LtdAPP",
        "outputId": "e78af849-5a39-43e3-80e2-0b0f413244dc",
        "colab": {
          "base_uri": "https://localhost:8080/"
        }
      },
      "outputs": [
        {
          "output_type": "execute_result",
          "data": {
            "text/plain": [
              "0.8289473684210527"
            ]
          },
          "metadata": {},
          "execution_count": 88
        }
      ],
      "source": [
        "# Evaluate the model on the test set\n",
        "clf.score(X_test, y_test)"
      ]
    },
    {
      "cell_type": "markdown",
      "metadata": {
        "id": "MHoXOln8dAPQ"
      },
      "source": [
        "There are also a number of other evaluation methods we can use for our models."
      ]
    },
    {
      "cell_type": "code",
      "execution_count": 89,
      "metadata": {
        "id": "SOBBcPaWdAPQ",
        "outputId": "3e69bc66-972d-44e1-e17c-0c3f8f9f8169",
        "colab": {
          "base_uri": "https://localhost:8080/"
        }
      },
      "outputs": [
        {
          "output_type": "stream",
          "name": "stdout",
          "text": [
            "              precision    recall  f1-score   support\n",
            "\n",
            "           0       0.83      0.76      0.79        33\n",
            "           1       0.83      0.88      0.85        43\n",
            "\n",
            "    accuracy                           0.83        76\n",
            "   macro avg       0.83      0.82      0.82        76\n",
            "weighted avg       0.83      0.83      0.83        76\n",
            "\n"
          ]
        }
      ],
      "source": [
        "from sklearn.metrics import classification_report, confusion_matrix, accuracy_score\n",
        "\n",
        "print(classification_report(y_test, y_preds))"
      ]
    },
    {
      "cell_type": "code",
      "execution_count": 90,
      "metadata": {
        "id": "36Ex080jdAPR",
        "outputId": "664915f2-fb30-4212-eb95-402c51890c7a",
        "colab": {
          "base_uri": "https://localhost:8080/"
        }
      },
      "outputs": [
        {
          "output_type": "execute_result",
          "data": {
            "text/plain": [
              "array([[25,  8],\n",
              "       [ 5, 38]])"
            ]
          },
          "metadata": {},
          "execution_count": 90
        }
      ],
      "source": [
        "conf_mat = confusion_matrix(y_test, y_preds)\n",
        "conf_mat"
      ]
    },
    {
      "cell_type": "code",
      "execution_count": 91,
      "metadata": {
        "id": "mDuLMXlMdAPR",
        "outputId": "2117562d-e68b-4679-8e68-50fb9cd39b4e",
        "colab": {
          "base_uri": "https://localhost:8080/"
        }
      },
      "outputs": [
        {
          "output_type": "execute_result",
          "data": {
            "text/plain": [
              "0.8289473684210527"
            ]
          },
          "metadata": {},
          "execution_count": 91
        }
      ],
      "source": [
        "accuracy_score(y_test, y_preds)"
      ]
    },
    {
      "cell_type": "markdown",
      "metadata": {
        "id": "t-4luJLwdAPR"
      },
      "source": [
        "#### 5. Experiment to improve\n",
        "\n",
        "The first model you build is often referred to as a baseline.\n",
        "\n",
        "Once you've got a baseline model, like we have here, it's important to remember, this is often not the final model you'll use.\n",
        "\n",
        "The next step in the workflow is to try and improve upon your baseline model.\n",
        "\n",
        "And to do this, there's two ways to look at it. From a model perspective and from a data perspective.\n",
        "\n",
        "From a model perspective this may involve things such as using a more complex model or tuning your models hyperparameters.\n",
        "\n",
        "From a data perspective, this may involve collecting more data or better quality data so your existing model has more of a chance to learn the patterns within.\n",
        "\n",
        "If you're already working on an existing dataset, it's often easier try a series of model perspective experiments first and then turn to data perspective experiments if you aren't getting the results you're looking for.\n",
        "\n",
        "One thing you should be aware of is if you're tuning a models hyperparameters in a series of experiments, your reuslts should always be cross-validated. Cross-validation is a way of making sure the results you're getting are consistent across your training and test datasets (because it uses multiple versions of training and test sets) rather than just luck because of the order the original training and test sets were created.\n",
        "\n",
        "* Try different hyperparameters\n",
        "* All different parameters should be cross-validated\n",
        "    * **Note:** Beware of cross-validation for time series problems\n",
        "    \n",
        "Different models you use will have different hyperparameters you can tune. For the case of our model, the `RandomForestClassifier()`, we'll start trying different values for `n_estimators`."
      ]
    },
    {
      "cell_type": "code",
      "execution_count": 92,
      "metadata": {
        "id": "NlTkIU93dAPS",
        "outputId": "c39cfbe8-6fb8-433e-f0f8-bbe48af45c8c",
        "colab": {
          "base_uri": "https://localhost:8080/"
        }
      },
      "outputs": [
        {
          "output_type": "stream",
          "name": "stdout",
          "text": [
            "Trying model with 10 estimators...\n",
            "Model accuracy on test set: 84.21052631578947%\n",
            "\n",
            "Trying model with 20 estimators...\n",
            "Model accuracy on test set: 84.21052631578947%\n",
            "\n",
            "Trying model with 30 estimators...\n",
            "Model accuracy on test set: 85.52631578947368%\n",
            "\n",
            "Trying model with 40 estimators...\n",
            "Model accuracy on test set: 84.21052631578947%\n",
            "\n",
            "Trying model with 50 estimators...\n",
            "Model accuracy on test set: 80.26315789473685%\n",
            "\n",
            "Trying model with 60 estimators...\n",
            "Model accuracy on test set: 86.8421052631579%\n",
            "\n",
            "Trying model with 70 estimators...\n",
            "Model accuracy on test set: 82.89473684210526%\n",
            "\n",
            "Trying model with 80 estimators...\n",
            "Model accuracy on test set: 80.26315789473685%\n",
            "\n",
            "Trying model with 90 estimators...\n",
            "Model accuracy on test set: 85.52631578947368%\n",
            "\n"
          ]
        }
      ],
      "source": [
        "# Try different numbers of estimators (trees)... (no cross-validation)\n",
        "np.random.seed(42)\n",
        "for i in range(10, 100, 10):\n",
        "    print(f\"Trying model with {i} estimators...\")\n",
        "    model = RandomForestClassifier(n_estimators=i).fit(X_train, y_train)\n",
        "    print(f\"Model accuracy on test set: {model.score(X_test, y_test) * 100}%\")\n",
        "    print(\"\")"
      ]
    },
    {
      "cell_type": "markdown",
      "source": [
        "# Trying different estimators for the Random Forest\n",
        "This code snippet is designed to test the performance of a RandomForestClassifier model with different numbers of trees (estimators) and evaluate its accuracy on a test set. Here’s a step-by-step explanation:\n",
        "\n",
        "\n",
        "---\n",
        "\n",
        "\n",
        "## 1. Setting the Random Seed\n",
        "\n",
        "    np.random.seed(42)\n",
        "\n",
        "This line ensures that the results are reproducible. Setting a random seed means that whenever this code is run, the random number generator will produce the same sequence of numbers, which leads to the same results every time.\n",
        "\n",
        "-----\n",
        "##2. Looping Through Different Numbers of Estimators\n",
        "\n",
        "    for i in range(10, 100, 10):\n",
        "\n",
        "This loop iterates through the values 10, 20, 30, ..., up to 90. Each value represents a different number of trees (estimators) that will be used in the RandomForestClassifier.\n",
        "\n",
        "-------\n",
        "##3. Training the Model\n",
        "\n",
        "    print(f\"Trying model with {i} estimators...\")\n",
        "    model = RandomForestClassifier(n_estimators=i).fit(X_train, y_train)\n",
        "\n",
        "The loop prints a message indicating how many estimators (trees) are being used in the current iteration.\n",
        "\n",
        "RandomForestClassifier(n_estimators=i) creates a new random forest model with i trees.\n",
        "\n",
        ".fit(X_train, y_train) trains the model using the training data X_train (input features) and y_train (target labels).\n",
        "\n",
        "----------\n",
        "##4. Evaluating the Model’s Accuracy\n",
        "\n",
        "    print(f\"Model accuracy on test set: {model.score(X_test, y_test) * 100}%\")\n",
        "\n",
        "After the model is trained, the code evaluates its accuracy on the test set X_test and y_test.\n",
        "\n",
        "model.score(X_test, y_test) computes the accuracy of the model on the test data.\n",
        "\n",
        "Multiplying by 100 converts the accuracy from a decimal to a percentage.\n",
        "\n",
        "------------\n",
        "##5. Print a Blank Line\n",
        "\n",
        "    print(\"\")\n",
        "\n",
        "This simply adds a blank line after each iteration to improve the readability of the output.\n",
        "\n",
        "-----------------\n",
        "#Summary of What the Code Does:\n",
        "The code tests a RandomForestClassifier model with different numbers of trees (from 10 to 90, increasing by 10 each time).\n",
        "\n",
        "For each number of trees, it:\n",
        "1. Trains the model on the training data.\n",
        "2. Evaluates its accuracy on the test data.\n",
        "3. Prints out the number of trees used and the model's accuracy.\n",
        "\n",
        "--------------\n",
        "#Why Vary the Number of Estimators?\n",
        "Random forests are ensembles of decision trees.\n",
        "\n",
        "##The more trees in the forest, the more robust the model can be, but also the more computationally expensive.\n",
        "\n",
        "By testing different numbers of trees, you can see how model performance changes.\n",
        "\n",
        "##Often, accuracy increases with more trees, but after a certain point, the improvement might be negligible, making it unnecessary to add more trees."
      ],
      "metadata": {
        "id": "POR2zlw6mjLO"
      }
    },
    {
      "cell_type": "code",
      "execution_count": 93,
      "metadata": {
        "id": "7vpqwYQBdAPS",
        "outputId": "aa2ccc68-1608-49b2-81d7-db566d5782f1",
        "colab": {
          "base_uri": "https://localhost:8080/"
        }
      },
      "outputs": [
        {
          "output_type": "stream",
          "name": "stdout",
          "text": [
            "Trying model with 10 estimators...\n",
            "Model accuracy on test set: 84.21052631578947%\n",
            "Cross-validation score: 78.53551912568305%\n",
            "\n",
            "Trying model with 20 estimators...\n",
            "Model accuracy on test set: 81.57894736842105%\n",
            "Cross-validation score: 79.84699453551912%\n",
            "\n",
            "Trying model with 30 estimators...\n",
            "Model accuracy on test set: 85.52631578947368%\n",
            "Cross-validation score: 80.50819672131148%\n",
            "\n",
            "Trying model with 40 estimators...\n",
            "Model accuracy on test set: 81.57894736842105%\n",
            "Cross-validation score: 82.15300546448088%\n",
            "\n",
            "Trying model with 50 estimators...\n",
            "Model accuracy on test set: 81.57894736842105%\n",
            "Cross-validation score: 81.1639344262295%\n",
            "\n",
            "Trying model with 60 estimators...\n",
            "Model accuracy on test set: 82.89473684210526%\n",
            "Cross-validation score: 83.47540983606557%\n",
            "\n",
            "Trying model with 70 estimators...\n",
            "Model accuracy on test set: 81.57894736842105%\n",
            "Cross-validation score: 81.83060109289617%\n",
            "\n",
            "Trying model with 80 estimators...\n",
            "Model accuracy on test set: 81.57894736842105%\n",
            "Cross-validation score: 82.81420765027322%\n",
            "\n",
            "Trying model with 90 estimators...\n",
            "Model accuracy on test set: 82.89473684210526%\n",
            "Cross-validation score: 82.81967213114754%\n",
            "\n"
          ]
        }
      ],
      "source": [
        "from sklearn.model_selection import cross_val_score\n",
        "\n",
        "# With cross-validation\n",
        "np.random.seed(42)\n",
        "for i in range(10, 100, 10):\n",
        "    print(f\"Trying model with {i} estimators...\")\n",
        "    model = RandomForestClassifier(n_estimators=i).fit(X_train, y_train)\n",
        "    print(f\"Model accuracy on test set: {model.score(X_test, y_test) * 100}%\")\n",
        "    print(f\"Cross-validation score: {np.mean(cross_val_score(model, X, y, cv=5)) * 100}%\")\n",
        "    print(\"\")"
      ]
    },
    {
      "cell_type": "markdown",
      "source": [
        "# Performing Cross-Validation\n",
        "\n",
        "    print(f\"Cross-validation score: {np.mean(cross_val_score(model, X, y, cv=5)) * 100}%\")\n",
        "\n",
        "\n",
        "The cross_val_score function performs cross-validation, which is a more reliable way to assess model performance by splitting the data into multiple parts and training/testing the model multiple times.\n",
        "\n",
        "\n",
        "##cross_val_score(model, X, y, cv=5) splits the data X and y into 5 parts (cv=5), trains the model on 4 parts, and tests on the remaining part, repeating this process 5 times.\n",
        "\n",
        "np.mean(cross_val_score(...)) calculates the average accuracy across these 5 cross-validation runs.\n",
        "\n",
        "Multiplying by 100 converts the average accuracy from a decimal to a percentage."
      ],
      "metadata": {
        "id": "Kb1XzE2vob-u"
      }
    },
    {
      "cell_type": "code",
      "execution_count": 94,
      "metadata": {
        "id": "hbWQE6-xdAPS",
        "outputId": "5f7c831d-413f-4ebb-f75b-fcc3562bf6bd",
        "colab": {
          "base_uri": "https://localhost:8080/"
        }
      },
      "outputs": [
        {
          "output_type": "execute_result",
          "data": {
            "text/plain": [
              "{'n_estimators': 80}"
            ]
          },
          "metadata": {},
          "execution_count": 94
        }
      ],
      "source": [
        "# Another way to do it with GridSearchCV...\n",
        "np.random.seed(42)\n",
        "from sklearn.model_selection import GridSearchCV\n",
        "\n",
        "# Define the parameters to search over\n",
        "param_grid = {'n_estimators': [i for i in range(10, 100, 10)]}\n",
        "\n",
        "# Setup the grid search\n",
        "grid = GridSearchCV(RandomForestClassifier(),\n",
        "                    param_grid,\n",
        "                    cv=5)\n",
        "\n",
        "# Fit the grid search to the data\n",
        "grid.fit(X, y)\n",
        "\n",
        "# Find the best parameters\n",
        "grid.best_params_"
      ]
    },
    {
      "cell_type": "markdown",
      "source": [
        "# GridSearchCV\n",
        "is a technique in machine learning used to find the optimal hyperparameters for a model by performing an exhaustive search over a specified parameter grid.\n",
        "\n",
        " It helps in tuning the model to achieve the best possible performance by systematically evaluating multiple combinations of hyperparameters.\n",
        "\n",
        "-----\n",
        "## 1. Setting the Random Seed:\n",
        "    np.random.seed(42)\n",
        "Ensures that the results are reproducible by fixing the random processes, such as data shuffling.\n",
        "\n",
        "------\n",
        "##2. Importing GridSearchCV:\n",
        "\n",
        "    from sklearn.model_selection import GridSearchCV\n",
        "GridSearchCV is imported from sklearn.model_selection.\n",
        "\n",
        "This is the tool that will perform the exhaustive search over the hyperparameter space.\n",
        "\n",
        "------\n",
        "##3. Defining the Parameter Grid:\n",
        "\n",
        "    param_grid = {'n_estimators': [i for i in range(10, 100, 10)]}\n",
        "\n",
        "###Parameter Grid (param_grid)\n",
        "\n",
        "Specifies the hyperparameters and their possible values that GridSearchCV will search over.\n",
        "\n",
        "#Here, n_estimators (number of trees in the random forest) is the hyperparameter being tuned. It ranges from 10 to 90 in steps of 10.\n",
        "\n",
        "-----\n",
        "##4. Setting Up the Grid Search:\n",
        "\n",
        "    grid = GridSearchCV(RandomForestClassifier(), param_grid, cv=5)\n",
        "\n",
        "Model: RandomForestClassifier() is the model being tuned.\n",
        "\n",
        "Parameter Grid: param_grid defines the range of hyperparameters to search.\n",
        "\n",
        "##Cross-Validation (cv): cv=5 indicates that 5-fold cross-validation will be used.\n",
        "\n",
        "This means that for each combination of hyperparameters, the data will be split into 5 parts, and the model will be trained and validated 5 times, each time on a different combination of 4 training parts and 1 validation part.\n",
        "\n",
        "-----\n",
        "##5. Fitting the Grid Search to the Data:\n",
        "\n",
        "    grid.fit(X, y)\n",
        "\n",
        "Training: The grid search trains multiple RandomForestClassifier models on the dataset X with labels y, each with a different combination of hyperparameters.\n",
        "\n",
        "Evaluation: For each combination of hyperparameters, it calculates the performance metric (usually accuracy) using cross-validation.\n",
        "\n",
        "-------------\n",
        "##6. Finding the Best Parameters:\n",
        "\n",
        "    grid.best_params_\n",
        "\n",
        "Best Hyperparameters: After evaluating all combinations, grid.best_params_ will return the combination of hyperparameters that gave the best cross-validation performance.\n",
        "\n",
        "------\n",
        "#What GridSearchCV Does\n",
        "Exhaustive Search: It tries every combination of the specified hyperparameter values.\n",
        "\n",
        "Cross-Validation: For each combination, it evaluates the model using cross-validation, ensuring that the selected hyperparameters generalize well to unseen data.\n",
        "\n",
        "Optimization: It identifies the combination of hyperparameters that yields the best model performance based on the evaluation metric (e.g., accuracy, F1-score).\n",
        "\n",
        "------\n",
        "#Benefits of Using GridSearchCV:\n",
        "Automatic Tuning: It automates the process of hyperparameter tuning, saving time and effort compared to manually trying different combinations.\n",
        "\n",
        "Cross-Validation: The use of cross-validation in GridSearchCV ensures that the hyperparameters are chosen based on their performance across multiple data splits, reducing the risk of overfitting.\n",
        "\n",
        "Best Model: It helps in finding the best possible model for your data within the specified hyperparameter space."
      ],
      "metadata": {
        "id": "wThQuqfsp9-I"
      }
    },
    {
      "cell_type": "code",
      "execution_count": 96,
      "metadata": {
        "id": "FWJVn-kGdAPS",
        "outputId": "5ffa4faa-fa5d-4140-8913-c3feccab4d6e",
        "colab": {
          "base_uri": "https://localhost:8080/",
          "height": 74
        }
      },
      "outputs": [
        {
          "output_type": "execute_result",
          "data": {
            "text/plain": [
              "RandomForestClassifier(n_estimators=80)"
            ],
            "text/html": [
              "<style>#sk-container-id-6 {color: black;}#sk-container-id-6 pre{padding: 0;}#sk-container-id-6 div.sk-toggleable {background-color: white;}#sk-container-id-6 label.sk-toggleable__label {cursor: pointer;display: block;width: 100%;margin-bottom: 0;padding: 0.3em;box-sizing: border-box;text-align: center;}#sk-container-id-6 label.sk-toggleable__label-arrow:before {content: \"▸\";float: left;margin-right: 0.25em;color: #696969;}#sk-container-id-6 label.sk-toggleable__label-arrow:hover:before {color: black;}#sk-container-id-6 div.sk-estimator:hover label.sk-toggleable__label-arrow:before {color: black;}#sk-container-id-6 div.sk-toggleable__content {max-height: 0;max-width: 0;overflow: hidden;text-align: left;background-color: #f0f8ff;}#sk-container-id-6 div.sk-toggleable__content pre {margin: 0.2em;color: black;border-radius: 0.25em;background-color: #f0f8ff;}#sk-container-id-6 input.sk-toggleable__control:checked~div.sk-toggleable__content {max-height: 200px;max-width: 100%;overflow: auto;}#sk-container-id-6 input.sk-toggleable__control:checked~label.sk-toggleable__label-arrow:before {content: \"▾\";}#sk-container-id-6 div.sk-estimator input.sk-toggleable__control:checked~label.sk-toggleable__label {background-color: #d4ebff;}#sk-container-id-6 div.sk-label input.sk-toggleable__control:checked~label.sk-toggleable__label {background-color: #d4ebff;}#sk-container-id-6 input.sk-hidden--visually {border: 0;clip: rect(1px 1px 1px 1px);clip: rect(1px, 1px, 1px, 1px);height: 1px;margin: -1px;overflow: hidden;padding: 0;position: absolute;width: 1px;}#sk-container-id-6 div.sk-estimator {font-family: monospace;background-color: #f0f8ff;border: 1px dotted black;border-radius: 0.25em;box-sizing: border-box;margin-bottom: 0.5em;}#sk-container-id-6 div.sk-estimator:hover {background-color: #d4ebff;}#sk-container-id-6 div.sk-parallel-item::after {content: \"\";width: 100%;border-bottom: 1px solid gray;flex-grow: 1;}#sk-container-id-6 div.sk-label:hover label.sk-toggleable__label {background-color: #d4ebff;}#sk-container-id-6 div.sk-serial::before {content: \"\";position: absolute;border-left: 1px solid gray;box-sizing: border-box;top: 0;bottom: 0;left: 50%;z-index: 0;}#sk-container-id-6 div.sk-serial {display: flex;flex-direction: column;align-items: center;background-color: white;padding-right: 0.2em;padding-left: 0.2em;position: relative;}#sk-container-id-6 div.sk-item {position: relative;z-index: 1;}#sk-container-id-6 div.sk-parallel {display: flex;align-items: stretch;justify-content: center;background-color: white;position: relative;}#sk-container-id-6 div.sk-item::before, #sk-container-id-6 div.sk-parallel-item::before {content: \"\";position: absolute;border-left: 1px solid gray;box-sizing: border-box;top: 0;bottom: 0;left: 50%;z-index: -1;}#sk-container-id-6 div.sk-parallel-item {display: flex;flex-direction: column;z-index: 1;position: relative;background-color: white;}#sk-container-id-6 div.sk-parallel-item:first-child::after {align-self: flex-end;width: 50%;}#sk-container-id-6 div.sk-parallel-item:last-child::after {align-self: flex-start;width: 50%;}#sk-container-id-6 div.sk-parallel-item:only-child::after {width: 0;}#sk-container-id-6 div.sk-dashed-wrapped {border: 1px dashed gray;margin: 0 0.4em 0.5em 0.4em;box-sizing: border-box;padding-bottom: 0.4em;background-color: white;}#sk-container-id-6 div.sk-label label {font-family: monospace;font-weight: bold;display: inline-block;line-height: 1.2em;}#sk-container-id-6 div.sk-label-container {text-align: center;}#sk-container-id-6 div.sk-container {/* jupyter's `normalize.less` sets `[hidden] { display: none; }` but bootstrap.min.css set `[hidden] { display: none !important; }` so we also need the `!important` here to be able to override the default hidden behavior on the sphinx rendered scikit-learn.org. See: https://github.com/scikit-learn/scikit-learn/issues/21755 */display: inline-block !important;position: relative;}#sk-container-id-6 div.sk-text-repr-fallback {display: none;}</style><div id=\"sk-container-id-6\" class=\"sk-top-container\"><div class=\"sk-text-repr-fallback\"><pre>RandomForestClassifier(n_estimators=80)</pre><b>In a Jupyter environment, please rerun this cell to show the HTML representation or trust the notebook. <br />On GitHub, the HTML representation is unable to render, please try loading this page with nbviewer.org.</b></div><div class=\"sk-container\" hidden><div class=\"sk-item\"><div class=\"sk-estimator sk-toggleable\"><input class=\"sk-toggleable__control sk-hidden--visually\" id=\"sk-estimator-id-6\" type=\"checkbox\" checked><label for=\"sk-estimator-id-6\" class=\"sk-toggleable__label sk-toggleable__label-arrow\">RandomForestClassifier</label><div class=\"sk-toggleable__content\"><pre>RandomForestClassifier(n_estimators=80)</pre></div></div></div></div></div>"
            ]
          },
          "metadata": {},
          "execution_count": 96
        }
      ],
      "source": [
        "# Set the model to be the best estimator\n",
        "clf = grid.best_estimator_\n",
        "clf"
      ]
    },
    {
      "cell_type": "code",
      "execution_count": 97,
      "metadata": {
        "id": "QzFIqioodAPS"
      },
      "outputs": [],
      "source": [
        "# Fit the best model\n",
        "clf = clf.fit(X_train, y_train)"
      ]
    },
    {
      "cell_type": "code",
      "execution_count": 98,
      "metadata": {
        "id": "QmaGO4-QdAPT",
        "outputId": "fe9cbaa2-dc53-469f-e166-40c12d2bf14a",
        "colab": {
          "base_uri": "https://localhost:8080/"
        }
      },
      "outputs": [
        {
          "output_type": "execute_result",
          "data": {
            "text/plain": [
              "0.8421052631578947"
            ]
          },
          "metadata": {},
          "execution_count": 98
        }
      ],
      "source": [
        "# Find the best model scores\n",
        "clf.score(X_test, y_test)"
      ]
    },
    {
      "cell_type": "markdown",
      "metadata": {
        "id": "4iotfKB9dAPT"
      },
      "source": [
        "#### 6. Save a model for someone else to use\n",
        "\n",
        "When you've done a few experiments and you're happy with how your model is doing, you'll likely want someone else to be able to use it.\n",
        "\n",
        "This may come in the form of a teammate or colleague trying to replicate and validate your results or through a customer using your model as part of a service or application you offer.\n",
        "\n",
        "Saving a model also allows you to reuse it later without having to go through retraining it. Which is helpful, especially when your training times start to increase.\n",
        "\n",
        "You can save a scikit-learn model using Python's in-built `pickle` module."
      ]
    },
    {
      "cell_type": "code",
      "execution_count": 99,
      "metadata": {
        "id": "Lzlgow0KdAPT"
      },
      "outputs": [],
      "source": [
        "import pickle\n",
        "\n",
        "# Save an existing model to file\n",
        "pickle.dump(model, open(\"random_forest_model_1.pkl\", \"wb\"))"
      ]
    },
    {
      "cell_type": "markdown",
      "source": [
        "# Explanation of the Pickle\n",
        "\n",
        "\n",
        "---\n",
        "\n",
        "\n",
        "## 1. Importing the pickle Module:\n",
        "\n",
        "    import pickle\n",
        "pickle is a Python module used to serialize and deserialize Python objects. Serialization refers to converting an object into a byte stream, which can be stored in a file or transmitted over a network.\n",
        "\n",
        "Deserialization is the process of converting the byte stream back into an object.\n",
        "\n",
        "-----\n",
        "##2. Saving the Model to a File:\n",
        "\n",
        "    pickle.dump(model, open(\"random_forest_model_1.pkl\", \"wb\"))\n",
        "\n",
        "pickle.dump(): This function serializes the Python object and writes it to a file.\n",
        "\n",
        "**model**\n",
        "\n",
        "This is the machine learning model you want to save. It could be any trained model, such as a RandomForestClassifier or any other model.\n",
        "\n",
        "**open(\"random_forest_model_1.pkl\", \"wb\")**\n",
        "\n",
        "\"random_forest_model_1.pkl\": This is the name of the file where the model will be saved. The .pkl extension is commonly used for pickle files.\n",
        "\n",
        "**\"wb\"**\n",
        "\n",
        "This stands for \"write binary,\" which means that the file is opened for writing in binary mode. Since pickling involves binary data, the file must be opened in binary mode.\n",
        "\n",
        "----------------\n",
        "##3. Model Persistence\n",
        "\n",
        "The primary purpose of this code is to save a trained model to a file so that it can be loaded and used later without having to retrain the model from scratch. This is useful in production environments where models need to be deployed, shared, or reused.\n",
        "\n",
        "----------\n",
        "##4. Example Use Case\n",
        "\n",
        "After training a machine learning model, you might want to save it to disk. This way, you can load the model later and use it to make predictions on new data without having to retrain it.\n",
        "\n",
        "For instance, if you have trained a RandomForestClassifier to classify emails as spam or not spam, you can save the trained model using pickle.\n",
        "\n",
        "Later, when you receive new emails, you can load the model and quickly classify them without retraining.\n",
        "\n",
        "--------------\n",
        "#Example:\n",
        "\n",
        "# Assume `model` is a trained RandomForestClassifier\n",
        "import pickle\n",
        "\n",
        "# Save the model to a file\n",
        "pickle.dump(model, open(\"random_forest_model_1.pkl\", \"wb\"))\n",
        "\n",
        "# Later, you can load the model like this:\n",
        "loaded_model = pickle.load(open(\"random_forest_model_1.pkl\", \"rb\"))\n",
        "\n",
        "# Use the loaded model to make predictions\n",
        "predictions = loaded_model.predict(new_data)\n",
        "\n",
        "###Key Points\n",
        "Pickling: Converts a Python object into a format that can be written to a file or sent over a network.\n",
        "\n",
        "Saving a Model: Allows you to preserve the state of a trained model, avoiding the need to retrain it.\n",
        "\n",
        "File Handling: Opening the file in binary mode (\"wb\") is crucial when working with pickle to ensure the data is correctly written."
      ],
      "metadata": {
        "id": "gXNmy9HAscTO"
      }
    },
    {
      "cell_type": "code",
      "execution_count": 100,
      "metadata": {
        "id": "CgJIUXB5dAPT",
        "outputId": "09c1586e-dc19-474a-9616-c598c0a90de0",
        "colab": {
          "base_uri": "https://localhost:8080/"
        }
      },
      "outputs": [
        {
          "output_type": "execute_result",
          "data": {
            "text/plain": [
              "0.8289473684210527"
            ]
          },
          "metadata": {},
          "execution_count": 100
        }
      ],
      "source": [
        "# Load a saved model and make a prediction\n",
        "loaded_model = pickle.load(open(\"random_forest_model_1.pkl\", \"rb\"))\n",
        "loaded_model.score(X_test, y_test)"
      ]
    },
    {
      "cell_type": "markdown",
      "metadata": {
        "id": "nCmpfm2ndAPT"
      },
      "source": [
        "## 1. Getting the data ready\n",
        "\n",
        "Data doesn't always come ready to use with a Scikit-Learn machine learning model.\n",
        "\n",
        "Three of the main steps you'll often have to take are:\n",
        "* Splitting the data into features (usually `X`) and labels (usually `y`)\n",
        "* Filling (also called imputing) or disregarding missing values\n",
        "* Converting non-numerical values to numerical values (also call feature encoding)\n",
        "\n",
        "Let's see an example."
      ]
    },
    {
      "cell_type": "code",
      "execution_count": 101,
      "metadata": {
        "id": "Zei_pFH2dAPU",
        "outputId": "364e71bb-a602-42a2-a266-0d2894ccd238",
        "colab": {
          "base_uri": "https://localhost:8080/",
          "height": 206
        }
      },
      "outputs": [
        {
          "output_type": "execute_result",
          "data": {
            "text/plain": [
              "   age  sex  cp  trestbps  chol  fbs  restecg  thalach  exang  oldpeak  slope  \\\n",
              "0   63    1   3       145   233    1        0      150      0      2.3      0   \n",
              "1   37    1   2       130   250    0        1      187      0      3.5      0   \n",
              "2   41    0   1       130   204    0        0      172      0      1.4      2   \n",
              "3   56    1   1       120   236    0        1      178      0      0.8      2   \n",
              "4   57    0   0       120   354    0        1      163      1      0.6      2   \n",
              "\n",
              "   ca  thal  target  \n",
              "0   0     1       1  \n",
              "1   0     2       1  \n",
              "2   0     2       1  \n",
              "3   0     2       1  \n",
              "4   0     2       1  "
            ],
            "text/html": [
              "\n",
              "  <div id=\"df-731ebeac-c1fe-4bce-9021-d690832994ec\" class=\"colab-df-container\">\n",
              "    <div>\n",
              "<style scoped>\n",
              "    .dataframe tbody tr th:only-of-type {\n",
              "        vertical-align: middle;\n",
              "    }\n",
              "\n",
              "    .dataframe tbody tr th {\n",
              "        vertical-align: top;\n",
              "    }\n",
              "\n",
              "    .dataframe thead th {\n",
              "        text-align: right;\n",
              "    }\n",
              "</style>\n",
              "<table border=\"1\" class=\"dataframe\">\n",
              "  <thead>\n",
              "    <tr style=\"text-align: right;\">\n",
              "      <th></th>\n",
              "      <th>age</th>\n",
              "      <th>sex</th>\n",
              "      <th>cp</th>\n",
              "      <th>trestbps</th>\n",
              "      <th>chol</th>\n",
              "      <th>fbs</th>\n",
              "      <th>restecg</th>\n",
              "      <th>thalach</th>\n",
              "      <th>exang</th>\n",
              "      <th>oldpeak</th>\n",
              "      <th>slope</th>\n",
              "      <th>ca</th>\n",
              "      <th>thal</th>\n",
              "      <th>target</th>\n",
              "    </tr>\n",
              "  </thead>\n",
              "  <tbody>\n",
              "    <tr>\n",
              "      <th>0</th>\n",
              "      <td>63</td>\n",
              "      <td>1</td>\n",
              "      <td>3</td>\n",
              "      <td>145</td>\n",
              "      <td>233</td>\n",
              "      <td>1</td>\n",
              "      <td>0</td>\n",
              "      <td>150</td>\n",
              "      <td>0</td>\n",
              "      <td>2.3</td>\n",
              "      <td>0</td>\n",
              "      <td>0</td>\n",
              "      <td>1</td>\n",
              "      <td>1</td>\n",
              "    </tr>\n",
              "    <tr>\n",
              "      <th>1</th>\n",
              "      <td>37</td>\n",
              "      <td>1</td>\n",
              "      <td>2</td>\n",
              "      <td>130</td>\n",
              "      <td>250</td>\n",
              "      <td>0</td>\n",
              "      <td>1</td>\n",
              "      <td>187</td>\n",
              "      <td>0</td>\n",
              "      <td>3.5</td>\n",
              "      <td>0</td>\n",
              "      <td>0</td>\n",
              "      <td>2</td>\n",
              "      <td>1</td>\n",
              "    </tr>\n",
              "    <tr>\n",
              "      <th>2</th>\n",
              "      <td>41</td>\n",
              "      <td>0</td>\n",
              "      <td>1</td>\n",
              "      <td>130</td>\n",
              "      <td>204</td>\n",
              "      <td>0</td>\n",
              "      <td>0</td>\n",
              "      <td>172</td>\n",
              "      <td>0</td>\n",
              "      <td>1.4</td>\n",
              "      <td>2</td>\n",
              "      <td>0</td>\n",
              "      <td>2</td>\n",
              "      <td>1</td>\n",
              "    </tr>\n",
              "    <tr>\n",
              "      <th>3</th>\n",
              "      <td>56</td>\n",
              "      <td>1</td>\n",
              "      <td>1</td>\n",
              "      <td>120</td>\n",
              "      <td>236</td>\n",
              "      <td>0</td>\n",
              "      <td>1</td>\n",
              "      <td>178</td>\n",
              "      <td>0</td>\n",
              "      <td>0.8</td>\n",
              "      <td>2</td>\n",
              "      <td>0</td>\n",
              "      <td>2</td>\n",
              "      <td>1</td>\n",
              "    </tr>\n",
              "    <tr>\n",
              "      <th>4</th>\n",
              "      <td>57</td>\n",
              "      <td>0</td>\n",
              "      <td>0</td>\n",
              "      <td>120</td>\n",
              "      <td>354</td>\n",
              "      <td>0</td>\n",
              "      <td>1</td>\n",
              "      <td>163</td>\n",
              "      <td>1</td>\n",
              "      <td>0.6</td>\n",
              "      <td>2</td>\n",
              "      <td>0</td>\n",
              "      <td>2</td>\n",
              "      <td>1</td>\n",
              "    </tr>\n",
              "  </tbody>\n",
              "</table>\n",
              "</div>\n",
              "    <div class=\"colab-df-buttons\">\n",
              "\n",
              "  <div class=\"colab-df-container\">\n",
              "    <button class=\"colab-df-convert\" onclick=\"convertToInteractive('df-731ebeac-c1fe-4bce-9021-d690832994ec')\"\n",
              "            title=\"Convert this dataframe to an interactive table.\"\n",
              "            style=\"display:none;\">\n",
              "\n",
              "  <svg xmlns=\"http://www.w3.org/2000/svg\" height=\"24px\" viewBox=\"0 -960 960 960\">\n",
              "    <path d=\"M120-120v-720h720v720H120Zm60-500h600v-160H180v160Zm220 220h160v-160H400v160Zm0 220h160v-160H400v160ZM180-400h160v-160H180v160Zm440 0h160v-160H620v160ZM180-180h160v-160H180v160Zm440 0h160v-160H620v160Z\"/>\n",
              "  </svg>\n",
              "    </button>\n",
              "\n",
              "  <style>\n",
              "    .colab-df-container {\n",
              "      display:flex;\n",
              "      gap: 12px;\n",
              "    }\n",
              "\n",
              "    .colab-df-convert {\n",
              "      background-color: #E8F0FE;\n",
              "      border: none;\n",
              "      border-radius: 50%;\n",
              "      cursor: pointer;\n",
              "      display: none;\n",
              "      fill: #1967D2;\n",
              "      height: 32px;\n",
              "      padding: 0 0 0 0;\n",
              "      width: 32px;\n",
              "    }\n",
              "\n",
              "    .colab-df-convert:hover {\n",
              "      background-color: #E2EBFA;\n",
              "      box-shadow: 0px 1px 2px rgba(60, 64, 67, 0.3), 0px 1px 3px 1px rgba(60, 64, 67, 0.15);\n",
              "      fill: #174EA6;\n",
              "    }\n",
              "\n",
              "    .colab-df-buttons div {\n",
              "      margin-bottom: 4px;\n",
              "    }\n",
              "\n",
              "    [theme=dark] .colab-df-convert {\n",
              "      background-color: #3B4455;\n",
              "      fill: #D2E3FC;\n",
              "    }\n",
              "\n",
              "    [theme=dark] .colab-df-convert:hover {\n",
              "      background-color: #434B5C;\n",
              "      box-shadow: 0px 1px 3px 1px rgba(0, 0, 0, 0.15);\n",
              "      filter: drop-shadow(0px 1px 2px rgba(0, 0, 0, 0.3));\n",
              "      fill: #FFFFFF;\n",
              "    }\n",
              "  </style>\n",
              "\n",
              "    <script>\n",
              "      const buttonEl =\n",
              "        document.querySelector('#df-731ebeac-c1fe-4bce-9021-d690832994ec button.colab-df-convert');\n",
              "      buttonEl.style.display =\n",
              "        google.colab.kernel.accessAllowed ? 'block' : 'none';\n",
              "\n",
              "      async function convertToInteractive(key) {\n",
              "        const element = document.querySelector('#df-731ebeac-c1fe-4bce-9021-d690832994ec');\n",
              "        const dataTable =\n",
              "          await google.colab.kernel.invokeFunction('convertToInteractive',\n",
              "                                                    [key], {});\n",
              "        if (!dataTable) return;\n",
              "\n",
              "        const docLinkHtml = 'Like what you see? Visit the ' +\n",
              "          '<a target=\"_blank\" href=https://colab.research.google.com/notebooks/data_table.ipynb>data table notebook</a>'\n",
              "          + ' to learn more about interactive tables.';\n",
              "        element.innerHTML = '';\n",
              "        dataTable['output_type'] = 'display_data';\n",
              "        await google.colab.output.renderOutput(dataTable, element);\n",
              "        const docLink = document.createElement('div');\n",
              "        docLink.innerHTML = docLinkHtml;\n",
              "        element.appendChild(docLink);\n",
              "      }\n",
              "    </script>\n",
              "  </div>\n",
              "\n",
              "\n",
              "<div id=\"df-1a12fd00-8ac2-4e94-948d-6ead8094af94\">\n",
              "  <button class=\"colab-df-quickchart\" onclick=\"quickchart('df-1a12fd00-8ac2-4e94-948d-6ead8094af94')\"\n",
              "            title=\"Suggest charts\"\n",
              "            style=\"display:none;\">\n",
              "\n",
              "<svg xmlns=\"http://www.w3.org/2000/svg\" height=\"24px\"viewBox=\"0 0 24 24\"\n",
              "     width=\"24px\">\n",
              "    <g>\n",
              "        <path d=\"M19 3H5c-1.1 0-2 .9-2 2v14c0 1.1.9 2 2 2h14c1.1 0 2-.9 2-2V5c0-1.1-.9-2-2-2zM9 17H7v-7h2v7zm4 0h-2V7h2v10zm4 0h-2v-4h2v4z\"/>\n",
              "    </g>\n",
              "</svg>\n",
              "  </button>\n",
              "\n",
              "<style>\n",
              "  .colab-df-quickchart {\n",
              "      --bg-color: #E8F0FE;\n",
              "      --fill-color: #1967D2;\n",
              "      --hover-bg-color: #E2EBFA;\n",
              "      --hover-fill-color: #174EA6;\n",
              "      --disabled-fill-color: #AAA;\n",
              "      --disabled-bg-color: #DDD;\n",
              "  }\n",
              "\n",
              "  [theme=dark] .colab-df-quickchart {\n",
              "      --bg-color: #3B4455;\n",
              "      --fill-color: #D2E3FC;\n",
              "      --hover-bg-color: #434B5C;\n",
              "      --hover-fill-color: #FFFFFF;\n",
              "      --disabled-bg-color: #3B4455;\n",
              "      --disabled-fill-color: #666;\n",
              "  }\n",
              "\n",
              "  .colab-df-quickchart {\n",
              "    background-color: var(--bg-color);\n",
              "    border: none;\n",
              "    border-radius: 50%;\n",
              "    cursor: pointer;\n",
              "    display: none;\n",
              "    fill: var(--fill-color);\n",
              "    height: 32px;\n",
              "    padding: 0;\n",
              "    width: 32px;\n",
              "  }\n",
              "\n",
              "  .colab-df-quickchart:hover {\n",
              "    background-color: var(--hover-bg-color);\n",
              "    box-shadow: 0 1px 2px rgba(60, 64, 67, 0.3), 0 1px 3px 1px rgba(60, 64, 67, 0.15);\n",
              "    fill: var(--button-hover-fill-color);\n",
              "  }\n",
              "\n",
              "  .colab-df-quickchart-complete:disabled,\n",
              "  .colab-df-quickchart-complete:disabled:hover {\n",
              "    background-color: var(--disabled-bg-color);\n",
              "    fill: var(--disabled-fill-color);\n",
              "    box-shadow: none;\n",
              "  }\n",
              "\n",
              "  .colab-df-spinner {\n",
              "    border: 2px solid var(--fill-color);\n",
              "    border-color: transparent;\n",
              "    border-bottom-color: var(--fill-color);\n",
              "    animation:\n",
              "      spin 1s steps(1) infinite;\n",
              "  }\n",
              "\n",
              "  @keyframes spin {\n",
              "    0% {\n",
              "      border-color: transparent;\n",
              "      border-bottom-color: var(--fill-color);\n",
              "      border-left-color: var(--fill-color);\n",
              "    }\n",
              "    20% {\n",
              "      border-color: transparent;\n",
              "      border-left-color: var(--fill-color);\n",
              "      border-top-color: var(--fill-color);\n",
              "    }\n",
              "    30% {\n",
              "      border-color: transparent;\n",
              "      border-left-color: var(--fill-color);\n",
              "      border-top-color: var(--fill-color);\n",
              "      border-right-color: var(--fill-color);\n",
              "    }\n",
              "    40% {\n",
              "      border-color: transparent;\n",
              "      border-right-color: var(--fill-color);\n",
              "      border-top-color: var(--fill-color);\n",
              "    }\n",
              "    60% {\n",
              "      border-color: transparent;\n",
              "      border-right-color: var(--fill-color);\n",
              "    }\n",
              "    80% {\n",
              "      border-color: transparent;\n",
              "      border-right-color: var(--fill-color);\n",
              "      border-bottom-color: var(--fill-color);\n",
              "    }\n",
              "    90% {\n",
              "      border-color: transparent;\n",
              "      border-bottom-color: var(--fill-color);\n",
              "    }\n",
              "  }\n",
              "</style>\n",
              "\n",
              "  <script>\n",
              "    async function quickchart(key) {\n",
              "      const quickchartButtonEl =\n",
              "        document.querySelector('#' + key + ' button');\n",
              "      quickchartButtonEl.disabled = true;  // To prevent multiple clicks.\n",
              "      quickchartButtonEl.classList.add('colab-df-spinner');\n",
              "      try {\n",
              "        const charts = await google.colab.kernel.invokeFunction(\n",
              "            'suggestCharts', [key], {});\n",
              "      } catch (error) {\n",
              "        console.error('Error during call to suggestCharts:', error);\n",
              "      }\n",
              "      quickchartButtonEl.classList.remove('colab-df-spinner');\n",
              "      quickchartButtonEl.classList.add('colab-df-quickchart-complete');\n",
              "    }\n",
              "    (() => {\n",
              "      let quickchartButtonEl =\n",
              "        document.querySelector('#df-1a12fd00-8ac2-4e94-948d-6ead8094af94 button');\n",
              "      quickchartButtonEl.style.display =\n",
              "        google.colab.kernel.accessAllowed ? 'block' : 'none';\n",
              "    })();\n",
              "  </script>\n",
              "</div>\n",
              "\n",
              "    </div>\n",
              "  </div>\n"
            ],
            "application/vnd.google.colaboratory.intrinsic+json": {
              "type": "dataframe",
              "variable_name": "heart_disease",
              "summary": "{\n  \"name\": \"heart_disease\",\n  \"rows\": 303,\n  \"fields\": [\n    {\n      \"column\": \"age\",\n      \"properties\": {\n        \"dtype\": \"number\",\n        \"std\": 9,\n        \"min\": 29,\n        \"max\": 77,\n        \"num_unique_values\": 41,\n        \"samples\": [\n          46,\n          66,\n          48\n        ],\n        \"semantic_type\": \"\",\n        \"description\": \"\"\n      }\n    },\n    {\n      \"column\": \"sex\",\n      \"properties\": {\n        \"dtype\": \"number\",\n        \"std\": 0,\n        \"min\": 0,\n        \"max\": 1,\n        \"num_unique_values\": 2,\n        \"samples\": [\n          0,\n          1\n        ],\n        \"semantic_type\": \"\",\n        \"description\": \"\"\n      }\n    },\n    {\n      \"column\": \"cp\",\n      \"properties\": {\n        \"dtype\": \"number\",\n        \"std\": 1,\n        \"min\": 0,\n        \"max\": 3,\n        \"num_unique_values\": 4,\n        \"samples\": [\n          2,\n          0\n        ],\n        \"semantic_type\": \"\",\n        \"description\": \"\"\n      }\n    },\n    {\n      \"column\": \"trestbps\",\n      \"properties\": {\n        \"dtype\": \"number\",\n        \"std\": 17,\n        \"min\": 94,\n        \"max\": 200,\n        \"num_unique_values\": 49,\n        \"samples\": [\n          104,\n          123\n        ],\n        \"semantic_type\": \"\",\n        \"description\": \"\"\n      }\n    },\n    {\n      \"column\": \"chol\",\n      \"properties\": {\n        \"dtype\": \"number\",\n        \"std\": 51,\n        \"min\": 126,\n        \"max\": 564,\n        \"num_unique_values\": 152,\n        \"samples\": [\n          277,\n          169\n        ],\n        \"semantic_type\": \"\",\n        \"description\": \"\"\n      }\n    },\n    {\n      \"column\": \"fbs\",\n      \"properties\": {\n        \"dtype\": \"number\",\n        \"std\": 0,\n        \"min\": 0,\n        \"max\": 1,\n        \"num_unique_values\": 2,\n        \"samples\": [\n          0,\n          1\n        ],\n        \"semantic_type\": \"\",\n        \"description\": \"\"\n      }\n    },\n    {\n      \"column\": \"restecg\",\n      \"properties\": {\n        \"dtype\": \"number\",\n        \"std\": 0,\n        \"min\": 0,\n        \"max\": 2,\n        \"num_unique_values\": 3,\n        \"samples\": [\n          0,\n          1\n        ],\n        \"semantic_type\": \"\",\n        \"description\": \"\"\n      }\n    },\n    {\n      \"column\": \"thalach\",\n      \"properties\": {\n        \"dtype\": \"number\",\n        \"std\": 22,\n        \"min\": 71,\n        \"max\": 202,\n        \"num_unique_values\": 91,\n        \"samples\": [\n          159,\n          152\n        ],\n        \"semantic_type\": \"\",\n        \"description\": \"\"\n      }\n    },\n    {\n      \"column\": \"exang\",\n      \"properties\": {\n        \"dtype\": \"number\",\n        \"std\": 0,\n        \"min\": 0,\n        \"max\": 1,\n        \"num_unique_values\": 2,\n        \"samples\": [\n          1,\n          0\n        ],\n        \"semantic_type\": \"\",\n        \"description\": \"\"\n      }\n    },\n    {\n      \"column\": \"oldpeak\",\n      \"properties\": {\n        \"dtype\": \"number\",\n        \"std\": 1.1610750220686348,\n        \"min\": 0.0,\n        \"max\": 6.2,\n        \"num_unique_values\": 40,\n        \"samples\": [\n          1.9,\n          3.0\n        ],\n        \"semantic_type\": \"\",\n        \"description\": \"\"\n      }\n    },\n    {\n      \"column\": \"slope\",\n      \"properties\": {\n        \"dtype\": \"number\",\n        \"std\": 0,\n        \"min\": 0,\n        \"max\": 2,\n        \"num_unique_values\": 3,\n        \"samples\": [\n          0,\n          2\n        ],\n        \"semantic_type\": \"\",\n        \"description\": \"\"\n      }\n    },\n    {\n      \"column\": \"ca\",\n      \"properties\": {\n        \"dtype\": \"number\",\n        \"std\": 1,\n        \"min\": 0,\n        \"max\": 4,\n        \"num_unique_values\": 5,\n        \"samples\": [\n          2,\n          4\n        ],\n        \"semantic_type\": \"\",\n        \"description\": \"\"\n      }\n    },\n    {\n      \"column\": \"thal\",\n      \"properties\": {\n        \"dtype\": \"number\",\n        \"std\": 0,\n        \"min\": 0,\n        \"max\": 3,\n        \"num_unique_values\": 4,\n        \"samples\": [\n          2,\n          0\n        ],\n        \"semantic_type\": \"\",\n        \"description\": \"\"\n      }\n    },\n    {\n      \"column\": \"target\",\n      \"properties\": {\n        \"dtype\": \"number\",\n        \"std\": 0,\n        \"min\": 0,\n        \"max\": 1,\n        \"num_unique_values\": 2,\n        \"samples\": [\n          0,\n          1\n        ],\n        \"semantic_type\": \"\",\n        \"description\": \"\"\n      }\n    }\n  ]\n}"
            }
          },
          "metadata": {},
          "execution_count": 101
        }
      ],
      "source": [
        "# Splitting the data into X & y\n",
        "heart_disease.head()"
      ]
    },
    {
      "cell_type": "code",
      "execution_count": 102,
      "metadata": {
        "id": "-N6ciDe8dAPU",
        "outputId": "cf2ef61d-f237-4bbd-e0b6-621e64627f4d",
        "colab": {
          "base_uri": "https://localhost:8080/",
          "height": 423
        }
      },
      "outputs": [
        {
          "output_type": "execute_result",
          "data": {
            "text/plain": [
              "     age  sex  cp  trestbps  chol  fbs  restecg  thalach  exang  oldpeak  \\\n",
              "0     63    1   3       145   233    1        0      150      0      2.3   \n",
              "1     37    1   2       130   250    0        1      187      0      3.5   \n",
              "2     41    0   1       130   204    0        0      172      0      1.4   \n",
              "3     56    1   1       120   236    0        1      178      0      0.8   \n",
              "4     57    0   0       120   354    0        1      163      1      0.6   \n",
              "..   ...  ...  ..       ...   ...  ...      ...      ...    ...      ...   \n",
              "298   57    0   0       140   241    0        1      123      1      0.2   \n",
              "299   45    1   3       110   264    0        1      132      0      1.2   \n",
              "300   68    1   0       144   193    1        1      141      0      3.4   \n",
              "301   57    1   0       130   131    0        1      115      1      1.2   \n",
              "302   57    0   1       130   236    0        0      174      0      0.0   \n",
              "\n",
              "     slope  ca  thal  \n",
              "0        0   0     1  \n",
              "1        0   0     2  \n",
              "2        2   0     2  \n",
              "3        2   0     2  \n",
              "4        2   0     2  \n",
              "..     ...  ..   ...  \n",
              "298      1   0     3  \n",
              "299      1   0     3  \n",
              "300      1   2     3  \n",
              "301      1   1     3  \n",
              "302      1   1     2  \n",
              "\n",
              "[303 rows x 13 columns]"
            ],
            "text/html": [
              "\n",
              "  <div id=\"df-98223cc0-1e84-4dbc-b80f-f508fd5e8e46\" class=\"colab-df-container\">\n",
              "    <div>\n",
              "<style scoped>\n",
              "    .dataframe tbody tr th:only-of-type {\n",
              "        vertical-align: middle;\n",
              "    }\n",
              "\n",
              "    .dataframe tbody tr th {\n",
              "        vertical-align: top;\n",
              "    }\n",
              "\n",
              "    .dataframe thead th {\n",
              "        text-align: right;\n",
              "    }\n",
              "</style>\n",
              "<table border=\"1\" class=\"dataframe\">\n",
              "  <thead>\n",
              "    <tr style=\"text-align: right;\">\n",
              "      <th></th>\n",
              "      <th>age</th>\n",
              "      <th>sex</th>\n",
              "      <th>cp</th>\n",
              "      <th>trestbps</th>\n",
              "      <th>chol</th>\n",
              "      <th>fbs</th>\n",
              "      <th>restecg</th>\n",
              "      <th>thalach</th>\n",
              "      <th>exang</th>\n",
              "      <th>oldpeak</th>\n",
              "      <th>slope</th>\n",
              "      <th>ca</th>\n",
              "      <th>thal</th>\n",
              "    </tr>\n",
              "  </thead>\n",
              "  <tbody>\n",
              "    <tr>\n",
              "      <th>0</th>\n",
              "      <td>63</td>\n",
              "      <td>1</td>\n",
              "      <td>3</td>\n",
              "      <td>145</td>\n",
              "      <td>233</td>\n",
              "      <td>1</td>\n",
              "      <td>0</td>\n",
              "      <td>150</td>\n",
              "      <td>0</td>\n",
              "      <td>2.3</td>\n",
              "      <td>0</td>\n",
              "      <td>0</td>\n",
              "      <td>1</td>\n",
              "    </tr>\n",
              "    <tr>\n",
              "      <th>1</th>\n",
              "      <td>37</td>\n",
              "      <td>1</td>\n",
              "      <td>2</td>\n",
              "      <td>130</td>\n",
              "      <td>250</td>\n",
              "      <td>0</td>\n",
              "      <td>1</td>\n",
              "      <td>187</td>\n",
              "      <td>0</td>\n",
              "      <td>3.5</td>\n",
              "      <td>0</td>\n",
              "      <td>0</td>\n",
              "      <td>2</td>\n",
              "    </tr>\n",
              "    <tr>\n",
              "      <th>2</th>\n",
              "      <td>41</td>\n",
              "      <td>0</td>\n",
              "      <td>1</td>\n",
              "      <td>130</td>\n",
              "      <td>204</td>\n",
              "      <td>0</td>\n",
              "      <td>0</td>\n",
              "      <td>172</td>\n",
              "      <td>0</td>\n",
              "      <td>1.4</td>\n",
              "      <td>2</td>\n",
              "      <td>0</td>\n",
              "      <td>2</td>\n",
              "    </tr>\n",
              "    <tr>\n",
              "      <th>3</th>\n",
              "      <td>56</td>\n",
              "      <td>1</td>\n",
              "      <td>1</td>\n",
              "      <td>120</td>\n",
              "      <td>236</td>\n",
              "      <td>0</td>\n",
              "      <td>1</td>\n",
              "      <td>178</td>\n",
              "      <td>0</td>\n",
              "      <td>0.8</td>\n",
              "      <td>2</td>\n",
              "      <td>0</td>\n",
              "      <td>2</td>\n",
              "    </tr>\n",
              "    <tr>\n",
              "      <th>4</th>\n",
              "      <td>57</td>\n",
              "      <td>0</td>\n",
              "      <td>0</td>\n",
              "      <td>120</td>\n",
              "      <td>354</td>\n",
              "      <td>0</td>\n",
              "      <td>1</td>\n",
              "      <td>163</td>\n",
              "      <td>1</td>\n",
              "      <td>0.6</td>\n",
              "      <td>2</td>\n",
              "      <td>0</td>\n",
              "      <td>2</td>\n",
              "    </tr>\n",
              "    <tr>\n",
              "      <th>...</th>\n",
              "      <td>...</td>\n",
              "      <td>...</td>\n",
              "      <td>...</td>\n",
              "      <td>...</td>\n",
              "      <td>...</td>\n",
              "      <td>...</td>\n",
              "      <td>...</td>\n",
              "      <td>...</td>\n",
              "      <td>...</td>\n",
              "      <td>...</td>\n",
              "      <td>...</td>\n",
              "      <td>...</td>\n",
              "      <td>...</td>\n",
              "    </tr>\n",
              "    <tr>\n",
              "      <th>298</th>\n",
              "      <td>57</td>\n",
              "      <td>0</td>\n",
              "      <td>0</td>\n",
              "      <td>140</td>\n",
              "      <td>241</td>\n",
              "      <td>0</td>\n",
              "      <td>1</td>\n",
              "      <td>123</td>\n",
              "      <td>1</td>\n",
              "      <td>0.2</td>\n",
              "      <td>1</td>\n",
              "      <td>0</td>\n",
              "      <td>3</td>\n",
              "    </tr>\n",
              "    <tr>\n",
              "      <th>299</th>\n",
              "      <td>45</td>\n",
              "      <td>1</td>\n",
              "      <td>3</td>\n",
              "      <td>110</td>\n",
              "      <td>264</td>\n",
              "      <td>0</td>\n",
              "      <td>1</td>\n",
              "      <td>132</td>\n",
              "      <td>0</td>\n",
              "      <td>1.2</td>\n",
              "      <td>1</td>\n",
              "      <td>0</td>\n",
              "      <td>3</td>\n",
              "    </tr>\n",
              "    <tr>\n",
              "      <th>300</th>\n",
              "      <td>68</td>\n",
              "      <td>1</td>\n",
              "      <td>0</td>\n",
              "      <td>144</td>\n",
              "      <td>193</td>\n",
              "      <td>1</td>\n",
              "      <td>1</td>\n",
              "      <td>141</td>\n",
              "      <td>0</td>\n",
              "      <td>3.4</td>\n",
              "      <td>1</td>\n",
              "      <td>2</td>\n",
              "      <td>3</td>\n",
              "    </tr>\n",
              "    <tr>\n",
              "      <th>301</th>\n",
              "      <td>57</td>\n",
              "      <td>1</td>\n",
              "      <td>0</td>\n",
              "      <td>130</td>\n",
              "      <td>131</td>\n",
              "      <td>0</td>\n",
              "      <td>1</td>\n",
              "      <td>115</td>\n",
              "      <td>1</td>\n",
              "      <td>1.2</td>\n",
              "      <td>1</td>\n",
              "      <td>1</td>\n",
              "      <td>3</td>\n",
              "    </tr>\n",
              "    <tr>\n",
              "      <th>302</th>\n",
              "      <td>57</td>\n",
              "      <td>0</td>\n",
              "      <td>1</td>\n",
              "      <td>130</td>\n",
              "      <td>236</td>\n",
              "      <td>0</td>\n",
              "      <td>0</td>\n",
              "      <td>174</td>\n",
              "      <td>0</td>\n",
              "      <td>0.0</td>\n",
              "      <td>1</td>\n",
              "      <td>1</td>\n",
              "      <td>2</td>\n",
              "    </tr>\n",
              "  </tbody>\n",
              "</table>\n",
              "<p>303 rows × 13 columns</p>\n",
              "</div>\n",
              "    <div class=\"colab-df-buttons\">\n",
              "\n",
              "  <div class=\"colab-df-container\">\n",
              "    <button class=\"colab-df-convert\" onclick=\"convertToInteractive('df-98223cc0-1e84-4dbc-b80f-f508fd5e8e46')\"\n",
              "            title=\"Convert this dataframe to an interactive table.\"\n",
              "            style=\"display:none;\">\n",
              "\n",
              "  <svg xmlns=\"http://www.w3.org/2000/svg\" height=\"24px\" viewBox=\"0 -960 960 960\">\n",
              "    <path d=\"M120-120v-720h720v720H120Zm60-500h600v-160H180v160Zm220 220h160v-160H400v160Zm0 220h160v-160H400v160ZM180-400h160v-160H180v160Zm440 0h160v-160H620v160ZM180-180h160v-160H180v160Zm440 0h160v-160H620v160Z\"/>\n",
              "  </svg>\n",
              "    </button>\n",
              "\n",
              "  <style>\n",
              "    .colab-df-container {\n",
              "      display:flex;\n",
              "      gap: 12px;\n",
              "    }\n",
              "\n",
              "    .colab-df-convert {\n",
              "      background-color: #E8F0FE;\n",
              "      border: none;\n",
              "      border-radius: 50%;\n",
              "      cursor: pointer;\n",
              "      display: none;\n",
              "      fill: #1967D2;\n",
              "      height: 32px;\n",
              "      padding: 0 0 0 0;\n",
              "      width: 32px;\n",
              "    }\n",
              "\n",
              "    .colab-df-convert:hover {\n",
              "      background-color: #E2EBFA;\n",
              "      box-shadow: 0px 1px 2px rgba(60, 64, 67, 0.3), 0px 1px 3px 1px rgba(60, 64, 67, 0.15);\n",
              "      fill: #174EA6;\n",
              "    }\n",
              "\n",
              "    .colab-df-buttons div {\n",
              "      margin-bottom: 4px;\n",
              "    }\n",
              "\n",
              "    [theme=dark] .colab-df-convert {\n",
              "      background-color: #3B4455;\n",
              "      fill: #D2E3FC;\n",
              "    }\n",
              "\n",
              "    [theme=dark] .colab-df-convert:hover {\n",
              "      background-color: #434B5C;\n",
              "      box-shadow: 0px 1px 3px 1px rgba(0, 0, 0, 0.15);\n",
              "      filter: drop-shadow(0px 1px 2px rgba(0, 0, 0, 0.3));\n",
              "      fill: #FFFFFF;\n",
              "    }\n",
              "  </style>\n",
              "\n",
              "    <script>\n",
              "      const buttonEl =\n",
              "        document.querySelector('#df-98223cc0-1e84-4dbc-b80f-f508fd5e8e46 button.colab-df-convert');\n",
              "      buttonEl.style.display =\n",
              "        google.colab.kernel.accessAllowed ? 'block' : 'none';\n",
              "\n",
              "      async function convertToInteractive(key) {\n",
              "        const element = document.querySelector('#df-98223cc0-1e84-4dbc-b80f-f508fd5e8e46');\n",
              "        const dataTable =\n",
              "          await google.colab.kernel.invokeFunction('convertToInteractive',\n",
              "                                                    [key], {});\n",
              "        if (!dataTable) return;\n",
              "\n",
              "        const docLinkHtml = 'Like what you see? Visit the ' +\n",
              "          '<a target=\"_blank\" href=https://colab.research.google.com/notebooks/data_table.ipynb>data table notebook</a>'\n",
              "          + ' to learn more about interactive tables.';\n",
              "        element.innerHTML = '';\n",
              "        dataTable['output_type'] = 'display_data';\n",
              "        await google.colab.output.renderOutput(dataTable, element);\n",
              "        const docLink = document.createElement('div');\n",
              "        docLink.innerHTML = docLinkHtml;\n",
              "        element.appendChild(docLink);\n",
              "      }\n",
              "    </script>\n",
              "  </div>\n",
              "\n",
              "\n",
              "<div id=\"df-84fd894c-eeee-4296-abef-8e3f76cffaff\">\n",
              "  <button class=\"colab-df-quickchart\" onclick=\"quickchart('df-84fd894c-eeee-4296-abef-8e3f76cffaff')\"\n",
              "            title=\"Suggest charts\"\n",
              "            style=\"display:none;\">\n",
              "\n",
              "<svg xmlns=\"http://www.w3.org/2000/svg\" height=\"24px\"viewBox=\"0 0 24 24\"\n",
              "     width=\"24px\">\n",
              "    <g>\n",
              "        <path d=\"M19 3H5c-1.1 0-2 .9-2 2v14c0 1.1.9 2 2 2h14c1.1 0 2-.9 2-2V5c0-1.1-.9-2-2-2zM9 17H7v-7h2v7zm4 0h-2V7h2v10zm4 0h-2v-4h2v4z\"/>\n",
              "    </g>\n",
              "</svg>\n",
              "  </button>\n",
              "\n",
              "<style>\n",
              "  .colab-df-quickchart {\n",
              "      --bg-color: #E8F0FE;\n",
              "      --fill-color: #1967D2;\n",
              "      --hover-bg-color: #E2EBFA;\n",
              "      --hover-fill-color: #174EA6;\n",
              "      --disabled-fill-color: #AAA;\n",
              "      --disabled-bg-color: #DDD;\n",
              "  }\n",
              "\n",
              "  [theme=dark] .colab-df-quickchart {\n",
              "      --bg-color: #3B4455;\n",
              "      --fill-color: #D2E3FC;\n",
              "      --hover-bg-color: #434B5C;\n",
              "      --hover-fill-color: #FFFFFF;\n",
              "      --disabled-bg-color: #3B4455;\n",
              "      --disabled-fill-color: #666;\n",
              "  }\n",
              "\n",
              "  .colab-df-quickchart {\n",
              "    background-color: var(--bg-color);\n",
              "    border: none;\n",
              "    border-radius: 50%;\n",
              "    cursor: pointer;\n",
              "    display: none;\n",
              "    fill: var(--fill-color);\n",
              "    height: 32px;\n",
              "    padding: 0;\n",
              "    width: 32px;\n",
              "  }\n",
              "\n",
              "  .colab-df-quickchart:hover {\n",
              "    background-color: var(--hover-bg-color);\n",
              "    box-shadow: 0 1px 2px rgba(60, 64, 67, 0.3), 0 1px 3px 1px rgba(60, 64, 67, 0.15);\n",
              "    fill: var(--button-hover-fill-color);\n",
              "  }\n",
              "\n",
              "  .colab-df-quickchart-complete:disabled,\n",
              "  .colab-df-quickchart-complete:disabled:hover {\n",
              "    background-color: var(--disabled-bg-color);\n",
              "    fill: var(--disabled-fill-color);\n",
              "    box-shadow: none;\n",
              "  }\n",
              "\n",
              "  .colab-df-spinner {\n",
              "    border: 2px solid var(--fill-color);\n",
              "    border-color: transparent;\n",
              "    border-bottom-color: var(--fill-color);\n",
              "    animation:\n",
              "      spin 1s steps(1) infinite;\n",
              "  }\n",
              "\n",
              "  @keyframes spin {\n",
              "    0% {\n",
              "      border-color: transparent;\n",
              "      border-bottom-color: var(--fill-color);\n",
              "      border-left-color: var(--fill-color);\n",
              "    }\n",
              "    20% {\n",
              "      border-color: transparent;\n",
              "      border-left-color: var(--fill-color);\n",
              "      border-top-color: var(--fill-color);\n",
              "    }\n",
              "    30% {\n",
              "      border-color: transparent;\n",
              "      border-left-color: var(--fill-color);\n",
              "      border-top-color: var(--fill-color);\n",
              "      border-right-color: var(--fill-color);\n",
              "    }\n",
              "    40% {\n",
              "      border-color: transparent;\n",
              "      border-right-color: var(--fill-color);\n",
              "      border-top-color: var(--fill-color);\n",
              "    }\n",
              "    60% {\n",
              "      border-color: transparent;\n",
              "      border-right-color: var(--fill-color);\n",
              "    }\n",
              "    80% {\n",
              "      border-color: transparent;\n",
              "      border-right-color: var(--fill-color);\n",
              "      border-bottom-color: var(--fill-color);\n",
              "    }\n",
              "    90% {\n",
              "      border-color: transparent;\n",
              "      border-bottom-color: var(--fill-color);\n",
              "    }\n",
              "  }\n",
              "</style>\n",
              "\n",
              "  <script>\n",
              "    async function quickchart(key) {\n",
              "      const quickchartButtonEl =\n",
              "        document.querySelector('#' + key + ' button');\n",
              "      quickchartButtonEl.disabled = true;  // To prevent multiple clicks.\n",
              "      quickchartButtonEl.classList.add('colab-df-spinner');\n",
              "      try {\n",
              "        const charts = await google.colab.kernel.invokeFunction(\n",
              "            'suggestCharts', [key], {});\n",
              "      } catch (error) {\n",
              "        console.error('Error during call to suggestCharts:', error);\n",
              "      }\n",
              "      quickchartButtonEl.classList.remove('colab-df-spinner');\n",
              "      quickchartButtonEl.classList.add('colab-df-quickchart-complete');\n",
              "    }\n",
              "    (() => {\n",
              "      let quickchartButtonEl =\n",
              "        document.querySelector('#df-84fd894c-eeee-4296-abef-8e3f76cffaff button');\n",
              "      quickchartButtonEl.style.display =\n",
              "        google.colab.kernel.accessAllowed ? 'block' : 'none';\n",
              "    })();\n",
              "  </script>\n",
              "</div>\n",
              "\n",
              "  <div id=\"id_c0bfee09-a51c-48d9-b60e-670083ba598d\">\n",
              "    <style>\n",
              "      .colab-df-generate {\n",
              "        background-color: #E8F0FE;\n",
              "        border: none;\n",
              "        border-radius: 50%;\n",
              "        cursor: pointer;\n",
              "        display: none;\n",
              "        fill: #1967D2;\n",
              "        height: 32px;\n",
              "        padding: 0 0 0 0;\n",
              "        width: 32px;\n",
              "      }\n",
              "\n",
              "      .colab-df-generate:hover {\n",
              "        background-color: #E2EBFA;\n",
              "        box-shadow: 0px 1px 2px rgba(60, 64, 67, 0.3), 0px 1px 3px 1px rgba(60, 64, 67, 0.15);\n",
              "        fill: #174EA6;\n",
              "      }\n",
              "\n",
              "      [theme=dark] .colab-df-generate {\n",
              "        background-color: #3B4455;\n",
              "        fill: #D2E3FC;\n",
              "      }\n",
              "\n",
              "      [theme=dark] .colab-df-generate:hover {\n",
              "        background-color: #434B5C;\n",
              "        box-shadow: 0px 1px 3px 1px rgba(0, 0, 0, 0.15);\n",
              "        filter: drop-shadow(0px 1px 2px rgba(0, 0, 0, 0.3));\n",
              "        fill: #FFFFFF;\n",
              "      }\n",
              "    </style>\n",
              "    <button class=\"colab-df-generate\" onclick=\"generateWithVariable('X')\"\n",
              "            title=\"Generate code using this dataframe.\"\n",
              "            style=\"display:none;\">\n",
              "\n",
              "  <svg xmlns=\"http://www.w3.org/2000/svg\" height=\"24px\"viewBox=\"0 0 24 24\"\n",
              "       width=\"24px\">\n",
              "    <path d=\"M7,19H8.4L18.45,9,17,7.55,7,17.6ZM5,21V16.75L18.45,3.32a2,2,0,0,1,2.83,0l1.4,1.43a1.91,1.91,0,0,1,.58,1.4,1.91,1.91,0,0,1-.58,1.4L9.25,21ZM18.45,9,17,7.55Zm-12,3A5.31,5.31,0,0,0,4.9,8.1,5.31,5.31,0,0,0,1,6.5,5.31,5.31,0,0,0,4.9,4.9,5.31,5.31,0,0,0,6.5,1,5.31,5.31,0,0,0,8.1,4.9,5.31,5.31,0,0,0,12,6.5,5.46,5.46,0,0,0,6.5,12Z\"/>\n",
              "  </svg>\n",
              "    </button>\n",
              "    <script>\n",
              "      (() => {\n",
              "      const buttonEl =\n",
              "        document.querySelector('#id_c0bfee09-a51c-48d9-b60e-670083ba598d button.colab-df-generate');\n",
              "      buttonEl.style.display =\n",
              "        google.colab.kernel.accessAllowed ? 'block' : 'none';\n",
              "\n",
              "      buttonEl.onclick = () => {\n",
              "        google.colab.notebook.generateWithVariable('X');\n",
              "      }\n",
              "      })();\n",
              "    </script>\n",
              "  </div>\n",
              "\n",
              "    </div>\n",
              "  </div>\n"
            ],
            "application/vnd.google.colaboratory.intrinsic+json": {
              "type": "dataframe",
              "variable_name": "X",
              "summary": "{\n  \"name\": \"X\",\n  \"rows\": 303,\n  \"fields\": [\n    {\n      \"column\": \"age\",\n      \"properties\": {\n        \"dtype\": \"number\",\n        \"std\": 9,\n        \"min\": 29,\n        \"max\": 77,\n        \"num_unique_values\": 41,\n        \"samples\": [\n          46,\n          66,\n          48\n        ],\n        \"semantic_type\": \"\",\n        \"description\": \"\"\n      }\n    },\n    {\n      \"column\": \"sex\",\n      \"properties\": {\n        \"dtype\": \"number\",\n        \"std\": 0,\n        \"min\": 0,\n        \"max\": 1,\n        \"num_unique_values\": 2,\n        \"samples\": [\n          0,\n          1\n        ],\n        \"semantic_type\": \"\",\n        \"description\": \"\"\n      }\n    },\n    {\n      \"column\": \"cp\",\n      \"properties\": {\n        \"dtype\": \"number\",\n        \"std\": 1,\n        \"min\": 0,\n        \"max\": 3,\n        \"num_unique_values\": 4,\n        \"samples\": [\n          2,\n          0\n        ],\n        \"semantic_type\": \"\",\n        \"description\": \"\"\n      }\n    },\n    {\n      \"column\": \"trestbps\",\n      \"properties\": {\n        \"dtype\": \"number\",\n        \"std\": 17,\n        \"min\": 94,\n        \"max\": 200,\n        \"num_unique_values\": 49,\n        \"samples\": [\n          104,\n          123\n        ],\n        \"semantic_type\": \"\",\n        \"description\": \"\"\n      }\n    },\n    {\n      \"column\": \"chol\",\n      \"properties\": {\n        \"dtype\": \"number\",\n        \"std\": 51,\n        \"min\": 126,\n        \"max\": 564,\n        \"num_unique_values\": 152,\n        \"samples\": [\n          277,\n          169\n        ],\n        \"semantic_type\": \"\",\n        \"description\": \"\"\n      }\n    },\n    {\n      \"column\": \"fbs\",\n      \"properties\": {\n        \"dtype\": \"number\",\n        \"std\": 0,\n        \"min\": 0,\n        \"max\": 1,\n        \"num_unique_values\": 2,\n        \"samples\": [\n          0,\n          1\n        ],\n        \"semantic_type\": \"\",\n        \"description\": \"\"\n      }\n    },\n    {\n      \"column\": \"restecg\",\n      \"properties\": {\n        \"dtype\": \"number\",\n        \"std\": 0,\n        \"min\": 0,\n        \"max\": 2,\n        \"num_unique_values\": 3,\n        \"samples\": [\n          0,\n          1\n        ],\n        \"semantic_type\": \"\",\n        \"description\": \"\"\n      }\n    },\n    {\n      \"column\": \"thalach\",\n      \"properties\": {\n        \"dtype\": \"number\",\n        \"std\": 22,\n        \"min\": 71,\n        \"max\": 202,\n        \"num_unique_values\": 91,\n        \"samples\": [\n          159,\n          152\n        ],\n        \"semantic_type\": \"\",\n        \"description\": \"\"\n      }\n    },\n    {\n      \"column\": \"exang\",\n      \"properties\": {\n        \"dtype\": \"number\",\n        \"std\": 0,\n        \"min\": 0,\n        \"max\": 1,\n        \"num_unique_values\": 2,\n        \"samples\": [\n          1,\n          0\n        ],\n        \"semantic_type\": \"\",\n        \"description\": \"\"\n      }\n    },\n    {\n      \"column\": \"oldpeak\",\n      \"properties\": {\n        \"dtype\": \"number\",\n        \"std\": 1.1610750220686348,\n        \"min\": 0.0,\n        \"max\": 6.2,\n        \"num_unique_values\": 40,\n        \"samples\": [\n          1.9,\n          3.0\n        ],\n        \"semantic_type\": \"\",\n        \"description\": \"\"\n      }\n    },\n    {\n      \"column\": \"slope\",\n      \"properties\": {\n        \"dtype\": \"number\",\n        \"std\": 0,\n        \"min\": 0,\n        \"max\": 2,\n        \"num_unique_values\": 3,\n        \"samples\": [\n          0,\n          2\n        ],\n        \"semantic_type\": \"\",\n        \"description\": \"\"\n      }\n    },\n    {\n      \"column\": \"ca\",\n      \"properties\": {\n        \"dtype\": \"number\",\n        \"std\": 1,\n        \"min\": 0,\n        \"max\": 4,\n        \"num_unique_values\": 5,\n        \"samples\": [\n          2,\n          4\n        ],\n        \"semantic_type\": \"\",\n        \"description\": \"\"\n      }\n    },\n    {\n      \"column\": \"thal\",\n      \"properties\": {\n        \"dtype\": \"number\",\n        \"std\": 0,\n        \"min\": 0,\n        \"max\": 3,\n        \"num_unique_values\": 4,\n        \"samples\": [\n          2,\n          0\n        ],\n        \"semantic_type\": \"\",\n        \"description\": \"\"\n      }\n    }\n  ]\n}"
            }
          },
          "metadata": {},
          "execution_count": 102
        }
      ],
      "source": [
        "X = heart_disease.drop('target', axis=1)\n",
        "X"
      ]
    },
    {
      "cell_type": "code",
      "execution_count": 103,
      "metadata": {
        "id": "i2ugc5dUdAPZ",
        "outputId": "5a662342-9a50-4fe7-88e3-fb5e03da417d",
        "colab": {
          "base_uri": "https://localhost:8080/",
          "height": 458
        }
      },
      "outputs": [
        {
          "output_type": "execute_result",
          "data": {
            "text/plain": [
              "0      1\n",
              "1      1\n",
              "2      1\n",
              "3      1\n",
              "4      1\n",
              "      ..\n",
              "298    0\n",
              "299    0\n",
              "300    0\n",
              "301    0\n",
              "302    0\n",
              "Name: target, Length: 303, dtype: int64"
            ],
            "text/html": [
              "<div>\n",
              "<style scoped>\n",
              "    .dataframe tbody tr th:only-of-type {\n",
              "        vertical-align: middle;\n",
              "    }\n",
              "\n",
              "    .dataframe tbody tr th {\n",
              "        vertical-align: top;\n",
              "    }\n",
              "\n",
              "    .dataframe thead th {\n",
              "        text-align: right;\n",
              "    }\n",
              "</style>\n",
              "<table border=\"1\" class=\"dataframe\">\n",
              "  <thead>\n",
              "    <tr style=\"text-align: right;\">\n",
              "      <th></th>\n",
              "      <th>target</th>\n",
              "    </tr>\n",
              "  </thead>\n",
              "  <tbody>\n",
              "    <tr>\n",
              "      <th>0</th>\n",
              "      <td>1</td>\n",
              "    </tr>\n",
              "    <tr>\n",
              "      <th>1</th>\n",
              "      <td>1</td>\n",
              "    </tr>\n",
              "    <tr>\n",
              "      <th>2</th>\n",
              "      <td>1</td>\n",
              "    </tr>\n",
              "    <tr>\n",
              "      <th>3</th>\n",
              "      <td>1</td>\n",
              "    </tr>\n",
              "    <tr>\n",
              "      <th>4</th>\n",
              "      <td>1</td>\n",
              "    </tr>\n",
              "    <tr>\n",
              "      <th>...</th>\n",
              "      <td>...</td>\n",
              "    </tr>\n",
              "    <tr>\n",
              "      <th>298</th>\n",
              "      <td>0</td>\n",
              "    </tr>\n",
              "    <tr>\n",
              "      <th>299</th>\n",
              "      <td>0</td>\n",
              "    </tr>\n",
              "    <tr>\n",
              "      <th>300</th>\n",
              "      <td>0</td>\n",
              "    </tr>\n",
              "    <tr>\n",
              "      <th>301</th>\n",
              "      <td>0</td>\n",
              "    </tr>\n",
              "    <tr>\n",
              "      <th>302</th>\n",
              "      <td>0</td>\n",
              "    </tr>\n",
              "  </tbody>\n",
              "</table>\n",
              "<p>303 rows × 1 columns</p>\n",
              "</div><br><label><b>dtype:</b> int64</label>"
            ]
          },
          "metadata": {},
          "execution_count": 103
        }
      ],
      "source": [
        "y = heart_disease['target']\n",
        "y"
      ]
    },
    {
      "cell_type": "code",
      "execution_count": 104,
      "metadata": {
        "id": "sTa6gFqtdAPZ",
        "outputId": "25ba1fb3-b582-438d-e4e8-5a41a6b04fef",
        "colab": {
          "base_uri": "https://localhost:8080/"
        }
      },
      "outputs": [
        {
          "output_type": "execute_result",
          "data": {
            "text/plain": [
              "((242, 13), (61, 13), (242,), (61,))"
            ]
          },
          "metadata": {},
          "execution_count": 104
        }
      ],
      "source": [
        "# Splitting the data into training and test sets\n",
        "from sklearn.model_selection import train_test_split\n",
        "X_train, X_test, y_train, y_test = train_test_split(X,\n",
        "                                                    y,\n",
        "                                                    test_size=0.2) # you can change the test size\n",
        "\n",
        "X_train.shape, X_test.shape, y_train.shape, y_test.shape"
      ]
    },
    {
      "cell_type": "code",
      "execution_count": 105,
      "metadata": {
        "id": "JXWw4dhUdAPZ",
        "outputId": "41e15c3d-18b9-48a3-b5f8-4d4b5c7854cb",
        "colab": {
          "base_uri": "https://localhost:8080/"
        }
      },
      "outputs": [
        {
          "output_type": "execute_result",
          "data": {
            "text/plain": [
              "242.4"
            ]
          },
          "metadata": {},
          "execution_count": 105
        }
      ],
      "source": [
        "# 80% of data is being used for the test set\n",
        "X.shape[0] * 0.8"
      ]
    },
    {
      "cell_type": "markdown",
      "metadata": {
        "id": "DTLN5PfwdAPa"
      },
      "source": [
        "### 1.1 Make sure it's all numerical\n",
        "We want to turn the `\"Make\"` and `\"Colour\"` columns into numbers.\n"
      ]
    },
    {
      "cell_type": "code",
      "source": [
        "from sklearn.model_selection import train_test_split\n",
        "from sklearn.preprocessing import OneHotEncoder\n",
        "from sklearn.compose import ColumnTransformer\n",
        "from sklearn.ensemble import RandomForestRegressor\n",
        "import pandas as pd"
      ],
      "metadata": {
        "id": "HgkCABJ3ttNZ"
      },
      "execution_count": 106,
      "outputs": []
    },
    {
      "cell_type": "code",
      "execution_count": 107,
      "metadata": {
        "id": "mOTlO1K4dAPa",
        "outputId": "245d2bb5-696c-4e8f-dbbf-bcea9060fe7c",
        "colab": {
          "base_uri": "https://localhost:8080/",
          "height": 423
        }
      },
      "outputs": [
        {
          "output_type": "execute_result",
          "data": {
            "text/plain": [
              "       Make Colour  Odometer (KM)  Doors  Price\n",
              "0     Honda  White          35431      4  15323\n",
              "1       BMW   Blue         192714      5  19943\n",
              "2     Honda  White          84714      4  28343\n",
              "3    Toyota  White         154365      4  13434\n",
              "4    Nissan   Blue         181577      3  14043\n",
              "..      ...    ...            ...    ...    ...\n",
              "995  Toyota  Black          35820      4  32042\n",
              "996  Nissan  White         155144      3   5716\n",
              "997  Nissan   Blue          66604      4  31570\n",
              "998   Honda  White         215883      4   4001\n",
              "999  Toyota   Blue         248360      4  12732\n",
              "\n",
              "[1000 rows x 5 columns]"
            ],
            "text/html": [
              "\n",
              "  <div id=\"df-bb190874-ecd9-42d3-ab42-36969d9ad9ca\" class=\"colab-df-container\">\n",
              "    <div>\n",
              "<style scoped>\n",
              "    .dataframe tbody tr th:only-of-type {\n",
              "        vertical-align: middle;\n",
              "    }\n",
              "\n",
              "    .dataframe tbody tr th {\n",
              "        vertical-align: top;\n",
              "    }\n",
              "\n",
              "    .dataframe thead th {\n",
              "        text-align: right;\n",
              "    }\n",
              "</style>\n",
              "<table border=\"1\" class=\"dataframe\">\n",
              "  <thead>\n",
              "    <tr style=\"text-align: right;\">\n",
              "      <th></th>\n",
              "      <th>Make</th>\n",
              "      <th>Colour</th>\n",
              "      <th>Odometer (KM)</th>\n",
              "      <th>Doors</th>\n",
              "      <th>Price</th>\n",
              "    </tr>\n",
              "  </thead>\n",
              "  <tbody>\n",
              "    <tr>\n",
              "      <th>0</th>\n",
              "      <td>Honda</td>\n",
              "      <td>White</td>\n",
              "      <td>35431</td>\n",
              "      <td>4</td>\n",
              "      <td>15323</td>\n",
              "    </tr>\n",
              "    <tr>\n",
              "      <th>1</th>\n",
              "      <td>BMW</td>\n",
              "      <td>Blue</td>\n",
              "      <td>192714</td>\n",
              "      <td>5</td>\n",
              "      <td>19943</td>\n",
              "    </tr>\n",
              "    <tr>\n",
              "      <th>2</th>\n",
              "      <td>Honda</td>\n",
              "      <td>White</td>\n",
              "      <td>84714</td>\n",
              "      <td>4</td>\n",
              "      <td>28343</td>\n",
              "    </tr>\n",
              "    <tr>\n",
              "      <th>3</th>\n",
              "      <td>Toyota</td>\n",
              "      <td>White</td>\n",
              "      <td>154365</td>\n",
              "      <td>4</td>\n",
              "      <td>13434</td>\n",
              "    </tr>\n",
              "    <tr>\n",
              "      <th>4</th>\n",
              "      <td>Nissan</td>\n",
              "      <td>Blue</td>\n",
              "      <td>181577</td>\n",
              "      <td>3</td>\n",
              "      <td>14043</td>\n",
              "    </tr>\n",
              "    <tr>\n",
              "      <th>...</th>\n",
              "      <td>...</td>\n",
              "      <td>...</td>\n",
              "      <td>...</td>\n",
              "      <td>...</td>\n",
              "      <td>...</td>\n",
              "    </tr>\n",
              "    <tr>\n",
              "      <th>995</th>\n",
              "      <td>Toyota</td>\n",
              "      <td>Black</td>\n",
              "      <td>35820</td>\n",
              "      <td>4</td>\n",
              "      <td>32042</td>\n",
              "    </tr>\n",
              "    <tr>\n",
              "      <th>996</th>\n",
              "      <td>Nissan</td>\n",
              "      <td>White</td>\n",
              "      <td>155144</td>\n",
              "      <td>3</td>\n",
              "      <td>5716</td>\n",
              "    </tr>\n",
              "    <tr>\n",
              "      <th>997</th>\n",
              "      <td>Nissan</td>\n",
              "      <td>Blue</td>\n",
              "      <td>66604</td>\n",
              "      <td>4</td>\n",
              "      <td>31570</td>\n",
              "    </tr>\n",
              "    <tr>\n",
              "      <th>998</th>\n",
              "      <td>Honda</td>\n",
              "      <td>White</td>\n",
              "      <td>215883</td>\n",
              "      <td>4</td>\n",
              "      <td>4001</td>\n",
              "    </tr>\n",
              "    <tr>\n",
              "      <th>999</th>\n",
              "      <td>Toyota</td>\n",
              "      <td>Blue</td>\n",
              "      <td>248360</td>\n",
              "      <td>4</td>\n",
              "      <td>12732</td>\n",
              "    </tr>\n",
              "  </tbody>\n",
              "</table>\n",
              "<p>1000 rows × 5 columns</p>\n",
              "</div>\n",
              "    <div class=\"colab-df-buttons\">\n",
              "\n",
              "  <div class=\"colab-df-container\">\n",
              "    <button class=\"colab-df-convert\" onclick=\"convertToInteractive('df-bb190874-ecd9-42d3-ab42-36969d9ad9ca')\"\n",
              "            title=\"Convert this dataframe to an interactive table.\"\n",
              "            style=\"display:none;\">\n",
              "\n",
              "  <svg xmlns=\"http://www.w3.org/2000/svg\" height=\"24px\" viewBox=\"0 -960 960 960\">\n",
              "    <path d=\"M120-120v-720h720v720H120Zm60-500h600v-160H180v160Zm220 220h160v-160H400v160Zm0 220h160v-160H400v160ZM180-400h160v-160H180v160Zm440 0h160v-160H620v160ZM180-180h160v-160H180v160Zm440 0h160v-160H620v160Z\"/>\n",
              "  </svg>\n",
              "    </button>\n",
              "\n",
              "  <style>\n",
              "    .colab-df-container {\n",
              "      display:flex;\n",
              "      gap: 12px;\n",
              "    }\n",
              "\n",
              "    .colab-df-convert {\n",
              "      background-color: #E8F0FE;\n",
              "      border: none;\n",
              "      border-radius: 50%;\n",
              "      cursor: pointer;\n",
              "      display: none;\n",
              "      fill: #1967D2;\n",
              "      height: 32px;\n",
              "      padding: 0 0 0 0;\n",
              "      width: 32px;\n",
              "    }\n",
              "\n",
              "    .colab-df-convert:hover {\n",
              "      background-color: #E2EBFA;\n",
              "      box-shadow: 0px 1px 2px rgba(60, 64, 67, 0.3), 0px 1px 3px 1px rgba(60, 64, 67, 0.15);\n",
              "      fill: #174EA6;\n",
              "    }\n",
              "\n",
              "    .colab-df-buttons div {\n",
              "      margin-bottom: 4px;\n",
              "    }\n",
              "\n",
              "    [theme=dark] .colab-df-convert {\n",
              "      background-color: #3B4455;\n",
              "      fill: #D2E3FC;\n",
              "    }\n",
              "\n",
              "    [theme=dark] .colab-df-convert:hover {\n",
              "      background-color: #434B5C;\n",
              "      box-shadow: 0px 1px 3px 1px rgba(0, 0, 0, 0.15);\n",
              "      filter: drop-shadow(0px 1px 2px rgba(0, 0, 0, 0.3));\n",
              "      fill: #FFFFFF;\n",
              "    }\n",
              "  </style>\n",
              "\n",
              "    <script>\n",
              "      const buttonEl =\n",
              "        document.querySelector('#df-bb190874-ecd9-42d3-ab42-36969d9ad9ca button.colab-df-convert');\n",
              "      buttonEl.style.display =\n",
              "        google.colab.kernel.accessAllowed ? 'block' : 'none';\n",
              "\n",
              "      async function convertToInteractive(key) {\n",
              "        const element = document.querySelector('#df-bb190874-ecd9-42d3-ab42-36969d9ad9ca');\n",
              "        const dataTable =\n",
              "          await google.colab.kernel.invokeFunction('convertToInteractive',\n",
              "                                                    [key], {});\n",
              "        if (!dataTable) return;\n",
              "\n",
              "        const docLinkHtml = 'Like what you see? Visit the ' +\n",
              "          '<a target=\"_blank\" href=https://colab.research.google.com/notebooks/data_table.ipynb>data table notebook</a>'\n",
              "          + ' to learn more about interactive tables.';\n",
              "        element.innerHTML = '';\n",
              "        dataTable['output_type'] = 'display_data';\n",
              "        await google.colab.output.renderOutput(dataTable, element);\n",
              "        const docLink = document.createElement('div');\n",
              "        docLink.innerHTML = docLinkHtml;\n",
              "        element.appendChild(docLink);\n",
              "      }\n",
              "    </script>\n",
              "  </div>\n",
              "\n",
              "\n",
              "<div id=\"df-f1d240c1-a60b-4173-8c78-e5259c624e3e\">\n",
              "  <button class=\"colab-df-quickchart\" onclick=\"quickchart('df-f1d240c1-a60b-4173-8c78-e5259c624e3e')\"\n",
              "            title=\"Suggest charts\"\n",
              "            style=\"display:none;\">\n",
              "\n",
              "<svg xmlns=\"http://www.w3.org/2000/svg\" height=\"24px\"viewBox=\"0 0 24 24\"\n",
              "     width=\"24px\">\n",
              "    <g>\n",
              "        <path d=\"M19 3H5c-1.1 0-2 .9-2 2v14c0 1.1.9 2 2 2h14c1.1 0 2-.9 2-2V5c0-1.1-.9-2-2-2zM9 17H7v-7h2v7zm4 0h-2V7h2v10zm4 0h-2v-4h2v4z\"/>\n",
              "    </g>\n",
              "</svg>\n",
              "  </button>\n",
              "\n",
              "<style>\n",
              "  .colab-df-quickchart {\n",
              "      --bg-color: #E8F0FE;\n",
              "      --fill-color: #1967D2;\n",
              "      --hover-bg-color: #E2EBFA;\n",
              "      --hover-fill-color: #174EA6;\n",
              "      --disabled-fill-color: #AAA;\n",
              "      --disabled-bg-color: #DDD;\n",
              "  }\n",
              "\n",
              "  [theme=dark] .colab-df-quickchart {\n",
              "      --bg-color: #3B4455;\n",
              "      --fill-color: #D2E3FC;\n",
              "      --hover-bg-color: #434B5C;\n",
              "      --hover-fill-color: #FFFFFF;\n",
              "      --disabled-bg-color: #3B4455;\n",
              "      --disabled-fill-color: #666;\n",
              "  }\n",
              "\n",
              "  .colab-df-quickchart {\n",
              "    background-color: var(--bg-color);\n",
              "    border: none;\n",
              "    border-radius: 50%;\n",
              "    cursor: pointer;\n",
              "    display: none;\n",
              "    fill: var(--fill-color);\n",
              "    height: 32px;\n",
              "    padding: 0;\n",
              "    width: 32px;\n",
              "  }\n",
              "\n",
              "  .colab-df-quickchart:hover {\n",
              "    background-color: var(--hover-bg-color);\n",
              "    box-shadow: 0 1px 2px rgba(60, 64, 67, 0.3), 0 1px 3px 1px rgba(60, 64, 67, 0.15);\n",
              "    fill: var(--button-hover-fill-color);\n",
              "  }\n",
              "\n",
              "  .colab-df-quickchart-complete:disabled,\n",
              "  .colab-df-quickchart-complete:disabled:hover {\n",
              "    background-color: var(--disabled-bg-color);\n",
              "    fill: var(--disabled-fill-color);\n",
              "    box-shadow: none;\n",
              "  }\n",
              "\n",
              "  .colab-df-spinner {\n",
              "    border: 2px solid var(--fill-color);\n",
              "    border-color: transparent;\n",
              "    border-bottom-color: var(--fill-color);\n",
              "    animation:\n",
              "      spin 1s steps(1) infinite;\n",
              "  }\n",
              "\n",
              "  @keyframes spin {\n",
              "    0% {\n",
              "      border-color: transparent;\n",
              "      border-bottom-color: var(--fill-color);\n",
              "      border-left-color: var(--fill-color);\n",
              "    }\n",
              "    20% {\n",
              "      border-color: transparent;\n",
              "      border-left-color: var(--fill-color);\n",
              "      border-top-color: var(--fill-color);\n",
              "    }\n",
              "    30% {\n",
              "      border-color: transparent;\n",
              "      border-left-color: var(--fill-color);\n",
              "      border-top-color: var(--fill-color);\n",
              "      border-right-color: var(--fill-color);\n",
              "    }\n",
              "    40% {\n",
              "      border-color: transparent;\n",
              "      border-right-color: var(--fill-color);\n",
              "      border-top-color: var(--fill-color);\n",
              "    }\n",
              "    60% {\n",
              "      border-color: transparent;\n",
              "      border-right-color: var(--fill-color);\n",
              "    }\n",
              "    80% {\n",
              "      border-color: transparent;\n",
              "      border-right-color: var(--fill-color);\n",
              "      border-bottom-color: var(--fill-color);\n",
              "    }\n",
              "    90% {\n",
              "      border-color: transparent;\n",
              "      border-bottom-color: var(--fill-color);\n",
              "    }\n",
              "  }\n",
              "</style>\n",
              "\n",
              "  <script>\n",
              "    async function quickchart(key) {\n",
              "      const quickchartButtonEl =\n",
              "        document.querySelector('#' + key + ' button');\n",
              "      quickchartButtonEl.disabled = true;  // To prevent multiple clicks.\n",
              "      quickchartButtonEl.classList.add('colab-df-spinner');\n",
              "      try {\n",
              "        const charts = await google.colab.kernel.invokeFunction(\n",
              "            'suggestCharts', [key], {});\n",
              "      } catch (error) {\n",
              "        console.error('Error during call to suggestCharts:', error);\n",
              "      }\n",
              "      quickchartButtonEl.classList.remove('colab-df-spinner');\n",
              "      quickchartButtonEl.classList.add('colab-df-quickchart-complete');\n",
              "    }\n",
              "    (() => {\n",
              "      let quickchartButtonEl =\n",
              "        document.querySelector('#df-f1d240c1-a60b-4173-8c78-e5259c624e3e button');\n",
              "      quickchartButtonEl.style.display =\n",
              "        google.colab.kernel.accessAllowed ? 'block' : 'none';\n",
              "    })();\n",
              "  </script>\n",
              "</div>\n",
              "\n",
              "  <div id=\"id_dcc15c2c-b089-448d-8cd9-877a9390e143\">\n",
              "    <style>\n",
              "      .colab-df-generate {\n",
              "        background-color: #E8F0FE;\n",
              "        border: none;\n",
              "        border-radius: 50%;\n",
              "        cursor: pointer;\n",
              "        display: none;\n",
              "        fill: #1967D2;\n",
              "        height: 32px;\n",
              "        padding: 0 0 0 0;\n",
              "        width: 32px;\n",
              "      }\n",
              "\n",
              "      .colab-df-generate:hover {\n",
              "        background-color: #E2EBFA;\n",
              "        box-shadow: 0px 1px 2px rgba(60, 64, 67, 0.3), 0px 1px 3px 1px rgba(60, 64, 67, 0.15);\n",
              "        fill: #174EA6;\n",
              "      }\n",
              "\n",
              "      [theme=dark] .colab-df-generate {\n",
              "        background-color: #3B4455;\n",
              "        fill: #D2E3FC;\n",
              "      }\n",
              "\n",
              "      [theme=dark] .colab-df-generate:hover {\n",
              "        background-color: #434B5C;\n",
              "        box-shadow: 0px 1px 3px 1px rgba(0, 0, 0, 0.15);\n",
              "        filter: drop-shadow(0px 1px 2px rgba(0, 0, 0, 0.3));\n",
              "        fill: #FFFFFF;\n",
              "      }\n",
              "    </style>\n",
              "    <button class=\"colab-df-generate\" onclick=\"generateWithVariable('car_sales')\"\n",
              "            title=\"Generate code using this dataframe.\"\n",
              "            style=\"display:none;\">\n",
              "\n",
              "  <svg xmlns=\"http://www.w3.org/2000/svg\" height=\"24px\"viewBox=\"0 0 24 24\"\n",
              "       width=\"24px\">\n",
              "    <path d=\"M7,19H8.4L18.45,9,17,7.55,7,17.6ZM5,21V16.75L18.45,3.32a2,2,0,0,1,2.83,0l1.4,1.43a1.91,1.91,0,0,1,.58,1.4,1.91,1.91,0,0,1-.58,1.4L9.25,21ZM18.45,9,17,7.55Zm-12,3A5.31,5.31,0,0,0,4.9,8.1,5.31,5.31,0,0,0,1,6.5,5.31,5.31,0,0,0,4.9,4.9,5.31,5.31,0,0,0,6.5,1,5.31,5.31,0,0,0,8.1,4.9,5.31,5.31,0,0,0,12,6.5,5.46,5.46,0,0,0,6.5,12Z\"/>\n",
              "  </svg>\n",
              "    </button>\n",
              "    <script>\n",
              "      (() => {\n",
              "      const buttonEl =\n",
              "        document.querySelector('#id_dcc15c2c-b089-448d-8cd9-877a9390e143 button.colab-df-generate');\n",
              "      buttonEl.style.display =\n",
              "        google.colab.kernel.accessAllowed ? 'block' : 'none';\n",
              "\n",
              "      buttonEl.onclick = () => {\n",
              "        google.colab.notebook.generateWithVariable('car_sales');\n",
              "      }\n",
              "      })();\n",
              "    </script>\n",
              "  </div>\n",
              "\n",
              "    </div>\n",
              "  </div>\n"
            ],
            "application/vnd.google.colaboratory.intrinsic+json": {
              "type": "dataframe",
              "variable_name": "car_sales",
              "summary": "{\n  \"name\": \"car_sales\",\n  \"rows\": 1000,\n  \"fields\": [\n    {\n      \"column\": \"Make\",\n      \"properties\": {\n        \"dtype\": \"category\",\n        \"num_unique_values\": 4,\n        \"samples\": [\n          \"BMW\",\n          \"Nissan\",\n          \"Honda\"\n        ],\n        \"semantic_type\": \"\",\n        \"description\": \"\"\n      }\n    },\n    {\n      \"column\": \"Colour\",\n      \"properties\": {\n        \"dtype\": \"category\",\n        \"num_unique_values\": 5,\n        \"samples\": [\n          \"Blue\",\n          \"Black\",\n          \"Red\"\n        ],\n        \"semantic_type\": \"\",\n        \"description\": \"\"\n      }\n    },\n    {\n      \"column\": \"Odometer (KM)\",\n      \"properties\": {\n        \"dtype\": \"number\",\n        \"std\": 68859,\n        \"min\": 10148,\n        \"max\": 249860,\n        \"num_unique_values\": 998,\n        \"samples\": [\n          157782,\n          179255,\n          128411\n        ],\n        \"semantic_type\": \"\",\n        \"description\": \"\"\n      }\n    },\n    {\n      \"column\": \"Doors\",\n      \"properties\": {\n        \"dtype\": \"number\",\n        \"std\": 0,\n        \"min\": 3,\n        \"max\": 5,\n        \"num_unique_values\": 3,\n        \"samples\": [\n          4,\n          5,\n          3\n        ],\n        \"semantic_type\": \"\",\n        \"description\": \"\"\n      }\n    },\n    {\n      \"column\": \"Price\",\n      \"properties\": {\n        \"dtype\": \"number\",\n        \"std\": 8630,\n        \"min\": 2796,\n        \"max\": 52458,\n        \"num_unique_values\": 984,\n        \"samples\": [\n          33850,\n          7827,\n          23554\n        ],\n        \"semantic_type\": \"\",\n        \"description\": \"\"\n      }\n    }\n  ]\n}"
            }
          },
          "metadata": {},
          "execution_count": 107
        }
      ],
      "source": [
        "\n",
        "# Import car-sales-extended.csv\n",
        "car_sales = pd.read_csv(\"/content/car-sales-extended.csv\")\n",
        "car_sales"
      ]
    },
    {
      "cell_type": "code",
      "execution_count": 108,
      "metadata": {
        "id": "XON24BhLdAPa",
        "outputId": "07abe2c1-bd5c-4e00-84c5-905f5b48c083",
        "colab": {
          "base_uri": "https://localhost:8080/",
          "height": 241
        }
      },
      "outputs": [
        {
          "output_type": "execute_result",
          "data": {
            "text/plain": [
              "Make             object\n",
              "Colour           object\n",
              "Odometer (KM)     int64\n",
              "Doors             int64\n",
              "Price             int64\n",
              "dtype: object"
            ],
            "text/html": [
              "<div>\n",
              "<style scoped>\n",
              "    .dataframe tbody tr th:only-of-type {\n",
              "        vertical-align: middle;\n",
              "    }\n",
              "\n",
              "    .dataframe tbody tr th {\n",
              "        vertical-align: top;\n",
              "    }\n",
              "\n",
              "    .dataframe thead th {\n",
              "        text-align: right;\n",
              "    }\n",
              "</style>\n",
              "<table border=\"1\" class=\"dataframe\">\n",
              "  <thead>\n",
              "    <tr style=\"text-align: right;\">\n",
              "      <th></th>\n",
              "      <th>0</th>\n",
              "    </tr>\n",
              "  </thead>\n",
              "  <tbody>\n",
              "    <tr>\n",
              "      <th>Make</th>\n",
              "      <td>object</td>\n",
              "    </tr>\n",
              "    <tr>\n",
              "      <th>Colour</th>\n",
              "      <td>object</td>\n",
              "    </tr>\n",
              "    <tr>\n",
              "      <th>Odometer (KM)</th>\n",
              "      <td>int64</td>\n",
              "    </tr>\n",
              "    <tr>\n",
              "      <th>Doors</th>\n",
              "      <td>int64</td>\n",
              "    </tr>\n",
              "    <tr>\n",
              "      <th>Price</th>\n",
              "      <td>int64</td>\n",
              "    </tr>\n",
              "  </tbody>\n",
              "</table>\n",
              "</div><br><label><b>dtype:</b> object</label>"
            ]
          },
          "metadata": {},
          "execution_count": 108
        }
      ],
      "source": [
        "car_sales.dtypes"
      ]
    },
    {
      "cell_type": "code",
      "source": [
        "from sklearn.model_selection import train_test_split\n",
        "from sklearn.preprocessing import OneHotEncoder\n",
        "from sklearn.compose import ColumnTransformer\n",
        "from sklearn.ensemble import RandomForestRegressor\n",
        "import pandas as pd\n",
        "\n",
        "# Load the data\n",
        "car_sales = pd.read_csv(\"/content/car-sales-extended.csv\")\n",
        "\n",
        "# Split into X & y and train/test\n",
        "X = car_sales.drop(\"Price\", axis=1)\n",
        "y = car_sales[\"Price\"]\n",
        "\n",
        "X_train, X_test, y_train, y_test = train_test_split(X, y, test_size=0.2)\n",
        "\n",
        "# Identify categorical features\n",
        "categorical_features = [\"Make\", \"Colour\", \"Doors\"] # Replace with actual categorical column names\n",
        "\n",
        "# Create a column transformer to handle categorical features\n",
        "one_hot = OneHotEncoder()\n",
        "transformer = ColumnTransformer([(\"Encoding with One Hot Encoder\",\n",
        "                                 one_hot,\n",
        "                                 categorical_features)],\n",
        "                                 remainder=\"passthrough\")\n",
        "\n",
        "# Apply the transformer to the training and testing data\n",
        "transformed_X_train = transformer.fit_transform(X_train)\n",
        "transformed_X_test = transformer.transform(X_test)\n",
        "\n",
        "# Train the model\n",
        "model = RandomForestRegressor()\n",
        "model.fit(transformed_X_train, y_train)\n",
        "\n",
        "# Evaluate the model\n",
        "model.score(transformed_X_test, y_test)"
      ],
      "metadata": {
        "colab": {
          "base_uri": "https://localhost:8080/"
        },
        "id": "b357z_9fuL7z",
        "outputId": "b532e2db-3883-45ed-e25a-029ad566a77d"
      },
      "execution_count": 109,
      "outputs": [
        {
          "output_type": "execute_result",
          "data": {
            "text/plain": [
              "0.10995129017581218"
            ]
          },
          "metadata": {},
          "execution_count": 109
        }
      ]
    },
    {
      "cell_type": "markdown",
      "source": [
        "# OneHotEncoder:\n",
        "\n",
        "    one_hot = OneHotEncoder()\n",
        "\n",
        "-----------------------------\n",
        "##OneHotEncoder\n",
        "\n",
        "This is a transformer from the sklearn.preprocessing module. It converts categorical variables (which typically have string or integer labels) into a binary (0s and 1s) format.\n",
        "\n",
        "For example, a feature with categories [\"red\", \"green\", \"blue\"] would be converted into three binary features [1, 0, 0] for \"red\", [0, 1, 0] for \"green\", and [0, 0, 1] for \"blue\".\n",
        "\n",
        "----------------------------------\n",
        "## ColumnTransformer:\n",
        "\n",
        "    transformer = ColumnTransformer([(\"one_hot\", one_hot, categorical_features)], remainder=\"passthrough\")\n",
        "\n",
        "ColumnTransformer\n",
        "\n",
        "This is another tool from sklearn.compose. It allows you to apply different preprocessing steps to different subsets of the features in your dataset.\n",
        "\n",
        "-------------------------------\n",
        "      [(\"one_hot\", one_hot, categorical_features)]\n",
        "\n",
        "##\"one_hot\"\n",
        "\n",
        "This is just a name for the transformation (can be anything).\n",
        "\n",
        "--------------------------------\n",
        "\n",
        "##one_hot\n",
        "\n",
        "This is the transformer we defined earlier, i.e., OneHotEncoder\n",
        "\n",
        "------------------\n",
        "##categorical_features\n",
        "\n",
        "This is the list of indices or column names that correspond to the categorical features in your dataset that you want to one-hot encode.\n",
        "\n",
        "-------------------------\n",
        "\n",
        "##remainder=\"passthrough\"\n",
        "\n",
        "\n",
        "This argument tells the ColumnTransformer what to do with the columns that are not specified in the transformations. \"passthrough\" means that all other columns should be passed through without any changes.\n",
        "\n",
        "---\n",
        "##Handling Categorical Data\n",
        "\n",
        "Categorical features need to be converted into a numerical format before being fed into most machine learning models.\n",
        "\n",
        "One common approach is one-hot encoding, which the OneHotEncoder handles. The ColumnTransformer allows you to selectively apply one-hot encoding only to the categorical features while leaving other features (e.g., numerical features) unchanged."
      ],
      "metadata": {
        "id": "9hrxYEJVFRgc"
      }
    },
    {
      "cell_type": "markdown",
      "metadata": {
        "id": "wZ69515RdAPb"
      },
      "source": [
        "Now let's try and build a model on our `car_sales` data."
      ]
    },
    {
      "cell_type": "markdown",
      "metadata": {
        "id": "Sf3LEBUBdAPb"
      },
      "source": [
        "Oops... this doesn't work, we'll have to convert it to numbers first."
      ]
    },
    {
      "cell_type": "code",
      "execution_count": 110,
      "metadata": {
        "id": "L8QmTLqedAPc",
        "outputId": "3b0fd9b6-0fc1-41ed-ab1d-b787c5311b88",
        "colab": {
          "base_uri": "https://localhost:8080/"
        }
      },
      "outputs": [
        {
          "output_type": "execute_result",
          "data": {
            "text/plain": [
              "array([0.00000e+00, 0.00000e+00, 1.00000e+00, 0.00000e+00, 0.00000e+00,\n",
              "       0.00000e+00, 0.00000e+00, 0.00000e+00, 1.00000e+00, 0.00000e+00,\n",
              "       1.00000e+00, 0.00000e+00, 1.33441e+05])"
            ]
          },
          "metadata": {},
          "execution_count": 110
        }
      ],
      "source": [
        "transformed_X_train[0]  # Or transformed_X_test[0] depending on what you want to inspect"
      ]
    },
    {
      "cell_type": "code",
      "execution_count": 111,
      "metadata": {
        "id": "3QG3i3UkdAPc",
        "outputId": "b077b8b5-56b9-4718-a6a9-3338cba6692d",
        "colab": {
          "base_uri": "https://localhost:8080/",
          "height": 209
        }
      },
      "outputs": [
        {
          "output_type": "execute_result",
          "data": {
            "text/plain": [
              "Make             Honda\n",
              "Colour           White\n",
              "Odometer (KM)    35431\n",
              "Doors                4\n",
              "Name: 0, dtype: object"
            ],
            "text/html": [
              "<div>\n",
              "<style scoped>\n",
              "    .dataframe tbody tr th:only-of-type {\n",
              "        vertical-align: middle;\n",
              "    }\n",
              "\n",
              "    .dataframe tbody tr th {\n",
              "        vertical-align: top;\n",
              "    }\n",
              "\n",
              "    .dataframe thead th {\n",
              "        text-align: right;\n",
              "    }\n",
              "</style>\n",
              "<table border=\"1\" class=\"dataframe\">\n",
              "  <thead>\n",
              "    <tr style=\"text-align: right;\">\n",
              "      <th></th>\n",
              "      <th>0</th>\n",
              "    </tr>\n",
              "  </thead>\n",
              "  <tbody>\n",
              "    <tr>\n",
              "      <th>Make</th>\n",
              "      <td>Honda</td>\n",
              "    </tr>\n",
              "    <tr>\n",
              "      <th>Colour</th>\n",
              "      <td>White</td>\n",
              "    </tr>\n",
              "    <tr>\n",
              "      <th>Odometer (KM)</th>\n",
              "      <td>35431</td>\n",
              "    </tr>\n",
              "    <tr>\n",
              "      <th>Doors</th>\n",
              "      <td>4</td>\n",
              "    </tr>\n",
              "  </tbody>\n",
              "</table>\n",
              "</div><br><label><b>dtype:</b> object</label>"
            ]
          },
          "metadata": {},
          "execution_count": 111
        }
      ],
      "source": [
        "X.iloc[0]"
      ]
    },
    {
      "cell_type": "code",
      "execution_count": 112,
      "metadata": {
        "id": "lmt7YYcmdAPc",
        "outputId": "8648137f-085a-4228-f154-98a8a2bcf41e",
        "colab": {
          "base_uri": "https://localhost:8080/",
          "height": 206
        }
      },
      "outputs": [
        {
          "output_type": "execute_result",
          "data": {
            "text/plain": [
              "     Make Colour  Odometer (KM)  Doors  Price\n",
              "0   Honda  White          35431      4  15323\n",
              "1     BMW   Blue         192714      5  19943\n",
              "2   Honda  White          84714      4  28343\n",
              "3  Toyota  White         154365      4  13434\n",
              "4  Nissan   Blue         181577      3  14043"
            ],
            "text/html": [
              "\n",
              "  <div id=\"df-dadc3e41-8326-48af-9a81-8440892fe604\" class=\"colab-df-container\">\n",
              "    <div>\n",
              "<style scoped>\n",
              "    .dataframe tbody tr th:only-of-type {\n",
              "        vertical-align: middle;\n",
              "    }\n",
              "\n",
              "    .dataframe tbody tr th {\n",
              "        vertical-align: top;\n",
              "    }\n",
              "\n",
              "    .dataframe thead th {\n",
              "        text-align: right;\n",
              "    }\n",
              "</style>\n",
              "<table border=\"1\" class=\"dataframe\">\n",
              "  <thead>\n",
              "    <tr style=\"text-align: right;\">\n",
              "      <th></th>\n",
              "      <th>Make</th>\n",
              "      <th>Colour</th>\n",
              "      <th>Odometer (KM)</th>\n",
              "      <th>Doors</th>\n",
              "      <th>Price</th>\n",
              "    </tr>\n",
              "  </thead>\n",
              "  <tbody>\n",
              "    <tr>\n",
              "      <th>0</th>\n",
              "      <td>Honda</td>\n",
              "      <td>White</td>\n",
              "      <td>35431</td>\n",
              "      <td>4</td>\n",
              "      <td>15323</td>\n",
              "    </tr>\n",
              "    <tr>\n",
              "      <th>1</th>\n",
              "      <td>BMW</td>\n",
              "      <td>Blue</td>\n",
              "      <td>192714</td>\n",
              "      <td>5</td>\n",
              "      <td>19943</td>\n",
              "    </tr>\n",
              "    <tr>\n",
              "      <th>2</th>\n",
              "      <td>Honda</td>\n",
              "      <td>White</td>\n",
              "      <td>84714</td>\n",
              "      <td>4</td>\n",
              "      <td>28343</td>\n",
              "    </tr>\n",
              "    <tr>\n",
              "      <th>3</th>\n",
              "      <td>Toyota</td>\n",
              "      <td>White</td>\n",
              "      <td>154365</td>\n",
              "      <td>4</td>\n",
              "      <td>13434</td>\n",
              "    </tr>\n",
              "    <tr>\n",
              "      <th>4</th>\n",
              "      <td>Nissan</td>\n",
              "      <td>Blue</td>\n",
              "      <td>181577</td>\n",
              "      <td>3</td>\n",
              "      <td>14043</td>\n",
              "    </tr>\n",
              "  </tbody>\n",
              "</table>\n",
              "</div>\n",
              "    <div class=\"colab-df-buttons\">\n",
              "\n",
              "  <div class=\"colab-df-container\">\n",
              "    <button class=\"colab-df-convert\" onclick=\"convertToInteractive('df-dadc3e41-8326-48af-9a81-8440892fe604')\"\n",
              "            title=\"Convert this dataframe to an interactive table.\"\n",
              "            style=\"display:none;\">\n",
              "\n",
              "  <svg xmlns=\"http://www.w3.org/2000/svg\" height=\"24px\" viewBox=\"0 -960 960 960\">\n",
              "    <path d=\"M120-120v-720h720v720H120Zm60-500h600v-160H180v160Zm220 220h160v-160H400v160Zm0 220h160v-160H400v160ZM180-400h160v-160H180v160Zm440 0h160v-160H620v160ZM180-180h160v-160H180v160Zm440 0h160v-160H620v160Z\"/>\n",
              "  </svg>\n",
              "    </button>\n",
              "\n",
              "  <style>\n",
              "    .colab-df-container {\n",
              "      display:flex;\n",
              "      gap: 12px;\n",
              "    }\n",
              "\n",
              "    .colab-df-convert {\n",
              "      background-color: #E8F0FE;\n",
              "      border: none;\n",
              "      border-radius: 50%;\n",
              "      cursor: pointer;\n",
              "      display: none;\n",
              "      fill: #1967D2;\n",
              "      height: 32px;\n",
              "      padding: 0 0 0 0;\n",
              "      width: 32px;\n",
              "    }\n",
              "\n",
              "    .colab-df-convert:hover {\n",
              "      background-color: #E2EBFA;\n",
              "      box-shadow: 0px 1px 2px rgba(60, 64, 67, 0.3), 0px 1px 3px 1px rgba(60, 64, 67, 0.15);\n",
              "      fill: #174EA6;\n",
              "    }\n",
              "\n",
              "    .colab-df-buttons div {\n",
              "      margin-bottom: 4px;\n",
              "    }\n",
              "\n",
              "    [theme=dark] .colab-df-convert {\n",
              "      background-color: #3B4455;\n",
              "      fill: #D2E3FC;\n",
              "    }\n",
              "\n",
              "    [theme=dark] .colab-df-convert:hover {\n",
              "      background-color: #434B5C;\n",
              "      box-shadow: 0px 1px 3px 1px rgba(0, 0, 0, 0.15);\n",
              "      filter: drop-shadow(0px 1px 2px rgba(0, 0, 0, 0.3));\n",
              "      fill: #FFFFFF;\n",
              "    }\n",
              "  </style>\n",
              "\n",
              "    <script>\n",
              "      const buttonEl =\n",
              "        document.querySelector('#df-dadc3e41-8326-48af-9a81-8440892fe604 button.colab-df-convert');\n",
              "      buttonEl.style.display =\n",
              "        google.colab.kernel.accessAllowed ? 'block' : 'none';\n",
              "\n",
              "      async function convertToInteractive(key) {\n",
              "        const element = document.querySelector('#df-dadc3e41-8326-48af-9a81-8440892fe604');\n",
              "        const dataTable =\n",
              "          await google.colab.kernel.invokeFunction('convertToInteractive',\n",
              "                                                    [key], {});\n",
              "        if (!dataTable) return;\n",
              "\n",
              "        const docLinkHtml = 'Like what you see? Visit the ' +\n",
              "          '<a target=\"_blank\" href=https://colab.research.google.com/notebooks/data_table.ipynb>data table notebook</a>'\n",
              "          + ' to learn more about interactive tables.';\n",
              "        element.innerHTML = '';\n",
              "        dataTable['output_type'] = 'display_data';\n",
              "        await google.colab.output.renderOutput(dataTable, element);\n",
              "        const docLink = document.createElement('div');\n",
              "        docLink.innerHTML = docLinkHtml;\n",
              "        element.appendChild(docLink);\n",
              "      }\n",
              "    </script>\n",
              "  </div>\n",
              "\n",
              "\n",
              "<div id=\"df-c1fe889f-8ab7-47e6-b5c9-c0af4103f3c9\">\n",
              "  <button class=\"colab-df-quickchart\" onclick=\"quickchart('df-c1fe889f-8ab7-47e6-b5c9-c0af4103f3c9')\"\n",
              "            title=\"Suggest charts\"\n",
              "            style=\"display:none;\">\n",
              "\n",
              "<svg xmlns=\"http://www.w3.org/2000/svg\" height=\"24px\"viewBox=\"0 0 24 24\"\n",
              "     width=\"24px\">\n",
              "    <g>\n",
              "        <path d=\"M19 3H5c-1.1 0-2 .9-2 2v14c0 1.1.9 2 2 2h14c1.1 0 2-.9 2-2V5c0-1.1-.9-2-2-2zM9 17H7v-7h2v7zm4 0h-2V7h2v10zm4 0h-2v-4h2v4z\"/>\n",
              "    </g>\n",
              "</svg>\n",
              "  </button>\n",
              "\n",
              "<style>\n",
              "  .colab-df-quickchart {\n",
              "      --bg-color: #E8F0FE;\n",
              "      --fill-color: #1967D2;\n",
              "      --hover-bg-color: #E2EBFA;\n",
              "      --hover-fill-color: #174EA6;\n",
              "      --disabled-fill-color: #AAA;\n",
              "      --disabled-bg-color: #DDD;\n",
              "  }\n",
              "\n",
              "  [theme=dark] .colab-df-quickchart {\n",
              "      --bg-color: #3B4455;\n",
              "      --fill-color: #D2E3FC;\n",
              "      --hover-bg-color: #434B5C;\n",
              "      --hover-fill-color: #FFFFFF;\n",
              "      --disabled-bg-color: #3B4455;\n",
              "      --disabled-fill-color: #666;\n",
              "  }\n",
              "\n",
              "  .colab-df-quickchart {\n",
              "    background-color: var(--bg-color);\n",
              "    border: none;\n",
              "    border-radius: 50%;\n",
              "    cursor: pointer;\n",
              "    display: none;\n",
              "    fill: var(--fill-color);\n",
              "    height: 32px;\n",
              "    padding: 0;\n",
              "    width: 32px;\n",
              "  }\n",
              "\n",
              "  .colab-df-quickchart:hover {\n",
              "    background-color: var(--hover-bg-color);\n",
              "    box-shadow: 0 1px 2px rgba(60, 64, 67, 0.3), 0 1px 3px 1px rgba(60, 64, 67, 0.15);\n",
              "    fill: var(--button-hover-fill-color);\n",
              "  }\n",
              "\n",
              "  .colab-df-quickchart-complete:disabled,\n",
              "  .colab-df-quickchart-complete:disabled:hover {\n",
              "    background-color: var(--disabled-bg-color);\n",
              "    fill: var(--disabled-fill-color);\n",
              "    box-shadow: none;\n",
              "  }\n",
              "\n",
              "  .colab-df-spinner {\n",
              "    border: 2px solid var(--fill-color);\n",
              "    border-color: transparent;\n",
              "    border-bottom-color: var(--fill-color);\n",
              "    animation:\n",
              "      spin 1s steps(1) infinite;\n",
              "  }\n",
              "\n",
              "  @keyframes spin {\n",
              "    0% {\n",
              "      border-color: transparent;\n",
              "      border-bottom-color: var(--fill-color);\n",
              "      border-left-color: var(--fill-color);\n",
              "    }\n",
              "    20% {\n",
              "      border-color: transparent;\n",
              "      border-left-color: var(--fill-color);\n",
              "      border-top-color: var(--fill-color);\n",
              "    }\n",
              "    30% {\n",
              "      border-color: transparent;\n",
              "      border-left-color: var(--fill-color);\n",
              "      border-top-color: var(--fill-color);\n",
              "      border-right-color: var(--fill-color);\n",
              "    }\n",
              "    40% {\n",
              "      border-color: transparent;\n",
              "      border-right-color: var(--fill-color);\n",
              "      border-top-color: var(--fill-color);\n",
              "    }\n",
              "    60% {\n",
              "      border-color: transparent;\n",
              "      border-right-color: var(--fill-color);\n",
              "    }\n",
              "    80% {\n",
              "      border-color: transparent;\n",
              "      border-right-color: var(--fill-color);\n",
              "      border-bottom-color: var(--fill-color);\n",
              "    }\n",
              "    90% {\n",
              "      border-color: transparent;\n",
              "      border-bottom-color: var(--fill-color);\n",
              "    }\n",
              "  }\n",
              "</style>\n",
              "\n",
              "  <script>\n",
              "    async function quickchart(key) {\n",
              "      const quickchartButtonEl =\n",
              "        document.querySelector('#' + key + ' button');\n",
              "      quickchartButtonEl.disabled = true;  // To prevent multiple clicks.\n",
              "      quickchartButtonEl.classList.add('colab-df-spinner');\n",
              "      try {\n",
              "        const charts = await google.colab.kernel.invokeFunction(\n",
              "            'suggestCharts', [key], {});\n",
              "      } catch (error) {\n",
              "        console.error('Error during call to suggestCharts:', error);\n",
              "      }\n",
              "      quickchartButtonEl.classList.remove('colab-df-spinner');\n",
              "      quickchartButtonEl.classList.add('colab-df-quickchart-complete');\n",
              "    }\n",
              "    (() => {\n",
              "      let quickchartButtonEl =\n",
              "        document.querySelector('#df-c1fe889f-8ab7-47e6-b5c9-c0af4103f3c9 button');\n",
              "      quickchartButtonEl.style.display =\n",
              "        google.colab.kernel.accessAllowed ? 'block' : 'none';\n",
              "    })();\n",
              "  </script>\n",
              "</div>\n",
              "\n",
              "    </div>\n",
              "  </div>\n"
            ],
            "application/vnd.google.colaboratory.intrinsic+json": {
              "type": "dataframe",
              "variable_name": "car_sales",
              "summary": "{\n  \"name\": \"car_sales\",\n  \"rows\": 1000,\n  \"fields\": [\n    {\n      \"column\": \"Make\",\n      \"properties\": {\n        \"dtype\": \"category\",\n        \"num_unique_values\": 4,\n        \"samples\": [\n          \"BMW\",\n          \"Nissan\",\n          \"Honda\"\n        ],\n        \"semantic_type\": \"\",\n        \"description\": \"\"\n      }\n    },\n    {\n      \"column\": \"Colour\",\n      \"properties\": {\n        \"dtype\": \"category\",\n        \"num_unique_values\": 5,\n        \"samples\": [\n          \"Blue\",\n          \"Black\",\n          \"Red\"\n        ],\n        \"semantic_type\": \"\",\n        \"description\": \"\"\n      }\n    },\n    {\n      \"column\": \"Odometer (KM)\",\n      \"properties\": {\n        \"dtype\": \"number\",\n        \"std\": 68859,\n        \"min\": 10148,\n        \"max\": 249860,\n        \"num_unique_values\": 998,\n        \"samples\": [\n          157782,\n          179255,\n          128411\n        ],\n        \"semantic_type\": \"\",\n        \"description\": \"\"\n      }\n    },\n    {\n      \"column\": \"Doors\",\n      \"properties\": {\n        \"dtype\": \"number\",\n        \"std\": 0,\n        \"min\": 3,\n        \"max\": 5,\n        \"num_unique_values\": 3,\n        \"samples\": [\n          4,\n          5,\n          3\n        ],\n        \"semantic_type\": \"\",\n        \"description\": \"\"\n      }\n    },\n    {\n      \"column\": \"Price\",\n      \"properties\": {\n        \"dtype\": \"number\",\n        \"std\": 8630,\n        \"min\": 2796,\n        \"max\": 52458,\n        \"num_unique_values\": 984,\n        \"samples\": [\n          33850,\n          7827,\n          23554\n        ],\n        \"semantic_type\": \"\",\n        \"description\": \"\"\n      }\n    }\n  ]\n}"
            }
          },
          "metadata": {},
          "execution_count": 112
        }
      ],
      "source": [
        "# Another way... using pandas and pd.get_dummies()\n",
        "car_sales.head()"
      ]
    },
    {
      "cell_type": "code",
      "execution_count": 113,
      "metadata": {
        "id": "Twf6pS1-dAPc",
        "outputId": "568e6b5d-b8bc-4f72-9a64-c88ed04e9728",
        "colab": {
          "base_uri": "https://localhost:8080/",
          "height": 443
        }
      },
      "outputs": [
        {
          "output_type": "execute_result",
          "data": {
            "text/plain": [
              "     Doors  Make_BMW  Make_Honda  Make_Nissan  Make_Toyota  Colour_Black  \\\n",
              "0        4     False        True        False        False         False   \n",
              "1        5      True       False        False        False         False   \n",
              "2        4     False        True        False        False         False   \n",
              "3        4     False       False        False         True         False   \n",
              "4        3     False       False         True        False         False   \n",
              "..     ...       ...         ...          ...          ...           ...   \n",
              "995      4     False       False        False         True          True   \n",
              "996      3     False       False         True        False         False   \n",
              "997      4     False       False         True        False         False   \n",
              "998      4     False        True        False        False         False   \n",
              "999      4     False       False        False         True         False   \n",
              "\n",
              "     Colour_Blue  Colour_Green  Colour_Red  Colour_White  \n",
              "0          False         False       False          True  \n",
              "1           True         False       False         False  \n",
              "2          False         False       False          True  \n",
              "3          False         False       False          True  \n",
              "4           True         False       False         False  \n",
              "..           ...           ...         ...           ...  \n",
              "995        False         False       False         False  \n",
              "996        False         False       False          True  \n",
              "997         True         False       False         False  \n",
              "998        False         False       False          True  \n",
              "999         True         False       False         False  \n",
              "\n",
              "[1000 rows x 10 columns]"
            ],
            "text/html": [
              "\n",
              "  <div id=\"df-ee0cb956-a8fe-4c97-9150-2566d5292c07\" class=\"colab-df-container\">\n",
              "    <div>\n",
              "<style scoped>\n",
              "    .dataframe tbody tr th:only-of-type {\n",
              "        vertical-align: middle;\n",
              "    }\n",
              "\n",
              "    .dataframe tbody tr th {\n",
              "        vertical-align: top;\n",
              "    }\n",
              "\n",
              "    .dataframe thead th {\n",
              "        text-align: right;\n",
              "    }\n",
              "</style>\n",
              "<table border=\"1\" class=\"dataframe\">\n",
              "  <thead>\n",
              "    <tr style=\"text-align: right;\">\n",
              "      <th></th>\n",
              "      <th>Doors</th>\n",
              "      <th>Make_BMW</th>\n",
              "      <th>Make_Honda</th>\n",
              "      <th>Make_Nissan</th>\n",
              "      <th>Make_Toyota</th>\n",
              "      <th>Colour_Black</th>\n",
              "      <th>Colour_Blue</th>\n",
              "      <th>Colour_Green</th>\n",
              "      <th>Colour_Red</th>\n",
              "      <th>Colour_White</th>\n",
              "    </tr>\n",
              "  </thead>\n",
              "  <tbody>\n",
              "    <tr>\n",
              "      <th>0</th>\n",
              "      <td>4</td>\n",
              "      <td>False</td>\n",
              "      <td>True</td>\n",
              "      <td>False</td>\n",
              "      <td>False</td>\n",
              "      <td>False</td>\n",
              "      <td>False</td>\n",
              "      <td>False</td>\n",
              "      <td>False</td>\n",
              "      <td>True</td>\n",
              "    </tr>\n",
              "    <tr>\n",
              "      <th>1</th>\n",
              "      <td>5</td>\n",
              "      <td>True</td>\n",
              "      <td>False</td>\n",
              "      <td>False</td>\n",
              "      <td>False</td>\n",
              "      <td>False</td>\n",
              "      <td>True</td>\n",
              "      <td>False</td>\n",
              "      <td>False</td>\n",
              "      <td>False</td>\n",
              "    </tr>\n",
              "    <tr>\n",
              "      <th>2</th>\n",
              "      <td>4</td>\n",
              "      <td>False</td>\n",
              "      <td>True</td>\n",
              "      <td>False</td>\n",
              "      <td>False</td>\n",
              "      <td>False</td>\n",
              "      <td>False</td>\n",
              "      <td>False</td>\n",
              "      <td>False</td>\n",
              "      <td>True</td>\n",
              "    </tr>\n",
              "    <tr>\n",
              "      <th>3</th>\n",
              "      <td>4</td>\n",
              "      <td>False</td>\n",
              "      <td>False</td>\n",
              "      <td>False</td>\n",
              "      <td>True</td>\n",
              "      <td>False</td>\n",
              "      <td>False</td>\n",
              "      <td>False</td>\n",
              "      <td>False</td>\n",
              "      <td>True</td>\n",
              "    </tr>\n",
              "    <tr>\n",
              "      <th>4</th>\n",
              "      <td>3</td>\n",
              "      <td>False</td>\n",
              "      <td>False</td>\n",
              "      <td>True</td>\n",
              "      <td>False</td>\n",
              "      <td>False</td>\n",
              "      <td>True</td>\n",
              "      <td>False</td>\n",
              "      <td>False</td>\n",
              "      <td>False</td>\n",
              "    </tr>\n",
              "    <tr>\n",
              "      <th>...</th>\n",
              "      <td>...</td>\n",
              "      <td>...</td>\n",
              "      <td>...</td>\n",
              "      <td>...</td>\n",
              "      <td>...</td>\n",
              "      <td>...</td>\n",
              "      <td>...</td>\n",
              "      <td>...</td>\n",
              "      <td>...</td>\n",
              "      <td>...</td>\n",
              "    </tr>\n",
              "    <tr>\n",
              "      <th>995</th>\n",
              "      <td>4</td>\n",
              "      <td>False</td>\n",
              "      <td>False</td>\n",
              "      <td>False</td>\n",
              "      <td>True</td>\n",
              "      <td>True</td>\n",
              "      <td>False</td>\n",
              "      <td>False</td>\n",
              "      <td>False</td>\n",
              "      <td>False</td>\n",
              "    </tr>\n",
              "    <tr>\n",
              "      <th>996</th>\n",
              "      <td>3</td>\n",
              "      <td>False</td>\n",
              "      <td>False</td>\n",
              "      <td>True</td>\n",
              "      <td>False</td>\n",
              "      <td>False</td>\n",
              "      <td>False</td>\n",
              "      <td>False</td>\n",
              "      <td>False</td>\n",
              "      <td>True</td>\n",
              "    </tr>\n",
              "    <tr>\n",
              "      <th>997</th>\n",
              "      <td>4</td>\n",
              "      <td>False</td>\n",
              "      <td>False</td>\n",
              "      <td>True</td>\n",
              "      <td>False</td>\n",
              "      <td>False</td>\n",
              "      <td>True</td>\n",
              "      <td>False</td>\n",
              "      <td>False</td>\n",
              "      <td>False</td>\n",
              "    </tr>\n",
              "    <tr>\n",
              "      <th>998</th>\n",
              "      <td>4</td>\n",
              "      <td>False</td>\n",
              "      <td>True</td>\n",
              "      <td>False</td>\n",
              "      <td>False</td>\n",
              "      <td>False</td>\n",
              "      <td>False</td>\n",
              "      <td>False</td>\n",
              "      <td>False</td>\n",
              "      <td>True</td>\n",
              "    </tr>\n",
              "    <tr>\n",
              "      <th>999</th>\n",
              "      <td>4</td>\n",
              "      <td>False</td>\n",
              "      <td>False</td>\n",
              "      <td>False</td>\n",
              "      <td>True</td>\n",
              "      <td>False</td>\n",
              "      <td>True</td>\n",
              "      <td>False</td>\n",
              "      <td>False</td>\n",
              "      <td>False</td>\n",
              "    </tr>\n",
              "  </tbody>\n",
              "</table>\n",
              "<p>1000 rows × 10 columns</p>\n",
              "</div>\n",
              "    <div class=\"colab-df-buttons\">\n",
              "\n",
              "  <div class=\"colab-df-container\">\n",
              "    <button class=\"colab-df-convert\" onclick=\"convertToInteractive('df-ee0cb956-a8fe-4c97-9150-2566d5292c07')\"\n",
              "            title=\"Convert this dataframe to an interactive table.\"\n",
              "            style=\"display:none;\">\n",
              "\n",
              "  <svg xmlns=\"http://www.w3.org/2000/svg\" height=\"24px\" viewBox=\"0 -960 960 960\">\n",
              "    <path d=\"M120-120v-720h720v720H120Zm60-500h600v-160H180v160Zm220 220h160v-160H400v160Zm0 220h160v-160H400v160ZM180-400h160v-160H180v160Zm440 0h160v-160H620v160ZM180-180h160v-160H180v160Zm440 0h160v-160H620v160Z\"/>\n",
              "  </svg>\n",
              "    </button>\n",
              "\n",
              "  <style>\n",
              "    .colab-df-container {\n",
              "      display:flex;\n",
              "      gap: 12px;\n",
              "    }\n",
              "\n",
              "    .colab-df-convert {\n",
              "      background-color: #E8F0FE;\n",
              "      border: none;\n",
              "      border-radius: 50%;\n",
              "      cursor: pointer;\n",
              "      display: none;\n",
              "      fill: #1967D2;\n",
              "      height: 32px;\n",
              "      padding: 0 0 0 0;\n",
              "      width: 32px;\n",
              "    }\n",
              "\n",
              "    .colab-df-convert:hover {\n",
              "      background-color: #E2EBFA;\n",
              "      box-shadow: 0px 1px 2px rgba(60, 64, 67, 0.3), 0px 1px 3px 1px rgba(60, 64, 67, 0.15);\n",
              "      fill: #174EA6;\n",
              "    }\n",
              "\n",
              "    .colab-df-buttons div {\n",
              "      margin-bottom: 4px;\n",
              "    }\n",
              "\n",
              "    [theme=dark] .colab-df-convert {\n",
              "      background-color: #3B4455;\n",
              "      fill: #D2E3FC;\n",
              "    }\n",
              "\n",
              "    [theme=dark] .colab-df-convert:hover {\n",
              "      background-color: #434B5C;\n",
              "      box-shadow: 0px 1px 3px 1px rgba(0, 0, 0, 0.15);\n",
              "      filter: drop-shadow(0px 1px 2px rgba(0, 0, 0, 0.3));\n",
              "      fill: #FFFFFF;\n",
              "    }\n",
              "  </style>\n",
              "\n",
              "    <script>\n",
              "      const buttonEl =\n",
              "        document.querySelector('#df-ee0cb956-a8fe-4c97-9150-2566d5292c07 button.colab-df-convert');\n",
              "      buttonEl.style.display =\n",
              "        google.colab.kernel.accessAllowed ? 'block' : 'none';\n",
              "\n",
              "      async function convertToInteractive(key) {\n",
              "        const element = document.querySelector('#df-ee0cb956-a8fe-4c97-9150-2566d5292c07');\n",
              "        const dataTable =\n",
              "          await google.colab.kernel.invokeFunction('convertToInteractive',\n",
              "                                                    [key], {});\n",
              "        if (!dataTable) return;\n",
              "\n",
              "        const docLinkHtml = 'Like what you see? Visit the ' +\n",
              "          '<a target=\"_blank\" href=https://colab.research.google.com/notebooks/data_table.ipynb>data table notebook</a>'\n",
              "          + ' to learn more about interactive tables.';\n",
              "        element.innerHTML = '';\n",
              "        dataTable['output_type'] = 'display_data';\n",
              "        await google.colab.output.renderOutput(dataTable, element);\n",
              "        const docLink = document.createElement('div');\n",
              "        docLink.innerHTML = docLinkHtml;\n",
              "        element.appendChild(docLink);\n",
              "      }\n",
              "    </script>\n",
              "  </div>\n",
              "\n",
              "\n",
              "<div id=\"df-a037fc87-99f6-4cea-b947-fca405505124\">\n",
              "  <button class=\"colab-df-quickchart\" onclick=\"quickchart('df-a037fc87-99f6-4cea-b947-fca405505124')\"\n",
              "            title=\"Suggest charts\"\n",
              "            style=\"display:none;\">\n",
              "\n",
              "<svg xmlns=\"http://www.w3.org/2000/svg\" height=\"24px\"viewBox=\"0 0 24 24\"\n",
              "     width=\"24px\">\n",
              "    <g>\n",
              "        <path d=\"M19 3H5c-1.1 0-2 .9-2 2v14c0 1.1.9 2 2 2h14c1.1 0 2-.9 2-2V5c0-1.1-.9-2-2-2zM9 17H7v-7h2v7zm4 0h-2V7h2v10zm4 0h-2v-4h2v4z\"/>\n",
              "    </g>\n",
              "</svg>\n",
              "  </button>\n",
              "\n",
              "<style>\n",
              "  .colab-df-quickchart {\n",
              "      --bg-color: #E8F0FE;\n",
              "      --fill-color: #1967D2;\n",
              "      --hover-bg-color: #E2EBFA;\n",
              "      --hover-fill-color: #174EA6;\n",
              "      --disabled-fill-color: #AAA;\n",
              "      --disabled-bg-color: #DDD;\n",
              "  }\n",
              "\n",
              "  [theme=dark] .colab-df-quickchart {\n",
              "      --bg-color: #3B4455;\n",
              "      --fill-color: #D2E3FC;\n",
              "      --hover-bg-color: #434B5C;\n",
              "      --hover-fill-color: #FFFFFF;\n",
              "      --disabled-bg-color: #3B4455;\n",
              "      --disabled-fill-color: #666;\n",
              "  }\n",
              "\n",
              "  .colab-df-quickchart {\n",
              "    background-color: var(--bg-color);\n",
              "    border: none;\n",
              "    border-radius: 50%;\n",
              "    cursor: pointer;\n",
              "    display: none;\n",
              "    fill: var(--fill-color);\n",
              "    height: 32px;\n",
              "    padding: 0;\n",
              "    width: 32px;\n",
              "  }\n",
              "\n",
              "  .colab-df-quickchart:hover {\n",
              "    background-color: var(--hover-bg-color);\n",
              "    box-shadow: 0 1px 2px rgba(60, 64, 67, 0.3), 0 1px 3px 1px rgba(60, 64, 67, 0.15);\n",
              "    fill: var(--button-hover-fill-color);\n",
              "  }\n",
              "\n",
              "  .colab-df-quickchart-complete:disabled,\n",
              "  .colab-df-quickchart-complete:disabled:hover {\n",
              "    background-color: var(--disabled-bg-color);\n",
              "    fill: var(--disabled-fill-color);\n",
              "    box-shadow: none;\n",
              "  }\n",
              "\n",
              "  .colab-df-spinner {\n",
              "    border: 2px solid var(--fill-color);\n",
              "    border-color: transparent;\n",
              "    border-bottom-color: var(--fill-color);\n",
              "    animation:\n",
              "      spin 1s steps(1) infinite;\n",
              "  }\n",
              "\n",
              "  @keyframes spin {\n",
              "    0% {\n",
              "      border-color: transparent;\n",
              "      border-bottom-color: var(--fill-color);\n",
              "      border-left-color: var(--fill-color);\n",
              "    }\n",
              "    20% {\n",
              "      border-color: transparent;\n",
              "      border-left-color: var(--fill-color);\n",
              "      border-top-color: var(--fill-color);\n",
              "    }\n",
              "    30% {\n",
              "      border-color: transparent;\n",
              "      border-left-color: var(--fill-color);\n",
              "      border-top-color: var(--fill-color);\n",
              "      border-right-color: var(--fill-color);\n",
              "    }\n",
              "    40% {\n",
              "      border-color: transparent;\n",
              "      border-right-color: var(--fill-color);\n",
              "      border-top-color: var(--fill-color);\n",
              "    }\n",
              "    60% {\n",
              "      border-color: transparent;\n",
              "      border-right-color: var(--fill-color);\n",
              "    }\n",
              "    80% {\n",
              "      border-color: transparent;\n",
              "      border-right-color: var(--fill-color);\n",
              "      border-bottom-color: var(--fill-color);\n",
              "    }\n",
              "    90% {\n",
              "      border-color: transparent;\n",
              "      border-bottom-color: var(--fill-color);\n",
              "    }\n",
              "  }\n",
              "</style>\n",
              "\n",
              "  <script>\n",
              "    async function quickchart(key) {\n",
              "      const quickchartButtonEl =\n",
              "        document.querySelector('#' + key + ' button');\n",
              "      quickchartButtonEl.disabled = true;  // To prevent multiple clicks.\n",
              "      quickchartButtonEl.classList.add('colab-df-spinner');\n",
              "      try {\n",
              "        const charts = await google.colab.kernel.invokeFunction(\n",
              "            'suggestCharts', [key], {});\n",
              "      } catch (error) {\n",
              "        console.error('Error during call to suggestCharts:', error);\n",
              "      }\n",
              "      quickchartButtonEl.classList.remove('colab-df-spinner');\n",
              "      quickchartButtonEl.classList.add('colab-df-quickchart-complete');\n",
              "    }\n",
              "    (() => {\n",
              "      let quickchartButtonEl =\n",
              "        document.querySelector('#df-a037fc87-99f6-4cea-b947-fca405505124 button');\n",
              "      quickchartButtonEl.style.display =\n",
              "        google.colab.kernel.accessAllowed ? 'block' : 'none';\n",
              "    })();\n",
              "  </script>\n",
              "</div>\n",
              "\n",
              "  <div id=\"id_40edf481-7931-421b-bc60-b5dcac85d3db\">\n",
              "    <style>\n",
              "      .colab-df-generate {\n",
              "        background-color: #E8F0FE;\n",
              "        border: none;\n",
              "        border-radius: 50%;\n",
              "        cursor: pointer;\n",
              "        display: none;\n",
              "        fill: #1967D2;\n",
              "        height: 32px;\n",
              "        padding: 0 0 0 0;\n",
              "        width: 32px;\n",
              "      }\n",
              "\n",
              "      .colab-df-generate:hover {\n",
              "        background-color: #E2EBFA;\n",
              "        box-shadow: 0px 1px 2px rgba(60, 64, 67, 0.3), 0px 1px 3px 1px rgba(60, 64, 67, 0.15);\n",
              "        fill: #174EA6;\n",
              "      }\n",
              "\n",
              "      [theme=dark] .colab-df-generate {\n",
              "        background-color: #3B4455;\n",
              "        fill: #D2E3FC;\n",
              "      }\n",
              "\n",
              "      [theme=dark] .colab-df-generate:hover {\n",
              "        background-color: #434B5C;\n",
              "        box-shadow: 0px 1px 3px 1px rgba(0, 0, 0, 0.15);\n",
              "        filter: drop-shadow(0px 1px 2px rgba(0, 0, 0, 0.3));\n",
              "        fill: #FFFFFF;\n",
              "      }\n",
              "    </style>\n",
              "    <button class=\"colab-df-generate\" onclick=\"generateWithVariable('dummies')\"\n",
              "            title=\"Generate code using this dataframe.\"\n",
              "            style=\"display:none;\">\n",
              "\n",
              "  <svg xmlns=\"http://www.w3.org/2000/svg\" height=\"24px\"viewBox=\"0 0 24 24\"\n",
              "       width=\"24px\">\n",
              "    <path d=\"M7,19H8.4L18.45,9,17,7.55,7,17.6ZM5,21V16.75L18.45,3.32a2,2,0,0,1,2.83,0l1.4,1.43a1.91,1.91,0,0,1,.58,1.4,1.91,1.91,0,0,1-.58,1.4L9.25,21ZM18.45,9,17,7.55Zm-12,3A5.31,5.31,0,0,0,4.9,8.1,5.31,5.31,0,0,0,1,6.5,5.31,5.31,0,0,0,4.9,4.9,5.31,5.31,0,0,0,6.5,1,5.31,5.31,0,0,0,8.1,4.9,5.31,5.31,0,0,0,12,6.5,5.46,5.46,0,0,0,6.5,12Z\"/>\n",
              "  </svg>\n",
              "    </button>\n",
              "    <script>\n",
              "      (() => {\n",
              "      const buttonEl =\n",
              "        document.querySelector('#id_40edf481-7931-421b-bc60-b5dcac85d3db button.colab-df-generate');\n",
              "      buttonEl.style.display =\n",
              "        google.colab.kernel.accessAllowed ? 'block' : 'none';\n",
              "\n",
              "      buttonEl.onclick = () => {\n",
              "        google.colab.notebook.generateWithVariable('dummies');\n",
              "      }\n",
              "      })();\n",
              "    </script>\n",
              "  </div>\n",
              "\n",
              "    </div>\n",
              "  </div>\n"
            ],
            "application/vnd.google.colaboratory.intrinsic+json": {
              "type": "dataframe",
              "variable_name": "dummies",
              "summary": "{\n  \"name\": \"dummies\",\n  \"rows\": 1000,\n  \"fields\": [\n    {\n      \"column\": \"Doors\",\n      \"properties\": {\n        \"dtype\": \"number\",\n        \"std\": 0,\n        \"min\": 3,\n        \"max\": 5,\n        \"num_unique_values\": 3,\n        \"samples\": [\n          4,\n          5,\n          3\n        ],\n        \"semantic_type\": \"\",\n        \"description\": \"\"\n      }\n    },\n    {\n      \"column\": \"Make_BMW\",\n      \"properties\": {\n        \"dtype\": \"boolean\",\n        \"num_unique_values\": 2,\n        \"samples\": [\n          true,\n          false\n        ],\n        \"semantic_type\": \"\",\n        \"description\": \"\"\n      }\n    },\n    {\n      \"column\": \"Make_Honda\",\n      \"properties\": {\n        \"dtype\": \"boolean\",\n        \"num_unique_values\": 2,\n        \"samples\": [\n          false,\n          true\n        ],\n        \"semantic_type\": \"\",\n        \"description\": \"\"\n      }\n    },\n    {\n      \"column\": \"Make_Nissan\",\n      \"properties\": {\n        \"dtype\": \"boolean\",\n        \"num_unique_values\": 2,\n        \"samples\": [\n          true,\n          false\n        ],\n        \"semantic_type\": \"\",\n        \"description\": \"\"\n      }\n    },\n    {\n      \"column\": \"Make_Toyota\",\n      \"properties\": {\n        \"dtype\": \"boolean\",\n        \"num_unique_values\": 2,\n        \"samples\": [\n          true,\n          false\n        ],\n        \"semantic_type\": \"\",\n        \"description\": \"\"\n      }\n    },\n    {\n      \"column\": \"Colour_Black\",\n      \"properties\": {\n        \"dtype\": \"boolean\",\n        \"num_unique_values\": 2,\n        \"samples\": [\n          true,\n          false\n        ],\n        \"semantic_type\": \"\",\n        \"description\": \"\"\n      }\n    },\n    {\n      \"column\": \"Colour_Blue\",\n      \"properties\": {\n        \"dtype\": \"boolean\",\n        \"num_unique_values\": 2,\n        \"samples\": [\n          true,\n          false\n        ],\n        \"semantic_type\": \"\",\n        \"description\": \"\"\n      }\n    },\n    {\n      \"column\": \"Colour_Green\",\n      \"properties\": {\n        \"dtype\": \"boolean\",\n        \"num_unique_values\": 2,\n        \"samples\": [\n          true,\n          false\n        ],\n        \"semantic_type\": \"\",\n        \"description\": \"\"\n      }\n    },\n    {\n      \"column\": \"Colour_Red\",\n      \"properties\": {\n        \"dtype\": \"boolean\",\n        \"num_unique_values\": 2,\n        \"samples\": [\n          true,\n          false\n        ],\n        \"semantic_type\": \"\",\n        \"description\": \"\"\n      }\n    },\n    {\n      \"column\": \"Colour_White\",\n      \"properties\": {\n        \"dtype\": \"boolean\",\n        \"num_unique_values\": 2,\n        \"samples\": [\n          false,\n          true\n        ],\n        \"semantic_type\": \"\",\n        \"description\": \"\"\n      }\n    }\n  ]\n}"
            }
          },
          "metadata": {},
          "execution_count": 113
        }
      ],
      "source": [
        "dummies = pd.get_dummies(car_sales[[\"Make\", \"Colour\", \"Doors\"]])\n",
        "dummies"
      ]
    },
    {
      "cell_type": "code",
      "execution_count": 114,
      "metadata": {
        "id": "rO0MpvMCdAPd",
        "outputId": "5f7e22be-4307-4e2c-9fc5-8af350b9645f",
        "colab": {
          "base_uri": "https://localhost:8080/",
          "height": 443
        }
      },
      "outputs": [
        {
          "output_type": "execute_result",
          "data": {
            "text/plain": [
              "     Make_BMW  Make_Honda  Make_Nissan  Make_Toyota  Colour_Black  \\\n",
              "0       False        True        False        False         False   \n",
              "1        True       False        False        False         False   \n",
              "2       False        True        False        False         False   \n",
              "3       False       False        False         True         False   \n",
              "4       False       False         True        False         False   \n",
              "..        ...         ...          ...          ...           ...   \n",
              "995     False       False        False         True          True   \n",
              "996     False       False         True        False         False   \n",
              "997     False       False         True        False         False   \n",
              "998     False        True        False        False         False   \n",
              "999     False       False        False         True         False   \n",
              "\n",
              "     Colour_Blue  Colour_Green  Colour_Red  Colour_White  Doors_3  Doors_4  \\\n",
              "0          False         False       False          True    False     True   \n",
              "1           True         False       False         False    False    False   \n",
              "2          False         False       False          True    False     True   \n",
              "3          False         False       False          True    False     True   \n",
              "4           True         False       False         False     True    False   \n",
              "..           ...           ...         ...           ...      ...      ...   \n",
              "995        False         False       False         False    False     True   \n",
              "996        False         False       False          True     True    False   \n",
              "997         True         False       False         False    False     True   \n",
              "998        False         False       False          True    False     True   \n",
              "999         True         False       False         False    False     True   \n",
              "\n",
              "     Doors_5  \n",
              "0      False  \n",
              "1       True  \n",
              "2      False  \n",
              "3      False  \n",
              "4      False  \n",
              "..       ...  \n",
              "995    False  \n",
              "996    False  \n",
              "997    False  \n",
              "998    False  \n",
              "999    False  \n",
              "\n",
              "[1000 rows x 12 columns]"
            ],
            "text/html": [
              "\n",
              "  <div id=\"df-681d83db-443f-476e-9ba8-48613147f27d\" class=\"colab-df-container\">\n",
              "    <div>\n",
              "<style scoped>\n",
              "    .dataframe tbody tr th:only-of-type {\n",
              "        vertical-align: middle;\n",
              "    }\n",
              "\n",
              "    .dataframe tbody tr th {\n",
              "        vertical-align: top;\n",
              "    }\n",
              "\n",
              "    .dataframe thead th {\n",
              "        text-align: right;\n",
              "    }\n",
              "</style>\n",
              "<table border=\"1\" class=\"dataframe\">\n",
              "  <thead>\n",
              "    <tr style=\"text-align: right;\">\n",
              "      <th></th>\n",
              "      <th>Make_BMW</th>\n",
              "      <th>Make_Honda</th>\n",
              "      <th>Make_Nissan</th>\n",
              "      <th>Make_Toyota</th>\n",
              "      <th>Colour_Black</th>\n",
              "      <th>Colour_Blue</th>\n",
              "      <th>Colour_Green</th>\n",
              "      <th>Colour_Red</th>\n",
              "      <th>Colour_White</th>\n",
              "      <th>Doors_3</th>\n",
              "      <th>Doors_4</th>\n",
              "      <th>Doors_5</th>\n",
              "    </tr>\n",
              "  </thead>\n",
              "  <tbody>\n",
              "    <tr>\n",
              "      <th>0</th>\n",
              "      <td>False</td>\n",
              "      <td>True</td>\n",
              "      <td>False</td>\n",
              "      <td>False</td>\n",
              "      <td>False</td>\n",
              "      <td>False</td>\n",
              "      <td>False</td>\n",
              "      <td>False</td>\n",
              "      <td>True</td>\n",
              "      <td>False</td>\n",
              "      <td>True</td>\n",
              "      <td>False</td>\n",
              "    </tr>\n",
              "    <tr>\n",
              "      <th>1</th>\n",
              "      <td>True</td>\n",
              "      <td>False</td>\n",
              "      <td>False</td>\n",
              "      <td>False</td>\n",
              "      <td>False</td>\n",
              "      <td>True</td>\n",
              "      <td>False</td>\n",
              "      <td>False</td>\n",
              "      <td>False</td>\n",
              "      <td>False</td>\n",
              "      <td>False</td>\n",
              "      <td>True</td>\n",
              "    </tr>\n",
              "    <tr>\n",
              "      <th>2</th>\n",
              "      <td>False</td>\n",
              "      <td>True</td>\n",
              "      <td>False</td>\n",
              "      <td>False</td>\n",
              "      <td>False</td>\n",
              "      <td>False</td>\n",
              "      <td>False</td>\n",
              "      <td>False</td>\n",
              "      <td>True</td>\n",
              "      <td>False</td>\n",
              "      <td>True</td>\n",
              "      <td>False</td>\n",
              "    </tr>\n",
              "    <tr>\n",
              "      <th>3</th>\n",
              "      <td>False</td>\n",
              "      <td>False</td>\n",
              "      <td>False</td>\n",
              "      <td>True</td>\n",
              "      <td>False</td>\n",
              "      <td>False</td>\n",
              "      <td>False</td>\n",
              "      <td>False</td>\n",
              "      <td>True</td>\n",
              "      <td>False</td>\n",
              "      <td>True</td>\n",
              "      <td>False</td>\n",
              "    </tr>\n",
              "    <tr>\n",
              "      <th>4</th>\n",
              "      <td>False</td>\n",
              "      <td>False</td>\n",
              "      <td>True</td>\n",
              "      <td>False</td>\n",
              "      <td>False</td>\n",
              "      <td>True</td>\n",
              "      <td>False</td>\n",
              "      <td>False</td>\n",
              "      <td>False</td>\n",
              "      <td>True</td>\n",
              "      <td>False</td>\n",
              "      <td>False</td>\n",
              "    </tr>\n",
              "    <tr>\n",
              "      <th>...</th>\n",
              "      <td>...</td>\n",
              "      <td>...</td>\n",
              "      <td>...</td>\n",
              "      <td>...</td>\n",
              "      <td>...</td>\n",
              "      <td>...</td>\n",
              "      <td>...</td>\n",
              "      <td>...</td>\n",
              "      <td>...</td>\n",
              "      <td>...</td>\n",
              "      <td>...</td>\n",
              "      <td>...</td>\n",
              "    </tr>\n",
              "    <tr>\n",
              "      <th>995</th>\n",
              "      <td>False</td>\n",
              "      <td>False</td>\n",
              "      <td>False</td>\n",
              "      <td>True</td>\n",
              "      <td>True</td>\n",
              "      <td>False</td>\n",
              "      <td>False</td>\n",
              "      <td>False</td>\n",
              "      <td>False</td>\n",
              "      <td>False</td>\n",
              "      <td>True</td>\n",
              "      <td>False</td>\n",
              "    </tr>\n",
              "    <tr>\n",
              "      <th>996</th>\n",
              "      <td>False</td>\n",
              "      <td>False</td>\n",
              "      <td>True</td>\n",
              "      <td>False</td>\n",
              "      <td>False</td>\n",
              "      <td>False</td>\n",
              "      <td>False</td>\n",
              "      <td>False</td>\n",
              "      <td>True</td>\n",
              "      <td>True</td>\n",
              "      <td>False</td>\n",
              "      <td>False</td>\n",
              "    </tr>\n",
              "    <tr>\n",
              "      <th>997</th>\n",
              "      <td>False</td>\n",
              "      <td>False</td>\n",
              "      <td>True</td>\n",
              "      <td>False</td>\n",
              "      <td>False</td>\n",
              "      <td>True</td>\n",
              "      <td>False</td>\n",
              "      <td>False</td>\n",
              "      <td>False</td>\n",
              "      <td>False</td>\n",
              "      <td>True</td>\n",
              "      <td>False</td>\n",
              "    </tr>\n",
              "    <tr>\n",
              "      <th>998</th>\n",
              "      <td>False</td>\n",
              "      <td>True</td>\n",
              "      <td>False</td>\n",
              "      <td>False</td>\n",
              "      <td>False</td>\n",
              "      <td>False</td>\n",
              "      <td>False</td>\n",
              "      <td>False</td>\n",
              "      <td>True</td>\n",
              "      <td>False</td>\n",
              "      <td>True</td>\n",
              "      <td>False</td>\n",
              "    </tr>\n",
              "    <tr>\n",
              "      <th>999</th>\n",
              "      <td>False</td>\n",
              "      <td>False</td>\n",
              "      <td>False</td>\n",
              "      <td>True</td>\n",
              "      <td>False</td>\n",
              "      <td>True</td>\n",
              "      <td>False</td>\n",
              "      <td>False</td>\n",
              "      <td>False</td>\n",
              "      <td>False</td>\n",
              "      <td>True</td>\n",
              "      <td>False</td>\n",
              "    </tr>\n",
              "  </tbody>\n",
              "</table>\n",
              "<p>1000 rows × 12 columns</p>\n",
              "</div>\n",
              "    <div class=\"colab-df-buttons\">\n",
              "\n",
              "  <div class=\"colab-df-container\">\n",
              "    <button class=\"colab-df-convert\" onclick=\"convertToInteractive('df-681d83db-443f-476e-9ba8-48613147f27d')\"\n",
              "            title=\"Convert this dataframe to an interactive table.\"\n",
              "            style=\"display:none;\">\n",
              "\n",
              "  <svg xmlns=\"http://www.w3.org/2000/svg\" height=\"24px\" viewBox=\"0 -960 960 960\">\n",
              "    <path d=\"M120-120v-720h720v720H120Zm60-500h600v-160H180v160Zm220 220h160v-160H400v160Zm0 220h160v-160H400v160ZM180-400h160v-160H180v160Zm440 0h160v-160H620v160ZM180-180h160v-160H180v160Zm440 0h160v-160H620v160Z\"/>\n",
              "  </svg>\n",
              "    </button>\n",
              "\n",
              "  <style>\n",
              "    .colab-df-container {\n",
              "      display:flex;\n",
              "      gap: 12px;\n",
              "    }\n",
              "\n",
              "    .colab-df-convert {\n",
              "      background-color: #E8F0FE;\n",
              "      border: none;\n",
              "      border-radius: 50%;\n",
              "      cursor: pointer;\n",
              "      display: none;\n",
              "      fill: #1967D2;\n",
              "      height: 32px;\n",
              "      padding: 0 0 0 0;\n",
              "      width: 32px;\n",
              "    }\n",
              "\n",
              "    .colab-df-convert:hover {\n",
              "      background-color: #E2EBFA;\n",
              "      box-shadow: 0px 1px 2px rgba(60, 64, 67, 0.3), 0px 1px 3px 1px rgba(60, 64, 67, 0.15);\n",
              "      fill: #174EA6;\n",
              "    }\n",
              "\n",
              "    .colab-df-buttons div {\n",
              "      margin-bottom: 4px;\n",
              "    }\n",
              "\n",
              "    [theme=dark] .colab-df-convert {\n",
              "      background-color: #3B4455;\n",
              "      fill: #D2E3FC;\n",
              "    }\n",
              "\n",
              "    [theme=dark] .colab-df-convert:hover {\n",
              "      background-color: #434B5C;\n",
              "      box-shadow: 0px 1px 3px 1px rgba(0, 0, 0, 0.15);\n",
              "      filter: drop-shadow(0px 1px 2px rgba(0, 0, 0, 0.3));\n",
              "      fill: #FFFFFF;\n",
              "    }\n",
              "  </style>\n",
              "\n",
              "    <script>\n",
              "      const buttonEl =\n",
              "        document.querySelector('#df-681d83db-443f-476e-9ba8-48613147f27d button.colab-df-convert');\n",
              "      buttonEl.style.display =\n",
              "        google.colab.kernel.accessAllowed ? 'block' : 'none';\n",
              "\n",
              "      async function convertToInteractive(key) {\n",
              "        const element = document.querySelector('#df-681d83db-443f-476e-9ba8-48613147f27d');\n",
              "        const dataTable =\n",
              "          await google.colab.kernel.invokeFunction('convertToInteractive',\n",
              "                                                    [key], {});\n",
              "        if (!dataTable) return;\n",
              "\n",
              "        const docLinkHtml = 'Like what you see? Visit the ' +\n",
              "          '<a target=\"_blank\" href=https://colab.research.google.com/notebooks/data_table.ipynb>data table notebook</a>'\n",
              "          + ' to learn more about interactive tables.';\n",
              "        element.innerHTML = '';\n",
              "        dataTable['output_type'] = 'display_data';\n",
              "        await google.colab.output.renderOutput(dataTable, element);\n",
              "        const docLink = document.createElement('div');\n",
              "        docLink.innerHTML = docLinkHtml;\n",
              "        element.appendChild(docLink);\n",
              "      }\n",
              "    </script>\n",
              "  </div>\n",
              "\n",
              "\n",
              "<div id=\"df-5361e6dd-176f-4e0b-9ff9-3cd717339073\">\n",
              "  <button class=\"colab-df-quickchart\" onclick=\"quickchart('df-5361e6dd-176f-4e0b-9ff9-3cd717339073')\"\n",
              "            title=\"Suggest charts\"\n",
              "            style=\"display:none;\">\n",
              "\n",
              "<svg xmlns=\"http://www.w3.org/2000/svg\" height=\"24px\"viewBox=\"0 0 24 24\"\n",
              "     width=\"24px\">\n",
              "    <g>\n",
              "        <path d=\"M19 3H5c-1.1 0-2 .9-2 2v14c0 1.1.9 2 2 2h14c1.1 0 2-.9 2-2V5c0-1.1-.9-2-2-2zM9 17H7v-7h2v7zm4 0h-2V7h2v10zm4 0h-2v-4h2v4z\"/>\n",
              "    </g>\n",
              "</svg>\n",
              "  </button>\n",
              "\n",
              "<style>\n",
              "  .colab-df-quickchart {\n",
              "      --bg-color: #E8F0FE;\n",
              "      --fill-color: #1967D2;\n",
              "      --hover-bg-color: #E2EBFA;\n",
              "      --hover-fill-color: #174EA6;\n",
              "      --disabled-fill-color: #AAA;\n",
              "      --disabled-bg-color: #DDD;\n",
              "  }\n",
              "\n",
              "  [theme=dark] .colab-df-quickchart {\n",
              "      --bg-color: #3B4455;\n",
              "      --fill-color: #D2E3FC;\n",
              "      --hover-bg-color: #434B5C;\n",
              "      --hover-fill-color: #FFFFFF;\n",
              "      --disabled-bg-color: #3B4455;\n",
              "      --disabled-fill-color: #666;\n",
              "  }\n",
              "\n",
              "  .colab-df-quickchart {\n",
              "    background-color: var(--bg-color);\n",
              "    border: none;\n",
              "    border-radius: 50%;\n",
              "    cursor: pointer;\n",
              "    display: none;\n",
              "    fill: var(--fill-color);\n",
              "    height: 32px;\n",
              "    padding: 0;\n",
              "    width: 32px;\n",
              "  }\n",
              "\n",
              "  .colab-df-quickchart:hover {\n",
              "    background-color: var(--hover-bg-color);\n",
              "    box-shadow: 0 1px 2px rgba(60, 64, 67, 0.3), 0 1px 3px 1px rgba(60, 64, 67, 0.15);\n",
              "    fill: var(--button-hover-fill-color);\n",
              "  }\n",
              "\n",
              "  .colab-df-quickchart-complete:disabled,\n",
              "  .colab-df-quickchart-complete:disabled:hover {\n",
              "    background-color: var(--disabled-bg-color);\n",
              "    fill: var(--disabled-fill-color);\n",
              "    box-shadow: none;\n",
              "  }\n",
              "\n",
              "  .colab-df-spinner {\n",
              "    border: 2px solid var(--fill-color);\n",
              "    border-color: transparent;\n",
              "    border-bottom-color: var(--fill-color);\n",
              "    animation:\n",
              "      spin 1s steps(1) infinite;\n",
              "  }\n",
              "\n",
              "  @keyframes spin {\n",
              "    0% {\n",
              "      border-color: transparent;\n",
              "      border-bottom-color: var(--fill-color);\n",
              "      border-left-color: var(--fill-color);\n",
              "    }\n",
              "    20% {\n",
              "      border-color: transparent;\n",
              "      border-left-color: var(--fill-color);\n",
              "      border-top-color: var(--fill-color);\n",
              "    }\n",
              "    30% {\n",
              "      border-color: transparent;\n",
              "      border-left-color: var(--fill-color);\n",
              "      border-top-color: var(--fill-color);\n",
              "      border-right-color: var(--fill-color);\n",
              "    }\n",
              "    40% {\n",
              "      border-color: transparent;\n",
              "      border-right-color: var(--fill-color);\n",
              "      border-top-color: var(--fill-color);\n",
              "    }\n",
              "    60% {\n",
              "      border-color: transparent;\n",
              "      border-right-color: var(--fill-color);\n",
              "    }\n",
              "    80% {\n",
              "      border-color: transparent;\n",
              "      border-right-color: var(--fill-color);\n",
              "      border-bottom-color: var(--fill-color);\n",
              "    }\n",
              "    90% {\n",
              "      border-color: transparent;\n",
              "      border-bottom-color: var(--fill-color);\n",
              "    }\n",
              "  }\n",
              "</style>\n",
              "\n",
              "  <script>\n",
              "    async function quickchart(key) {\n",
              "      const quickchartButtonEl =\n",
              "        document.querySelector('#' + key + ' button');\n",
              "      quickchartButtonEl.disabled = true;  // To prevent multiple clicks.\n",
              "      quickchartButtonEl.classList.add('colab-df-spinner');\n",
              "      try {\n",
              "        const charts = await google.colab.kernel.invokeFunction(\n",
              "            'suggestCharts', [key], {});\n",
              "      } catch (error) {\n",
              "        console.error('Error during call to suggestCharts:', error);\n",
              "      }\n",
              "      quickchartButtonEl.classList.remove('colab-df-spinner');\n",
              "      quickchartButtonEl.classList.add('colab-df-quickchart-complete');\n",
              "    }\n",
              "    (() => {\n",
              "      let quickchartButtonEl =\n",
              "        document.querySelector('#df-5361e6dd-176f-4e0b-9ff9-3cd717339073 button');\n",
              "      quickchartButtonEl.style.display =\n",
              "        google.colab.kernel.accessAllowed ? 'block' : 'none';\n",
              "    })();\n",
              "  </script>\n",
              "</div>\n",
              "\n",
              "  <div id=\"id_7b29a250-5945-404b-89bb-6f8dd492d9b4\">\n",
              "    <style>\n",
              "      .colab-df-generate {\n",
              "        background-color: #E8F0FE;\n",
              "        border: none;\n",
              "        border-radius: 50%;\n",
              "        cursor: pointer;\n",
              "        display: none;\n",
              "        fill: #1967D2;\n",
              "        height: 32px;\n",
              "        padding: 0 0 0 0;\n",
              "        width: 32px;\n",
              "      }\n",
              "\n",
              "      .colab-df-generate:hover {\n",
              "        background-color: #E2EBFA;\n",
              "        box-shadow: 0px 1px 2px rgba(60, 64, 67, 0.3), 0px 1px 3px 1px rgba(60, 64, 67, 0.15);\n",
              "        fill: #174EA6;\n",
              "      }\n",
              "\n",
              "      [theme=dark] .colab-df-generate {\n",
              "        background-color: #3B4455;\n",
              "        fill: #D2E3FC;\n",
              "      }\n",
              "\n",
              "      [theme=dark] .colab-df-generate:hover {\n",
              "        background-color: #434B5C;\n",
              "        box-shadow: 0px 1px 3px 1px rgba(0, 0, 0, 0.15);\n",
              "        filter: drop-shadow(0px 1px 2px rgba(0, 0, 0, 0.3));\n",
              "        fill: #FFFFFF;\n",
              "      }\n",
              "    </style>\n",
              "    <button class=\"colab-df-generate\" onclick=\"generateWithVariable('dummies')\"\n",
              "            title=\"Generate code using this dataframe.\"\n",
              "            style=\"display:none;\">\n",
              "\n",
              "  <svg xmlns=\"http://www.w3.org/2000/svg\" height=\"24px\"viewBox=\"0 0 24 24\"\n",
              "       width=\"24px\">\n",
              "    <path d=\"M7,19H8.4L18.45,9,17,7.55,7,17.6ZM5,21V16.75L18.45,3.32a2,2,0,0,1,2.83,0l1.4,1.43a1.91,1.91,0,0,1,.58,1.4,1.91,1.91,0,0,1-.58,1.4L9.25,21ZM18.45,9,17,7.55Zm-12,3A5.31,5.31,0,0,0,4.9,8.1,5.31,5.31,0,0,0,1,6.5,5.31,5.31,0,0,0,4.9,4.9,5.31,5.31,0,0,0,6.5,1,5.31,5.31,0,0,0,8.1,4.9,5.31,5.31,0,0,0,12,6.5,5.46,5.46,0,0,0,6.5,12Z\"/>\n",
              "  </svg>\n",
              "    </button>\n",
              "    <script>\n",
              "      (() => {\n",
              "      const buttonEl =\n",
              "        document.querySelector('#id_7b29a250-5945-404b-89bb-6f8dd492d9b4 button.colab-df-generate');\n",
              "      buttonEl.style.display =\n",
              "        google.colab.kernel.accessAllowed ? 'block' : 'none';\n",
              "\n",
              "      buttonEl.onclick = () => {\n",
              "        google.colab.notebook.generateWithVariable('dummies');\n",
              "      }\n",
              "      })();\n",
              "    </script>\n",
              "  </div>\n",
              "\n",
              "    </div>\n",
              "  </div>\n"
            ],
            "application/vnd.google.colaboratory.intrinsic+json": {
              "type": "dataframe",
              "variable_name": "dummies",
              "summary": "{\n  \"name\": \"dummies\",\n  \"rows\": 1000,\n  \"fields\": [\n    {\n      \"column\": \"Make_BMW\",\n      \"properties\": {\n        \"dtype\": \"boolean\",\n        \"num_unique_values\": 2,\n        \"samples\": [\n          true,\n          false\n        ],\n        \"semantic_type\": \"\",\n        \"description\": \"\"\n      }\n    },\n    {\n      \"column\": \"Make_Honda\",\n      \"properties\": {\n        \"dtype\": \"boolean\",\n        \"num_unique_values\": 2,\n        \"samples\": [\n          false,\n          true\n        ],\n        \"semantic_type\": \"\",\n        \"description\": \"\"\n      }\n    },\n    {\n      \"column\": \"Make_Nissan\",\n      \"properties\": {\n        \"dtype\": \"boolean\",\n        \"num_unique_values\": 2,\n        \"samples\": [\n          true,\n          false\n        ],\n        \"semantic_type\": \"\",\n        \"description\": \"\"\n      }\n    },\n    {\n      \"column\": \"Make_Toyota\",\n      \"properties\": {\n        \"dtype\": \"boolean\",\n        \"num_unique_values\": 2,\n        \"samples\": [\n          true,\n          false\n        ],\n        \"semantic_type\": \"\",\n        \"description\": \"\"\n      }\n    },\n    {\n      \"column\": \"Colour_Black\",\n      \"properties\": {\n        \"dtype\": \"boolean\",\n        \"num_unique_values\": 2,\n        \"samples\": [\n          true,\n          false\n        ],\n        \"semantic_type\": \"\",\n        \"description\": \"\"\n      }\n    },\n    {\n      \"column\": \"Colour_Blue\",\n      \"properties\": {\n        \"dtype\": \"boolean\",\n        \"num_unique_values\": 2,\n        \"samples\": [\n          true,\n          false\n        ],\n        \"semantic_type\": \"\",\n        \"description\": \"\"\n      }\n    },\n    {\n      \"column\": \"Colour_Green\",\n      \"properties\": {\n        \"dtype\": \"boolean\",\n        \"num_unique_values\": 2,\n        \"samples\": [\n          true,\n          false\n        ],\n        \"semantic_type\": \"\",\n        \"description\": \"\"\n      }\n    },\n    {\n      \"column\": \"Colour_Red\",\n      \"properties\": {\n        \"dtype\": \"boolean\",\n        \"num_unique_values\": 2,\n        \"samples\": [\n          true,\n          false\n        ],\n        \"semantic_type\": \"\",\n        \"description\": \"\"\n      }\n    },\n    {\n      \"column\": \"Colour_White\",\n      \"properties\": {\n        \"dtype\": \"boolean\",\n        \"num_unique_values\": 2,\n        \"samples\": [\n          false,\n          true\n        ],\n        \"semantic_type\": \"\",\n        \"description\": \"\"\n      }\n    },\n    {\n      \"column\": \"Doors_3\",\n      \"properties\": {\n        \"dtype\": \"boolean\",\n        \"num_unique_values\": 2,\n        \"samples\": [\n          true,\n          false\n        ],\n        \"semantic_type\": \"\",\n        \"description\": \"\"\n      }\n    },\n    {\n      \"column\": \"Doors_4\",\n      \"properties\": {\n        \"dtype\": \"boolean\",\n        \"num_unique_values\": 2,\n        \"samples\": [\n          false,\n          true\n        ],\n        \"semantic_type\": \"\",\n        \"description\": \"\"\n      }\n    },\n    {\n      \"column\": \"Doors_5\",\n      \"properties\": {\n        \"dtype\": \"boolean\",\n        \"num_unique_values\": 2,\n        \"samples\": [\n          true,\n          false\n        ],\n        \"semantic_type\": \"\",\n        \"description\": \"\"\n      }\n    }\n  ]\n}"
            }
          },
          "metadata": {},
          "execution_count": 114
        }
      ],
      "source": [
        "# Have to convert doors to object for dummies to work on it...\n",
        "car_sales[\"Doors\"] = car_sales[\"Doors\"].astype(object)\n",
        "dummies = pd.get_dummies(car_sales[[\"Make\", \"Colour\", \"Doors\"]])\n",
        "dummies"
      ]
    },
    {
      "cell_type": "code",
      "execution_count": 115,
      "metadata": {
        "id": "6_HtxtjxdAPd",
        "outputId": "1c33a935-db46-47d5-c32a-572fab1f7915",
        "colab": {
          "base_uri": "https://localhost:8080/",
          "height": 241
        }
      },
      "outputs": [
        {
          "output_type": "execute_result",
          "data": {
            "text/plain": [
              "Make\n",
              "Toyota    398\n",
              "Honda     304\n",
              "Nissan    198\n",
              "BMW       100\n",
              "Name: count, dtype: int64"
            ],
            "text/html": [
              "<div>\n",
              "<style scoped>\n",
              "    .dataframe tbody tr th:only-of-type {\n",
              "        vertical-align: middle;\n",
              "    }\n",
              "\n",
              "    .dataframe tbody tr th {\n",
              "        vertical-align: top;\n",
              "    }\n",
              "\n",
              "    .dataframe thead th {\n",
              "        text-align: right;\n",
              "    }\n",
              "</style>\n",
              "<table border=\"1\" class=\"dataframe\">\n",
              "  <thead>\n",
              "    <tr style=\"text-align: right;\">\n",
              "      <th></th>\n",
              "      <th>count</th>\n",
              "    </tr>\n",
              "    <tr>\n",
              "      <th>Make</th>\n",
              "      <th></th>\n",
              "    </tr>\n",
              "  </thead>\n",
              "  <tbody>\n",
              "    <tr>\n",
              "      <th>Toyota</th>\n",
              "      <td>398</td>\n",
              "    </tr>\n",
              "    <tr>\n",
              "      <th>Honda</th>\n",
              "      <td>304</td>\n",
              "    </tr>\n",
              "    <tr>\n",
              "      <th>Nissan</th>\n",
              "      <td>198</td>\n",
              "    </tr>\n",
              "    <tr>\n",
              "      <th>BMW</th>\n",
              "      <td>100</td>\n",
              "    </tr>\n",
              "  </tbody>\n",
              "</table>\n",
              "</div><br><label><b>dtype:</b> int64</label>"
            ]
          },
          "metadata": {},
          "execution_count": 115
        }
      ],
      "source": [
        "# The categorical categories are now either 1 or 0...\n",
        "X[\"Make\"].value_counts()"
      ]
    },
    {
      "cell_type": "code",
      "execution_count": 116,
      "metadata": {
        "id": "d43UmE7vdAPe",
        "outputId": "e4c28865-e6c2-467b-b6c5-84cc93be45e7",
        "colab": {
          "base_uri": "https://localhost:8080/",
          "height": 74
        }
      },
      "outputs": [
        {
          "output_type": "execute_result",
          "data": {
            "text/plain": [
              "RandomForestRegressor()"
            ],
            "text/html": [
              "<style>#sk-container-id-7 {color: black;}#sk-container-id-7 pre{padding: 0;}#sk-container-id-7 div.sk-toggleable {background-color: white;}#sk-container-id-7 label.sk-toggleable__label {cursor: pointer;display: block;width: 100%;margin-bottom: 0;padding: 0.3em;box-sizing: border-box;text-align: center;}#sk-container-id-7 label.sk-toggleable__label-arrow:before {content: \"▸\";float: left;margin-right: 0.25em;color: #696969;}#sk-container-id-7 label.sk-toggleable__label-arrow:hover:before {color: black;}#sk-container-id-7 div.sk-estimator:hover label.sk-toggleable__label-arrow:before {color: black;}#sk-container-id-7 div.sk-toggleable__content {max-height: 0;max-width: 0;overflow: hidden;text-align: left;background-color: #f0f8ff;}#sk-container-id-7 div.sk-toggleable__content pre {margin: 0.2em;color: black;border-radius: 0.25em;background-color: #f0f8ff;}#sk-container-id-7 input.sk-toggleable__control:checked~div.sk-toggleable__content {max-height: 200px;max-width: 100%;overflow: auto;}#sk-container-id-7 input.sk-toggleable__control:checked~label.sk-toggleable__label-arrow:before {content: \"▾\";}#sk-container-id-7 div.sk-estimator input.sk-toggleable__control:checked~label.sk-toggleable__label {background-color: #d4ebff;}#sk-container-id-7 div.sk-label input.sk-toggleable__control:checked~label.sk-toggleable__label {background-color: #d4ebff;}#sk-container-id-7 input.sk-hidden--visually {border: 0;clip: rect(1px 1px 1px 1px);clip: rect(1px, 1px, 1px, 1px);height: 1px;margin: -1px;overflow: hidden;padding: 0;position: absolute;width: 1px;}#sk-container-id-7 div.sk-estimator {font-family: monospace;background-color: #f0f8ff;border: 1px dotted black;border-radius: 0.25em;box-sizing: border-box;margin-bottom: 0.5em;}#sk-container-id-7 div.sk-estimator:hover {background-color: #d4ebff;}#sk-container-id-7 div.sk-parallel-item::after {content: \"\";width: 100%;border-bottom: 1px solid gray;flex-grow: 1;}#sk-container-id-7 div.sk-label:hover label.sk-toggleable__label {background-color: #d4ebff;}#sk-container-id-7 div.sk-serial::before {content: \"\";position: absolute;border-left: 1px solid gray;box-sizing: border-box;top: 0;bottom: 0;left: 50%;z-index: 0;}#sk-container-id-7 div.sk-serial {display: flex;flex-direction: column;align-items: center;background-color: white;padding-right: 0.2em;padding-left: 0.2em;position: relative;}#sk-container-id-7 div.sk-item {position: relative;z-index: 1;}#sk-container-id-7 div.sk-parallel {display: flex;align-items: stretch;justify-content: center;background-color: white;position: relative;}#sk-container-id-7 div.sk-item::before, #sk-container-id-7 div.sk-parallel-item::before {content: \"\";position: absolute;border-left: 1px solid gray;box-sizing: border-box;top: 0;bottom: 0;left: 50%;z-index: -1;}#sk-container-id-7 div.sk-parallel-item {display: flex;flex-direction: column;z-index: 1;position: relative;background-color: white;}#sk-container-id-7 div.sk-parallel-item:first-child::after {align-self: flex-end;width: 50%;}#sk-container-id-7 div.sk-parallel-item:last-child::after {align-self: flex-start;width: 50%;}#sk-container-id-7 div.sk-parallel-item:only-child::after {width: 0;}#sk-container-id-7 div.sk-dashed-wrapped {border: 1px dashed gray;margin: 0 0.4em 0.5em 0.4em;box-sizing: border-box;padding-bottom: 0.4em;background-color: white;}#sk-container-id-7 div.sk-label label {font-family: monospace;font-weight: bold;display: inline-block;line-height: 1.2em;}#sk-container-id-7 div.sk-label-container {text-align: center;}#sk-container-id-7 div.sk-container {/* jupyter's `normalize.less` sets `[hidden] { display: none; }` but bootstrap.min.css set `[hidden] { display: none !important; }` so we also need the `!important` here to be able to override the default hidden behavior on the sphinx rendered scikit-learn.org. See: https://github.com/scikit-learn/scikit-learn/issues/21755 */display: inline-block !important;position: relative;}#sk-container-id-7 div.sk-text-repr-fallback {display: none;}</style><div id=\"sk-container-id-7\" class=\"sk-top-container\"><div class=\"sk-text-repr-fallback\"><pre>RandomForestRegressor()</pre><b>In a Jupyter environment, please rerun this cell to show the HTML representation or trust the notebook. <br />On GitHub, the HTML representation is unable to render, please try loading this page with nbviewer.org.</b></div><div class=\"sk-container\" hidden><div class=\"sk-item\"><div class=\"sk-estimator sk-toggleable\"><input class=\"sk-toggleable__control sk-hidden--visually\" id=\"sk-estimator-id-7\" type=\"checkbox\" checked><label for=\"sk-estimator-id-7\" class=\"sk-toggleable__label sk-toggleable__label-arrow\">RandomForestRegressor</label><div class=\"sk-toggleable__content\"><pre>RandomForestRegressor()</pre></div></div></div></div></div>"
            ]
          },
          "metadata": {},
          "execution_count": 116
        }
      ],
      "source": [
        "# Let's refit the model\n",
        "np.random.seed(42)\n",
        "X_train, X_test, y_train, y_test = train_test_split(dummies, # Use the 'dummies' DataFrame here\n",
        "                                                    y,\n",
        "                                                    test_size=0.2)\n",
        "\n",
        "model.fit(X_train, y_train)"
      ]
    },
    {
      "cell_type": "code",
      "source": [
        "# Import necessary libraries\n",
        "import pandas as pd\n",
        "from sklearn.model_selection import train_test_split\n",
        "from sklearn.ensemble import RandomForestRegressor\n",
        "\n",
        "# Assuming 'car_sales' is your DataFrame and 'Price' is the target variable\n",
        "# ... (Your code to prepare and process the 'car_sales' DataFrame)\n",
        "\n",
        "# Create dummy variables for categorical features\n",
        "dummies = pd.get_dummies(car_sales[[\"Make\", \"Colour\", \"Doors\"]])\n",
        "\n",
        "# Assuming 'y' is your target variable (e.g., car_sales['Price'])\n",
        "y = car_sales[\"Price\"]\n",
        "\n",
        "# Combine numerical features and dummy variables\n",
        "# Replace '...' with the actual names of your numerical columns\n",
        "numerical_features = car_sales[[\"Odometer (KM)\", \"Price\"]] # Example, adjust column names accordingly\n",
        "transformed_X = pd.concat([numerical_features, dummies], axis=1)\n",
        "\n",
        "# Now you can split the data\n",
        "np.random.seed(42)\n",
        "X_train, X_test, y_train, y_test = train_test_split(transformed_X, y, test_size=0.2)\n",
        "\n",
        "# Fit the model\n",
        "model = RandomForestRegressor()\n",
        "model.fit(X_train, y_train)"
      ],
      "metadata": {
        "colab": {
          "base_uri": "https://localhost:8080/",
          "height": 74
        },
        "id": "DilgfStP4EVo",
        "outputId": "a4b053f0-9b3c-48ad-83db-327a0741b971"
      },
      "execution_count": 117,
      "outputs": [
        {
          "output_type": "execute_result",
          "data": {
            "text/plain": [
              "RandomForestRegressor()"
            ],
            "text/html": [
              "<style>#sk-container-id-8 {color: black;}#sk-container-id-8 pre{padding: 0;}#sk-container-id-8 div.sk-toggleable {background-color: white;}#sk-container-id-8 label.sk-toggleable__label {cursor: pointer;display: block;width: 100%;margin-bottom: 0;padding: 0.3em;box-sizing: border-box;text-align: center;}#sk-container-id-8 label.sk-toggleable__label-arrow:before {content: \"▸\";float: left;margin-right: 0.25em;color: #696969;}#sk-container-id-8 label.sk-toggleable__label-arrow:hover:before {color: black;}#sk-container-id-8 div.sk-estimator:hover label.sk-toggleable__label-arrow:before {color: black;}#sk-container-id-8 div.sk-toggleable__content {max-height: 0;max-width: 0;overflow: hidden;text-align: left;background-color: #f0f8ff;}#sk-container-id-8 div.sk-toggleable__content pre {margin: 0.2em;color: black;border-radius: 0.25em;background-color: #f0f8ff;}#sk-container-id-8 input.sk-toggleable__control:checked~div.sk-toggleable__content {max-height: 200px;max-width: 100%;overflow: auto;}#sk-container-id-8 input.sk-toggleable__control:checked~label.sk-toggleable__label-arrow:before {content: \"▾\";}#sk-container-id-8 div.sk-estimator input.sk-toggleable__control:checked~label.sk-toggleable__label {background-color: #d4ebff;}#sk-container-id-8 div.sk-label input.sk-toggleable__control:checked~label.sk-toggleable__label {background-color: #d4ebff;}#sk-container-id-8 input.sk-hidden--visually {border: 0;clip: rect(1px 1px 1px 1px);clip: rect(1px, 1px, 1px, 1px);height: 1px;margin: -1px;overflow: hidden;padding: 0;position: absolute;width: 1px;}#sk-container-id-8 div.sk-estimator {font-family: monospace;background-color: #f0f8ff;border: 1px dotted black;border-radius: 0.25em;box-sizing: border-box;margin-bottom: 0.5em;}#sk-container-id-8 div.sk-estimator:hover {background-color: #d4ebff;}#sk-container-id-8 div.sk-parallel-item::after {content: \"\";width: 100%;border-bottom: 1px solid gray;flex-grow: 1;}#sk-container-id-8 div.sk-label:hover label.sk-toggleable__label {background-color: #d4ebff;}#sk-container-id-8 div.sk-serial::before {content: \"\";position: absolute;border-left: 1px solid gray;box-sizing: border-box;top: 0;bottom: 0;left: 50%;z-index: 0;}#sk-container-id-8 div.sk-serial {display: flex;flex-direction: column;align-items: center;background-color: white;padding-right: 0.2em;padding-left: 0.2em;position: relative;}#sk-container-id-8 div.sk-item {position: relative;z-index: 1;}#sk-container-id-8 div.sk-parallel {display: flex;align-items: stretch;justify-content: center;background-color: white;position: relative;}#sk-container-id-8 div.sk-item::before, #sk-container-id-8 div.sk-parallel-item::before {content: \"\";position: absolute;border-left: 1px solid gray;box-sizing: border-box;top: 0;bottom: 0;left: 50%;z-index: -1;}#sk-container-id-8 div.sk-parallel-item {display: flex;flex-direction: column;z-index: 1;position: relative;background-color: white;}#sk-container-id-8 div.sk-parallel-item:first-child::after {align-self: flex-end;width: 50%;}#sk-container-id-8 div.sk-parallel-item:last-child::after {align-self: flex-start;width: 50%;}#sk-container-id-8 div.sk-parallel-item:only-child::after {width: 0;}#sk-container-id-8 div.sk-dashed-wrapped {border: 1px dashed gray;margin: 0 0.4em 0.5em 0.4em;box-sizing: border-box;padding-bottom: 0.4em;background-color: white;}#sk-container-id-8 div.sk-label label {font-family: monospace;font-weight: bold;display: inline-block;line-height: 1.2em;}#sk-container-id-8 div.sk-label-container {text-align: center;}#sk-container-id-8 div.sk-container {/* jupyter's `normalize.less` sets `[hidden] { display: none; }` but bootstrap.min.css set `[hidden] { display: none !important; }` so we also need the `!important` here to be able to override the default hidden behavior on the sphinx rendered scikit-learn.org. See: https://github.com/scikit-learn/scikit-learn/issues/21755 */display: inline-block !important;position: relative;}#sk-container-id-8 div.sk-text-repr-fallback {display: none;}</style><div id=\"sk-container-id-8\" class=\"sk-top-container\"><div class=\"sk-text-repr-fallback\"><pre>RandomForestRegressor()</pre><b>In a Jupyter environment, please rerun this cell to show the HTML representation or trust the notebook. <br />On GitHub, the HTML representation is unable to render, please try loading this page with nbviewer.org.</b></div><div class=\"sk-container\" hidden><div class=\"sk-item\"><div class=\"sk-estimator sk-toggleable\"><input class=\"sk-toggleable__control sk-hidden--visually\" id=\"sk-estimator-id-8\" type=\"checkbox\" checked><label for=\"sk-estimator-id-8\" class=\"sk-toggleable__label sk-toggleable__label-arrow\">RandomForestRegressor</label><div class=\"sk-toggleable__content\"><pre>RandomForestRegressor()</pre></div></div></div></div></div>"
            ]
          },
          "metadata": {},
          "execution_count": 117
        }
      ]
    },
    {
      "cell_type": "code",
      "execution_count": 118,
      "metadata": {
        "id": "OvJyH51rdAPe",
        "outputId": "45b6f382-1c0f-4235-d2fc-17e56ad808df",
        "colab": {
          "base_uri": "https://localhost:8080/"
        }
      },
      "outputs": [
        {
          "output_type": "execute_result",
          "data": {
            "text/plain": [
              "0.9987579219949492"
            ]
          },
          "metadata": {},
          "execution_count": 118
        }
      ],
      "source": [
        "model.score(X_test, y_test)"
      ]
    },
    {
      "cell_type": "markdown",
      "metadata": {
        "id": "j7gXKDeYdAPe"
      },
      "source": [
        "### 1.2 What if there were missing values?\n",
        "\n",
        "Many machine learning models don't work well when there are missing values in the data.\n",
        "\n",
        "There are two main options when dealing with missing values.\n",
        "\n",
        "1. Fill them with some given value. For example, you might fill missing values of a numerical column with the mean of all the other values. The practice of filling missing values is often referred to as imputation.\n",
        "2. Remove them. If a row has missing values, you may opt to remove them completely from your sample completely. However, this potentially results in using less data to build your model.\n",
        "\n",
        "**Note:** Dealing with missing values is a problem to problem issue. And there's often no best way to do it."
      ]
    },
    {
      "cell_type": "code",
      "execution_count": 119,
      "metadata": {
        "id": "pvaUa-s5dAPf",
        "outputId": "ac66b129-0c99-4c5b-b11c-0fdea784c978",
        "colab": {
          "base_uri": "https://localhost:8080/",
          "height": 423
        }
      },
      "outputs": [
        {
          "output_type": "execute_result",
          "data": {
            "text/plain": [
              "       Make Colour  Odometer (KM)  Doors    Price\n",
              "0     Honda  White        35431.0    4.0  15323.0\n",
              "1       BMW   Blue       192714.0    5.0  19943.0\n",
              "2     Honda  White        84714.0    4.0  28343.0\n",
              "3    Toyota  White       154365.0    4.0  13434.0\n",
              "4    Nissan   Blue       181577.0    3.0  14043.0\n",
              "..      ...    ...            ...    ...      ...\n",
              "995  Toyota  Black        35820.0    4.0  32042.0\n",
              "996     NaN  White       155144.0    3.0   5716.0\n",
              "997  Nissan   Blue        66604.0    4.0  31570.0\n",
              "998   Honda  White       215883.0    4.0   4001.0\n",
              "999  Toyota   Blue       248360.0    4.0  12732.0\n",
              "\n",
              "[1000 rows x 5 columns]"
            ],
            "text/html": [
              "\n",
              "  <div id=\"df-10ef24d3-3dca-4251-be72-f855cdc30a98\" class=\"colab-df-container\">\n",
              "    <div>\n",
              "<style scoped>\n",
              "    .dataframe tbody tr th:only-of-type {\n",
              "        vertical-align: middle;\n",
              "    }\n",
              "\n",
              "    .dataframe tbody tr th {\n",
              "        vertical-align: top;\n",
              "    }\n",
              "\n",
              "    .dataframe thead th {\n",
              "        text-align: right;\n",
              "    }\n",
              "</style>\n",
              "<table border=\"1\" class=\"dataframe\">\n",
              "  <thead>\n",
              "    <tr style=\"text-align: right;\">\n",
              "      <th></th>\n",
              "      <th>Make</th>\n",
              "      <th>Colour</th>\n",
              "      <th>Odometer (KM)</th>\n",
              "      <th>Doors</th>\n",
              "      <th>Price</th>\n",
              "    </tr>\n",
              "  </thead>\n",
              "  <tbody>\n",
              "    <tr>\n",
              "      <th>0</th>\n",
              "      <td>Honda</td>\n",
              "      <td>White</td>\n",
              "      <td>35431.0</td>\n",
              "      <td>4.0</td>\n",
              "      <td>15323.0</td>\n",
              "    </tr>\n",
              "    <tr>\n",
              "      <th>1</th>\n",
              "      <td>BMW</td>\n",
              "      <td>Blue</td>\n",
              "      <td>192714.0</td>\n",
              "      <td>5.0</td>\n",
              "      <td>19943.0</td>\n",
              "    </tr>\n",
              "    <tr>\n",
              "      <th>2</th>\n",
              "      <td>Honda</td>\n",
              "      <td>White</td>\n",
              "      <td>84714.0</td>\n",
              "      <td>4.0</td>\n",
              "      <td>28343.0</td>\n",
              "    </tr>\n",
              "    <tr>\n",
              "      <th>3</th>\n",
              "      <td>Toyota</td>\n",
              "      <td>White</td>\n",
              "      <td>154365.0</td>\n",
              "      <td>4.0</td>\n",
              "      <td>13434.0</td>\n",
              "    </tr>\n",
              "    <tr>\n",
              "      <th>4</th>\n",
              "      <td>Nissan</td>\n",
              "      <td>Blue</td>\n",
              "      <td>181577.0</td>\n",
              "      <td>3.0</td>\n",
              "      <td>14043.0</td>\n",
              "    </tr>\n",
              "    <tr>\n",
              "      <th>...</th>\n",
              "      <td>...</td>\n",
              "      <td>...</td>\n",
              "      <td>...</td>\n",
              "      <td>...</td>\n",
              "      <td>...</td>\n",
              "    </tr>\n",
              "    <tr>\n",
              "      <th>995</th>\n",
              "      <td>Toyota</td>\n",
              "      <td>Black</td>\n",
              "      <td>35820.0</td>\n",
              "      <td>4.0</td>\n",
              "      <td>32042.0</td>\n",
              "    </tr>\n",
              "    <tr>\n",
              "      <th>996</th>\n",
              "      <td>NaN</td>\n",
              "      <td>White</td>\n",
              "      <td>155144.0</td>\n",
              "      <td>3.0</td>\n",
              "      <td>5716.0</td>\n",
              "    </tr>\n",
              "    <tr>\n",
              "      <th>997</th>\n",
              "      <td>Nissan</td>\n",
              "      <td>Blue</td>\n",
              "      <td>66604.0</td>\n",
              "      <td>4.0</td>\n",
              "      <td>31570.0</td>\n",
              "    </tr>\n",
              "    <tr>\n",
              "      <th>998</th>\n",
              "      <td>Honda</td>\n",
              "      <td>White</td>\n",
              "      <td>215883.0</td>\n",
              "      <td>4.0</td>\n",
              "      <td>4001.0</td>\n",
              "    </tr>\n",
              "    <tr>\n",
              "      <th>999</th>\n",
              "      <td>Toyota</td>\n",
              "      <td>Blue</td>\n",
              "      <td>248360.0</td>\n",
              "      <td>4.0</td>\n",
              "      <td>12732.0</td>\n",
              "    </tr>\n",
              "  </tbody>\n",
              "</table>\n",
              "<p>1000 rows × 5 columns</p>\n",
              "</div>\n",
              "    <div class=\"colab-df-buttons\">\n",
              "\n",
              "  <div class=\"colab-df-container\">\n",
              "    <button class=\"colab-df-convert\" onclick=\"convertToInteractive('df-10ef24d3-3dca-4251-be72-f855cdc30a98')\"\n",
              "            title=\"Convert this dataframe to an interactive table.\"\n",
              "            style=\"display:none;\">\n",
              "\n",
              "  <svg xmlns=\"http://www.w3.org/2000/svg\" height=\"24px\" viewBox=\"0 -960 960 960\">\n",
              "    <path d=\"M120-120v-720h720v720H120Zm60-500h600v-160H180v160Zm220 220h160v-160H400v160Zm0 220h160v-160H400v160ZM180-400h160v-160H180v160Zm440 0h160v-160H620v160ZM180-180h160v-160H180v160Zm440 0h160v-160H620v160Z\"/>\n",
              "  </svg>\n",
              "    </button>\n",
              "\n",
              "  <style>\n",
              "    .colab-df-container {\n",
              "      display:flex;\n",
              "      gap: 12px;\n",
              "    }\n",
              "\n",
              "    .colab-df-convert {\n",
              "      background-color: #E8F0FE;\n",
              "      border: none;\n",
              "      border-radius: 50%;\n",
              "      cursor: pointer;\n",
              "      display: none;\n",
              "      fill: #1967D2;\n",
              "      height: 32px;\n",
              "      padding: 0 0 0 0;\n",
              "      width: 32px;\n",
              "    }\n",
              "\n",
              "    .colab-df-convert:hover {\n",
              "      background-color: #E2EBFA;\n",
              "      box-shadow: 0px 1px 2px rgba(60, 64, 67, 0.3), 0px 1px 3px 1px rgba(60, 64, 67, 0.15);\n",
              "      fill: #174EA6;\n",
              "    }\n",
              "\n",
              "    .colab-df-buttons div {\n",
              "      margin-bottom: 4px;\n",
              "    }\n",
              "\n",
              "    [theme=dark] .colab-df-convert {\n",
              "      background-color: #3B4455;\n",
              "      fill: #D2E3FC;\n",
              "    }\n",
              "\n",
              "    [theme=dark] .colab-df-convert:hover {\n",
              "      background-color: #434B5C;\n",
              "      box-shadow: 0px 1px 3px 1px rgba(0, 0, 0, 0.15);\n",
              "      filter: drop-shadow(0px 1px 2px rgba(0, 0, 0, 0.3));\n",
              "      fill: #FFFFFF;\n",
              "    }\n",
              "  </style>\n",
              "\n",
              "    <script>\n",
              "      const buttonEl =\n",
              "        document.querySelector('#df-10ef24d3-3dca-4251-be72-f855cdc30a98 button.colab-df-convert');\n",
              "      buttonEl.style.display =\n",
              "        google.colab.kernel.accessAllowed ? 'block' : 'none';\n",
              "\n",
              "      async function convertToInteractive(key) {\n",
              "        const element = document.querySelector('#df-10ef24d3-3dca-4251-be72-f855cdc30a98');\n",
              "        const dataTable =\n",
              "          await google.colab.kernel.invokeFunction('convertToInteractive',\n",
              "                                                    [key], {});\n",
              "        if (!dataTable) return;\n",
              "\n",
              "        const docLinkHtml = 'Like what you see? Visit the ' +\n",
              "          '<a target=\"_blank\" href=https://colab.research.google.com/notebooks/data_table.ipynb>data table notebook</a>'\n",
              "          + ' to learn more about interactive tables.';\n",
              "        element.innerHTML = '';\n",
              "        dataTable['output_type'] = 'display_data';\n",
              "        await google.colab.output.renderOutput(dataTable, element);\n",
              "        const docLink = document.createElement('div');\n",
              "        docLink.innerHTML = docLinkHtml;\n",
              "        element.appendChild(docLink);\n",
              "      }\n",
              "    </script>\n",
              "  </div>\n",
              "\n",
              "\n",
              "<div id=\"df-846fef5a-31e1-434d-a9c8-b70cd44d8f0c\">\n",
              "  <button class=\"colab-df-quickchart\" onclick=\"quickchart('df-846fef5a-31e1-434d-a9c8-b70cd44d8f0c')\"\n",
              "            title=\"Suggest charts\"\n",
              "            style=\"display:none;\">\n",
              "\n",
              "<svg xmlns=\"http://www.w3.org/2000/svg\" height=\"24px\"viewBox=\"0 0 24 24\"\n",
              "     width=\"24px\">\n",
              "    <g>\n",
              "        <path d=\"M19 3H5c-1.1 0-2 .9-2 2v14c0 1.1.9 2 2 2h14c1.1 0 2-.9 2-2V5c0-1.1-.9-2-2-2zM9 17H7v-7h2v7zm4 0h-2V7h2v10zm4 0h-2v-4h2v4z\"/>\n",
              "    </g>\n",
              "</svg>\n",
              "  </button>\n",
              "\n",
              "<style>\n",
              "  .colab-df-quickchart {\n",
              "      --bg-color: #E8F0FE;\n",
              "      --fill-color: #1967D2;\n",
              "      --hover-bg-color: #E2EBFA;\n",
              "      --hover-fill-color: #174EA6;\n",
              "      --disabled-fill-color: #AAA;\n",
              "      --disabled-bg-color: #DDD;\n",
              "  }\n",
              "\n",
              "  [theme=dark] .colab-df-quickchart {\n",
              "      --bg-color: #3B4455;\n",
              "      --fill-color: #D2E3FC;\n",
              "      --hover-bg-color: #434B5C;\n",
              "      --hover-fill-color: #FFFFFF;\n",
              "      --disabled-bg-color: #3B4455;\n",
              "      --disabled-fill-color: #666;\n",
              "  }\n",
              "\n",
              "  .colab-df-quickchart {\n",
              "    background-color: var(--bg-color);\n",
              "    border: none;\n",
              "    border-radius: 50%;\n",
              "    cursor: pointer;\n",
              "    display: none;\n",
              "    fill: var(--fill-color);\n",
              "    height: 32px;\n",
              "    padding: 0;\n",
              "    width: 32px;\n",
              "  }\n",
              "\n",
              "  .colab-df-quickchart:hover {\n",
              "    background-color: var(--hover-bg-color);\n",
              "    box-shadow: 0 1px 2px rgba(60, 64, 67, 0.3), 0 1px 3px 1px rgba(60, 64, 67, 0.15);\n",
              "    fill: var(--button-hover-fill-color);\n",
              "  }\n",
              "\n",
              "  .colab-df-quickchart-complete:disabled,\n",
              "  .colab-df-quickchart-complete:disabled:hover {\n",
              "    background-color: var(--disabled-bg-color);\n",
              "    fill: var(--disabled-fill-color);\n",
              "    box-shadow: none;\n",
              "  }\n",
              "\n",
              "  .colab-df-spinner {\n",
              "    border: 2px solid var(--fill-color);\n",
              "    border-color: transparent;\n",
              "    border-bottom-color: var(--fill-color);\n",
              "    animation:\n",
              "      spin 1s steps(1) infinite;\n",
              "  }\n",
              "\n",
              "  @keyframes spin {\n",
              "    0% {\n",
              "      border-color: transparent;\n",
              "      border-bottom-color: var(--fill-color);\n",
              "      border-left-color: var(--fill-color);\n",
              "    }\n",
              "    20% {\n",
              "      border-color: transparent;\n",
              "      border-left-color: var(--fill-color);\n",
              "      border-top-color: var(--fill-color);\n",
              "    }\n",
              "    30% {\n",
              "      border-color: transparent;\n",
              "      border-left-color: var(--fill-color);\n",
              "      border-top-color: var(--fill-color);\n",
              "      border-right-color: var(--fill-color);\n",
              "    }\n",
              "    40% {\n",
              "      border-color: transparent;\n",
              "      border-right-color: var(--fill-color);\n",
              "      border-top-color: var(--fill-color);\n",
              "    }\n",
              "    60% {\n",
              "      border-color: transparent;\n",
              "      border-right-color: var(--fill-color);\n",
              "    }\n",
              "    80% {\n",
              "      border-color: transparent;\n",
              "      border-right-color: var(--fill-color);\n",
              "      border-bottom-color: var(--fill-color);\n",
              "    }\n",
              "    90% {\n",
              "      border-color: transparent;\n",
              "      border-bottom-color: var(--fill-color);\n",
              "    }\n",
              "  }\n",
              "</style>\n",
              "\n",
              "  <script>\n",
              "    async function quickchart(key) {\n",
              "      const quickchartButtonEl =\n",
              "        document.querySelector('#' + key + ' button');\n",
              "      quickchartButtonEl.disabled = true;  // To prevent multiple clicks.\n",
              "      quickchartButtonEl.classList.add('colab-df-spinner');\n",
              "      try {\n",
              "        const charts = await google.colab.kernel.invokeFunction(\n",
              "            'suggestCharts', [key], {});\n",
              "      } catch (error) {\n",
              "        console.error('Error during call to suggestCharts:', error);\n",
              "      }\n",
              "      quickchartButtonEl.classList.remove('colab-df-spinner');\n",
              "      quickchartButtonEl.classList.add('colab-df-quickchart-complete');\n",
              "    }\n",
              "    (() => {\n",
              "      let quickchartButtonEl =\n",
              "        document.querySelector('#df-846fef5a-31e1-434d-a9c8-b70cd44d8f0c button');\n",
              "      quickchartButtonEl.style.display =\n",
              "        google.colab.kernel.accessAllowed ? 'block' : 'none';\n",
              "    })();\n",
              "  </script>\n",
              "</div>\n",
              "\n",
              "  <div id=\"id_4e43fe49-a62f-4f26-835a-f08d1648a26d\">\n",
              "    <style>\n",
              "      .colab-df-generate {\n",
              "        background-color: #E8F0FE;\n",
              "        border: none;\n",
              "        border-radius: 50%;\n",
              "        cursor: pointer;\n",
              "        display: none;\n",
              "        fill: #1967D2;\n",
              "        height: 32px;\n",
              "        padding: 0 0 0 0;\n",
              "        width: 32px;\n",
              "      }\n",
              "\n",
              "      .colab-df-generate:hover {\n",
              "        background-color: #E2EBFA;\n",
              "        box-shadow: 0px 1px 2px rgba(60, 64, 67, 0.3), 0px 1px 3px 1px rgba(60, 64, 67, 0.15);\n",
              "        fill: #174EA6;\n",
              "      }\n",
              "\n",
              "      [theme=dark] .colab-df-generate {\n",
              "        background-color: #3B4455;\n",
              "        fill: #D2E3FC;\n",
              "      }\n",
              "\n",
              "      [theme=dark] .colab-df-generate:hover {\n",
              "        background-color: #434B5C;\n",
              "        box-shadow: 0px 1px 3px 1px rgba(0, 0, 0, 0.15);\n",
              "        filter: drop-shadow(0px 1px 2px rgba(0, 0, 0, 0.3));\n",
              "        fill: #FFFFFF;\n",
              "      }\n",
              "    </style>\n",
              "    <button class=\"colab-df-generate\" onclick=\"generateWithVariable('car_sales_missing')\"\n",
              "            title=\"Generate code using this dataframe.\"\n",
              "            style=\"display:none;\">\n",
              "\n",
              "  <svg xmlns=\"http://www.w3.org/2000/svg\" height=\"24px\"viewBox=\"0 0 24 24\"\n",
              "       width=\"24px\">\n",
              "    <path d=\"M7,19H8.4L18.45,9,17,7.55,7,17.6ZM5,21V16.75L18.45,3.32a2,2,0,0,1,2.83,0l1.4,1.43a1.91,1.91,0,0,1,.58,1.4,1.91,1.91,0,0,1-.58,1.4L9.25,21ZM18.45,9,17,7.55Zm-12,3A5.31,5.31,0,0,0,4.9,8.1,5.31,5.31,0,0,0,1,6.5,5.31,5.31,0,0,0,4.9,4.9,5.31,5.31,0,0,0,6.5,1,5.31,5.31,0,0,0,8.1,4.9,5.31,5.31,0,0,0,12,6.5,5.46,5.46,0,0,0,6.5,12Z\"/>\n",
              "  </svg>\n",
              "    </button>\n",
              "    <script>\n",
              "      (() => {\n",
              "      const buttonEl =\n",
              "        document.querySelector('#id_4e43fe49-a62f-4f26-835a-f08d1648a26d button.colab-df-generate');\n",
              "      buttonEl.style.display =\n",
              "        google.colab.kernel.accessAllowed ? 'block' : 'none';\n",
              "\n",
              "      buttonEl.onclick = () => {\n",
              "        google.colab.notebook.generateWithVariable('car_sales_missing');\n",
              "      }\n",
              "      })();\n",
              "    </script>\n",
              "  </div>\n",
              "\n",
              "    </div>\n",
              "  </div>\n"
            ],
            "application/vnd.google.colaboratory.intrinsic+json": {
              "type": "dataframe",
              "variable_name": "car_sales_missing",
              "summary": "{\n  \"name\": \"car_sales_missing\",\n  \"rows\": 1000,\n  \"fields\": [\n    {\n      \"column\": \"Make\",\n      \"properties\": {\n        \"dtype\": \"category\",\n        \"num_unique_values\": 4,\n        \"samples\": [\n          \"BMW\",\n          \"Nissan\",\n          \"Honda\"\n        ],\n        \"semantic_type\": \"\",\n        \"description\": \"\"\n      }\n    },\n    {\n      \"column\": \"Colour\",\n      \"properties\": {\n        \"dtype\": \"category\",\n        \"num_unique_values\": 5,\n        \"samples\": [\n          \"Blue\",\n          \"Black\",\n          \"Red\"\n        ],\n        \"semantic_type\": \"\",\n        \"description\": \"\"\n      }\n    },\n    {\n      \"column\": \"Odometer (KM)\",\n      \"properties\": {\n        \"dtype\": \"number\",\n        \"std\": 69094.85718673005,\n        \"min\": 10148.0,\n        \"max\": 249860.0,\n        \"num_unique_values\": 948,\n        \"samples\": [\n          137628.0,\n          216250.0,\n          148949.0\n        ],\n        \"semantic_type\": \"\",\n        \"description\": \"\"\n      }\n    },\n    {\n      \"column\": \"Doors\",\n      \"properties\": {\n        \"dtype\": \"number\",\n        \"std\": 0.3825385667987723,\n        \"min\": 3.0,\n        \"max\": 5.0,\n        \"num_unique_values\": 3,\n        \"samples\": [\n          4.0,\n          5.0,\n          3.0\n        ],\n        \"semantic_type\": \"\",\n        \"description\": \"\"\n      }\n    },\n    {\n      \"column\": \"Price\",\n      \"properties\": {\n        \"dtype\": \"number\",\n        \"std\": 8581.695035921593,\n        \"min\": 2796.0,\n        \"max\": 52458.0,\n        \"num_unique_values\": 934,\n        \"samples\": [\n          3974.0,\n          22436.0,\n          9530.0\n        ],\n        \"semantic_type\": \"\",\n        \"description\": \"\"\n      }\n    }\n  ]\n}"
            }
          },
          "metadata": {},
          "execution_count": 119
        }
      ],
      "source": [
        "# Import car sales dataframe with missing values\n",
        "car_sales_missing = pd.read_csv(\"/content/car-sales-extended-missing-data.csv\")\n",
        "car_sales_missing"
      ]
    },
    {
      "cell_type": "code",
      "execution_count": 120,
      "metadata": {
        "id": "-rjSelRfdAPf",
        "outputId": "6dd98d87-a28f-49e7-eb16-a06a0d69010c",
        "colab": {
          "base_uri": "https://localhost:8080/",
          "height": 241
        }
      },
      "outputs": [
        {
          "output_type": "execute_result",
          "data": {
            "text/plain": [
              "Make             49\n",
              "Colour           50\n",
              "Odometer (KM)    50\n",
              "Doors            50\n",
              "Price            50\n",
              "dtype: int64"
            ],
            "text/html": [
              "<div>\n",
              "<style scoped>\n",
              "    .dataframe tbody tr th:only-of-type {\n",
              "        vertical-align: middle;\n",
              "    }\n",
              "\n",
              "    .dataframe tbody tr th {\n",
              "        vertical-align: top;\n",
              "    }\n",
              "\n",
              "    .dataframe thead th {\n",
              "        text-align: right;\n",
              "    }\n",
              "</style>\n",
              "<table border=\"1\" class=\"dataframe\">\n",
              "  <thead>\n",
              "    <tr style=\"text-align: right;\">\n",
              "      <th></th>\n",
              "      <th>0</th>\n",
              "    </tr>\n",
              "  </thead>\n",
              "  <tbody>\n",
              "    <tr>\n",
              "      <th>Make</th>\n",
              "      <td>49</td>\n",
              "    </tr>\n",
              "    <tr>\n",
              "      <th>Colour</th>\n",
              "      <td>50</td>\n",
              "    </tr>\n",
              "    <tr>\n",
              "      <th>Odometer (KM)</th>\n",
              "      <td>50</td>\n",
              "    </tr>\n",
              "    <tr>\n",
              "      <th>Doors</th>\n",
              "      <td>50</td>\n",
              "    </tr>\n",
              "    <tr>\n",
              "      <th>Price</th>\n",
              "      <td>50</td>\n",
              "    </tr>\n",
              "  </tbody>\n",
              "</table>\n",
              "</div><br><label><b>dtype:</b> int64</label>"
            ]
          },
          "metadata": {},
          "execution_count": 120
        }
      ],
      "source": [
        "car_sales_missing.isna().sum()"
      ]
    },
    {
      "cell_type": "code",
      "execution_count": 121,
      "metadata": {
        "id": "THglC7VDdAPf",
        "outputId": "92ef1b08-27ff-4a75-d3c3-182639ad46bb",
        "colab": {
          "base_uri": "https://localhost:8080/"
        }
      },
      "outputs": [
        {
          "output_type": "execute_result",
          "data": {
            "text/plain": [
              "<1000x17 sparse matrix of type '<class 'numpy.float64'>'\n",
              "\twith 5000 stored elements in Compressed Sparse Row format>"
            ]
          },
          "metadata": {},
          "execution_count": 121
        }
      ],
      "source": [
        "# Let's convert the categorical columns to one hot encoded (code copied from above)\n",
        "# Turn the categories (Make and Colour) into numbers\n",
        "from sklearn.preprocessing import OneHotEncoder\n",
        "from sklearn.compose import ColumnTransformer\n",
        "\n",
        "categorical_features = [\"Make\", \"Colour\", \"Doors\"]\n",
        "one_hot = OneHotEncoder()\n",
        "transformer = ColumnTransformer([(\"one_hot\",\n",
        "                                 one_hot,\n",
        "                                 categorical_features)],\n",
        "                                 remainder=\"passthrough\")\n",
        "transformed_X = transformer.fit_transform(car_sales_missing)\n",
        "transformed_X"
      ]
    },
    {
      "cell_type": "markdown",
      "metadata": {
        "id": "FgYc8nKOdAPg"
      },
      "source": [
        "Ahh... this doesn't work. We'll have to either fill or remove the missing values.\n",
        "\n",
        "Let's see what values are missing again."
      ]
    },
    {
      "cell_type": "code",
      "execution_count": 122,
      "metadata": {
        "id": "M1HDarkGdAPg",
        "outputId": "7c978640-b0a4-4daa-f872-17cb29a6f7f6",
        "colab": {
          "base_uri": "https://localhost:8080/",
          "height": 241
        }
      },
      "outputs": [
        {
          "output_type": "execute_result",
          "data": {
            "text/plain": [
              "Make             49\n",
              "Colour           50\n",
              "Odometer (KM)    50\n",
              "Doors            50\n",
              "Price            50\n",
              "dtype: int64"
            ],
            "text/html": [
              "<div>\n",
              "<style scoped>\n",
              "    .dataframe tbody tr th:only-of-type {\n",
              "        vertical-align: middle;\n",
              "    }\n",
              "\n",
              "    .dataframe tbody tr th {\n",
              "        vertical-align: top;\n",
              "    }\n",
              "\n",
              "    .dataframe thead th {\n",
              "        text-align: right;\n",
              "    }\n",
              "</style>\n",
              "<table border=\"1\" class=\"dataframe\">\n",
              "  <thead>\n",
              "    <tr style=\"text-align: right;\">\n",
              "      <th></th>\n",
              "      <th>0</th>\n",
              "    </tr>\n",
              "  </thead>\n",
              "  <tbody>\n",
              "    <tr>\n",
              "      <th>Make</th>\n",
              "      <td>49</td>\n",
              "    </tr>\n",
              "    <tr>\n",
              "      <th>Colour</th>\n",
              "      <td>50</td>\n",
              "    </tr>\n",
              "    <tr>\n",
              "      <th>Odometer (KM)</th>\n",
              "      <td>50</td>\n",
              "    </tr>\n",
              "    <tr>\n",
              "      <th>Doors</th>\n",
              "      <td>50</td>\n",
              "    </tr>\n",
              "    <tr>\n",
              "      <th>Price</th>\n",
              "      <td>50</td>\n",
              "    </tr>\n",
              "  </tbody>\n",
              "</table>\n",
              "</div><br><label><b>dtype:</b> int64</label>"
            ]
          },
          "metadata": {},
          "execution_count": 122
        }
      ],
      "source": [
        "car_sales_missing.isna().sum()"
      ]
    },
    {
      "cell_type": "markdown",
      "metadata": {
        "id": "5B4GkQzWdAPg"
      },
      "source": [
        "### 1.2.1 Fill missing data with pandas"
      ]
    },
    {
      "cell_type": "markdown",
      "metadata": {
        "id": "fmvGHvE8dAPg"
      },
      "source": [
        "What we'll do is fill the rows where categorical values are missing with `\"missing\"`, the numerical features with the mean or 4 for the doors. And drop the rows where the Price is missing.\n",
        "\n",
        "We could fill Price with the mean, however, since it's the target variable, we don't want to be introducing too many fake labels.\n",
        "\n",
        "**Note:** The practice of filling missing data is called **imputation**. And it's important to remember there's no perfect way to fill missing data. The methods we're using are only one of many. The techniques you use will depend heavily on your dataset. A good place to look would be searching for \"data imputation techniques\"."
      ]
    },
    {
      "cell_type": "code",
      "execution_count": 123,
      "metadata": {
        "id": "b0ZBJLVYdAPh"
      },
      "outputs": [],
      "source": [
        "# Fill the \"Make\" column\n",
        "car_sales_missing[\"Make\"].fillna(\"missing\", inplace=True)"
      ]
    },
    {
      "cell_type": "code",
      "execution_count": 124,
      "metadata": {
        "id": "1nl3ty0UdAPh"
      },
      "outputs": [],
      "source": [
        "# Fill the \"Colour\" column\n",
        "car_sales_missing[\"Colour\"].fillna(\"missing\", inplace=True)"
      ]
    },
    {
      "cell_type": "code",
      "execution_count": 125,
      "metadata": {
        "id": "OvJh5p7NdAPh"
      },
      "outputs": [],
      "source": [
        "# Fill the \"Odometer (KM)\" column\n",
        "car_sales_missing[\"Odometer (KM)\"].fillna(car_sales_missing[\"Odometer (KM)\"].mean(), inplace=True)"
      ]
    },
    {
      "cell_type": "code",
      "execution_count": 126,
      "metadata": {
        "id": "4GRv-x92dAPh"
      },
      "outputs": [],
      "source": [
        "# Fill the \"Doors\" column\n",
        "car_sales_missing[\"Doors\"].fillna(4, inplace=True)"
      ]
    },
    {
      "cell_type": "code",
      "execution_count": 127,
      "metadata": {
        "id": "go2GGnQKdAPh",
        "outputId": "ea8ce14f-59cd-4e3b-eb07-a6a087c436e6",
        "colab": {
          "base_uri": "https://localhost:8080/",
          "height": 241
        }
      },
      "outputs": [
        {
          "output_type": "execute_result",
          "data": {
            "text/plain": [
              "Make              0\n",
              "Colour            0\n",
              "Odometer (KM)     0\n",
              "Doors             0\n",
              "Price            50\n",
              "dtype: int64"
            ],
            "text/html": [
              "<div>\n",
              "<style scoped>\n",
              "    .dataframe tbody tr th:only-of-type {\n",
              "        vertical-align: middle;\n",
              "    }\n",
              "\n",
              "    .dataframe tbody tr th {\n",
              "        vertical-align: top;\n",
              "    }\n",
              "\n",
              "    .dataframe thead th {\n",
              "        text-align: right;\n",
              "    }\n",
              "</style>\n",
              "<table border=\"1\" class=\"dataframe\">\n",
              "  <thead>\n",
              "    <tr style=\"text-align: right;\">\n",
              "      <th></th>\n",
              "      <th>0</th>\n",
              "    </tr>\n",
              "  </thead>\n",
              "  <tbody>\n",
              "    <tr>\n",
              "      <th>Make</th>\n",
              "      <td>0</td>\n",
              "    </tr>\n",
              "    <tr>\n",
              "      <th>Colour</th>\n",
              "      <td>0</td>\n",
              "    </tr>\n",
              "    <tr>\n",
              "      <th>Odometer (KM)</th>\n",
              "      <td>0</td>\n",
              "    </tr>\n",
              "    <tr>\n",
              "      <th>Doors</th>\n",
              "      <td>0</td>\n",
              "    </tr>\n",
              "    <tr>\n",
              "      <th>Price</th>\n",
              "      <td>50</td>\n",
              "    </tr>\n",
              "  </tbody>\n",
              "</table>\n",
              "</div><br><label><b>dtype:</b> int64</label>"
            ]
          },
          "metadata": {},
          "execution_count": 127
        }
      ],
      "source": [
        "# Check our dataframe\n",
        "car_sales_missing.isna().sum()"
      ]
    },
    {
      "cell_type": "code",
      "execution_count": 128,
      "metadata": {
        "id": "6Zw4QN45dAPi"
      },
      "outputs": [],
      "source": [
        "# Remove rows with missing Price labels\n",
        "car_sales_missing.dropna(inplace=True)"
      ]
    },
    {
      "cell_type": "code",
      "execution_count": 129,
      "metadata": {
        "id": "jWIxYpN-dAPi",
        "outputId": "4110c6c1-043b-4a39-c36b-5964b7da122a",
        "colab": {
          "base_uri": "https://localhost:8080/",
          "height": 241
        }
      },
      "outputs": [
        {
          "output_type": "execute_result",
          "data": {
            "text/plain": [
              "Make             0\n",
              "Colour           0\n",
              "Odometer (KM)    0\n",
              "Doors            0\n",
              "Price            0\n",
              "dtype: int64"
            ],
            "text/html": [
              "<div>\n",
              "<style scoped>\n",
              "    .dataframe tbody tr th:only-of-type {\n",
              "        vertical-align: middle;\n",
              "    }\n",
              "\n",
              "    .dataframe tbody tr th {\n",
              "        vertical-align: top;\n",
              "    }\n",
              "\n",
              "    .dataframe thead th {\n",
              "        text-align: right;\n",
              "    }\n",
              "</style>\n",
              "<table border=\"1\" class=\"dataframe\">\n",
              "  <thead>\n",
              "    <tr style=\"text-align: right;\">\n",
              "      <th></th>\n",
              "      <th>0</th>\n",
              "    </tr>\n",
              "  </thead>\n",
              "  <tbody>\n",
              "    <tr>\n",
              "      <th>Make</th>\n",
              "      <td>0</td>\n",
              "    </tr>\n",
              "    <tr>\n",
              "      <th>Colour</th>\n",
              "      <td>0</td>\n",
              "    </tr>\n",
              "    <tr>\n",
              "      <th>Odometer (KM)</th>\n",
              "      <td>0</td>\n",
              "    </tr>\n",
              "    <tr>\n",
              "      <th>Doors</th>\n",
              "      <td>0</td>\n",
              "    </tr>\n",
              "    <tr>\n",
              "      <th>Price</th>\n",
              "      <td>0</td>\n",
              "    </tr>\n",
              "  </tbody>\n",
              "</table>\n",
              "</div><br><label><b>dtype:</b> int64</label>"
            ]
          },
          "metadata": {},
          "execution_count": 129
        }
      ],
      "source": [
        "car_sales_missing.isna().sum()"
      ]
    },
    {
      "cell_type": "markdown",
      "metadata": {
        "id": "1AvOJvxWdAPj"
      },
      "source": [
        "We've removed the rows with missing Price values, now there's less data but there's no more missing values."
      ]
    },
    {
      "cell_type": "code",
      "execution_count": 130,
      "metadata": {
        "id": "zs9G-1ExdAPj",
        "outputId": "795e0405-f33f-4ae6-f0e2-72d324836834",
        "colab": {
          "base_uri": "https://localhost:8080/"
        }
      },
      "outputs": [
        {
          "output_type": "execute_result",
          "data": {
            "text/plain": [
              "950"
            ]
          },
          "metadata": {},
          "execution_count": 130
        }
      ],
      "source": [
        "len(car_sales_missing)"
      ]
    },
    {
      "cell_type": "code",
      "execution_count": 131,
      "metadata": {
        "id": "29YA0D_HdAPj",
        "outputId": "904c6bce-079e-4835-8ef7-fd4d62bffea1",
        "colab": {
          "base_uri": "https://localhost:8080/"
        }
      },
      "outputs": [
        {
          "output_type": "execute_result",
          "data": {
            "text/plain": [
              "array([[0.00000e+00, 1.00000e+00, 0.00000e+00, ..., 0.00000e+00,\n",
              "        3.54310e+04, 1.53230e+04],\n",
              "       [1.00000e+00, 0.00000e+00, 0.00000e+00, ..., 1.00000e+00,\n",
              "        1.92714e+05, 1.99430e+04],\n",
              "       [0.00000e+00, 1.00000e+00, 0.00000e+00, ..., 0.00000e+00,\n",
              "        8.47140e+04, 2.83430e+04],\n",
              "       ...,\n",
              "       [0.00000e+00, 0.00000e+00, 1.00000e+00, ..., 0.00000e+00,\n",
              "        6.66040e+04, 3.15700e+04],\n",
              "       [0.00000e+00, 1.00000e+00, 0.00000e+00, ..., 0.00000e+00,\n",
              "        2.15883e+05, 4.00100e+03],\n",
              "       [0.00000e+00, 0.00000e+00, 0.00000e+00, ..., 0.00000e+00,\n",
              "        2.48360e+05, 1.27320e+04]])"
            ]
          },
          "metadata": {},
          "execution_count": 131
        }
      ],
      "source": [
        "# Now let's one-hot encode the categorical columns (copied from above)\n",
        "from sklearn.preprocessing import OneHotEncoder\n",
        "from sklearn.compose import ColumnTransformer\n",
        "\n",
        "categorical_features = [\"Make\", \"Colour\", \"Doors\"]\n",
        "one_hot = OneHotEncoder()\n",
        "transformer = ColumnTransformer([(\"one_hot\",\n",
        "                                 one_hot,\n",
        "                                 categorical_features)],\n",
        "                                 remainder=\"passthrough\")\n",
        "transformed_X = transformer.fit_transform(car_sales_missing)\n",
        "transformed_X"
      ]
    },
    {
      "cell_type": "code",
      "execution_count": 132,
      "metadata": {
        "id": "oEyUzlY6dAPj",
        "outputId": "07499fde-e45e-4dbb-e876-b568ab210c59",
        "colab": {
          "base_uri": "https://localhost:8080/"
        }
      },
      "outputs": [
        {
          "output_type": "execute_result",
          "data": {
            "text/plain": [
              "array([0.0000e+00, 1.0000e+00, 0.0000e+00, 0.0000e+00, 0.0000e+00,\n",
              "       0.0000e+00, 0.0000e+00, 0.0000e+00, 0.0000e+00, 1.0000e+00,\n",
              "       0.0000e+00, 0.0000e+00, 1.0000e+00, 0.0000e+00, 3.5431e+04,\n",
              "       1.5323e+04])"
            ]
          },
          "metadata": {},
          "execution_count": 132
        }
      ],
      "source": [
        "transformed_X[0]"
      ]
    },
    {
      "cell_type": "markdown",
      "metadata": {
        "id": "wH-mRBe3dAPk"
      },
      "source": [
        "### 1.2.2 Filling missing data and transforming categorical data with Scikit-Learn"
      ]
    },
    {
      "cell_type": "markdown",
      "metadata": {
        "id": "c4EfMrHWdAPk"
      },
      "source": [
        "Now we've filled the missing columns using pandas functions, you might be thinking, \"Why pandas? I thought this was a Scikit-Learn introduction?\".\n",
        "\n",
        "Not to worry, scikit-learn provides another method called [`SimpleImputer()`](https://scikit-learn.org/stable/modules/generated/sklearn.impute.SimpleImputer.html#sklearn.impute.SimpleImputer) which allows us to do a similar thing.\n",
        "\n",
        "`SimpleImputer()` transforms data by filling missing values with a given strategy.\n",
        "\n",
        "And we can use it to fill the missing values in our DataFrame as above.\n",
        "\n",
        "At the moment, our dataframe has no mising values."
      ]
    },
    {
      "cell_type": "code",
      "execution_count": 133,
      "metadata": {
        "id": "l6FUzn5CdAPk",
        "outputId": "594b7e1a-993b-41fa-e15a-c59e004c890c",
        "colab": {
          "base_uri": "https://localhost:8080/",
          "height": 241
        }
      },
      "outputs": [
        {
          "output_type": "execute_result",
          "data": {
            "text/plain": [
              "Make             0\n",
              "Colour           0\n",
              "Odometer (KM)    0\n",
              "Doors            0\n",
              "Price            0\n",
              "dtype: int64"
            ],
            "text/html": [
              "<div>\n",
              "<style scoped>\n",
              "    .dataframe tbody tr th:only-of-type {\n",
              "        vertical-align: middle;\n",
              "    }\n",
              "\n",
              "    .dataframe tbody tr th {\n",
              "        vertical-align: top;\n",
              "    }\n",
              "\n",
              "    .dataframe thead th {\n",
              "        text-align: right;\n",
              "    }\n",
              "</style>\n",
              "<table border=\"1\" class=\"dataframe\">\n",
              "  <thead>\n",
              "    <tr style=\"text-align: right;\">\n",
              "      <th></th>\n",
              "      <th>0</th>\n",
              "    </tr>\n",
              "  </thead>\n",
              "  <tbody>\n",
              "    <tr>\n",
              "      <th>Make</th>\n",
              "      <td>0</td>\n",
              "    </tr>\n",
              "    <tr>\n",
              "      <th>Colour</th>\n",
              "      <td>0</td>\n",
              "    </tr>\n",
              "    <tr>\n",
              "      <th>Odometer (KM)</th>\n",
              "      <td>0</td>\n",
              "    </tr>\n",
              "    <tr>\n",
              "      <th>Doors</th>\n",
              "      <td>0</td>\n",
              "    </tr>\n",
              "    <tr>\n",
              "      <th>Price</th>\n",
              "      <td>0</td>\n",
              "    </tr>\n",
              "  </tbody>\n",
              "</table>\n",
              "</div><br><label><b>dtype:</b> int64</label>"
            ]
          },
          "metadata": {},
          "execution_count": 133
        }
      ],
      "source": [
        "car_sales_missing.isna().sum()"
      ]
    },
    {
      "cell_type": "markdown",
      "metadata": {
        "id": "pESPL2v7dAPk"
      },
      "source": [
        "Let's reimport it so it has missing values and we can fill them with Scikit-Learn."
      ]
    },
    {
      "cell_type": "code",
      "execution_count": 134,
      "metadata": {
        "id": "xNptW5q7dAPk",
        "outputId": "5337b1f1-66cf-4ca2-a911-1b483d0142c1",
        "colab": {
          "base_uri": "https://localhost:8080/",
          "height": 241
        }
      },
      "outputs": [
        {
          "output_type": "execute_result",
          "data": {
            "text/plain": [
              "Make             49\n",
              "Colour           50\n",
              "Odometer (KM)    50\n",
              "Doors            50\n",
              "Price            50\n",
              "dtype: int64"
            ],
            "text/html": [
              "<div>\n",
              "<style scoped>\n",
              "    .dataframe tbody tr th:only-of-type {\n",
              "        vertical-align: middle;\n",
              "    }\n",
              "\n",
              "    .dataframe tbody tr th {\n",
              "        vertical-align: top;\n",
              "    }\n",
              "\n",
              "    .dataframe thead th {\n",
              "        text-align: right;\n",
              "    }\n",
              "</style>\n",
              "<table border=\"1\" class=\"dataframe\">\n",
              "  <thead>\n",
              "    <tr style=\"text-align: right;\">\n",
              "      <th></th>\n",
              "      <th>0</th>\n",
              "    </tr>\n",
              "  </thead>\n",
              "  <tbody>\n",
              "    <tr>\n",
              "      <th>Make</th>\n",
              "      <td>49</td>\n",
              "    </tr>\n",
              "    <tr>\n",
              "      <th>Colour</th>\n",
              "      <td>50</td>\n",
              "    </tr>\n",
              "    <tr>\n",
              "      <th>Odometer (KM)</th>\n",
              "      <td>50</td>\n",
              "    </tr>\n",
              "    <tr>\n",
              "      <th>Doors</th>\n",
              "      <td>50</td>\n",
              "    </tr>\n",
              "    <tr>\n",
              "      <th>Price</th>\n",
              "      <td>50</td>\n",
              "    </tr>\n",
              "  </tbody>\n",
              "</table>\n",
              "</div><br><label><b>dtype:</b> int64</label>"
            ]
          },
          "metadata": {},
          "execution_count": 134
        }
      ],
      "source": [
        "import pandas as pd\n",
        "# Reimport the DataFrame\n",
        "car_sales_missing = pd.read_csv(\"/content/car-sales-extended-missing-data.csv\")\n",
        "car_sales_missing.isna().sum()"
      ]
    },
    {
      "cell_type": "code",
      "execution_count": null,
      "metadata": {
        "id": "9fqxHLHVdAPl"
      },
      "outputs": [],
      "source": [
        "# Drop the rows with missing in the \"Price\" column\n",
        "car_sales_missing.dropna(subset=[\"Price\"], inplace=True)"
      ]
    },
    {
      "cell_type": "markdown",
      "source": [
        "# Dropa NAN values\n",
        "The line of code you posted is using the dropna method from pandas, a popular data manipulation library in Python.\n",
        "\n",
        "\n",
        "---\n",
        "\n",
        "\n",
        "Here's a quick breakdown of what it does:\n",
        "\n",
        "    car_sales_missing\n",
        "\n",
        "This is presumably a pandas DataFrame containing car sales data.\n",
        "\n",
        "    .dropna()\n",
        "\n",
        "This method is used to remove missing values from a DataFrame.\n",
        "\n",
        "    subset=[\"Price\"]\n",
        "\n",
        "This specifies that the method should only look at the \"Price\" column to determine which rows have missing values.\n",
        "\n",
        "inplace=True: This means that the method will modify the original DataFrame in place, rather than returning a new DataFrame with the missing values removed.\n",
        "\n",
        "So,\n",
        "    car_sales_missing.dropna(subset=[\"Price\"], inplace=True)\n",
        "\n",
        "will remove any rows from the car_sales_missing DataFrame where the \"Price\" column has missing values and will do this directly in the original DataFrame without creating a copy."
      ],
      "metadata": {
        "id": "CiX5UIrrDtS0"
      }
    },
    {
      "cell_type": "code",
      "execution_count": null,
      "metadata": {
        "id": "zMJSkeoudAPl",
        "outputId": "eec2b084-9eec-4897-fb25-0258d8c9a9e0",
        "colab": {
          "base_uri": "https://localhost:8080/",
          "height": 241
        }
      },
      "outputs": [
        {
          "output_type": "execute_result",
          "data": {
            "text/plain": [
              "Make             47\n",
              "Colour           46\n",
              "Odometer (KM)    48\n",
              "Doors            47\n",
              "Price             0\n",
              "dtype: int64"
            ],
            "text/html": [
              "<div>\n",
              "<style scoped>\n",
              "    .dataframe tbody tr th:only-of-type {\n",
              "        vertical-align: middle;\n",
              "    }\n",
              "\n",
              "    .dataframe tbody tr th {\n",
              "        vertical-align: top;\n",
              "    }\n",
              "\n",
              "    .dataframe thead th {\n",
              "        text-align: right;\n",
              "    }\n",
              "</style>\n",
              "<table border=\"1\" class=\"dataframe\">\n",
              "  <thead>\n",
              "    <tr style=\"text-align: right;\">\n",
              "      <th></th>\n",
              "      <th>0</th>\n",
              "    </tr>\n",
              "  </thead>\n",
              "  <tbody>\n",
              "    <tr>\n",
              "      <th>Make</th>\n",
              "      <td>47</td>\n",
              "    </tr>\n",
              "    <tr>\n",
              "      <th>Colour</th>\n",
              "      <td>46</td>\n",
              "    </tr>\n",
              "    <tr>\n",
              "      <th>Odometer (KM)</th>\n",
              "      <td>48</td>\n",
              "    </tr>\n",
              "    <tr>\n",
              "      <th>Doors</th>\n",
              "      <td>47</td>\n",
              "    </tr>\n",
              "    <tr>\n",
              "      <th>Price</th>\n",
              "      <td>0</td>\n",
              "    </tr>\n",
              "  </tbody>\n",
              "</table>\n",
              "</div><br><label><b>dtype:</b> int64</label>"
            ]
          },
          "metadata": {},
          "execution_count": 5
        }
      ],
      "source": [
        "car_sales_missing.isna().sum()"
      ]
    },
    {
      "cell_type": "code",
      "execution_count": null,
      "metadata": {
        "id": "bQo2h8m9dAPl"
      },
      "outputs": [],
      "source": [
        "import numpy as np\n",
        "from sklearn.model_selection import train_test_split\n",
        "\n",
        "# Split into X and y\n",
        "X = car_sales_missing.drop(\"Price\", axis=1)\n",
        "y = car_sales_missing[\"Price\"]\n",
        "\n",
        "# Split data into train and test\n",
        "np.random.seed(42)\n",
        "X_train, X_test, y_train, y_test = train_test_split(X,\n",
        "                                                    y,\n",
        "                                                    test_size=0.2)"
      ]
    },
    {
      "cell_type": "markdown",
      "metadata": {
        "id": "TI9Va_K7dAPm"
      },
      "source": [
        "**Note:** We split data into train & test to perform filling missing values on them separately."
      ]
    },
    {
      "cell_type": "code",
      "execution_count": null,
      "metadata": {
        "id": "F2l1UcEMdAPm"
      },
      "outputs": [],
      "source": [
        "from sklearn.impute import SimpleImputer\n",
        "from sklearn.compose import ColumnTransformer"
      ]
    },
    {
      "cell_type": "code",
      "execution_count": null,
      "metadata": {
        "id": "fXsiK4dAdAPn"
      },
      "outputs": [],
      "source": [
        "# Fill categorical values with 'missing' & numerical with mean\n",
        "cat_imputer = SimpleImputer(strategy=\"constant\", fill_value=\"missing\")\n",
        "door_imputer = SimpleImputer(strategy=\"constant\", fill_value=4)\n",
        "num_imputer = SimpleImputer(strategy=\"mean\")"
      ]
    },
    {
      "cell_type": "markdown",
      "source": [
        "# Define Simple Imputer\n",
        "SimpleImputer instances from the sklearn.impute module in the scikit-learn library, which is used for handling missing values in datasets.\n",
        "\n",
        "--------------\n",
        "Here's a breakdown of each part:\n",
        "\n",
        "##SimpleImputer\n",
        "\n",
        "This is a class provided by scikit-learn for imputing (filling in) missing values in datasets.\n",
        "\n",
        "You can specify different strategies for imputation depending on whether the data is categorical or numerical.\n",
        "\n",
        "-----\n",
        "##cat_imputer\n",
        "\n",
        "    cat_imputer = SimpleImputer(strategy=\"constant\", fill_value=\"missing\")\n",
        "\n",
        "\n",
        "##strategy=\"constant\"\n",
        "\n",
        "This tells the imputer to fill in missing values with a constant value.\n",
        "\n",
        "##fill_value=\"missing\"\n",
        "\n",
        "This specifies that the constant value to be used for imputation is the string \"missing\".\n",
        "\n",
        "This is appropriate for categorical data where you want to label missing values with a specific placeholder.\n",
        "\n",
        "\n",
        "##door_imputer:\n",
        "\n",
        "    door_imputer = SimpleImputer(strategy=\"constant\", fill_value=4)\n",
        "\n",
        "Similar to cat_imputer, this imputer uses the \"constant\" strategy, but the constant value to fill in missing data is 4.\n",
        "\n",
        "##strategy=\"constant\"\n",
        "\n",
        "This tells the SimpleImputer to use a fixed, constant value to fill in any missing data in the specified column.\n",
        "\n",
        "This strategy is particularly useful when you want to replace missing entries with a specific value rather than using statistical methods like the mean, median, or mode.\n",
        "\n",
        "##fill_value=4\n",
        "\n",
        "The fill_value parameter is the actual value that will be used to replace missing data.\n",
        "\n",
        "In this case, any missing values in the column that the imputer is applied to will be replaced with the value 4.\n",
        "\n",
        "This might be used for a categorical feature where you want to fill missing values with a specific number, perhaps representing a default category or value.\n",
        "\n",
        "-----------------------------\n",
        "#num_imputer:\n",
        "\n",
        "    num_imputer = SimpleImputer(strategy=\"mean\")\n",
        "\n",
        "##strategy=\"mean\"\n",
        "\n",
        "This tells the imputer to fill missing values with the mean of the non-missing values in the column.\n",
        "\n",
        "This is a common approach for numerical data where you want to replace missing values with the average value of that feature.\n",
        "\n",
        "------------------------\n",
        "#Example Usage\n",
        "Let's say you have a DataFrame with categorical and numerical columns, and you want to handle missing values accordingly:\n",
        "\n",
        "    from sklearn.impute import SimpleImputer\n",
        "    import pandas as pd\n",
        "\n",
        "# Example DataFrame\n",
        "    df = pd.DataFrame({\n",
        "       'Color': ['Red', 'Blue', None, 'Green'],\n",
        "       'Doors': [4, None, 4, 2],\n",
        "        'Price': [20000, 25000, None, 22000]\n",
        "        })\n",
        "\n",
        "# Initialize imputers\n",
        "    cat_imputer = SimpleImputer(strategy=\"constant\", fill_value=\"missing\")\n",
        "    door_imputer = SimpleImputer(strategy=\"constant\", fill_value=4)\n",
        "    num_imputer = SimpleImputer(strategy=\"mean\")\n",
        "\n",
        "# Impute categorical data\n",
        "    df['Color'] = cat_imputer.fit_transform(df[['Color']])\n",
        "\n",
        "# Impute door data\n",
        "    df['Doors'] = door_imputer.fit_transform(df[['Doors']])\n",
        "\n",
        "# Impute numerical data\n",
        "    df['Price'] = num_imputer.fit_transform(df[['Price']])\n",
        "\n",
        "    print(df)\n",
        "\n",
        "-------\n",
        "#After running the imputation\n",
        "\n",
        "Missing values in the Color column are replaced with \"missing\".\n",
        "\n",
        "Missing values in the Doors column are replaced with 4.\n",
        "\n",
        "Missing values in the Price column are replaced with the mean of the non-missing values.\n",
        "\n",
        "This approach helps in preparing your data for further analysis or modeling by ensuring that missing values are handled consistently."
      ],
      "metadata": {
        "id": "mDvxJr9sI35f"
      }
    },
    {
      "cell_type": "code",
      "execution_count": null,
      "metadata": {
        "id": "HD_YfcHrdAPn"
      },
      "outputs": [],
      "source": [
        "# Define different column features\n",
        "categorical_features = [\"Make\", \"Colour\"]\n",
        "door_feature = [\"Doors\"]\n",
        "numerical_feature = [\"Odometer (KM)\"]"
      ]
    },
    {
      "cell_type": "markdown",
      "metadata": {
        "id": "aeP0xGf4dAPo"
      },
      "source": [
        "**Note:** We use `fit_transform()` on the training data and `transform()` on the testing data. In essence, we learn the patterns in the training set and transform it via imputation (fit, then transform). Then we take those same patterns and fill the test set (transform only)."
      ]
    },
    {
      "cell_type": "code",
      "execution_count": 11,
      "metadata": {
        "id": "2MURVZfsdAPo",
        "outputId": "da66177a-e3ca-4cc4-a64c-4dac084c06c6",
        "colab": {
          "base_uri": "https://localhost:8080/"
        }
      },
      "outputs": [
        {
          "output_type": "execute_result",
          "data": {
            "text/plain": [
              "array([['Honda', 'White', 4.0, 71934.0],\n",
              "       ['Toyota', 'Red', 4.0, 162665.0],\n",
              "       ['Honda', 'White', 4.0, 42844.0],\n",
              "       ...,\n",
              "       ['Toyota', 'White', 4.0, 196225.0],\n",
              "       ['Honda', 'Blue', 4.0, 133117.0],\n",
              "       ['Honda', 'missing', 4.0, 150582.0]], dtype=object)"
            ]
          },
          "metadata": {},
          "execution_count": 11
        }
      ],
      "source": [
        "imputer = ColumnTransformer([\n",
        "    (\"cat_imputer\", cat_imputer, categorical_features),\n",
        "    (\"door_imputer\", door_imputer, door_feature),\n",
        "    (\"num_imputer\", num_imputer, numerical_feature)])\n",
        "\n",
        "# Fill train and test values separately\n",
        "filled_X_train = imputer.fit_transform(X_train)\n",
        "filled_X_test = imputer.transform(X_test)\n",
        "\n",
        "# Check filled X_train\n",
        "filled_X_train"
      ]
    },
    {
      "cell_type": "code",
      "execution_count": 12,
      "metadata": {
        "id": "xFq7xZ2YdAPo",
        "outputId": "8941a794-5016-49f9-dd46-bad462add431",
        "colab": {
          "base_uri": "https://localhost:8080/",
          "height": 209
        }
      },
      "outputs": [
        {
          "output_type": "execute_result",
          "data": {
            "text/plain": [
              "Make             0\n",
              "Colour           0\n",
              "Doors            0\n",
              "Odometer (KM)    0\n",
              "dtype: int64"
            ],
            "text/html": [
              "<div>\n",
              "<style scoped>\n",
              "    .dataframe tbody tr th:only-of-type {\n",
              "        vertical-align: middle;\n",
              "    }\n",
              "\n",
              "    .dataframe tbody tr th {\n",
              "        vertical-align: top;\n",
              "    }\n",
              "\n",
              "    .dataframe thead th {\n",
              "        text-align: right;\n",
              "    }\n",
              "</style>\n",
              "<table border=\"1\" class=\"dataframe\">\n",
              "  <thead>\n",
              "    <tr style=\"text-align: right;\">\n",
              "      <th></th>\n",
              "      <th>0</th>\n",
              "    </tr>\n",
              "  </thead>\n",
              "  <tbody>\n",
              "    <tr>\n",
              "      <th>Make</th>\n",
              "      <td>0</td>\n",
              "    </tr>\n",
              "    <tr>\n",
              "      <th>Colour</th>\n",
              "      <td>0</td>\n",
              "    </tr>\n",
              "    <tr>\n",
              "      <th>Doors</th>\n",
              "      <td>0</td>\n",
              "    </tr>\n",
              "    <tr>\n",
              "      <th>Odometer (KM)</th>\n",
              "      <td>0</td>\n",
              "    </tr>\n",
              "  </tbody>\n",
              "</table>\n",
              "</div><br><label><b>dtype:</b> int64</label>"
            ]
          },
          "metadata": {},
          "execution_count": 12
        }
      ],
      "source": [
        "# Get our transformed data array's back into DataFrame's\n",
        "car_sales_filled_train = pd.DataFrame(filled_X_train,\n",
        "                                      columns=[\"Make\", \"Colour\", \"Doors\", \"Odometer (KM)\"])\n",
        "\n",
        "car_sales_filled_test = pd.DataFrame(filled_X_test,\n",
        "                                      columns=[\"Make\", \"Colour\", \"Doors\", \"Odometer (KM)\"])\n",
        "\n",
        "# Check missing data in training set\n",
        "car_sales_filled_train.isna().sum()"
      ]
    },
    {
      "cell_type": "code",
      "execution_count": 13,
      "metadata": {
        "id": "blPiLcwvdAPo",
        "outputId": "69b05fdc-0fa8-430e-a76e-f92e2797b67d",
        "colab": {
          "base_uri": "https://localhost:8080/",
          "height": 241
        }
      },
      "outputs": [
        {
          "output_type": "execute_result",
          "data": {
            "text/plain": [
              "Make             47\n",
              "Colour           46\n",
              "Odometer (KM)    48\n",
              "Doors            47\n",
              "Price             0\n",
              "dtype: int64"
            ],
            "text/html": [
              "<div>\n",
              "<style scoped>\n",
              "    .dataframe tbody tr th:only-of-type {\n",
              "        vertical-align: middle;\n",
              "    }\n",
              "\n",
              "    .dataframe tbody tr th {\n",
              "        vertical-align: top;\n",
              "    }\n",
              "\n",
              "    .dataframe thead th {\n",
              "        text-align: right;\n",
              "    }\n",
              "</style>\n",
              "<table border=\"1\" class=\"dataframe\">\n",
              "  <thead>\n",
              "    <tr style=\"text-align: right;\">\n",
              "      <th></th>\n",
              "      <th>0</th>\n",
              "    </tr>\n",
              "  </thead>\n",
              "  <tbody>\n",
              "    <tr>\n",
              "      <th>Make</th>\n",
              "      <td>47</td>\n",
              "    </tr>\n",
              "    <tr>\n",
              "      <th>Colour</th>\n",
              "      <td>46</td>\n",
              "    </tr>\n",
              "    <tr>\n",
              "      <th>Odometer (KM)</th>\n",
              "      <td>48</td>\n",
              "    </tr>\n",
              "    <tr>\n",
              "      <th>Doors</th>\n",
              "      <td>47</td>\n",
              "    </tr>\n",
              "    <tr>\n",
              "      <th>Price</th>\n",
              "      <td>0</td>\n",
              "    </tr>\n",
              "  </tbody>\n",
              "</table>\n",
              "</div><br><label><b>dtype:</b> int64</label>"
            ]
          },
          "metadata": {},
          "execution_count": 13
        }
      ],
      "source": [
        "# Check to see the original... still missing values\n",
        "car_sales_missing.isna().sum()"
      ]
    },
    {
      "cell_type": "code",
      "execution_count": 15,
      "metadata": {
        "id": "GCM99w_zdAPp",
        "outputId": "b1bc0f50-d35d-4f90-ad50-2d08cfdea22f",
        "colab": {
          "base_uri": "https://localhost:8080/"
        }
      },
      "outputs": [
        {
          "output_type": "execute_result",
          "data": {
            "text/plain": [
              "array([[0.00000e+00, 1.00000e+00, 0.00000e+00, ..., 1.00000e+00,\n",
              "        0.00000e+00, 7.19340e+04],\n",
              "       [0.00000e+00, 0.00000e+00, 0.00000e+00, ..., 1.00000e+00,\n",
              "        0.00000e+00, 1.62665e+05],\n",
              "       [0.00000e+00, 1.00000e+00, 0.00000e+00, ..., 1.00000e+00,\n",
              "        0.00000e+00, 4.28440e+04],\n",
              "       ...,\n",
              "       [0.00000e+00, 0.00000e+00, 0.00000e+00, ..., 1.00000e+00,\n",
              "        0.00000e+00, 1.96225e+05],\n",
              "       [0.00000e+00, 1.00000e+00, 0.00000e+00, ..., 1.00000e+00,\n",
              "        0.00000e+00, 1.33117e+05],\n",
              "       [0.00000e+00, 1.00000e+00, 0.00000e+00, ..., 1.00000e+00,\n",
              "        0.00000e+00, 1.50582e+05]])"
            ]
          },
          "metadata": {},
          "execution_count": 15
        }
      ],
      "source": [
        "from sklearn.preprocessing import OneHotEncoder\n",
        "from sklearn.compose import ColumnTransformer\n",
        "\n",
        "# Now let's one hot encode the features with the same code as before\n",
        "categorical_features = [\"Make\", \"Colour\", \"Doors\"]\n",
        "one_hot = OneHotEncoder()\n",
        "transformer = ColumnTransformer([(\"one_hot\",\n",
        "                                 one_hot,\n",
        "                                 categorical_features)],\n",
        "                                 remainder=\"passthrough\")\n",
        "\n",
        "# Fill train and test values separately\n",
        "transformed_X_train = transformer.fit_transform(car_sales_filled_train)\n",
        "transformed_X_test = transformer.transform(car_sales_filled_test)\n",
        "\n",
        "# Check transformed and filled X_train\n",
        "transformed_X_train.toarray()"
      ]
    },
    {
      "cell_type": "code",
      "execution_count": 16,
      "metadata": {
        "id": "H3QheD9LdAPp",
        "outputId": "3a3c5bda-ed72-40a4-fbdf-079f1d571f40",
        "colab": {
          "base_uri": "https://localhost:8080/"
        }
      },
      "outputs": [
        {
          "output_type": "execute_result",
          "data": {
            "text/plain": [
              "0.21229043336119102"
            ]
          },
          "metadata": {},
          "execution_count": 16
        }
      ],
      "source": [
        "# Now we've transformed X, let's see if we can fit a model\n",
        "np.random.seed(42)\n",
        "from sklearn.ensemble import RandomForestRegressor\n",
        "\n",
        "model = RandomForestRegressor()\n",
        "\n",
        "# Make sure to use transformed (filled and one-hot encoded X data)\n",
        "model.fit(transformed_X_train, y_train)\n",
        "model.score(transformed_X_test, y_test)"
      ]
    },
    {
      "cell_type": "markdown",
      "metadata": {
        "id": "aDIFEVnrdAPp"
      },
      "source": [
        "If this looks confusing, don't worry, we've covered a lot of ground very quickly. And we'll revisit these strategies in a future section in way which makes a lot more sense.\n",
        "\n",
        "For now, the key takeaways to remember are:\n",
        "* Most datasets you come across won't be in a form ready to immediately start using them with machine learning models. And some may take more preparation than others to get ready to use.\n",
        "* For most machine learning models, your data has to be numerical. This will involve converting whatever you're working with into numbers. This process is often referred to as **feature engineering** or **feature encoding**.\n",
        "* Some machine learning models aren't compatible with missing data. The process of filling missing data is referred to as **data imputation**."
      ]
    },
    {
      "cell_type": "markdown",
      "metadata": {
        "id": "J_KdhBZxdAPp"
      },
      "source": [
        "## 2. Choosing the right estimator/algorithm for your problem\n",
        "\n",
        "Once you've got your data ready, the next step is to choose an appropriate machine learning algorithm or model to find patterns in your data.\n",
        "\n",
        "Some things to note:\n",
        "* Sklearn refers to machine learning models and algorithms as estimators.\n",
        "* Classification problem - predicting a category (heart disease or not).\n",
        "    * Sometimes you'll see `clf` (short for classifier) used as a classification estimator instance's variable name.\n",
        "* Regression problem - predicting a number (selling price of a car).\n",
        "* Unsupervised problem - clustering (grouping unlabelled samples with other similar unlabelled samples).\n",
        "\n",
        "If you know what kind of problem you're working with, one of the next places you should look at is the [Scikit-Learn algorithm cheatsheet](https://scikit-learn.org/stable/tutorial/machine_learning_map/index.html).\n",
        "\n",
        "This cheatsheet gives you a bit of an insight into the algorithm you might want to use for the problem you're working on.\n",
        "\n",
        "It's important to remember, you don't have to explicitly know what each algorithm is doing on the inside to start using them. If you do start to apply different algorithms but they don't seem to be working, that's when you'd start to look deeper into each one.\n",
        "\n",
        "Let's check out the cheatsheet and follow it for some of the problems we're working on.\n",
        "\n",
        "<img src=\"../images/sklearn-ml-map.png\" width=700/>\n",
        "\n",
        "You can see it's split into four main categories. Regression, classification, clustering and dimensionality reduction. Each has their own different purpose but the Scikit-Learn team has designed the library so the workflows for each are relatively similar.\n",
        "\n",
        "Let's start with a regression problem (trying to predict a number). We'll use the [California Housing dataset](https://scikit-learn.org/stable/datasets/real_world.html#california-housing-dataset) built into Scikit-Learn's `datasets` module.\n",
        "\n",
        "The goal of the California Housing dataset is to predict a given district's median house value (in hundreds of thousands of dollars) on things like the age of the home, the number of rooms, the number of bedrooms, number of people living the home and more.\n",
        "\n",
        "### 2.1 Picking a machine learning model for a regression problem"
      ]
    },
    {
      "cell_type": "code",
      "execution_count": 17,
      "metadata": {
        "id": "40yqY_f3dAPq"
      },
      "outputs": [],
      "source": [
        "# Get California Housing dataset\n",
        "from sklearn.datasets import fetch_california_housing\n",
        "housing = fetch_california_housing()\n",
        "housing; # gets downloaded as dictionary"
      ]
    },
    {
      "cell_type": "markdown",
      "source": [
        "# Fecting the Housing Data\n",
        "\n",
        "    from sklearn.datasets import fetch_california_housing:\n",
        "\n",
        "This line imports the fetch_california_housing function from the sklearn.datasets module.\n",
        "\n",
        "The sklearn.datasets module provides utilities to load and fetch various standard datasets that are commonly used in machine learning, such as the California Housing dataset.\n",
        "\n",
        "    housing = fetch_california_housing()\n",
        "\n",
        "This line calls the fetch_california_housing() function to load the California Housing dataset into your environment.\n",
        "\n",
        "The dataset is automatically downloaded if it’s not already available locally.\n",
        "\n",
        "------\n",
        "#The result is stored in the variable housing.\n",
        "\n",
        "    housing;\n",
        "\n",
        "The semicolon at the end of this line is somewhat redundant and is usually used to suppress the output of the statement in interactive Python sessions.\n",
        "\n",
        "In this context, it doesn't have any effect on the code execution but is sometimes used to indicate that the variable housing holds the dataset.\n",
        "\n",
        "##housing is a dictionary-like object, specifically a Bunch object, which is a special container type in scikit-learn.\n",
        "\n",
        "It acts like a dictionary but also allows access to its keys as attributes.\n",
        "\n",
        "------------------------\n",
        "#About the California Housing Dataset\n",
        "The California Housing dataset contains data collected from the 1990 U.S. Census, specifically focused on California.\n",
        "\n",
        "It includes information about various housing attributes across different districts in California, such as the median income, median house age, average number of rooms, population, and more.\n",
        "\n",
        "The target variable in this dataset is the median house value for each district.\n",
        "\n",
        "#housing Object Structure\n",
        "The housing variable, after calling fetch_california_housing(), is a Bunch object with the following attributes:\n",
        "\n",
        "##data\n",
        "\n",
        "A numpy array where each row represents a district, and each column represents a feature (e.g., median income, house age).\n",
        "\n",
        "##target\n",
        "\n",
        "A numpy array containing the target variable, which in this case is the median house value for each district.\n",
        "\n",
        "##feature_names\n",
        "\n",
        "A list of strings representing the names of the features (e.g., ['MedInc', 'HouseAge', ...]).\n",
        "\n",
        "##DESCR\n",
        "\n",
        "A string that contains a detailed description of the dataset, including information about the features and target variable.\n",
        "\n",
        "##filename\n",
        "\n",
        "The path to the file containing the dataset if it was loaded from disk.\n",
        "\n",
        "----\n",
        "#Example Usage\n",
        "You can access the data and metadata in the housing object like this:\n",
        "\n",
        "# Features\n",
        "    print(housing['data'])\n",
        "\n",
        "# Target variable\n",
        "    print(housing['target'])\n",
        "\n",
        "# Feature names\n",
        "    print(housing['feature_names'])\n",
        "\n",
        "# Description of the dataset\n",
        "    print(housing['DESCR'])\n",
        "\n",
        "-----------------------\n",
        "#Summary\n",
        "This snippet loads the California Housing dataset into a variable called housing, which is a dictionary-like object containing the dataset's features, target values, and metadata.\n",
        "\n",
        "This dataset can then be used for machine learning tasks, such as regression, where the goal is to predict the median house value based on the provided features."
      ],
      "metadata": {
        "id": "_wBIS3cjIoUB"
      }
    },
    {
      "cell_type": "markdown",
      "metadata": {
        "id": "dfx5xi-PdAPq"
      },
      "source": [
        "Since it's in a dictionary, let's turn it into a DataFrame so we can inspect it better."
      ]
    },
    {
      "cell_type": "code",
      "execution_count": 18,
      "metadata": {
        "id": "KZ5PB23CdAPq",
        "outputId": "ef212b57-6492-425a-fc35-f60c82b4a06a",
        "colab": {
          "base_uri": "https://localhost:8080/",
          "height": 206
        }
      },
      "outputs": [
        {
          "output_type": "execute_result",
          "data": {
            "text/plain": [
              "   MedInc  HouseAge  AveRooms  AveBedrms  Population  AveOccup  Latitude  \\\n",
              "0  8.3252      41.0  6.984127   1.023810       322.0  2.555556     37.88   \n",
              "1  8.3014      21.0  6.238137   0.971880      2401.0  2.109842     37.86   \n",
              "2  7.2574      52.0  8.288136   1.073446       496.0  2.802260     37.85   \n",
              "3  5.6431      52.0  5.817352   1.073059       558.0  2.547945     37.85   \n",
              "4  3.8462      52.0  6.281853   1.081081       565.0  2.181467     37.85   \n",
              "\n",
              "   Longitude  target  \n",
              "0    -122.23   4.526  \n",
              "1    -122.22   3.585  \n",
              "2    -122.24   3.521  \n",
              "3    -122.25   3.413  \n",
              "4    -122.25   3.422  "
            ],
            "text/html": [
              "\n",
              "  <div id=\"df-c8658e68-a214-4a7b-8872-cd385fafcea3\" class=\"colab-df-container\">\n",
              "    <div>\n",
              "<style scoped>\n",
              "    .dataframe tbody tr th:only-of-type {\n",
              "        vertical-align: middle;\n",
              "    }\n",
              "\n",
              "    .dataframe tbody tr th {\n",
              "        vertical-align: top;\n",
              "    }\n",
              "\n",
              "    .dataframe thead th {\n",
              "        text-align: right;\n",
              "    }\n",
              "</style>\n",
              "<table border=\"1\" class=\"dataframe\">\n",
              "  <thead>\n",
              "    <tr style=\"text-align: right;\">\n",
              "      <th></th>\n",
              "      <th>MedInc</th>\n",
              "      <th>HouseAge</th>\n",
              "      <th>AveRooms</th>\n",
              "      <th>AveBedrms</th>\n",
              "      <th>Population</th>\n",
              "      <th>AveOccup</th>\n",
              "      <th>Latitude</th>\n",
              "      <th>Longitude</th>\n",
              "      <th>target</th>\n",
              "    </tr>\n",
              "  </thead>\n",
              "  <tbody>\n",
              "    <tr>\n",
              "      <th>0</th>\n",
              "      <td>8.3252</td>\n",
              "      <td>41.0</td>\n",
              "      <td>6.984127</td>\n",
              "      <td>1.023810</td>\n",
              "      <td>322.0</td>\n",
              "      <td>2.555556</td>\n",
              "      <td>37.88</td>\n",
              "      <td>-122.23</td>\n",
              "      <td>4.526</td>\n",
              "    </tr>\n",
              "    <tr>\n",
              "      <th>1</th>\n",
              "      <td>8.3014</td>\n",
              "      <td>21.0</td>\n",
              "      <td>6.238137</td>\n",
              "      <td>0.971880</td>\n",
              "      <td>2401.0</td>\n",
              "      <td>2.109842</td>\n",
              "      <td>37.86</td>\n",
              "      <td>-122.22</td>\n",
              "      <td>3.585</td>\n",
              "    </tr>\n",
              "    <tr>\n",
              "      <th>2</th>\n",
              "      <td>7.2574</td>\n",
              "      <td>52.0</td>\n",
              "      <td>8.288136</td>\n",
              "      <td>1.073446</td>\n",
              "      <td>496.0</td>\n",
              "      <td>2.802260</td>\n",
              "      <td>37.85</td>\n",
              "      <td>-122.24</td>\n",
              "      <td>3.521</td>\n",
              "    </tr>\n",
              "    <tr>\n",
              "      <th>3</th>\n",
              "      <td>5.6431</td>\n",
              "      <td>52.0</td>\n",
              "      <td>5.817352</td>\n",
              "      <td>1.073059</td>\n",
              "      <td>558.0</td>\n",
              "      <td>2.547945</td>\n",
              "      <td>37.85</td>\n",
              "      <td>-122.25</td>\n",
              "      <td>3.413</td>\n",
              "    </tr>\n",
              "    <tr>\n",
              "      <th>4</th>\n",
              "      <td>3.8462</td>\n",
              "      <td>52.0</td>\n",
              "      <td>6.281853</td>\n",
              "      <td>1.081081</td>\n",
              "      <td>565.0</td>\n",
              "      <td>2.181467</td>\n",
              "      <td>37.85</td>\n",
              "      <td>-122.25</td>\n",
              "      <td>3.422</td>\n",
              "    </tr>\n",
              "  </tbody>\n",
              "</table>\n",
              "</div>\n",
              "    <div class=\"colab-df-buttons\">\n",
              "\n",
              "  <div class=\"colab-df-container\">\n",
              "    <button class=\"colab-df-convert\" onclick=\"convertToInteractive('df-c8658e68-a214-4a7b-8872-cd385fafcea3')\"\n",
              "            title=\"Convert this dataframe to an interactive table.\"\n",
              "            style=\"display:none;\">\n",
              "\n",
              "  <svg xmlns=\"http://www.w3.org/2000/svg\" height=\"24px\" viewBox=\"0 -960 960 960\">\n",
              "    <path d=\"M120-120v-720h720v720H120Zm60-500h600v-160H180v160Zm220 220h160v-160H400v160Zm0 220h160v-160H400v160ZM180-400h160v-160H180v160Zm440 0h160v-160H620v160ZM180-180h160v-160H180v160Zm440 0h160v-160H620v160Z\"/>\n",
              "  </svg>\n",
              "    </button>\n",
              "\n",
              "  <style>\n",
              "    .colab-df-container {\n",
              "      display:flex;\n",
              "      gap: 12px;\n",
              "    }\n",
              "\n",
              "    .colab-df-convert {\n",
              "      background-color: #E8F0FE;\n",
              "      border: none;\n",
              "      border-radius: 50%;\n",
              "      cursor: pointer;\n",
              "      display: none;\n",
              "      fill: #1967D2;\n",
              "      height: 32px;\n",
              "      padding: 0 0 0 0;\n",
              "      width: 32px;\n",
              "    }\n",
              "\n",
              "    .colab-df-convert:hover {\n",
              "      background-color: #E2EBFA;\n",
              "      box-shadow: 0px 1px 2px rgba(60, 64, 67, 0.3), 0px 1px 3px 1px rgba(60, 64, 67, 0.15);\n",
              "      fill: #174EA6;\n",
              "    }\n",
              "\n",
              "    .colab-df-buttons div {\n",
              "      margin-bottom: 4px;\n",
              "    }\n",
              "\n",
              "    [theme=dark] .colab-df-convert {\n",
              "      background-color: #3B4455;\n",
              "      fill: #D2E3FC;\n",
              "    }\n",
              "\n",
              "    [theme=dark] .colab-df-convert:hover {\n",
              "      background-color: #434B5C;\n",
              "      box-shadow: 0px 1px 3px 1px rgba(0, 0, 0, 0.15);\n",
              "      filter: drop-shadow(0px 1px 2px rgba(0, 0, 0, 0.3));\n",
              "      fill: #FFFFFF;\n",
              "    }\n",
              "  </style>\n",
              "\n",
              "    <script>\n",
              "      const buttonEl =\n",
              "        document.querySelector('#df-c8658e68-a214-4a7b-8872-cd385fafcea3 button.colab-df-convert');\n",
              "      buttonEl.style.display =\n",
              "        google.colab.kernel.accessAllowed ? 'block' : 'none';\n",
              "\n",
              "      async function convertToInteractive(key) {\n",
              "        const element = document.querySelector('#df-c8658e68-a214-4a7b-8872-cd385fafcea3');\n",
              "        const dataTable =\n",
              "          await google.colab.kernel.invokeFunction('convertToInteractive',\n",
              "                                                    [key], {});\n",
              "        if (!dataTable) return;\n",
              "\n",
              "        const docLinkHtml = 'Like what you see? Visit the ' +\n",
              "          '<a target=\"_blank\" href=https://colab.research.google.com/notebooks/data_table.ipynb>data table notebook</a>'\n",
              "          + ' to learn more about interactive tables.';\n",
              "        element.innerHTML = '';\n",
              "        dataTable['output_type'] = 'display_data';\n",
              "        await google.colab.output.renderOutput(dataTable, element);\n",
              "        const docLink = document.createElement('div');\n",
              "        docLink.innerHTML = docLinkHtml;\n",
              "        element.appendChild(docLink);\n",
              "      }\n",
              "    </script>\n",
              "  </div>\n",
              "\n",
              "\n",
              "<div id=\"df-4541dab5-e60b-4c21-9958-bb98e98e0746\">\n",
              "  <button class=\"colab-df-quickchart\" onclick=\"quickchart('df-4541dab5-e60b-4c21-9958-bb98e98e0746')\"\n",
              "            title=\"Suggest charts\"\n",
              "            style=\"display:none;\">\n",
              "\n",
              "<svg xmlns=\"http://www.w3.org/2000/svg\" height=\"24px\"viewBox=\"0 0 24 24\"\n",
              "     width=\"24px\">\n",
              "    <g>\n",
              "        <path d=\"M19 3H5c-1.1 0-2 .9-2 2v14c0 1.1.9 2 2 2h14c1.1 0 2-.9 2-2V5c0-1.1-.9-2-2-2zM9 17H7v-7h2v7zm4 0h-2V7h2v10zm4 0h-2v-4h2v4z\"/>\n",
              "    </g>\n",
              "</svg>\n",
              "  </button>\n",
              "\n",
              "<style>\n",
              "  .colab-df-quickchart {\n",
              "      --bg-color: #E8F0FE;\n",
              "      --fill-color: #1967D2;\n",
              "      --hover-bg-color: #E2EBFA;\n",
              "      --hover-fill-color: #174EA6;\n",
              "      --disabled-fill-color: #AAA;\n",
              "      --disabled-bg-color: #DDD;\n",
              "  }\n",
              "\n",
              "  [theme=dark] .colab-df-quickchart {\n",
              "      --bg-color: #3B4455;\n",
              "      --fill-color: #D2E3FC;\n",
              "      --hover-bg-color: #434B5C;\n",
              "      --hover-fill-color: #FFFFFF;\n",
              "      --disabled-bg-color: #3B4455;\n",
              "      --disabled-fill-color: #666;\n",
              "  }\n",
              "\n",
              "  .colab-df-quickchart {\n",
              "    background-color: var(--bg-color);\n",
              "    border: none;\n",
              "    border-radius: 50%;\n",
              "    cursor: pointer;\n",
              "    display: none;\n",
              "    fill: var(--fill-color);\n",
              "    height: 32px;\n",
              "    padding: 0;\n",
              "    width: 32px;\n",
              "  }\n",
              "\n",
              "  .colab-df-quickchart:hover {\n",
              "    background-color: var(--hover-bg-color);\n",
              "    box-shadow: 0 1px 2px rgba(60, 64, 67, 0.3), 0 1px 3px 1px rgba(60, 64, 67, 0.15);\n",
              "    fill: var(--button-hover-fill-color);\n",
              "  }\n",
              "\n",
              "  .colab-df-quickchart-complete:disabled,\n",
              "  .colab-df-quickchart-complete:disabled:hover {\n",
              "    background-color: var(--disabled-bg-color);\n",
              "    fill: var(--disabled-fill-color);\n",
              "    box-shadow: none;\n",
              "  }\n",
              "\n",
              "  .colab-df-spinner {\n",
              "    border: 2px solid var(--fill-color);\n",
              "    border-color: transparent;\n",
              "    border-bottom-color: var(--fill-color);\n",
              "    animation:\n",
              "      spin 1s steps(1) infinite;\n",
              "  }\n",
              "\n",
              "  @keyframes spin {\n",
              "    0% {\n",
              "      border-color: transparent;\n",
              "      border-bottom-color: var(--fill-color);\n",
              "      border-left-color: var(--fill-color);\n",
              "    }\n",
              "    20% {\n",
              "      border-color: transparent;\n",
              "      border-left-color: var(--fill-color);\n",
              "      border-top-color: var(--fill-color);\n",
              "    }\n",
              "    30% {\n",
              "      border-color: transparent;\n",
              "      border-left-color: var(--fill-color);\n",
              "      border-top-color: var(--fill-color);\n",
              "      border-right-color: var(--fill-color);\n",
              "    }\n",
              "    40% {\n",
              "      border-color: transparent;\n",
              "      border-right-color: var(--fill-color);\n",
              "      border-top-color: var(--fill-color);\n",
              "    }\n",
              "    60% {\n",
              "      border-color: transparent;\n",
              "      border-right-color: var(--fill-color);\n",
              "    }\n",
              "    80% {\n",
              "      border-color: transparent;\n",
              "      border-right-color: var(--fill-color);\n",
              "      border-bottom-color: var(--fill-color);\n",
              "    }\n",
              "    90% {\n",
              "      border-color: transparent;\n",
              "      border-bottom-color: var(--fill-color);\n",
              "    }\n",
              "  }\n",
              "</style>\n",
              "\n",
              "  <script>\n",
              "    async function quickchart(key) {\n",
              "      const quickchartButtonEl =\n",
              "        document.querySelector('#' + key + ' button');\n",
              "      quickchartButtonEl.disabled = true;  // To prevent multiple clicks.\n",
              "      quickchartButtonEl.classList.add('colab-df-spinner');\n",
              "      try {\n",
              "        const charts = await google.colab.kernel.invokeFunction(\n",
              "            'suggestCharts', [key], {});\n",
              "      } catch (error) {\n",
              "        console.error('Error during call to suggestCharts:', error);\n",
              "      }\n",
              "      quickchartButtonEl.classList.remove('colab-df-spinner');\n",
              "      quickchartButtonEl.classList.add('colab-df-quickchart-complete');\n",
              "    }\n",
              "    (() => {\n",
              "      let quickchartButtonEl =\n",
              "        document.querySelector('#df-4541dab5-e60b-4c21-9958-bb98e98e0746 button');\n",
              "      quickchartButtonEl.style.display =\n",
              "        google.colab.kernel.accessAllowed ? 'block' : 'none';\n",
              "    })();\n",
              "  </script>\n",
              "</div>\n",
              "\n",
              "    </div>\n",
              "  </div>\n"
            ],
            "application/vnd.google.colaboratory.intrinsic+json": {
              "type": "dataframe",
              "variable_name": "housing_df",
              "summary": "{\n  \"name\": \"housing_df\",\n  \"rows\": 20640,\n  \"fields\": [\n    {\n      \"column\": \"MedInc\",\n      \"properties\": {\n        \"dtype\": \"number\",\n        \"std\": 1.8998217179452688,\n        \"min\": 0.4999,\n        \"max\": 15.0001,\n        \"num_unique_values\": 12928,\n        \"samples\": [\n          5.0286,\n          2.0433,\n          6.1228\n        ],\n        \"semantic_type\": \"\",\n        \"description\": \"\"\n      }\n    },\n    {\n      \"column\": \"HouseAge\",\n      \"properties\": {\n        \"dtype\": \"number\",\n        \"std\": 12.58555761211165,\n        \"min\": 1.0,\n        \"max\": 52.0,\n        \"num_unique_values\": 52,\n        \"samples\": [\n          35.0,\n          25.0,\n          7.0\n        ],\n        \"semantic_type\": \"\",\n        \"description\": \"\"\n      }\n    },\n    {\n      \"column\": \"AveRooms\",\n      \"properties\": {\n        \"dtype\": \"number\",\n        \"std\": 2.4741731394243187,\n        \"min\": 0.8461538461538461,\n        \"max\": 141.9090909090909,\n        \"num_unique_values\": 19392,\n        \"samples\": [\n          6.111269614835948,\n          5.912820512820513,\n          5.7924528301886795\n        ],\n        \"semantic_type\": \"\",\n        \"description\": \"\"\n      }\n    },\n    {\n      \"column\": \"AveBedrms\",\n      \"properties\": {\n        \"dtype\": \"number\",\n        \"std\": 0.473910856795466,\n        \"min\": 0.3333333333333333,\n        \"max\": 34.06666666666667,\n        \"num_unique_values\": 14233,\n        \"samples\": [\n          0.9906542056074766,\n          1.112099644128114,\n          1.0398230088495575\n        ],\n        \"semantic_type\": \"\",\n        \"description\": \"\"\n      }\n    },\n    {\n      \"column\": \"Population\",\n      \"properties\": {\n        \"dtype\": \"number\",\n        \"std\": 1132.462121765341,\n        \"min\": 3.0,\n        \"max\": 35682.0,\n        \"num_unique_values\": 3888,\n        \"samples\": [\n          4169.0,\n          636.0,\n          3367.0\n        ],\n        \"semantic_type\": \"\",\n        \"description\": \"\"\n      }\n    },\n    {\n      \"column\": \"AveOccup\",\n      \"properties\": {\n        \"dtype\": \"number\",\n        \"std\": 10.386049562213618,\n        \"min\": 0.6923076923076923,\n        \"max\": 1243.3333333333333,\n        \"num_unique_values\": 18841,\n        \"samples\": [\n          2.6939799331103678,\n          3.559375,\n          3.297082228116711\n        ],\n        \"semantic_type\": \"\",\n        \"description\": \"\"\n      }\n    },\n    {\n      \"column\": \"Latitude\",\n      \"properties\": {\n        \"dtype\": \"number\",\n        \"std\": 2.1359523974571153,\n        \"min\": 32.54,\n        \"max\": 41.95,\n        \"num_unique_values\": 862,\n        \"samples\": [\n          33.7,\n          34.41,\n          38.24\n        ],\n        \"semantic_type\": \"\",\n        \"description\": \"\"\n      }\n    },\n    {\n      \"column\": \"Longitude\",\n      \"properties\": {\n        \"dtype\": \"number\",\n        \"std\": 2.0035317235025882,\n        \"min\": -124.35,\n        \"max\": -114.31,\n        \"num_unique_values\": 844,\n        \"samples\": [\n          -118.63,\n          -119.86,\n          -121.26\n        ],\n        \"semantic_type\": \"\",\n        \"description\": \"\"\n      }\n    },\n    {\n      \"column\": \"target\",\n      \"properties\": {\n        \"dtype\": \"number\",\n        \"std\": 1.1539561587441387,\n        \"min\": 0.14999,\n        \"max\": 5.00001,\n        \"num_unique_values\": 3842,\n        \"samples\": [\n          1.943,\n          3.79,\n          2.301\n        ],\n        \"semantic_type\": \"\",\n        \"description\": \"\"\n      }\n    }\n  ]\n}"
            }
          },
          "metadata": {},
          "execution_count": 18
        }
      ],
      "source": [
        "housing_df = pd.DataFrame(housing[\"data\"], columns=housing[\"feature_names\"])\n",
        "housing_df[\"target\"] = pd.Series(housing[\"target\"])\n",
        "housing_df.head()"
      ]
    },
    {
      "cell_type": "markdown",
      "source": [
        "# Preprocessing\n",
        "    housing_df = pd.DataFrame(housing[\"data\"], columns=housing[\"feature_names\"])\n",
        "\n",
        "##pd.DataFrame()\n",
        "\n",
        "This function creates a new DataFrame.\n",
        "\n",
        "##housing[\"data\"]\n",
        "\n",
        "This is a numpy array containing the dataset's feature values. Each row represents a data point (e.g., a housing district), and each column represents a feature (e.g., median income, house age).\n",
        "\n",
        "##columns=housing[\"feature_names\"]\n",
        "\n",
        "This specifies the column names for the DataFrame, using the feature names from the housing dataset (e.g., ['MedInc', 'HouseAge', 'AveRooms', ...]).\n",
        "\n",
        "##Result\n",
        "\n",
        "housing_df is now a DataFrame where each row corresponds to a data point, and each column corresponds to a feature in the dataset.\n",
        "\n",
        "##pd.Series(housing[\"target\"])\n",
        "\n",
        "This creates a pandas Series from the target values in the housing dataset. A Series is a one-dimensional array-like object in pandas.\n",
        "\n",
        "##housing_df[\"target\"] = ...\n",
        "\n",
        "This adds the target variable (the median house value) as a new column named \"target\" in the housing_df DataFrame.\n",
        "\n",
        "##Result\n",
        "\n",
        "The housing_df DataFrame now includes all the original features plus an additional \"target\" column that contains the target values.\n",
        "housing_df.head():\n",
        "\n",
        "head(): This method returns the first 5 rows of the DataFrame by default, giving you a quick preview of the data.\n"
      ],
      "metadata": {
        "id": "vdtHTsUjAzbl"
      }
    },
    {
      "cell_type": "code",
      "execution_count": 19,
      "metadata": {
        "id": "PKDppFMedAPq",
        "outputId": "b7589d92-3761-49cc-9e33-9ed9508145d2",
        "colab": {
          "base_uri": "https://localhost:8080/"
        }
      },
      "outputs": [
        {
          "output_type": "execute_result",
          "data": {
            "text/plain": [
              "20640"
            ]
          },
          "metadata": {},
          "execution_count": 19
        }
      ],
      "source": [
        "# How many samples?\n",
        "len(housing_df)"
      ]
    },
    {
      "cell_type": "markdown",
      "metadata": {
        "id": "gRQWnK7NdAPq"
      },
      "source": [
        "Beautiful, our goal here is to use the feature columns, such as:\n",
        "* `MedInc` - median income in block group\n",
        "* `HouseAge` - median house age in block group\n",
        "* `AveRooms` - average number of rooms per household\n",
        "* `AveBedrms` - average number of bedrooms per household\n",
        "\n",
        "To predict the `target` column which expresses the median house value for specfici California districts in hundreds of thousands of dollars ($100,000).\n",
        "\n",
        "In essence, each row is a different district in California (the data) and we're trying to build a model to predict the median house value in that distract (the target/label) given a series of attributes about the houses in that district.\n",
        "\n",
        "Since we have data and labels, this is a supervised learning problem. And since we're trying to predict a number, it's a regression problem.\n",
        "\n",
        "Knowing these two things, how do they line up on the Scikit-Learn machine learning algorithm cheat-sheet?\n",
        "\n",
        "<img src=\"../images/sklearn-ml-map-cheatsheet-california-housing-ridge.png\" width=700/>\n",
        "\n",
        "Following the map through, knowing what we know, it suggests we try [`RidgeRegression`](https://scikit-learn.org/stable/modules/linear_model.html#ridge-regression). Let's chek it out."
      ]
    },
    {
      "cell_type": "markdown",
      "source": [
        "# Ridge Regression Regularization Definition\n",
        "\n",
        "Ridge Regression is a type of linear regression that is particularly useful when dealing with multicollinearity (when predictor variables are highly correlated) or when you want to prevent overfitting by adding a regularization term to the model.\n",
        "\n",
        "\n",
        "---\n",
        "\n",
        "\n",
        "# Ridge Regression Overview\n",
        "Ridge Regression is a regularized form of linear regression, where the model is trained to minimize not just the residual sum of squares between the predicted and observed values, but also to include a penalty proportional to the sum of the squares of the coefficients (weights).\n",
        "\n",
        "The idea behind Ridge Regression is to shrink the coefficients, which can help in situations where a standard linear regression model might overfit the data, especially if there are many predictors or if the predictors are highly correlated.\n",
        "\n",
        "##Ridge Regression Formula\n",
        "![image.png](data:image/png;base64,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)\n",
        "\n",
        "---------------------\n",
        "##Key Points\n",
        "Regularization Strength (alpha): The parameter\n",
        "$$𝛼$$\n",
        "α controls the strength of the regularization. A higher\n",
        "𝛼\n",
        "α value means more regularization, which shrinks the coefficients more, leading to a simpler model that might be less prone to overfitting.\n",
        "\n",
        "Conversely, a lower\n",
        "$$𝛼$$\n",
        "α value leads to a model closer to standard linear regression.\n",
        "\n",
        "##Bias-Variance Tradeoff\n",
        "\n",
        "Ridge Regression introduces a bias into the model by shrinking the coefficients, but this can lead to a lower variance (i.e., a model that generalizes better to unseen data).\n",
        "\n",
        "##Prevents Overfitting\n",
        "\n",
        "By adding the penalty term, Ridge Regression helps to prevent overfitting, especially when you have many predictors.\n",
        "\n",
        "-----\n",
        "#Example Usage in Code\n",
        "Here's how you might use Ridge Regression in Python using scikit-learn:\n",
        "\n",
        "    from sklearn.linear_model import Ridge\n",
        "    from sklearn.model_selection import train_test_split\n",
        "    from sklearn.metrics import mean_squared_error\n",
        "\n",
        "# Assuming X (features) and y (target) are already defined\n",
        "# Split data into training and test sets\n",
        "    X_train, X_test, y_train, y_test = train_test_split(X, y, test_size=0.2, random_state=42)\n",
        "\n",
        "# Instantiate the Ridge regression model with a specific alpha value\n",
        "    ridge_reg = Ridge(alpha=1.0)\n",
        "\n",
        "# Fit the model to the training data\n",
        "    ridge_reg.fit(X_train, y_train)\n",
        "\n",
        "# Predict on the test set\n",
        "    y_pred = ridge_reg.predict(X_test)\n",
        "\n",
        "# Evaluate the model's performance\n",
        "    mse = mean_squared_error(y_test, y_pred)\n",
        "    print(f\"Mean Squared Error: {mse}\")\n",
        "\n",
        "-----\n",
        "------\n",
        "#Steps in the Code\n",
        "##Import Ridge:\n",
        "\n",
        "The Ridge class is imported from sklearn.linear_model. This class implements Ridge Regression.\n",
        "\n",
        "-----\n",
        "##Model Initialization\n",
        "\n",
        "    ridge_reg = Ridge(alpha=1.0)\n",
        "\n",
        "This initializes the Ridge Regression model with a regularization strength of alpha=1.0. You can tune alpha based on your specific dataset.\n",
        "\n",
        "----\n",
        "##Model Training\n",
        "\n",
        "    ridge_reg.fit(X_train, y_train)\n",
        "\n",
        "This line fits the model to the training data, finding the coefficients that minimize the cost function with the regularization term.\n",
        "\n",
        "----\n",
        "##Prediction\n",
        "\n",
        "    y_pred = ridge_reg.predict(X_test)\n",
        "\n",
        "The model is then used to predict the target values on the test set.\n",
        "\n",
        "-------------------------\n",
        "##Evaluation\n",
        "\n",
        "The model's performance is evaluated using the Mean Squared Error (MSE) between the predicted and actual target values.\n",
        "\n",
        "-----\n",
        "#Summary\n",
        "\n",
        "Ridge Regression is a useful technique when dealing with multicollinearity or when you want to reduce the complexity of a model by shrinking the coefficients.\n",
        "\n",
        "By adding a regularization term to the cost function, it helps to prevent overfitting and can improve the model's generalizability to new data."
      ],
      "metadata": {
        "id": "IKQTj9jobuzi"
      }
    },
    {
      "cell_type": "code",
      "execution_count": 21,
      "metadata": {
        "id": "ppUUAlDTdAPr",
        "outputId": "5e28e531-0e8f-45c4-bfb8-f485bf9e534e",
        "colab": {
          "base_uri": "https://localhost:8080/"
        }
      },
      "outputs": [
        {
          "output_type": "execute_result",
          "data": {
            "text/plain": [
              "0.5758549611440126"
            ]
          },
          "metadata": {},
          "execution_count": 21
        }
      ],
      "source": [
        "# Import the Ridge model class from the linear_model module\n",
        "from sklearn.linear_model import Ridge\n",
        "\n",
        "# Setup random seed\n",
        "np.random.seed(42)\n",
        "\n",
        "# Create the data\n",
        "X = housing_df.drop(\"target\", axis=1)\n",
        "y = housing_df[\"target\"]\n",
        "\n",
        "# Split into train and test sets\n",
        "X_train, X_test, y_train, y_test = train_test_split(X, y, test_size=0.2)\n",
        "\n",
        "# Institate and fit the model (on the training set)\n",
        "model = Ridge()\n",
        "model.fit(X_train, y_train)\n",
        "\n",
        "# Check the score of the model (on the test set)\n",
        "# The default score() metirc of regression aglorithms is R^2\n",
        "model.score(X_test, y_test)"
      ]
    },
    {
      "cell_type": "markdown",
      "metadata": {
        "id": "mdpjO8B7dAPt"
      },
      "source": [
        "What if `RidgeRegression` didn't work? Or what if we wanted to improve our results?\n",
        "\n",
        "<img src=\"../images/sklearn-ml-map-cheatsheet-california-housing-ensemble.png\" width=700/>\n",
        "\n",
        "Following the diagram, the next step would be to try [`EnsembleRegressors`](https://scikit-learn.org/stable/modules/ensemble.html). Ensemble is another word for multiple models put together to make a decision.\n",
        "\n",
        "One of the most common and useful ensemble methods is the [Random Forest](https://scikit-learn.org/stable/modules/ensemble.html#forest). Known for its fast training and prediction times and adaptibility to different problems.\n",
        "\n",
        "The basic premise of the Random Forest is to combine a number of different decision trees, each one random from the other and make a prediction on a sample by averaging the result of each decision tree.\n",
        "\n",
        "An in-depth discussion of the Random Forest algorithm is beyond the scope of this notebook but if you're interested in learning more, [An Implementation and Explanation of the Random Forest in Python](https://towardsdatascience.com/an-implementation-and-explanation-of-the-random-forest-in-python-77bf308a9b76) by Will Koehrsen is a great read.\n",
        "\n",
        "Since we're working with regression, we'll use Scikit-Learn's [`RandomForestRegressor`](https://scikit-learn.org/stable/modules/generated/sklearn.ensemble.RandomForestRegressor.html).\n",
        "\n",
        "We can use the exact same workflow as above. Except for changing the model."
      ]
    },
    {
      "cell_type": "code",
      "execution_count": 22,
      "metadata": {
        "id": "J3OWDkCgdAPt",
        "outputId": "29e3fd56-1cf3-49bd-bebf-58865143456e",
        "colab": {
          "base_uri": "https://localhost:8080/"
        }
      },
      "outputs": [
        {
          "output_type": "execute_result",
          "data": {
            "text/plain": [
              "0.8066196804802649"
            ]
          },
          "metadata": {},
          "execution_count": 22
        }
      ],
      "source": [
        "# Import the RandomForestRegressor model class from the ensemble module\n",
        "from sklearn.ensemble import RandomForestRegressor\n",
        "\n",
        "# Setup random seed\n",
        "np.random.seed(42)\n",
        "\n",
        "# Create the data\n",
        "X = housing_df.drop(\"target\", axis=1)\n",
        "y = housing_df[\"target\"]\n",
        "\n",
        "# Split into train and test sets\n",
        "X_train, X_test, y_train, y_test = train_test_split(X, y, test_size=0.2)\n",
        "\n",
        "# Institate and fit the model (on the training set)\n",
        "model = RandomForestRegressor()\n",
        "model.fit(X_train, y_train)\n",
        "\n",
        "# Check the score of the model (on the test set)\n",
        "# The default score metirc of regression aglorithms is R^2\n",
        "model.score(X_test, y_test)"
      ]
    },
    {
      "cell_type": "markdown",
      "metadata": {
        "id": "3hc4bjpvdAPu"
      },
      "source": [
        "Woah, we get a boost in score on the test set of over 0.2 with a change of model.\n",
        "\n",
        "At first, the diagram can seem confusing. But once you get a little practice applying different models to different problems, you'll start to pick up which sorts of algorithms do better with different types of data.\n",
        "\n",
        "### 2.2 Picking a machine learning model for a classification problem\n",
        "Now, let's check out the choosing process for a classification problem.\n",
        "\n",
        "Say you were trying to predict whether or not a patient had heart disease based on their medical records.\n",
        "\n",
        "The dataset in `../data/heart-disease.csv` contains data for just that problem."
      ]
    },
    {
      "cell_type": "code",
      "execution_count": 23,
      "metadata": {
        "id": "aTIvzL12dAPu",
        "outputId": "f06bf23a-7cce-42ee-d393-ce185b35104d",
        "colab": {
          "base_uri": "https://localhost:8080/",
          "height": 321
        }
      },
      "outputs": [
        {
          "output_type": "error",
          "ename": "FileNotFoundError",
          "evalue": "[Errno 2] No such file or directory: '../data/heart-disease.csv'",
          "traceback": [
            "\u001b[0;31m---------------------------------------------------------------------------\u001b[0m",
            "\u001b[0;31mFileNotFoundError\u001b[0m                         Traceback (most recent call last)",
            "\u001b[0;32m<ipython-input-23-29616f4a0362>\u001b[0m in \u001b[0;36m<cell line: 1>\u001b[0;34m()\u001b[0m\n\u001b[0;32m----> 1\u001b[0;31m \u001b[0mheart_disease\u001b[0m \u001b[0;34m=\u001b[0m \u001b[0mpd\u001b[0m\u001b[0;34m.\u001b[0m\u001b[0mread_csv\u001b[0m\u001b[0;34m(\u001b[0m\u001b[0;34m\"../data/heart-disease.csv\"\u001b[0m\u001b[0;34m)\u001b[0m\u001b[0;34m\u001b[0m\u001b[0;34m\u001b[0m\u001b[0m\n\u001b[0m\u001b[1;32m      2\u001b[0m \u001b[0mheart_disease\u001b[0m\u001b[0;34m.\u001b[0m\u001b[0mhead\u001b[0m\u001b[0;34m(\u001b[0m\u001b[0;34m)\u001b[0m\u001b[0;34m\u001b[0m\u001b[0;34m\u001b[0m\u001b[0m\n",
            "\u001b[0;32m/usr/local/lib/python3.10/dist-packages/pandas/io/parsers/readers.py\u001b[0m in \u001b[0;36mread_csv\u001b[0;34m(filepath_or_buffer, sep, delimiter, header, names, index_col, usecols, dtype, engine, converters, true_values, false_values, skipinitialspace, skiprows, skipfooter, nrows, na_values, keep_default_na, na_filter, verbose, skip_blank_lines, parse_dates, infer_datetime_format, keep_date_col, date_parser, date_format, dayfirst, cache_dates, iterator, chunksize, compression, thousands, decimal, lineterminator, quotechar, quoting, doublequote, escapechar, comment, encoding, encoding_errors, dialect, on_bad_lines, delim_whitespace, low_memory, memory_map, float_precision, storage_options, dtype_backend)\u001b[0m\n\u001b[1;32m    946\u001b[0m     \u001b[0mkwds\u001b[0m\u001b[0;34m.\u001b[0m\u001b[0mupdate\u001b[0m\u001b[0;34m(\u001b[0m\u001b[0mkwds_defaults\u001b[0m\u001b[0;34m)\u001b[0m\u001b[0;34m\u001b[0m\u001b[0;34m\u001b[0m\u001b[0m\n\u001b[1;32m    947\u001b[0m \u001b[0;34m\u001b[0m\u001b[0m\n\u001b[0;32m--> 948\u001b[0;31m     \u001b[0;32mreturn\u001b[0m \u001b[0m_read\u001b[0m\u001b[0;34m(\u001b[0m\u001b[0mfilepath_or_buffer\u001b[0m\u001b[0;34m,\u001b[0m \u001b[0mkwds\u001b[0m\u001b[0;34m)\u001b[0m\u001b[0;34m\u001b[0m\u001b[0;34m\u001b[0m\u001b[0m\n\u001b[0m\u001b[1;32m    949\u001b[0m \u001b[0;34m\u001b[0m\u001b[0m\n\u001b[1;32m    950\u001b[0m \u001b[0;34m\u001b[0m\u001b[0m\n",
            "\u001b[0;32m/usr/local/lib/python3.10/dist-packages/pandas/io/parsers/readers.py\u001b[0m in \u001b[0;36m_read\u001b[0;34m(filepath_or_buffer, kwds)\u001b[0m\n\u001b[1;32m    609\u001b[0m \u001b[0;34m\u001b[0m\u001b[0m\n\u001b[1;32m    610\u001b[0m     \u001b[0;31m# Create the parser.\u001b[0m\u001b[0;34m\u001b[0m\u001b[0;34m\u001b[0m\u001b[0m\n\u001b[0;32m--> 611\u001b[0;31m     \u001b[0mparser\u001b[0m \u001b[0;34m=\u001b[0m \u001b[0mTextFileReader\u001b[0m\u001b[0;34m(\u001b[0m\u001b[0mfilepath_or_buffer\u001b[0m\u001b[0;34m,\u001b[0m \u001b[0;34m**\u001b[0m\u001b[0mkwds\u001b[0m\u001b[0;34m)\u001b[0m\u001b[0;34m\u001b[0m\u001b[0;34m\u001b[0m\u001b[0m\n\u001b[0m\u001b[1;32m    612\u001b[0m \u001b[0;34m\u001b[0m\u001b[0m\n\u001b[1;32m    613\u001b[0m     \u001b[0;32mif\u001b[0m \u001b[0mchunksize\u001b[0m \u001b[0;32mor\u001b[0m \u001b[0miterator\u001b[0m\u001b[0;34m:\u001b[0m\u001b[0;34m\u001b[0m\u001b[0;34m\u001b[0m\u001b[0m\n",
            "\u001b[0;32m/usr/local/lib/python3.10/dist-packages/pandas/io/parsers/readers.py\u001b[0m in \u001b[0;36m__init__\u001b[0;34m(self, f, engine, **kwds)\u001b[0m\n\u001b[1;32m   1446\u001b[0m \u001b[0;34m\u001b[0m\u001b[0m\n\u001b[1;32m   1447\u001b[0m         \u001b[0mself\u001b[0m\u001b[0;34m.\u001b[0m\u001b[0mhandles\u001b[0m\u001b[0;34m:\u001b[0m \u001b[0mIOHandles\u001b[0m \u001b[0;34m|\u001b[0m \u001b[0;32mNone\u001b[0m \u001b[0;34m=\u001b[0m \u001b[0;32mNone\u001b[0m\u001b[0;34m\u001b[0m\u001b[0;34m\u001b[0m\u001b[0m\n\u001b[0;32m-> 1448\u001b[0;31m         \u001b[0mself\u001b[0m\u001b[0;34m.\u001b[0m\u001b[0m_engine\u001b[0m \u001b[0;34m=\u001b[0m \u001b[0mself\u001b[0m\u001b[0;34m.\u001b[0m\u001b[0m_make_engine\u001b[0m\u001b[0;34m(\u001b[0m\u001b[0mf\u001b[0m\u001b[0;34m,\u001b[0m \u001b[0mself\u001b[0m\u001b[0;34m.\u001b[0m\u001b[0mengine\u001b[0m\u001b[0;34m)\u001b[0m\u001b[0;34m\u001b[0m\u001b[0;34m\u001b[0m\u001b[0m\n\u001b[0m\u001b[1;32m   1449\u001b[0m \u001b[0;34m\u001b[0m\u001b[0m\n\u001b[1;32m   1450\u001b[0m     \u001b[0;32mdef\u001b[0m \u001b[0mclose\u001b[0m\u001b[0;34m(\u001b[0m\u001b[0mself\u001b[0m\u001b[0;34m)\u001b[0m \u001b[0;34m->\u001b[0m \u001b[0;32mNone\u001b[0m\u001b[0;34m:\u001b[0m\u001b[0;34m\u001b[0m\u001b[0;34m\u001b[0m\u001b[0m\n",
            "\u001b[0;32m/usr/local/lib/python3.10/dist-packages/pandas/io/parsers/readers.py\u001b[0m in \u001b[0;36m_make_engine\u001b[0;34m(self, f, engine)\u001b[0m\n\u001b[1;32m   1703\u001b[0m                 \u001b[0;32mif\u001b[0m \u001b[0;34m\"b\"\u001b[0m \u001b[0;32mnot\u001b[0m \u001b[0;32min\u001b[0m \u001b[0mmode\u001b[0m\u001b[0;34m:\u001b[0m\u001b[0;34m\u001b[0m\u001b[0;34m\u001b[0m\u001b[0m\n\u001b[1;32m   1704\u001b[0m                     \u001b[0mmode\u001b[0m \u001b[0;34m+=\u001b[0m \u001b[0;34m\"b\"\u001b[0m\u001b[0;34m\u001b[0m\u001b[0;34m\u001b[0m\u001b[0m\n\u001b[0;32m-> 1705\u001b[0;31m             self.handles = get_handle(\n\u001b[0m\u001b[1;32m   1706\u001b[0m                 \u001b[0mf\u001b[0m\u001b[0;34m,\u001b[0m\u001b[0;34m\u001b[0m\u001b[0;34m\u001b[0m\u001b[0m\n\u001b[1;32m   1707\u001b[0m                 \u001b[0mmode\u001b[0m\u001b[0;34m,\u001b[0m\u001b[0;34m\u001b[0m\u001b[0;34m\u001b[0m\u001b[0m\n",
            "\u001b[0;32m/usr/local/lib/python3.10/dist-packages/pandas/io/common.py\u001b[0m in \u001b[0;36mget_handle\u001b[0;34m(path_or_buf, mode, encoding, compression, memory_map, is_text, errors, storage_options)\u001b[0m\n\u001b[1;32m    861\u001b[0m         \u001b[0;32mif\u001b[0m \u001b[0mioargs\u001b[0m\u001b[0;34m.\u001b[0m\u001b[0mencoding\u001b[0m \u001b[0;32mand\u001b[0m \u001b[0;34m\"b\"\u001b[0m \u001b[0;32mnot\u001b[0m \u001b[0;32min\u001b[0m \u001b[0mioargs\u001b[0m\u001b[0;34m.\u001b[0m\u001b[0mmode\u001b[0m\u001b[0;34m:\u001b[0m\u001b[0;34m\u001b[0m\u001b[0;34m\u001b[0m\u001b[0m\n\u001b[1;32m    862\u001b[0m             \u001b[0;31m# Encoding\u001b[0m\u001b[0;34m\u001b[0m\u001b[0;34m\u001b[0m\u001b[0m\n\u001b[0;32m--> 863\u001b[0;31m             handle = open(\n\u001b[0m\u001b[1;32m    864\u001b[0m                 \u001b[0mhandle\u001b[0m\u001b[0;34m,\u001b[0m\u001b[0;34m\u001b[0m\u001b[0;34m\u001b[0m\u001b[0m\n\u001b[1;32m    865\u001b[0m                 \u001b[0mioargs\u001b[0m\u001b[0;34m.\u001b[0m\u001b[0mmode\u001b[0m\u001b[0;34m,\u001b[0m\u001b[0;34m\u001b[0m\u001b[0;34m\u001b[0m\u001b[0m\n",
            "\u001b[0;31mFileNotFoundError\u001b[0m: [Errno 2] No such file or directory: '../data/heart-disease.csv'"
          ]
        }
      ],
      "source": [
        "heart_disease = pd.read_csv(\"../data/heart-disease.csv\")\n",
        "heart_disease.head()"
      ]
    },
    {
      "cell_type": "code",
      "execution_count": null,
      "metadata": {
        "id": "riDEDDX5dAPu"
      },
      "outputs": [],
      "source": [
        "# How many samples are there?\n",
        "len(heart_disease)"
      ]
    },
    {
      "cell_type": "markdown",
      "metadata": {
        "id": "-kbZ4cS-dAPu"
      },
      "source": [
        "Similar to the California Housing dataset, here we want to use all of the available data to predict the target column (1 for if a patient has heart disease and 0 for if they don't).\n",
        "\n",
        "So what do we know?\n",
        "\n",
        "We've got 303 samples (1 row = 1 sample) and we're trying to predict whether or not a patient has heart disease.\n",
        "\n",
        "Because we're trying to predict whether each sample is one thing or another, we've got a classification problem.\n",
        "\n",
        "Let's see how it lines up with our [Scikit-Learn algorithm cheat-sheet](https://scikit-learn.org/stable/tutorial/machine_learning_map/index.html).\n",
        "\n",
        "<img src=\"../images/sklearn-ml-map-cheatsheet-heart-disease-linear-svc.png\" width=700/>\n",
        "\n",
        "Following the cheat-sheet we end up at [`LinearSVC`](https://scikit-learn.org/stable/modules/generated/sklearn.svm.LinearSVC.html#sklearn.svm.LinearSVC) which stands for Linear Support Vector Classifier. Let's try it on our data."
      ]
    },
    {
      "cell_type": "code",
      "execution_count": null,
      "metadata": {
        "id": "fFr-YGYtdAPu"
      },
      "outputs": [],
      "source": [
        "# Import LinearSVC from the svm module\n",
        "from sklearn.svm import LinearSVC\n",
        "\n",
        "# Setup random seed\n",
        "np.random.seed(42)\n",
        "\n",
        "# Split the data into X (features/data) and y (target/labels)\n",
        "X = heart_disease.drop(\"target\", axis=1)\n",
        "y = heart_disease[\"target\"]\n",
        "\n",
        "# Split into train and test sets\n",
        "X_train, X_test, y_train, y_test = train_test_split(X, y, test_size=0.2)\n",
        "\n",
        "# Instantiate and fit the model (on the training set)\n",
        "clf = LinearSVC(max_iter=1000)\n",
        "clf.fit(X_train, y_train)\n",
        "\n",
        "# Check the score of the model (on the test set)\n",
        "clf.score(X_test, y_test)"
      ]
    },
    {
      "cell_type": "markdown",
      "metadata": {
        "id": "Ui0Ux-SodAPv"
      },
      "source": [
        "Straight out of the box (with no tuning or improvements) the model scores 47% accuracy, which with 2 classes (heart disease or not) is as good as guessing.\n",
        "\n",
        "With this result, we'll go back to our diagram and see what our options are.\n",
        "\n",
        "<img src=\"../images/sklearn-ml-map-cheatsheet-heart-disease-ensemble.png\" width=700/>\n",
        "\n",
        "Following the path (and skipping a few, don't worry, we'll get to this) we come up to [`EnsembleMethods`](https://scikit-learn.org/stable/modules/ensemble.html) again. Except this time, we'll be looking at ensemble classifiers instead of regressors.\n",
        "\n",
        "Remember our [`RandomForestRegressor`](https://scikit-learn.org/stable/modules/generated/sklearn.ensemble.RandomForestRegressor.html) from above? We'll it has a dance partner, [`RandomForestClassifier`](https://scikit-learn.org/stable/modules/generated/sklearn.ensemble.RandomForestClassifier.html) which is an ensemble based machine model learning model for classification. You might be able to guess what we can use it for.\n",
        "\n",
        "Let's try."
      ]
    },
    {
      "cell_type": "code",
      "execution_count": null,
      "metadata": {
        "id": "3-rIGwevdAPv"
      },
      "outputs": [],
      "source": [
        "# Import the RandomForestClassifier model class from the ensemble module\n",
        "from sklearn.ensemble import RandomForestClassifier\n",
        "\n",
        "# Setup random seed\n",
        "np.random.seed(42)\n",
        "\n",
        "# Split the data into X (features/data) and y (target/labels)\n",
        "X = heart_disease.drop(\"target\", axis=1)\n",
        "y = heart_disease[\"target\"]\n",
        "\n",
        "# Split into train and test sets\n",
        "X_train, X_test, y_train, y_test = train_test_split(X, y, test_size=0.2)\n",
        "\n",
        "# Instantiate and fit the model (on the training set)\n",
        "clf = RandomForestClassifier()\n",
        "clf.fit(X_train, y_train)\n",
        "\n",
        "# Check the score of the model (on the test set)\n",
        "clf.score(X_test, y_test)"
      ]
    },
    {
      "cell_type": "markdown",
      "metadata": {
        "id": "BMxAbrSBdAPv"
      },
      "source": [
        "Using the `RandomForestClassifier` we get almost double the score of `LinearSVC`.\n",
        "\n",
        "One thing to remember, is both models are yet to receive any hyperparameter tuning. Hyperparameter tuning is fancy term for adjusting some settings on a model to try and make it better. It usually happens once you've found a decent baseline result you'd like to improve upon.\n",
        "\n",
        "In this case, we'd probably take the `RandomForestClassifier` and try and improve it with hyperparameter tuning (which we'll see later on).\n",
        "\n",
        "### What about the other models?\n",
        "\n",
        "Looking at the cheat-sheet and the examples above, you may have noticed we've skipped a few.\n",
        "\n",
        "Why?\n",
        "\n",
        "The first reason is time. Covering every single one would take a fair bit longer than what we've done here. And the second one is the effectiveness of ensemble methods.\n",
        "\n",
        "A little tidbit for modelling in machine learning is:\n",
        "* If you have structured data (tables or dataframes), use ensemble methods, such as, a Random Forest.\n",
        "* If you have unstructured data (text, images, audio, things not in tables), use deep learning or transfer learning.\n",
        "\n",
        "For this notebook, we're focused on structured data, which is why the Random Forest has been our model of choice.\n",
        "\n",
        "If you'd like to learn more about the Random Forest and why it's the war horse of machine learning, check out these resources:\n",
        "* [Random Forest Wikipedia](https://en.wikipedia.org/wiki/Random_forest)\n",
        "* [Random Forests in Python](http://blog.yhat.com/posts/random-forests-in-python.html) by yhat\n",
        "* [An Implementation and Explanation of the Random Forest in Python](https://towardsdatascience.com/an-implementation-and-explanation-of-the-random-forest-in-python-77bf308a9b76) by Will Koehrsen\n",
        "\n",
        "### Experiment until something works\n",
        "\n",
        "The beautiful thing is, the way the Scikit-Learn API is designed, once you know the way with one model, using another is much the same.\n",
        "\n",
        "And since a big part of being a machine learning engineer or data scientist is experimenting, you might want to try out some of the other models on the cheat-sheet and see how you go. The more you can reduce the time between experiments, the better."
      ]
    },
    {
      "cell_type": "markdown",
      "metadata": {
        "id": "G2G2bVumdAPv"
      },
      "source": [
        "## 3. Fit the model to data and using it to make predictions\n",
        "\n",
        "Now you've chosen a model, the next step is to have it learn from the data so it can be used for predictions in the future.\n",
        "\n",
        "If you've followed through, you've seen a few examples of this already.\n",
        "\n",
        "### 3.1 Fitting a model to data\n",
        "\n",
        "In Scikit-Learn, the process of having a machine learning model learn patterns from a dataset involves calling the `fit()` method and passing it data, such as, `fit(X, y)`.\n",
        "\n",
        "Where `X` is a feature array and `y` is a target array.\n",
        "\n",
        "Other names for `X` include:\n",
        "* Data\n",
        "* Feature variables\n",
        "* Features\n",
        "\n",
        "Other names for `y` include:\n",
        "* Labels\n",
        "* Target variable\n",
        "\n",
        "For supervised learning there is usually an `X` and `y`. For unsupervised learning, there's no `y` (no labels).\n",
        "\n",
        "Let's revisit the example of using patient data (`X`) to predict whether or not they have heart disease (`y`)."
      ]
    },
    {
      "cell_type": "code",
      "execution_count": null,
      "metadata": {
        "id": "n4dAL0ORdAPw"
      },
      "outputs": [],
      "source": [
        "# Import the RandomForestClassifier model class from the ensemble module\n",
        "from sklearn.ensemble import RandomForestClassifier\n",
        "\n",
        "# Setup random seed\n",
        "np.random.seed(42)\n",
        "\n",
        "# Split the data into X (features/data) and y (target/labels)\n",
        "X = heart_disease.drop(\"target\", axis=1)\n",
        "y = heart_disease[\"target\"]\n",
        "\n",
        "# Split into train and test sets\n",
        "X_train, X_test, y_train, y_test = train_test_split(X, y, test_size=0.2)\n",
        "\n",
        "# Instantiate the model (on the training set)\n",
        "clf = RandomForestClassifier()\n",
        "\n",
        "# Call the fit method on the model and pass it training data\n",
        "clf.fit(X_train, y_train)\n",
        "\n",
        "# Check the score of the model (on the test set)\n",
        "clf.score(X_test, y_test)"
      ]
    },
    {
      "cell_type": "markdown",
      "metadata": {
        "id": "jMhpfW59dAPw"
      },
      "source": [
        "What's happening here?\n",
        "\n",
        "Calling the `fit()` method will cause the machine learning algorithm to attempt to find patterns between `X` and `y`. Or if there's no `y`, it'll only find the patterns within `X`.\n",
        "\n",
        "Let's see `X`."
      ]
    },
    {
      "cell_type": "code",
      "execution_count": null,
      "metadata": {
        "id": "nyL88WUgdAPw"
      },
      "outputs": [],
      "source": [
        "X.head()"
      ]
    },
    {
      "cell_type": "markdown",
      "metadata": {
        "id": "UZV7Ma1LdAPw"
      },
      "source": [
        "And `y`."
      ]
    },
    {
      "cell_type": "code",
      "execution_count": null,
      "metadata": {
        "id": "3XQsjjbydAPw"
      },
      "outputs": [],
      "source": [
        "y.head()"
      ]
    },
    {
      "cell_type": "markdown",
      "metadata": {
        "id": "pkMAzLX-dAPx"
      },
      "source": [
        "Passing `X` and `y` to `fit()` will cause the model to go through all of the examples in `X` (data) and see what their corresponding `y` (label) is.\n",
        "\n",
        "How the model does this is different depending on the model you use.\n",
        "\n",
        "Explaining the details of each would take an entire textbook.\n",
        "\n",
        "For now, you could imagine it similar to how you would figure out patterns if you had enough time.\n",
        "\n",
        "You'd look at the feature variables, `X`, the `age`, `sex`, `chol` (cholesterol) and see what different values led to the labels, `y`, `1` for heart disease, `0` for not heart disease.\n",
        "\n",
        "This concept, regardless of the problem, is similar throughout all of machine learning.\n",
        "\n",
        "**During training (finding patterns in data):**\n",
        "\n",
        "A machine learning algorithm looks at a dataset, finds patterns, tries to use those patterns to predict something and corrects itself as best it can with the available data and labels. It stores these patterns for later use.\n",
        "\n",
        "**During testing or in production (using learned patterns):**\n",
        "\n",
        "A machine learning algorithm uses the patterns its previously learned in a dataset to make a prediction on some unseen data.\n",
        "\n",
        "### 3.2 Making predictions using a machine learning model\n",
        "Now we've got a trained model, one which has hoepfully learned patterns in the data, you'll want to use it to make predictions.\n",
        "\n",
        "Scikit-Learn enables this in several ways. Two of the most common and useful are [`predict()`](https://github.com/scikit-learn/scikit-learn/blob/5f3c3f037/sklearn/multiclass.py#L299) and [`predict_proba()`](https://github.com/scikit-learn/scikit-learn/blob/5f3c3f037/sklearn/linear_model/_logistic.py#L1617).\n",
        "\n",
        "Let's see them in action."
      ]
    },
    {
      "cell_type": "code",
      "execution_count": null,
      "metadata": {
        "id": "4TkCFskBdAPx"
      },
      "outputs": [],
      "source": [
        "# Use a trained model to make predictions\n",
        "clf.predict(X_test)"
      ]
    },
    {
      "cell_type": "markdown",
      "metadata": {
        "id": "KT_Xf34pdAPx"
      },
      "source": [
        "Given data in the form of `X`, the `predict()` function returns labels in the form of `y`.\n",
        "\n",
        "It's standard practice to save these predictions to a variable named something like `y_preds` for later comparison to `y_test` or `y_true` (usually same as `y_test` just another name)."
      ]
    },
    {
      "cell_type": "code",
      "execution_count": null,
      "metadata": {
        "id": "7_ITKHIYdAPx"
      },
      "outputs": [],
      "source": [
        "# Compare predictions to truth\n",
        "y_preds = clf.predict(X_test)\n",
        "np.mean(y_preds == y_test)"
      ]
    },
    {
      "cell_type": "markdown",
      "metadata": {
        "id": "aBx3qAMbdAPx"
      },
      "source": [
        "Another way of doing this is with Scikit-Learn's [`accuracy_score()`](https://scikit-learn.org/stable/modules/generated/sklearn.metrics.accuracy_score.html) function."
      ]
    },
    {
      "cell_type": "code",
      "execution_count": null,
      "metadata": {
        "id": "RvRvDsJedAPy"
      },
      "outputs": [],
      "source": [
        "from sklearn.metrics import accuracy_score\n",
        "accuracy_score(y_test, y_preds)"
      ]
    },
    {
      "cell_type": "markdown",
      "metadata": {
        "id": "ZSaSTw1zdAPy"
      },
      "source": [
        "**Note:** For the `predict()` function to work, it must be passed `X` (data) in the same format the model was trained on. Anything different and it will return an error.\n",
        "\n",
        "`predict_proba()` returns the probabilities of a classification label."
      ]
    },
    {
      "cell_type": "code",
      "execution_count": null,
      "metadata": {
        "id": "5L7Bg_RTdAPy"
      },
      "outputs": [],
      "source": [
        "# Return probabilities rather than labels\n",
        "clf.predict_proba(X_test[:5])"
      ]
    },
    {
      "cell_type": "markdown",
      "metadata": {
        "id": "VglF9KZRdAPy"
      },
      "source": [
        "Let's see the difference."
      ]
    },
    {
      "cell_type": "code",
      "execution_count": null,
      "metadata": {
        "id": "XfZgaC3_dAPy"
      },
      "outputs": [],
      "source": [
        "# Return labels\n",
        "clf.predict(X_test[:5])"
      ]
    },
    {
      "cell_type": "markdown",
      "metadata": {
        "id": "mghZCUUUdAPy"
      },
      "source": [
        "`predict_proba()` returns an array of five arrays each containing two values.\n",
        "\n",
        "Each number is the probability of a label given a sample."
      ]
    },
    {
      "cell_type": "code",
      "execution_count": null,
      "metadata": {
        "id": "8iIxLrHddAPz"
      },
      "outputs": [],
      "source": [
        "# Find prediction probabilities for 1 sample\n",
        "clf.predict_proba(X_test[:1])"
      ]
    },
    {
      "cell_type": "markdown",
      "metadata": {
        "id": "LL0E65l0dAPz"
      },
      "source": [
        "This output means the sample `X_test[:1]`, the model is predicting label 0 (index 0) with a probability score of 0.9.\n",
        "\n",
        "Because the score is over 0.5, when using `predict()`, a label of 0 is assigned."
      ]
    },
    {
      "cell_type": "code",
      "execution_count": null,
      "metadata": {
        "id": "C-nWtefxdAPz"
      },
      "outputs": [],
      "source": [
        "# Return the label for 1 sample\n",
        "clf.predict(X_test[:1])"
      ]
    },
    {
      "cell_type": "markdown",
      "metadata": {
        "id": "0-9bwDC7dAPz"
      },
      "source": [
        "Where does 0.5 come from?\n",
        "\n",
        "Because our problem is a binary classification task (heart disease or not heart disease), predicting a label with 0.5 probability every time would be the same as a coin toss (guessing). Therefore, once the prediction probability of a sample passes 0.5, for a certain label, it's assigned that label.\n",
        "\n",
        "`predict()` can also be used for regression models."
      ]
    },
    {
      "cell_type": "code",
      "execution_count": null,
      "metadata": {
        "id": "1SscWL3fdAPz"
      },
      "outputs": [],
      "source": [
        "# Import the RandomForestRegressor model class from the ensemble module\n",
        "from sklearn.ensemble import RandomForestRegressor\n",
        "\n",
        "# Setup random seed\n",
        "np.random.seed(42)\n",
        "\n",
        "# Create the data\n",
        "X = housing_df.drop(\"target\", axis=1)\n",
        "y = housing_df[\"target\"]\n",
        "\n",
        "# Split into train and test sets\n",
        "X_train, X_test, y_train, y_test = train_test_split(X, y, test_size=0.2)\n",
        "\n",
        "# Institate and fit the model (on the training set)\n",
        "model = RandomForestRegressor()\n",
        "model.fit(X_train, y_train)\n",
        "\n",
        "# Make predictions\n",
        "y_preds = model.predict(X_test)"
      ]
    },
    {
      "cell_type": "code",
      "execution_count": null,
      "metadata": {
        "id": "YMtlnas6dAP0"
      },
      "outputs": [],
      "source": [
        "# Compare the predictions to the truth\n",
        "from sklearn.metrics import mean_absolute_error\n",
        "mean_absolute_error(y_test, y_preds)"
      ]
    },
    {
      "cell_type": "markdown",
      "metadata": {
        "id": "pqKo9yPudAP0"
      },
      "source": [
        "Now we've seen how to get a model how to find patterns in data using the `fit()` function and make predictions using what its learned using the `predict()` and `predict_proba()` functions, it's time to evaluate those predictions."
      ]
    },
    {
      "cell_type": "markdown",
      "metadata": {
        "id": "IYvBN4EEdAP0"
      },
      "source": [
        "## 4. Evaluating a model\n",
        "\n",
        "Once you've trained a model, you'll want a way to measure how trustworthy its predictions are.\n",
        "\n",
        "Scikit-Learn implements 3 different methods of evaluating models.\n",
        "\n",
        "1. The `score()` method. Calling `score()` on a model instance will return a metric assosciated with the type of model you're using. The metric depends on which model you're using.\n",
        "2. The `scoring` parameter. This parameter can be passed to methods such as [`cross_val_score()`](https://scikit-learn.org/stable/modules/generated/sklearn.model_selection.cross_val_score.html#sklearn.model_selection.cross_val_score) or [`GridSearchCV()`](https://scikit-learn.org/stable/modules/generated/sklearn.model_selection.GridSearchCV.html) to tell Scikit-Learn to use a specific type of scoring metric.\n",
        "3. Problem-specific metric functions. Similar to how the `scoring` parameter can be passed different scoring functions, Scikit-Learn implements these as stand alone functions.\n",
        "\n",
        "The scoring function you use will also depend on the problem you're working on.\n",
        "\n",
        "Classification problems have different evaluation metrics and scoring functions to regression problems.\n",
        "\n",
        "Let's look at some examples."
      ]
    },
    {
      "cell_type": "markdown",
      "metadata": {
        "id": "PCXS0opUdAP0"
      },
      "source": [
        "### 4.1 General model evaluation with `score()`\n",
        "\n",
        "If we bring down the code from our previous classification problem (building a classifier to predict whether or not someone has heart disease based on their medical records).\n",
        "\n",
        "We can see the `score()` method come into play."
      ]
    },
    {
      "cell_type": "code",
      "execution_count": null,
      "metadata": {
        "id": "rWK8oHbxdAP0"
      },
      "outputs": [],
      "source": [
        "# Import the RandomForestClassifier model class from the ensemble module\n",
        "from sklearn.ensemble import RandomForestClassifier\n",
        "\n",
        "# Setup random seed\n",
        "np.random.seed(42)\n",
        "\n",
        "# Split the data into X (features/data) and y (target/labels)\n",
        "X = heart_disease.drop(\"target\", axis=1)\n",
        "y = heart_disease[\"target\"]\n",
        "\n",
        "# Split into train and test sets\n",
        "X_train, X_test, y_train, y_test = train_test_split(X, y, test_size=0.2)\n",
        "\n",
        "# Instantiate the model (on the training set)\n",
        "clf = RandomForestClassifier()\n",
        "\n",
        "# Call the fit method on the model and pass it training data\n",
        "clf.fit(X_train, y_train);"
      ]
    },
    {
      "cell_type": "markdown",
      "metadata": {
        "id": "FpNz-dMfdAP1"
      },
      "source": [
        "Once the model has been fit on the training data (`X_train`, `y_train`), we can call the `score()` method on it and evaluate our model on the test data, data the model has never seen before (`X_test`, `y_test`)."
      ]
    },
    {
      "cell_type": "code",
      "execution_count": null,
      "metadata": {
        "id": "vcNapI6EdAP1"
      },
      "outputs": [],
      "source": [
        "# Check the score of the model (on the test set)\n",
        "clf.score(X_test, y_test)"
      ]
    },
    {
      "cell_type": "markdown",
      "metadata": {
        "id": "DMZ-OUKhdAP1"
      },
      "source": [
        "Because `clf` is an instance of `RandomForestClassifier`, the `score()` method uses mean accuracy as its score method.\n",
        "\n",
        "You can find this by pressing **SHIFT + TAB** within the brackets of `score()` when called on a model instance.\n",
        "\n",
        "Behind the scenes, `score()` makes predictions on `X_test` using the trained model and then compares those predictions to the actual labels `y_test`.\n",
        "\n",
        "A model which predicts everything 100% correct would receive a score of 1.0 (or 100%).\n",
        "\n",
        "Our model doesn't get everything correct, but at 85% (0.85 * 100), it's still far better than guessing.\n",
        "\n",
        "Let's do the same but with the regression code from above."
      ]
    },
    {
      "cell_type": "code",
      "execution_count": null,
      "metadata": {
        "id": "TKopNKoWdAP2"
      },
      "outputs": [],
      "source": [
        "# Import the RandomForestRegressor model class from the ensemble module\n",
        "from sklearn.ensemble import RandomForestRegressor\n",
        "\n",
        "# Setup random seed\n",
        "np.random.seed(42)\n",
        "\n",
        "# Create the data\n",
        "X = housing_df.drop(\"target\", axis=1)\n",
        "y = housing_df[\"target\"]\n",
        "\n",
        "# Split into train and test sets\n",
        "X_train, X_test, y_train, y_test = train_test_split(X, y, test_size=0.2)\n",
        "\n",
        "# Institate and fit the model (on the training set)\n",
        "model = RandomForestRegressor()\n",
        "model.fit(X_train, y_train);"
      ]
    },
    {
      "cell_type": "markdown",
      "metadata": {
        "id": "SCfPXHdDdAP2"
      },
      "source": [
        "Due to the consistent design of the Scikit-Learn library, we can call the same `score()` method on `model`."
      ]
    },
    {
      "cell_type": "code",
      "execution_count": null,
      "metadata": {
        "id": "r6eARRsddAP2"
      },
      "outputs": [],
      "source": [
        "# Check the score of the model (on the test set)\n",
        "model.score(X_test, y_test)"
      ]
    },
    {
      "cell_type": "markdown",
      "metadata": {
        "id": "lRMcZqN6dAP2"
      },
      "source": [
        "Here, `model` is an instance of `RandomForestRegressor`. And since it's a regression model, the default metric built into `score()` is the coefficient of determination or R^2 (pronounced R-sqaured).\n",
        "\n",
        "Remember, you can find this by pressing **SHIFT + TAB** within the brackets of `score()` when called on a model instance.\n",
        "\n",
        "The best possible value here is 1.0, this means the model predicts the target regression values exactly.\n",
        "\n",
        "Calling the `score()` method on any model instance and passing it test data is a good quick way to see how your model is going.\n",
        "\n",
        "However, when you get further into a problem, it's likely you'll want to start using more powerful metrics to evaluate your models performance."
      ]
    },
    {
      "cell_type": "markdown",
      "metadata": {
        "id": "M1Gyc5RjdAP2"
      },
      "source": [
        "### 4.2 Evaluating your models using the `scoring` parameter\n",
        "\n",
        "The next step up from using `score()` is to use a custom `scoring` parameter with [`cross_val_score()`](https://scikit-learn.org/stable/modules/generated/sklearn.model_selection.cross_val_score.html#sklearn.model_selection.cross_val_score) or [`GridSearchCV`](https://scikit-learn.org/stable/modules/generated/sklearn.model_selection.GridSearchCV.html).\n",
        "\n",
        "As you may have guessed, the `scoring` parameter you set will be different depending on the problem you're working on.\n",
        "\n",
        "We'll see some specific examples of different parameters in a moment but first let's check out `cross_val_score()`.\n",
        "\n",
        "To do so, we'll copy the heart disease classification code from above and then add another line at the top."
      ]
    },
    {
      "cell_type": "code",
      "execution_count": null,
      "metadata": {
        "id": "J8a3_smJdAP3"
      },
      "outputs": [],
      "source": [
        "# Import cross_val_score from the model_selection module\n",
        "from sklearn.model_selection import cross_val_score\n",
        "\n",
        "# Import the RandomForestClassifier model class from the ensemble module\n",
        "from sklearn.ensemble import RandomForestClassifier\n",
        "\n",
        "# Setup random seed\n",
        "np.random.seed(42)\n",
        "\n",
        "# Split the data into X (features/data) and y (target/labels)\n",
        "X = heart_disease.drop(\"target\", axis=1)\n",
        "y = heart_disease[\"target\"]\n",
        "\n",
        "# Split into train and test sets\n",
        "X_train, X_test, y_train, y_test = train_test_split(X, y, test_size=0.2)\n",
        "\n",
        "# Instantiate the model (on the training set)\n",
        "clf = RandomForestClassifier()\n",
        "\n",
        "# Call the fit method on the model and pass it training data\n",
        "clf.fit(X_train, y_train);"
      ]
    },
    {
      "cell_type": "markdown",
      "metadata": {
        "id": "v1OxB0LldAP3"
      },
      "source": [
        "Using `cross_val_score()` is slightly different to `score()`. Let's see a code example first and then we'll go through the details."
      ]
    },
    {
      "cell_type": "code",
      "execution_count": null,
      "metadata": {
        "id": "RlDYAdBUdAP3"
      },
      "outputs": [],
      "source": [
        "# Using score()\n",
        "clf.score(X_test, y_test)"
      ]
    },
    {
      "cell_type": "code",
      "execution_count": null,
      "metadata": {
        "id": "dvurn68YdAP3"
      },
      "outputs": [],
      "source": [
        "# Using cross_val_score()\n",
        "cross_val_score(clf, X, y)"
      ]
    },
    {
      "cell_type": "markdown",
      "metadata": {
        "id": "5zM7xRtWdAP3"
      },
      "source": [
        "What's happening here?\n",
        "\n",
        "The first difference you might notice is `cross_val_score()` returns an array where as `score()` only returns a single number.\n",
        "\n",
        "`cross_val_score()` returns an array because of a parameter called `cv`, which stands for cross-validation.\n",
        "\n",
        "When `cv` isn't set, `cross_val_score()` will return an array of 3 numbers by default (or 5 by default if you're using Scikit-Learn version 0.22+).\n",
        "\n",
        "Remember, you can see the parameters of a function using **SHIFT + TAB** from within the brackets.\n",
        "\n",
        "But wait, you might be thinking, what even is cross-validation?\n",
        "\n",
        "A visual might be able to help.\n",
        "\n",
        "<img src='../images/sklearn-cross-validation.png' width=600/>\n",
        "\n",
        "We've dealt with Figure 1.0 before using `score(X_test, y_test)`. But looking deeper into this, if a model is trained using the training data or 80% of samples, this means 20% of samples aren't used for the model to learn anything.\n",
        "\n",
        "This also means depending on what 80% is used to train on and what 20% is used to evaluate the model, it may achieve a score which doesn't reflect the entire dataset. For example, if a lot of easy examples are in the 80% training data, when it comes to test on the 20%, your model may perform poorly. The same goes for the reverse.\n",
        "\n",
        "Figure 2.0 shows 5-fold cross-validation, a method which tries to provide a solution to:\n",
        "\n",
        "1. Not training on all the data\n",
        "2. Avoiding getting lucky scores on single splits of the data\n",
        "\n",
        "Instead of training only on 1 training split and evaluating on 1 testing split, 5-fold cross-validation does it 5 times. On a different split each time, returning a score for each.\n",
        "\n",
        "Why 5-fold?\n",
        "\n",
        "The actual name of this setup K-fold cross-validation. Where K is an abitrary number. We've used 5 because it looks nice visually, and will be the default in Scikit-Learn from version 0.22 onwards.\n",
        "\n",
        "Figure 2.0 is what happens when we run the following."
      ]
    },
    {
      "cell_type": "code",
      "execution_count": null,
      "metadata": {
        "id": "zczBurYodAP3"
      },
      "outputs": [],
      "source": [
        "# 5-fold cross-validation\n",
        "cross_val_score(clf, X, y, cv=5) # cv is equivalent to K"
      ]
    },
    {
      "cell_type": "markdown",
      "metadata": {
        "id": "VsulL-PLdAP4"
      },
      "source": [
        "Since we set `cv=5` (5-fold cross-validation), we get back 5 different scores instead of 1.\n",
        "\n",
        "Taking the mean of this array gives us a more in-depth idea of how our model is performing by converting the 5 scores into one.\n",
        "\n",
        "Notice, the average `cross_val_score()` is slightly lower than single value returned by `score()`."
      ]
    },
    {
      "cell_type": "code",
      "execution_count": null,
      "metadata": {
        "id": "1Eacyq1NdAP4"
      },
      "outputs": [],
      "source": [
        "np.random.seed(42)\n",
        "\n",
        "# Single training and test split score\n",
        "clf_single_score = clf.score(X_test, y_test)\n",
        "\n",
        "# Take mean of 5-fold cross-validation\n",
        "clf_cross_val_score = np.mean(cross_val_score(clf, X, y, cv=5))\n",
        "\n",
        "clf_single_score, clf_cross_val_score"
      ]
    },
    {
      "cell_type": "markdown",
      "metadata": {
        "id": "91-bSM_7dAP4"
      },
      "source": [
        "In this case, if you were asked to report the accuracy of your model, even though it's lower, you'd prefer the cross-validated metric over the non-cross-validated metric.\n",
        "\n",
        "Wait?\n",
        "\n",
        "We haven't used the `scoring` parameter at all.\n",
        "\n",
        "By default, it's set to `None`."
      ]
    },
    {
      "cell_type": "code",
      "execution_count": null,
      "metadata": {
        "id": "OUUU6StFdAP4"
      },
      "outputs": [],
      "source": [
        "cross_val_score(clf, X, y, cv=5, scoring=None) # default scoring"
      ]
    },
    {
      "cell_type": "markdown",
      "metadata": {
        "id": "7YvQ7qkcdAP5"
      },
      "source": [
        "When `scoring` is set to `None` (by default), it uses the same metric as `score()` for whatever model is passed to `cross_val_score()`.\n",
        "\n",
        "In this case, our model is `clf` which is an instance of `RandomForestClassifier` which uses mean accuracy as the default `score()` metric.\n",
        "\n",
        "You can change the evaluation score `cross_val_score()` uses by changing the `scoring` parameter.\n",
        "\n",
        "And as you might have guessed, different problems call for different evaluation scores.\n",
        "\n",
        "The [Scikit-Learn documentation](https://scikit-learn.org/stable/modules/model_evaluation.html#scoring-parameter) outlines a vast range of evaluation metrics for different problems but let's have a look at a few."
      ]
    },
    {
      "cell_type": "markdown",
      "metadata": {
        "id": "S-F2AsIldAP5"
      },
      "source": [
        "### 4.2.1 Classification model evaluation metrics\n",
        "\n",
        "Four of the main evaluation metrics/methods you'll come across for classification models are:\n",
        "\n",
        "1. Accuracy\n",
        "2. Area under ROC curve\n",
        "3. Confusion matrix\n",
        "4. Classification report\n",
        "\n",
        "Let's have a look at each of these. We'll bring down the classification code from above to go through some examples."
      ]
    },
    {
      "cell_type": "code",
      "execution_count": null,
      "metadata": {
        "id": "wi8vmHQGdAP5"
      },
      "outputs": [],
      "source": [
        "# Import cross_val_score from the model_selection module\n",
        "from sklearn.model_selection import cross_val_score\n",
        "from sklearn.ensemble import RandomForestClassifier\n",
        "\n",
        "np.random.seed(42)\n",
        "\n",
        "X = heart_disease.drop(\"target\", axis=1)\n",
        "y = heart_disease[\"target\"]\n",
        "\n",
        "X_train, X_test, y_train, y_test = train_test_split(X, y, test_size=0.2)\n",
        "\n",
        "clf = RandomForestClassifier()\n",
        "clf.fit(X_train, y_train)\n",
        "clf.score(X_test, y_test)"
      ]
    },
    {
      "cell_type": "markdown",
      "metadata": {
        "id": "19VtiXo4dAP5"
      },
      "source": [
        "#### Accuracy\n",
        "Accuracy is the default metric for the `score()` function within each of Scikit-Learn's classifier models. And it's probably the metric you'll see most often used for classification problems.\n",
        "\n",
        "However, we'll see in a second how it may not always be the best metric to use.\n",
        "\n",
        "Scikit-Learn returns accuracy as a decimal but you can easily convert it to a percentage."
      ]
    },
    {
      "cell_type": "code",
      "execution_count": null,
      "metadata": {
        "id": "gobtYT7VdAP5"
      },
      "outputs": [],
      "source": [
        "# Accuracy as percentage\n",
        "print(f\"Heart Disease Classifier Accuracy: {clf.score(X_test, y_test) * 100:.2f}%\")"
      ]
    },
    {
      "cell_type": "markdown",
      "metadata": {
        "id": "P6DTOe47dAP6"
      },
      "source": [
        "#### Area Under Receiver Operating Characteristic (ROC) Curve\n",
        "If this one sounds like a mouthful, its because reading the full name is.\n",
        "\n",
        "It's usually referred to as AUC for Area Under Curve and the curve they're talking about is the Receiver Operating Characteristic or ROC for short.\n",
        "\n",
        "So if hear someone talking about AUC or ROC, they're probably talking about what follows.\n",
        "\n",
        "ROC curves are a comparison of true postive rate (tpr) versus false positive rate (fpr).\n",
        "\n",
        "For clarity:\n",
        "* True positive = model predicts 1 when truth is 1\n",
        "* False positive = model predicts 1 when truth is 0\n",
        "* True negative = model predicts 0 when truth is 0\n",
        "* False negative = model predicts 0 when truth is 1\n",
        "\n",
        "Now we know this, let's see one. Scikit-Learn lets you calculate the information required for a ROC curve using the [`roc_curve`](https://scikit-learn.org/stable/modules/generated/sklearn.metrics.roc_curve.html#sklearn.metrics.roc_curve) function."
      ]
    },
    {
      "cell_type": "code",
      "execution_count": null,
      "metadata": {
        "id": "ZqQ749lpdAP6"
      },
      "outputs": [],
      "source": [
        "from sklearn.metrics import roc_curve\n",
        "\n",
        "# Make predictions with probabilities\n",
        "y_probs = clf.predict_proba(X_test)\n",
        "\n",
        "# Keep the probabilites of the positive class only\n",
        "y_probs = y_probs[:, 1]\n",
        "\n",
        "# Calculate fpr, tpr and thresholds\n",
        "fpr, tpr, thresholds = roc_curve(y_test, y_probs)\n",
        "\n",
        "# Check the false positive rate\n",
        "fpr"
      ]
    },
    {
      "cell_type": "markdown",
      "metadata": {
        "id": "c3sqS9zvdAP6"
      },
      "source": [
        "Looking at these on their own doesn't make much sense. It's much easier to see their value visually.\n",
        "\n",
        "Since Scikit-Learn doesn't have a built-in function to plot a ROC curve, quite often, you'll find a function (or write your own) like the one below."
      ]
    },
    {
      "cell_type": "code",
      "execution_count": null,
      "metadata": {
        "id": "7EotVs6zdAP6"
      },
      "outputs": [],
      "source": [
        "import matplotlib.pyplot as plt\n",
        "\n",
        "def plot_roc_curve(fpr, tpr):\n",
        "    \"\"\"\n",
        "    Plots a ROC curve given the false positve rate (fpr) and\n",
        "    true postive rate (tpr) of a classifier.\n",
        "    \"\"\"\n",
        "    # Plot ROC curve\n",
        "    plt.plot(fpr, tpr, color='orange', label='ROC')\n",
        "    # Plot line with no predictive power (baseline)\n",
        "    plt.plot([0, 1], [0, 1], color='darkblue', linestyle='--', label='Guessing')\n",
        "    # Customize the plot\n",
        "    plt.xlabel('False Positive Rate')\n",
        "    plt.ylabel('True Positive Rate')\n",
        "    plt.title('Receiver Operating Characteristic (ROC) Curve')\n",
        "    plt.legend()\n",
        "    plt.show()\n",
        "\n",
        "plot_roc_curve(fpr, tpr)"
      ]
    },
    {
      "cell_type": "markdown",
      "metadata": {
        "id": "mLbod8jndAP6"
      },
      "source": [
        "Looking at the plot for the first time, it might seem a bit confusing.\n",
        "\n",
        "The main thing to take away here is our model is doing far better than guessing.\n",
        "\n",
        "A metric you can use to quantify the ROC curve in a single number is AUC (Area Under Curve). Scikit-Learn implements a function to caculate this called [`roc_auc_score()`](https://scikit-learn.org/stable/modules/generated/sklearn.metrics.roc_auc_score.html#sklearn.metrics.roc_auc_score).\n",
        "\n",
        "The maximum ROC AUC score you can achieve is 1.0 and generally, the closer to 1.0, the better the model."
      ]
    },
    {
      "cell_type": "code",
      "execution_count": null,
      "metadata": {
        "id": "mS6Fj7KBdAP7"
      },
      "outputs": [],
      "source": [
        "from sklearn.metrics import roc_auc_score\n",
        "\n",
        "roc_auc_score(y_test, y_probs)"
      ]
    },
    {
      "cell_type": "markdown",
      "metadata": {
        "id": "iOUTvXPudAP7"
      },
      "source": [
        "The most ideal position for a ROC curve to run along the top left corner of the plot.\n",
        "\n",
        "This would mean the model predicts only true positives and no false positives. And would result in a ROC AUC score of 1.0.\n",
        "\n",
        "You can see this by creating a ROC curve using only the `y_test` labels."
      ]
    },
    {
      "cell_type": "code",
      "execution_count": null,
      "metadata": {
        "id": "ytNRUTu8dAP7"
      },
      "outputs": [],
      "source": [
        "# Plot perfect ROC curve\n",
        "fpr, tpr, thresholds = roc_curve(y_test, y_test)\n",
        "plot_roc_curve(fpr, tpr)"
      ]
    },
    {
      "cell_type": "code",
      "execution_count": null,
      "metadata": {
        "id": "u8HSJMAUdAP7"
      },
      "outputs": [],
      "source": [
        "# Perfect ROC AUC score\n",
        "roc_auc_score(y_test, y_test)"
      ]
    },
    {
      "cell_type": "markdown",
      "metadata": {
        "id": "aIlqwY1NdAP8"
      },
      "source": [
        "In reality, a perfect ROC curve is unlikely.\n",
        "\n",
        "#### Confusion matrix\n",
        "The next way to evaluate a classification model is by using a [confusion matrix](https://en.wikipedia.org/wiki/Confusion_matrix).\n",
        "\n",
        "A confusion matrix is a quick way to compare the labels a model predicts and the actual labels it was supposed to predict. In essence, giving you an idea of where the model is getting confused."
      ]
    },
    {
      "cell_type": "code",
      "execution_count": null,
      "metadata": {
        "id": "SHWbYvledAP8"
      },
      "outputs": [],
      "source": [
        "from sklearn.metrics import confusion_matrix\n",
        "\n",
        "y_preds = clf.predict(X_test)\n",
        "\n",
        "confusion_matrix(y_test, y_preds)"
      ]
    },
    {
      "cell_type": "markdown",
      "metadata": {
        "id": "yq17O8cFdAP8"
      },
      "source": [
        "Again, this is probably easier visualized.\n",
        "\n",
        "One way to do it is with `pd.crosstab()`."
      ]
    },
    {
      "cell_type": "code",
      "execution_count": null,
      "metadata": {
        "id": "KwQRBK5CdAP8"
      },
      "outputs": [],
      "source": [
        "pd.crosstab(y_test,\n",
        "            y_preds,\n",
        "            rownames=[\"Actual Label\"],\n",
        "            colnames=[\"Predicted Label\"])"
      ]
    },
    {
      "cell_type": "markdown",
      "metadata": {
        "id": "X-nU9nUCdAP9"
      },
      "source": [
        "#### Creating a confusion matrix using Scikit-Learn\n",
        "\n",
        "Scikit-Learn has multiple different implementations of plotting confusion matrices:\n",
        "\n",
        "1. [`sklearn.metrics.ConfusionMatrixDisplay.from_estimator(estimator, X, y)`](https://scikit-learn.org/stable/modules/generated/sklearn.metrics.ConfusionMatrixDisplay.html#sklearn.metrics.ConfusionMatrixDisplay.from_estimator) - this takes a fitted estimator (like our `clf` model), features (`X`) and labels (`y`), it then uses the trained estimator to make predictions on `X` and compares the predictions to `y` by displaying a confusion matrix.\n",
        "2. [`sklearn.metrics.ConfusionMatrixDisplay.from_predictions(y_true, y_pred)`](https://scikit-learn.org/stable/modules/generated/sklearn.metrics.ConfusionMatrixDisplay.html#sklearn.metrics.ConfusionMatrixDisplay.from_predictions) - this takes truth labels and predicted labels and compares them by displaying a confusion matrix.\n",
        "\n",
        "> **Note:** Both of these methods/classes require Scikit-Learn 1.0+. To check your version of Scikit-Learn run:\n",
        "```python\n",
        "import sklearn\n",
        "sklearn.__version__\n",
        "```\n",
        "> If you don't have 1.0+, you can upgrade at: https://scikit-learn.org/stable/install.html"
      ]
    },
    {
      "cell_type": "code",
      "execution_count": null,
      "metadata": {
        "id": "thylZFj9dAP9"
      },
      "outputs": [],
      "source": [
        "from sklearn.metrics import ConfusionMatrixDisplay\n",
        "\n",
        "ConfusionMatrixDisplay.from_estimator(estimator=clf, X=X, y=y);"
      ]
    },
    {
      "cell_type": "code",
      "execution_count": null,
      "metadata": {
        "id": "ysjaHTSudAP9"
      },
      "outputs": [],
      "source": [
        "# Plot confusion matrix from predictions\n",
        "ConfusionMatrixDisplay.from_predictions(y_true=y_test,\n",
        "                                        y_pred=y_preds);"
      ]
    },
    {
      "cell_type": "markdown",
      "metadata": {
        "id": "BuRwMuf-dAP-"
      },
      "source": [
        "#### Classification report\n",
        "\n",
        "The final major metric you should consider when evaluating a classification model is a classification report.\n",
        "\n",
        "A classification report is more so a collection of metrics rather than a single one.\n",
        "\n",
        "You can create a classification report using Scikit-Learn's [`classification_report()`](https://scikit-learn.org/stable/modules/generated/sklearn.metrics.classification_report.html) function.\n",
        "\n",
        "Let's see one."
      ]
    },
    {
      "cell_type": "code",
      "execution_count": null,
      "metadata": {
        "id": "6rVCw32EdAP-"
      },
      "outputs": [],
      "source": [
        "from sklearn.metrics import classification_report\n",
        "\n",
        "print(classification_report(y_test, y_preds))"
      ]
    },
    {
      "cell_type": "markdown",
      "metadata": {
        "id": "47meQRCPdAP-"
      },
      "source": [
        "It returns four columns: precision, recall, f1-score and support.\n",
        "\n",
        "The number of rows will depend on how many different classes there are. But there will always be three rows labell accuracy, macro avg and weighted avg.\n",
        "\n",
        "Each term measures something slightly different:\n",
        "* **Precision** - Indicates the proportion of positive identifications (model predicted class `1`) which were actually correct. A model which produces no false positives has a precision of 1.0.\n",
        "* **Recall** - Indicates the proportion of actual positives which were correctly classified. A model which produces no false negatives has a recall of 1.0.\n",
        "* **F1 score** - A combination of precision and recall. A perfect model achieves an F1 score of 1.0.\n",
        "* **Support** - The number of samples each metric was calculated on.\n",
        "* **Accuracy** - The accuracy of the model in decimal form. Perfect accuracy is equal to 1.0, in other words, getting the prediction right 100% of the time.\n",
        "* **Macro avg** - Short for macro average, the average precision, recall and F1 score between classes. Macro avg doesn't take class imbalance into effect. So if you do have class imbalances (more examples of one class than another), you should pay attention to this.\n",
        "* **Weighted avg** - Short for weighted average, the weighted average precision, recall and F1 score between classes. Weighted means each metric is calculated with respect to how many samples there are in each class. This metric will favour the majority class (e.g. it will give a high value when one class out performs another due to having more samples).\n",
        "\n",
        "When should you use each?\n",
        "\n",
        "It can be tempting to base your classification models perfomance only on accuracy. And accuracy is a good metric to report, except when you have very imbalanced classes.\n",
        "\n",
        "For example, let's say there were 10,000 people. And 1 of them had a disease. You're asked to build a model to predict who has it.\n",
        "\n",
        "You build the model and find your model to be 99.99% accurate. Which sounds great!\n",
        "...until you realise, all its doing is predicting no one has the disease, in other words all 10,000 predictions are false.\n",
        "\n",
        "In this case, you'd want to turn to metrics such as precision, recall and F1 score."
      ]
    },
    {
      "cell_type": "code",
      "execution_count": null,
      "metadata": {
        "id": "LvMPBwd_dAP-"
      },
      "outputs": [],
      "source": [
        "# Where precision and recall become valuable\n",
        "disease_true = np.zeros(10000)\n",
        "disease_true[0] = 1 # only one case\n",
        "\n",
        "disease_preds = np.zeros(10000) # every prediction is 0\n",
        "\n",
        "pd.DataFrame(classification_report(disease_true,\n",
        "                                   disease_preds,\n",
        "                                   output_dict=True,\n",
        "                                   zero_division=0))"
      ]
    },
    {
      "cell_type": "markdown",
      "metadata": {
        "id": "DZdTmwojdAP_"
      },
      "source": [
        "You can see here, we've got an accuracy of 0.9999 (99.99%), great precision and recall on class 0.0 but nothing for class 1.0.\n",
        "\n",
        "Ask yourself, although the model achieves 99.99% accuracy, is it useful?\n",
        "\n",
        "To summarize:\n",
        "* Accuracy is a good measure to start with if all classes are balanced (e.g. same amount of samples which are labelled with 0 or 1)\n",
        "* Precision and recall become more important when classes are imbalanced.\n",
        "* If false positive predictions are worse than false negatives, aim for higher precision.\n",
        "* If false negative predictions are worse than false positives, aim for higher recall."
      ]
    },
    {
      "cell_type": "markdown",
      "metadata": {
        "id": "tEbQMT_JdAP_"
      },
      "source": [
        "### 4.2.2 Regression model evaluation metrics\n",
        "\n",
        "Similar to classification, there are [several metrics you can use to evaluate your regression models](https://scikit-learn.org/stable/modules/model_evaluation.html#regression-metrics).\n",
        "\n",
        "We'll check out the following.\n",
        "\n",
        "1. **R^2 (pronounced r-squared) or coefficient of determination** - Compares your models predictions to the mean of the targets. Values can range from negative infinity (a very poor model) to 1. For example, if all your model does is predict the mean of the targets, its R^2 value would be 0. And if your model perfectly predicts a range of numbers it's R^2 value would be 1.\n",
        "2. **Mean absolute error (MAE)** - The average of the absolute differences between predictions and actual values. It gives you an idea of how wrong your predictions were.\n",
        "3. **Mean squared error (MSE)** - The average squared differences between predictions and actual values. Squaring the errors removes negative errors. It also amplifies outliers (samples which have larger errors).\n",
        "\n",
        "Let's see them in action. First, we'll bring down our regression model code again."
      ]
    },
    {
      "cell_type": "code",
      "execution_count": null,
      "metadata": {
        "id": "d8MVTi9-dAP_"
      },
      "outputs": [],
      "source": [
        "# Import the RandomForestRegressor model class from the ensemble module\n",
        "from sklearn.ensemble import RandomForestRegressor\n",
        "\n",
        "# Setup random seed\n",
        "np.random.seed(42)\n",
        "\n",
        "# Create the data\n",
        "X = housing_df.drop(\"target\", axis=1)\n",
        "y = housing_df[\"target\"]\n",
        "\n",
        "# Split into train and test sets\n",
        "X_train, X_test, y_train, y_test = train_test_split(X, y, test_size=0.2)\n",
        "\n",
        "# Institate and fit the model (on the training set)\n",
        "model = RandomForestRegressor()\n",
        "model.fit(X_train, y_train);"
      ]
    },
    {
      "cell_type": "markdown",
      "metadata": {
        "id": "DZI0Ho35dAP_"
      },
      "source": [
        "**R^2 Score (coefficient of determination)**\n",
        "\n",
        "Once you've got a trained regression model, the default evaluation metric in the `score()` function is R^2."
      ]
    },
    {
      "cell_type": "code",
      "execution_count": null,
      "metadata": {
        "id": "1cTr4Nr5dAP_"
      },
      "outputs": [],
      "source": [
        "# Calculate the models R^2 score\n",
        "model.score(X_test, y_test)"
      ]
    },
    {
      "cell_type": "markdown",
      "metadata": {
        "id": "AafUEUQGdAP_"
      },
      "source": [
        "Outside of the `score()` function, R^2 can be calculated using Scikit-Learn's [`r2_score()`](https://scikit-learn.org/stable/modules/generated/sklearn.metrics.r2_score.html#sklearn.metrics.r2_score) function.\n",
        "\n",
        "A model which only predicted the mean would get a score of 0."
      ]
    },
    {
      "cell_type": "code",
      "execution_count": null,
      "metadata": {
        "id": "gVV-FifVdAQA"
      },
      "outputs": [],
      "source": [
        "from sklearn.metrics import r2_score\n",
        "\n",
        "# Fill an array with y_test mean\n",
        "y_test_mean = np.full(len(y_test), y_test.mean())\n",
        "\n",
        "r2_score(y_test, y_test_mean)"
      ]
    },
    {
      "cell_type": "markdown",
      "metadata": {
        "id": "CPZqmx9WdAQA"
      },
      "source": [
        "And a perfect model would get a score of 1."
      ]
    },
    {
      "cell_type": "code",
      "execution_count": null,
      "metadata": {
        "id": "xDbMpTvfdAQA"
      },
      "outputs": [],
      "source": [
        "r2_score(y_test, y_test)"
      ]
    },
    {
      "cell_type": "markdown",
      "metadata": {
        "id": "okqVHlPgdAQA"
      },
      "source": [
        "For your regression models, you'll want to maximise R^2, whilst minimising MAE and MSE.\n",
        "\n",
        "**Mean Absolute Error (MAE)**\n",
        "\n",
        "A model's mean absolute error can be calculated with Scikit-Learn's [`mean_absolute_error()`](https://scikit-learn.org/stable/modules/generated/sklearn.metrics.mean_absolute_error.html) function."
      ]
    },
    {
      "cell_type": "code",
      "execution_count": null,
      "metadata": {
        "id": "NUjZ6ytkdAQA"
      },
      "outputs": [],
      "source": [
        "# Mean absolute error\n",
        "from sklearn.metrics import mean_absolute_error\n",
        "\n",
        "y_preds = model.predict(X_test)\n",
        "mae = mean_absolute_error(y_test, y_preds)\n",
        "mae"
      ]
    },
    {
      "cell_type": "markdown",
      "metadata": {
        "id": "9mp5hX1OdAQB"
      },
      "source": [
        "Our model achieves an MAE of 0.3265. This means, on average our models predictions are 0.3265 units away from the actual value.\n",
        "\n",
        "Let's make it a little more visual."
      ]
    },
    {
      "cell_type": "code",
      "execution_count": null,
      "metadata": {
        "id": "GgcJE6WddAQB"
      },
      "outputs": [],
      "source": [
        "df = pd.DataFrame(data={\"actual values\": y_test,\n",
        "                   \"predictions\": y_preds})\n",
        "\n",
        "df"
      ]
    },
    {
      "cell_type": "markdown",
      "metadata": {
        "id": "YGFCK1lodAQB"
      },
      "source": [
        "You can the predictions are slightly different to the actual values.\n",
        "\n",
        "Depending what problem you're working on, having a difference like we do now, might be okay. On the flip side, it may also not be okay, meaning the predictions would have to be closer."
      ]
    },
    {
      "cell_type": "code",
      "execution_count": null,
      "metadata": {
        "id": "hRGTXj0PdAQB"
      },
      "outputs": [],
      "source": [
        "fig, ax = plt.subplots()\n",
        "x = np.arange(0, len(df), 1)\n",
        "ax.scatter(x, df[\"actual values\"], c='b', label=\"Acutual Values\")\n",
        "ax.scatter(x, df[\"predictions\"], c='r', label=\"Predictions\")\n",
        "ax.legend(loc=(1, 0.5));"
      ]
    },
    {
      "cell_type": "markdown",
      "metadata": {
        "id": "SsDAnbo6dAQC"
      },
      "source": [
        "**Mean Squared Error (MSE)**\n",
        "\n",
        "How about MSE? We can calculate it with Scikit-Learn's [`mean_squared_error()`](https://scikit-learn.org/stable/modules/generated/sklearn.metrics.mean_squared_error.html)."
      ]
    },
    {
      "cell_type": "code",
      "execution_count": null,
      "metadata": {
        "id": "V_txErowdAQC"
      },
      "outputs": [],
      "source": [
        "# Mean squared error\n",
        "from sklearn.metrics import mean_squared_error\n",
        "\n",
        "mse = mean_squared_error(y_test, y_preds)\n",
        "mse"
      ]
    },
    {
      "cell_type": "markdown",
      "metadata": {
        "id": "GgPHyh53dAQC"
      },
      "source": [
        "MSE will always be higher than MAE because is squares the errors rather than only taking the absolute difference into account.\n",
        "\n",
        "Now you might be thinking, which regression evaluation metric should you use?\n",
        "\n",
        "* R^2 is similar to accuracy. It gives you a quick indication of how well your model might be doing. Generally, the closer your R^2 value is to 1.0, the better the model. But it doesn't really tell exactly how wrong your model is in terms of how far off each prediction is.\n",
        "* MAE gives a better indication of how far off each of your model's predictions are on average.\n",
        "* As for MAE or MSE, because of the way MSE is calculated, squaring the differences between predicted values and actual values, it amplifies larger differences. Let's say we're predicting the value of houses (which we are).\n",
        "    * Pay more attention to MAE: When being \\$10,000 off is ***twice*** as bad as being \\$5,000 off.\n",
        "    * Pay more attention to MSE: When being \\$10,000 off is ***more than twice*** as bad as being \\$5,000 off.\n",
        "    \n",
        "**Note:** What we've covered here is only a handful of potential metrics you can use to evaluate your models. If you're after a complete list, check out the [Scikit-Learn metrics and scoring documentation](https://scikit-learn.org/stable/modules/model_evaluation.html)."
      ]
    },
    {
      "cell_type": "markdown",
      "metadata": {
        "id": "qLImyfpXdAQC"
      },
      "source": [
        "### 4.2.3 Finally using the `scoring` parameter\n",
        "\n",
        "Woah. We've covered a bunch but haven't even touched the `scoring` parameter...\n",
        "\n",
        "As a refresh, the `scoring` parameter can be used with a function like `cross_val_score()` to tell Scikit-Learn what evaluation metric to return using cross-validation.\n",
        "\n",
        "Let's check it out with our classification model and the heart disease dataset."
      ]
    },
    {
      "cell_type": "code",
      "execution_count": null,
      "metadata": {
        "id": "xykUOaE4dAQD"
      },
      "outputs": [],
      "source": [
        "from sklearn.model_selection import cross_val_score\n",
        "from sklearn.ensemble import RandomForestClassifier\n",
        "\n",
        "np.random.seed(42)\n",
        "\n",
        "X = heart_disease.drop(\"target\", axis=1)\n",
        "y = heart_disease[\"target\"]\n",
        "\n",
        "clf = RandomForestClassifier(n_estimators=100)"
      ]
    },
    {
      "cell_type": "markdown",
      "metadata": {
        "id": "v-x5zMg6dAQD"
      },
      "source": [
        "First, we'll use the default, which is mean accuracy."
      ]
    },
    {
      "cell_type": "code",
      "execution_count": null,
      "metadata": {
        "id": "WPpuPtMzdAQD"
      },
      "outputs": [],
      "source": [
        "np.random.seed(42)\n",
        "cv_acc = cross_val_score(clf, X, y, cv=5)\n",
        "cv_acc"
      ]
    },
    {
      "cell_type": "markdown",
      "metadata": {
        "id": "bpfwXjgydAQD"
      },
      "source": [
        "We've seen this before, now we got 5 different accuracy scores on different test splits of the data.\n",
        "\n",
        "Averaging this gives the cross-validated accuracy."
      ]
    },
    {
      "cell_type": "code",
      "execution_count": null,
      "metadata": {
        "id": "xoBsu1rvdAQD"
      },
      "outputs": [],
      "source": [
        "# Cross-validated accuracy\n",
        "print(f\"The cross-validated accuracy is: {np.mean(cv_acc)*100:.2f}%\")"
      ]
    },
    {
      "cell_type": "markdown",
      "metadata": {
        "id": "Il4Fh_wmdAQE"
      },
      "source": [
        "We can find the same using the `scoring` parameter and passing it `\"accuracy\"`."
      ]
    },
    {
      "cell_type": "code",
      "execution_count": null,
      "metadata": {
        "id": "UvpFjw-cdAQE"
      },
      "outputs": [],
      "source": [
        "np.random.seed(42)\n",
        "cv_acc = cross_val_score(clf, X, y, cv=5, scoring=\"accuracy\")\n",
        "print(f\"The cross-validated accuracy is: {np.mean(cv_acc)*100:.2f}%\")"
      ]
    },
    {
      "cell_type": "markdown",
      "metadata": {
        "id": "5pIuCwIZdAQE"
      },
      "source": [
        "The same goes for the other metrics we've been using for classification.\n",
        "\n",
        "Let's try `\"precision\"`."
      ]
    },
    {
      "cell_type": "code",
      "execution_count": null,
      "metadata": {
        "id": "ofG0vsbmdAQE"
      },
      "outputs": [],
      "source": [
        "np.random.seed(42)\n",
        "cv_precision = cross_val_score(clf, X, y, cv=5, scoring=\"precision\")\n",
        "print(f\"The cross-validated precision is: {np.mean(cv_precision):.2f}\")"
      ]
    },
    {
      "cell_type": "markdown",
      "metadata": {
        "id": "H60xIZbHdAQE"
      },
      "source": [
        "How about `\"recall\"`?"
      ]
    },
    {
      "cell_type": "code",
      "execution_count": null,
      "metadata": {
        "id": "RvNQnJvLdAQE"
      },
      "outputs": [],
      "source": [
        "np.random.seed(42)\n",
        "cv_recall = cross_val_score(clf, X, y, cv=5, scoring=\"recall\")\n",
        "print(f\"The cross-validated recall is: {np.mean(cv_recall):.2f}\")"
      ]
    },
    {
      "cell_type": "markdown",
      "metadata": {
        "id": "-eXWL7v9dAQF"
      },
      "source": [
        "And `\"f1\"` (for F1 score)?"
      ]
    },
    {
      "cell_type": "code",
      "execution_count": null,
      "metadata": {
        "id": "pgX7GR04dAQF"
      },
      "outputs": [],
      "source": [
        "np.random.seed(42)\n",
        "cv_f1 = cross_val_score(clf, X, y, cv=5, scoring=\"f1\")\n",
        "print(f\"The cross-validated F1 score is: {np.mean(cv_f1):.2f}\")"
      ]
    },
    {
      "cell_type": "markdown",
      "metadata": {
        "id": "57KSFLiRdAQF"
      },
      "source": [
        "We can repeat this process with our regression metrics.\n",
        "\n",
        "Let's revisit our regression model."
      ]
    },
    {
      "cell_type": "code",
      "execution_count": null,
      "metadata": {
        "id": "ELAGS6w_dAQF"
      },
      "outputs": [],
      "source": [
        "from sklearn.model_selection import cross_val_score\n",
        "from sklearn.ensemble import RandomForestRegressor\n",
        "\n",
        "np.random.seed(42)\n",
        "\n",
        "X = housing_df.drop(\"target\", axis=1)\n",
        "y = housing_df[\"target\"]\n",
        "\n",
        "model = RandomForestRegressor(n_estimators=100)"
      ]
    },
    {
      "cell_type": "markdown",
      "metadata": {
        "id": "91VmaBlQdAQF"
      },
      "source": [
        "The default is `\"r2\"`."
      ]
    },
    {
      "cell_type": "code",
      "execution_count": null,
      "metadata": {
        "id": "era92sLKdAQF"
      },
      "outputs": [],
      "source": [
        "np.random.seed(42)\n",
        "cv_r2 = cross_val_score(model, X, y, cv=5, scoring=\"r2\")\n",
        "print(f\"The cross-validated R^2 score is: {np.mean(cv_r2):.2f}\")"
      ]
    },
    {
      "cell_type": "markdown",
      "metadata": {
        "id": "HoCm-77bdAQG"
      },
      "source": [
        "But we can use `\"neg_mean_absolute_error\"` for MAE (mean absolute error)."
      ]
    },
    {
      "cell_type": "code",
      "execution_count": null,
      "metadata": {
        "id": "d2-htvzsdAQG"
      },
      "outputs": [],
      "source": [
        "np.random.seed(42)\n",
        "cv_mae = cross_val_score(model, X, y, cv=5, scoring=\"neg_mean_absolute_error\")\n",
        "print(f\"The cross-validated MAE score is: {np.mean(cv_mae):.2f}\")"
      ]
    },
    {
      "cell_type": "markdown",
      "metadata": {
        "id": "wPEdsvdpdAQG"
      },
      "source": [
        "Why the `\"neg_\"`?\n",
        "\n",
        "Because Scikit-Learn documentation states:\n",
        "> [\"All scorer objects follow the convention that higher return values are better than lower return values.\"](https://scikit-learn.org/stable/modules/model_evaluation.html#common-cases-predefined-values)\n",
        "\n",
        "Which in this case, means a lower negative value (closer to 0) is better.\n",
        "\n",
        "What about `\"neg_mean_squared_error\"` for MSE (mean squared error)?"
      ]
    },
    {
      "cell_type": "code",
      "execution_count": null,
      "metadata": {
        "id": "88_5Ph2GdAQG"
      },
      "outputs": [],
      "source": [
        "np.random.seed(42)\n",
        "cv_mse = cross_val_score(model,\n",
        "                         X,\n",
        "                         y,\n",
        "                         cv=5,\n",
        "                         scoring=\"neg_mean_squared_error\")\n",
        "print(f\"The cross-validated MSE score is: {np.mean(cv_mse):.2f}\")"
      ]
    },
    {
      "cell_type": "markdown",
      "metadata": {
        "id": "yPoOrqkWdAQG"
      },
      "source": [
        "### 4.3 Using different evaluation metrics with Scikit-Learn\n",
        "\n",
        "Remember the third way of evaluating Scikit-Learn functions?\n",
        "\n",
        "> 3. Problem-specific metric functions. Similar to how the `scoring` parameter can be passed different scoring functions, Scikit-Learn implements these as stand alone functions.\n",
        "\n",
        "Well, we've kind of covered this third way of using evaulation metrics with Scikit-Learn.\n",
        "\n",
        "In essence, all of the metrics we've seen previously have their own function in Scikit-Learn.\n",
        "\n",
        "They all work by comparing an array of predictions, usually called `y_preds` to an array of actual labels, usually called `y_test` or `y_true`.\n",
        "\n",
        "#### Classification functions\n",
        "For:\n",
        "* Accuracy we can use [`accuracy_score()`](https://scikit-learn.org/stable/modules/generated/sklearn.metrics.accuracy_score.html)\n",
        "* Precision we can use [`precision_score()`](https://scikit-learn.org/stable/modules/generated/sklearn.metrics.precision_score.html)\n",
        "* Recall we can use [`recall_score()`](https://scikit-learn.org/stable/modules/generated/sklearn.metrics.recall_score.html)\n",
        "* F1 we can use [`f1_score()`](https://scikit-learn.org/stable/modules/generated/sklearn.metrics.f1_score.html)"
      ]
    },
    {
      "cell_type": "code",
      "execution_count": null,
      "metadata": {
        "id": "G9V9N78fdAQG"
      },
      "outputs": [],
      "source": [
        "from sklearn.metrics import accuracy_score, precision_score, recall_score, f1_score\n",
        "from sklearn.ensemble import RandomForestClassifier\n",
        "from sklearn.model_selection import train_test_split\n",
        "\n",
        "np.random.seed(42)\n",
        "\n",
        "X = heart_disease.drop(\"target\", axis=1)\n",
        "y = heart_disease[\"target\"]\n",
        "\n",
        "X_train, X_test, y_train, y_test = train_test_split(X, y, test_size=0.2)\n",
        "\n",
        "clf = RandomForestClassifier(n_estimators=100)\n",
        "clf.fit(X_train, y_train)\n",
        "\n",
        "# Make predictions\n",
        "y_preds = clf.predict(X_test)\n",
        "\n",
        "# Evaluate the classifier\n",
        "print(\"Classifier metrics on the test set:\")\n",
        "print(f\"Accuracy: {accuracy_score(y_test, y_preds) * 100:.2f}%\")\n",
        "print(f\"Precision: {precision_score(y_test, y_preds):.2f}\")\n",
        "print(f\"Recall: {recall_score(y_test, y_preds):.2f}\")\n",
        "print(f\"F1: {f1_score(y_test, y_preds):.2f}\")"
      ]
    },
    {
      "cell_type": "markdown",
      "metadata": {
        "id": "707yd8yadAQH"
      },
      "source": [
        "The same goes for the regression problem.\n",
        "\n",
        "#### Regression metrics\n",
        "\n",
        "For:\n",
        "* R^2 we can use [`r2_score()`](https://scikit-learn.org/stable/modules/generated/sklearn.metrics.r2_score.html)\n",
        "* MAE (mean absolute error) we can use [`mean_absolute_error()`](https://scikit-learn.org/stable/modules/generated/sklearn.metrics.mean_absolute_error.html)\n",
        "* MSE (mean squared error) we can use [`mean_squared_error()`](https://scikit-learn.org/stable/modules/generated/sklearn.metrics.mean_squared_error.html)"
      ]
    },
    {
      "cell_type": "code",
      "execution_count": null,
      "metadata": {
        "id": "1irElEs5dAQH"
      },
      "outputs": [],
      "source": [
        "from sklearn.metrics import r2_score, mean_absolute_error, mean_squared_error\n",
        "from sklearn.ensemble import RandomForestRegressor\n",
        "from sklearn.model_selection import train_test_split\n",
        "\n",
        "np.random.seed(42)\n",
        "\n",
        "X = housing_df.drop(\"target\", axis=1)\n",
        "y = housing_df[\"target\"]\n",
        "\n",
        "X_train, X_test, y_train, y_test = train_test_split(X,\n",
        "                                                    y,\n",
        "                                                    test_size=0.2)\n",
        "\n",
        "model = RandomForestRegressor(n_estimators=100)\n",
        "model.fit(X_train, y_train)\n",
        "\n",
        "# Make predictions\n",
        "y_preds = model.predict(X_test)\n",
        "\n",
        "# Evaluate the model\n",
        "print(\"Regression model metrics on the test set:\")\n",
        "print(f\"R^2: {r2_score(y_test, y_preds):.2f}\")\n",
        "print(f\"MAE: {mean_absolute_error(y_test, y_preds):.2f}\")\n",
        "print(f\"MSE: {mean_squared_error(y_test, y_preds):.2f}\")"
      ]
    },
    {
      "cell_type": "markdown",
      "metadata": {
        "id": "hr_4Q2SxdAQH"
      },
      "source": [
        "Wow. We've covered a lot. But it's worth it. Because evaluating a model's predictions is paramount in any machine learning project.\n",
        "\n",
        "There's nothing worse than training a machine learning model and optimizing for the wrong evaluation metric.\n",
        "\n",
        "Keep the metrics and evaluation methods we've gone through when training your future models.\n",
        "\n",
        "If you're after extra reading, I'd go through the [Scikit-Learn documentation for evaluation metrics](https://scikit-learn.org/stable/modules/model_evaluation.html).\n",
        "\n",
        "Now we've seen some different metrics we can use to evaluate a model, let's see some ways we can improve those metrics."
      ]
    },
    {
      "cell_type": "markdown",
      "metadata": {
        "id": "QnBVM9XPdAQH"
      },
      "source": [
        "## 5.  Improving model predictions through experimentation (hyperparameter tuning)\n",
        "\n",
        "The first predictions you make with a model are generally referred to as baseline predictions. The same goes with the first evaluation metrics you get. These are generally referred to as baseline metrics.\n",
        "\n",
        "Your next goal is to improve upon these baseline metrics.\n",
        "\n",
        "Two of the main methods to improve baseline metrics are from a data perspective and a model perspective.\n",
        "\n",
        "From a data perspective asks:\n",
        "* Could we collect more data? In machine learning, more data is generally better, as it gives a model more opportunities to learn patterns.\n",
        "* Could we improve our data? This could mean filling in misisng values or finding a better encoding (turning things into numbers) strategy.\n",
        "\n",
        "From a model perspective asks:\n",
        "* Is there a better model we could use? If you've started out with a simple model, could you use a more complex one? (we saw an example of this when looking at the [Scikit-Learn machine learning map](https://scikit-learn.org/stable/tutorial/machine_learning_map/index.html), ensemble methods are generally considered more complex models)\n",
        "* Could we improve the current model? If the model you're using performs well straight out of the box, can the **hyperparameters** be tuned to make it even better?\n",
        "\n",
        "**Note:** Patterns in data are also often referred to as data parameters. The difference between parameters and hyperparameters is a machine learning model seeks to find parameters in data on its own, where as, hyperparameters are settings on a model which a user (you) can adjust.\n",
        "\n",
        "Since we have two existing datasets, we'll come at exploration from a model perspective.\n",
        "\n",
        "More specifically, we'll look at how we could improve our `RandomForestClassifier` and `RandomForestRegressor` models through hyperparameter tuning.\n",
        "\n",
        "What even are hyperparameters?\n",
        "\n",
        "Good question, let's check it out. First, we'll instantiate a `RandomForestClassifier`."
      ]
    },
    {
      "cell_type": "code",
      "execution_count": null,
      "metadata": {
        "id": "1BBRQ5JqdAQH"
      },
      "outputs": [],
      "source": [
        "from sklearn.ensemble import RandomForestClassifier\n",
        "\n",
        "clf = RandomForestClassifier()"
      ]
    },
    {
      "cell_type": "markdown",
      "metadata": {
        "id": "Sd3chgMOdAQI"
      },
      "source": [
        "When you instantiate a model like above, you're using the default hyperparameters.\n",
        "\n",
        "These get printed out when you call the model instance and `get_params()`."
      ]
    },
    {
      "cell_type": "code",
      "execution_count": null,
      "metadata": {
        "id": "3_4llPJZdAQI"
      },
      "outputs": [],
      "source": [
        "clf.get_params()"
      ]
    },
    {
      "cell_type": "markdown",
      "metadata": {
        "id": "u2zbxBdWdAQI"
      },
      "source": [
        "You'll see things like `max_depth`, `min_samples_split`, `n_estimators`.\n",
        "\n",
        "Each of these is a hyperparameter of the `RandomForestClassifier` you can adjust.\n",
        "\n",
        "You can think of hyperparameters as being similar to dials on an oven. On the default setting your oven might do an okay job cooking your favourite meal. But with a little experimentation, you find it does better when you adjust the settings.\n",
        "\n",
        "<img src=\"../images/sklearn-hyperparameter-tuning-oven.png\" width=400/>\n",
        "\n",
        "The same goes for imporving a machine learning model by hyperparameter tuning. The default hyperparameters on a machine learning model may find patterns in data well. But there's a chance a adjusting the hyperparameters may improve a models performance.\n",
        "\n",
        "Every machine learning model will have different hyperparameters you can tune.\n",
        "\n",
        "You might be thinking, \"how the hell do I remember all of these?\"\n",
        "\n",
        "And it's a good question. It's why we're focused on the Random Forest. Instead of memorizing all of the hyperparameters for every model, we'll see how it's done with one. And then knowing these principles, you can apply them to a different model if needed.\n",
        "\n",
        "Reading the [Scikit-Learn documentation for the Random Forest](https://scikit-learn.org/stable/modules/generated/sklearn.ensemble.RandomForestClassifier.html), you'll find they suggest trying to change `n_estimators` (the number of trees in the forest) and `min_samples_split` (the minimum number of samples required to split an internal node).\n",
        "\n",
        "We'll try tuning these as well as:\n",
        "* `max_features` (the number of features to consider when looking for the best split)\n",
        "* `max_depth` (the maximum depth of the tree)\n",
        "* `min_samples_leaf` (the minimum number of samples required to be at a leaf node)\n",
        "\n",
        "If this still sounds like a lot, the good news is, the process we're taking with the Random Forest and tuning its hyperparameters, can be used for other machine learning models in Scikit-Learn. The only difference is, with a different model, the hyperparameters you tune will be different.\n",
        "\n",
        "Adjusting hyperparameters is usually an experimental process to figure out which are best. As there's no real way of knowing which hyperparameters will be best when starting out.\n",
        "\n",
        "To get familar with hyparameter tuning, we'll take our RandomForestClassifier and adjust its hyperparameters in 3 ways.\n",
        "\n",
        "1. By hand\n",
        "2. Randomly with [RandomSearchCV](https://scikit-learn.org/stable/modules/generated/sklearn.model_selection.RandomizedSearchCV.html)\n",
        "3. Exhaustively with [GridSearchCV](https://scikit-learn.org/stable/modules/generated/sklearn.model_selection.GridSearchCV.html)"
      ]
    },
    {
      "cell_type": "markdown",
      "metadata": {
        "id": "ifnuYsm5dAQI"
      },
      "source": [
        "### 5.1 Tuning hyperparameters by hand\n",
        "\n",
        "So far we've worked with training and test datasets.\n",
        "\n",
        "You train a model on a training set and evaluate it on a test dataset.\n",
        "\n",
        "But hyperparameter tuning introduces a thrid set, a validation set.\n",
        "\n",
        "Now the process becomes, train a model on the training data, (try to) improve its hyperparameters on the validation set and evaluate it on the test set.\n",
        "\n",
        "If our starting dataset contained 100 different patient records labels indicating who had heart disease and who didn't and we wanted to build a machine learning model to predict who had heart disease and who didn't, it might look like this:\n",
        "\n",
        "<img src=\"../images/sklearn-train-valid-test-annotated.png\" width=500/>\n",
        "\n",
        "Since we know we're using a `RandomForestClassifier` and we know the hyperparameters we want to adjust, let's see what it looks like.\n",
        "\n",
        "First, let's remind ourselves of the base parameters."
      ]
    },
    {
      "cell_type": "code",
      "execution_count": null,
      "metadata": {
        "id": "TqdDairYdAQI"
      },
      "outputs": [],
      "source": [
        "clf.get_params()"
      ]
    },
    {
      "cell_type": "markdown",
      "metadata": {
        "id": "Unknd4P9dAQI"
      },
      "source": [
        "And we're going to adjust:\n",
        "* `max_depth`\n",
        "* `max_features`\n",
        "* `min_samples_leaf`\n",
        "* `min_samples_split`\n",
        "* `n_estimators`\n",
        "\n",
        "We'll use the same code as before, except this time we'll create a training, validation and test split.\n",
        "\n",
        "With the training set containing 70% of the data and the validation and test sets each containing 15%.\n",
        "\n",
        "Let's get some baseline results, then we'll tune the model.\n",
        "\n",
        "And since we're going to be evaluating a few models, let's make an evaluation function."
      ]
    },
    {
      "cell_type": "code",
      "execution_count": null,
      "metadata": {
        "id": "Y6_omhFddAQJ"
      },
      "outputs": [],
      "source": [
        "def evaluate_preds(y_true, y_preds):\n",
        "    \"\"\"\n",
        "    Performs evaluation comparison on y_true labels vs. y_pred labels.\n",
        "    \"\"\"\n",
        "    accuracy = accuracy_score(y_true, y_preds)\n",
        "    precision = precision_score(y_true, y_preds)\n",
        "    recall = recall_score(y_true, y_preds)\n",
        "    f1 = f1_score(y_true, y_preds)\n",
        "    metric_dict = {\"accuracy\": round(accuracy, 2),\n",
        "                   \"precision\": round(precision, 2),\n",
        "                   \"recall\": round(recall, 2),\n",
        "                   \"f1\": round(f1, 2)}\n",
        "    print(f\"Acc: {accuracy * 100:.2f}%\")\n",
        "    print(f\"Precision: {precision:.2f}\")\n",
        "    print(f\"Recall: {recall:.2f}\")\n",
        "    print(f\"F1 score: {f1:.2f}\")\n",
        "\n",
        "    return metric_dict"
      ]
    },
    {
      "cell_type": "code",
      "execution_count": null,
      "metadata": {
        "id": "ROks_Eo9dAQJ"
      },
      "outputs": [],
      "source": [
        "from sklearn.metrics import accuracy_score, precision_score, recall_score, f1_score\n",
        "from sklearn.ensemble import RandomForestClassifier\n",
        "\n",
        "np.random.seed(42)\n",
        "\n",
        "# Shuffle the data\n",
        "heart_disease = heart_disease.sample(frac=1)\n",
        "\n",
        "# Split into X & y\n",
        "X = heart_disease.drop(\"target\", axis=1)\n",
        "y = heart_disease[\"target\"]\n",
        "\n",
        "# Split the data into train, validation & test sets\n",
        "train_split = round(0.7 * len(heart_disease)) # 70% of data\n",
        "valid_split = round(train_split + 0.15 * len(heart_disease)) # 15% of data\n",
        "X_train, y_train = X[:train_split], y[:train_split]\n",
        "X_valid, y_valid = X[train_split:valid_split], y[train_split:valid_split]\n",
        "X_test, y_test = X[valid_split:], y[valid_split:]\n",
        "\n",
        "clf = RandomForestClassifier()\n",
        "clf.fit(X_train, y_train)\n",
        "\n",
        "# Make predictions\n",
        "y_preds = clf.predict(X_valid)\n",
        "\n",
        "# Evaluate the classifier\n",
        "baseline_metrics = evaluate_preds(y_valid, y_preds)\n",
        "baseline_metrics"
      ]
    },
    {
      "cell_type": "markdown",
      "metadata": {
        "id": "5LqZlXcIdAQJ"
      },
      "source": [
        "Beautiful, now let's try and improve the results.\n",
        "\n",
        "We'll change 1 of the hyperparameters, `n_estimators` to 100 and see if it improves on the validation set."
      ]
    },
    {
      "cell_type": "code",
      "execution_count": null,
      "metadata": {
        "id": "SxFom4-KdAQJ"
      },
      "outputs": [],
      "source": [
        "np.random.seed(42)\n",
        "\n",
        "# Create a second classifier\n",
        "clf_2 = RandomForestClassifier(n_estimators=100)\n",
        "clf_2.fit(X_train, y_train)\n",
        "\n",
        "# Make predictions\n",
        "y_preds_2 = clf_2.predict(X_valid)\n",
        "\n",
        "# Evaluate the 2nd classifier\n",
        "clf_2_metrics = evaluate_preds(y_valid, y_preds_2)"
      ]
    },
    {
      "cell_type": "markdown",
      "metadata": {
        "id": "dciMlDLEdAQJ"
      },
      "source": [
        "Not bad! Slightly worse precision by slightly better recall and f1.\n",
        "\n",
        "How about we try another parameter?\n",
        "\n",
        "Wait...\n",
        "\n",
        "This could take a while if all we're doing is building new models with new hyperparameters each time.\n",
        "\n",
        "Surely there's a better way?\n",
        "\n",
        "There is.\n",
        "\n",
        "### 5.2 Hyperparameter tuning with [`RandomizedSearchCV`](https://scikit-learn.org/stable/modules/generated/sklearn.model_selection.RandomizedSearchCV.html)\n",
        "\n",
        "Scikit-Learn's [`RandomizedSearchCV`](https://scikit-learn.org/stable/modules/generated/sklearn.model_selection.RandomizedSearchCV.html) allows us to randomly search across different hyperparameters to see which work best. It also stores details about the ones which work best!\n",
        "\n",
        "Let's see it in action.\n",
        "\n",
        "First, we create a grid (dictionary) of hyperparameters we'd like to search over."
      ]
    },
    {
      "cell_type": "code",
      "execution_count": null,
      "metadata": {
        "id": "YRWt6ISQdAQK"
      },
      "outputs": [],
      "source": [
        "# Hyperparameter grid RandomizedSearchCV will search over\n",
        "grid = {\"n_estimators\": [10, 100, 200, 500, 1000, 1200],\n",
        "        \"max_depth\": [None, 5, 10, 20, 30],\n",
        "        \"max_features\": [\"auto\", \"sqrt\"],\n",
        "        \"min_samples_split\": [2, 4, 6],\n",
        "        \"min_samples_leaf\": [1, 2, 4]}"
      ]
    },
    {
      "cell_type": "markdown",
      "metadata": {
        "id": "gTyBmCgYdAQK"
      },
      "source": [
        "Where did these values come from?\n",
        "\n",
        "They're made up.\n",
        "\n",
        "Made up?\n",
        "\n",
        "Yes. Not completely pulled out of the air but after reading the [Scikit-Learn documentation on Random Forest's](https://scikit-learn.org/stable/modules/generated/sklearn.ensemble.RandomForestClassifier.html) you'll see some of these values have certain values which usually perform well and certain hyperparameters take strings rather than integers.\n",
        "\n",
        "Now we've got the grid setup, Scikit-Learn's `RandomizedSearchCV` will look at it, pick a random value from each, instantiate a model with those values and test each model.\n",
        "\n",
        "How many models will it test?\n",
        "\n",
        "As many as there are for each combination of hyperparameters to be tested. Let's add them up.\n",
        "\n",
        "`max_depth` has 4, `max_features` has 2, `min_samples_leaf` has 3, `min_samples_split` has 3, `n_estimators` has 5. That's 4x2x3x3x5 = 360 models!\n",
        "\n",
        "Or...\n",
        "\n",
        "We can set the `n_iter` parameter to limit the number of models `RandomizedSearchCV` tests.\n",
        "\n",
        "The best thing? The results we get will be cross-validated (hence the CV in `RandomizedSearchCV`) so we can use `train_test_split()`.\n",
        "\n",
        "And since we're going over so many different models, we'll set `n_jobs` to -1 of [`RandomForestClassifier`](https://scikit-learn.org/stable/modules/generated/sklearn.ensemble.RandomForestClassifier.html) so Scikit-Learn takes advantage of all the cores (processors) on our computers.\n",
        "\n",
        "Let's see it in action.\n",
        "\n",
        "**Note:** Depending on `n_iter` (how many models you test), the different values in the hyperparameter grid, and the power of your computer, running the cell below may take a while.\n",
        "\n",
        "**Note 2:** Setting `n_jobs=-1` seems to be breaking on some machines (for me at least, as of 8 December 2019). There seems to be an issue about it, being tracked on GitHub. For the timebeing, `n_jobs=1` seems to be working."
      ]
    },
    {
      "cell_type": "code",
      "execution_count": null,
      "metadata": {
        "id": "gtv_zpnZdAQK"
      },
      "outputs": [],
      "source": [
        "from sklearn.model_selection import RandomizedSearchCV, train_test_split\n",
        "\n",
        "np.random.seed(42)\n",
        "\n",
        "# Split into X & y\n",
        "X = heart_disease.drop(\"target\", axis=1)\n",
        "y = heart_disease[\"target\"]\n",
        "\n",
        "# Split into train and test sets\n",
        "X_train, X_test, y_train, y_test = train_test_split(X, y, test_size=0.2)\n",
        "\n",
        "# Set n_jobs to -1 to use all cores (NOTE: n_jobs=-1 is broken as of 8 Dec 2019, using n_jobs=1 works)\n",
        "clf = RandomForestClassifier(n_jobs=1)\n",
        "\n",
        "# Setup RandomizedSearchCV\n",
        "rs_clf = RandomizedSearchCV(estimator=clf,\n",
        "                            param_distributions=grid,\n",
        "                            n_iter=20, # try 20 models total\n",
        "                            cv=5, # 5-fold cross-validation\n",
        "                            verbose=2) # print out results\n",
        "\n",
        "# Fit the RandomizedSearchCV version of clf\n",
        "rs_clf.fit(X_train, y_train);"
      ]
    },
    {
      "cell_type": "markdown",
      "metadata": {
        "id": "dDrdlmD-dAQK"
      },
      "source": [
        "When `RandomizedSearchCV` goes through `n_iter` combinations of of hyperparameter search space, it stores the best ones in the attribute `best_params_`."
      ]
    },
    {
      "cell_type": "code",
      "execution_count": null,
      "metadata": {
        "id": "F88qxVVMdAQK"
      },
      "outputs": [],
      "source": [
        "# Find the best hyperparameters found by RandomizedSearchCV\n",
        "rs_clf.best_params_"
      ]
    },
    {
      "cell_type": "markdown",
      "metadata": {
        "id": "mCGvEXbHdAQL"
      },
      "source": [
        "Now when we call `predict()` on `rs_clf` (our `RandomizedSearchCV` version of our classifier), it'll use the best hyperparameters it found."
      ]
    },
    {
      "cell_type": "code",
      "execution_count": null,
      "metadata": {
        "id": "9CM_AjFUdAQL"
      },
      "outputs": [],
      "source": [
        "# Make predictions with the best hyperparameters\n",
        "rs_y_preds = rs_clf.predict(X_test)\n",
        "\n",
        "# Evaluate the predictions\n",
        "rs_metrics = evaluate_preds(y_test, rs_y_preds)"
      ]
    },
    {
      "cell_type": "markdown",
      "metadata": {
        "id": "FHTjyHppdAQL"
      },
      "source": [
        "Excellent! Thanks to `RandomizedSearchCV` testing out a bunch of different hyperparameters, we get a nice boost to all of the evaluation metrics for our classification model.\n",
        "\n",
        "There's one more way we could try to improve our model's hyperparamters. And it's with [`GridSearchCV`](https://scikit-learn.org/stable/modules/generated/sklearn.model_selection.GridSearchCV.html).\n",
        "\n",
        "### 5.3 Hyperparameter tuning with [GridSearchCV](https://scikit-learn.org/stable/modules/generated/sklearn.model_selection.GridSearchCV.html)\n",
        "\n",
        "The main difference between `GridSearchCV` and `RandomizedSearchCV` is `GridSearchCV` searches across a grid of hyperparamters exhaustively, where as, `RandomizedSearchCV` searches across a grid of hyperparameters randomly (stopping after `n_iter` combinations).\n",
        "\n",
        "For example, let's see our grid of hyperparameters."
      ]
    },
    {
      "cell_type": "code",
      "execution_count": null,
      "metadata": {
        "id": "PdJyzPFHdAQL"
      },
      "outputs": [],
      "source": [
        "grid"
      ]
    },
    {
      "cell_type": "markdown",
      "metadata": {
        "id": "bewoBSzVdAQL"
      },
      "source": [
        "`RandomizedSearchCV` try `n_iter` combinations of different values. Where as, `GridSearchCV` will try every single possible combination.\n",
        "\n",
        "And if you remember from before when we did the calculation: `max_depth` has 4, `max_features` has 2, `min_samples_leaf` has 3, `min_samples_split` has 3, `n_estimators` has 5.\n",
        "\n",
        "That's 4x2x3x3x5 = 360 models!\n",
        "\n",
        "This could take a long time depending on the power of the computer you're using, the amount of data you have and the complexity of the hyperparamters (usually higher values means a more complex model).\n",
        "\n",
        "In our case, the data we're using is relatively small (only ~300 samples).\n",
        "\n",
        "Since we've already tried to find some ideal hyperparameters using `RandomizedSearchCV`, we'll create another hyperparameter grid based on the `best_params_` of `rs_clf`* with less options and then try to use `GridSearchCV` to find a more ideal set.\n",
        "\n",
        "**Note:** Based on the `best_params_` of `rs_clf` implies the next set of hyperparameters we'll try are roughly in the same range of the best set found by `RandomizedSearchCV`."
      ]
    },
    {
      "cell_type": "code",
      "execution_count": null,
      "metadata": {
        "id": "jTbJzX5ddAQM"
      },
      "outputs": [],
      "source": [
        "# Another hyperparameter grid similar to rs_clf.best_params_\n",
        "grid_2 = {'n_estimators': [1200, 1500, 2000],\n",
        "          'max_depth': [None, 5, 10],\n",
        "          'max_features': ['auto', 'sqrt'],\n",
        "          'min_samples_split': [4, 6],\n",
        "          'min_samples_leaf': [1, 2]}"
      ]
    },
    {
      "cell_type": "markdown",
      "metadata": {
        "id": "3GOVe2QDdAQM"
      },
      "source": [
        "We've created another grid of hyperparameters to search over, this time with less total.\n",
        "\n",
        "`n_estimators` has 3, `max_depth` has 3, `max_features` has 2, `min_samples_leaf` has 2, `min_samples_split` has 2.\n",
        "\n",
        "That's 3x3x2x2x2 = 72 models in total. Or about 5 times less (360/72) combinations of hyperparameters less than our original grid.\n",
        "\n",
        "Now when we run `GridSearchCV`, passing it our classifier (`clf`), paramter grid (`grid_2`) and the number of cross-validation folds we'd like to use (`cv`), it'll create a model with every single combination of hyperparameters, 72 in total, and check the results."
      ]
    },
    {
      "cell_type": "code",
      "execution_count": null,
      "metadata": {
        "id": "VFvDw7vvdAQM"
      },
      "outputs": [],
      "source": [
        "from sklearn.model_selection import GridSearchCV, train_test_split\n",
        "\n",
        "np.random.seed(42)\n",
        "\n",
        "# Split into X & y\n",
        "X = heart_disease.drop(\"target\", axis=1)\n",
        "y = heart_disease[\"target\"]\n",
        "\n",
        "# Split into train and test sets\n",
        "X_train, X_test, y_train, y_test = train_test_split(X, y, test_size=0.2)\n",
        "\n",
        "# Set n_jobs to -1 to use all cores (NOTE: n_jobs=-1 is broken as of 8 Dec 2019, using n_jobs=1 works)\n",
        "clf = RandomForestClassifier(n_jobs=1)\n",
        "\n",
        "# Setup GridSearchCV\n",
        "gs_clf = GridSearchCV(estimator=clf,\n",
        "                      param_grid=grid_2,\n",
        "                      cv=5, # 5-fold cross-validation\n",
        "                      verbose=2) # print out progress\n",
        "\n",
        "# Fit the RandomizedSearchCV version of clf\n",
        "gs_clf.fit(X_train, y_train);"
      ]
    },
    {
      "cell_type": "markdown",
      "metadata": {
        "id": "RenZnLlWdAQM"
      },
      "source": [
        "Once it completes, we can check the best hyperparameter combinations it found using the `best_params_` attribute."
      ]
    },
    {
      "cell_type": "code",
      "execution_count": null,
      "metadata": {
        "id": "5Ej8XjmXdAQM"
      },
      "outputs": [],
      "source": [
        "# Check the best hyperparameters found with GridSearchCV\n",
        "gs_clf.best_params_"
      ]
    },
    {
      "cell_type": "markdown",
      "metadata": {
        "id": "EFOfZYG9dAQN"
      },
      "source": [
        "And by default when we call the `predict()` function on `gs_clf`, it'll use the best hyperparameters."
      ]
    },
    {
      "cell_type": "code",
      "execution_count": null,
      "metadata": {
        "id": "b_L3DBFPdAQN"
      },
      "outputs": [],
      "source": [
        "# Max predictions with the GridSearchCV classifier\n",
        "gs_y_preds = gs_clf.predict(X_test)\n",
        "\n",
        "# Evaluate the predictions\n",
        "gs_metrics = evaluate_preds(y_test, gs_y_preds)"
      ]
    },
    {
      "cell_type": "markdown",
      "metadata": {
        "id": "OjjnnA4xdAQN"
      },
      "source": [
        "Let's create a DataFrame to compare the different metrics."
      ]
    },
    {
      "cell_type": "code",
      "execution_count": null,
      "metadata": {
        "id": "DyU03yisdAQN"
      },
      "outputs": [],
      "source": [
        "compare_metrics = pd.DataFrame({\"baseline\": baseline_metrics,\n",
        "                                \"clf_2\": clf_2_metrics,\n",
        "                                \"random search\": rs_metrics,\n",
        "                                \"grid search\": gs_metrics})\n",
        "compare_metrics.plot.bar(figsize=(10, 8));"
      ]
    },
    {
      "cell_type": "markdown",
      "metadata": {
        "id": "-1ujQyQ4dAQN"
      },
      "source": [
        "It seems, even after trying 72 different combinations of hyperparamters, we don't get an improvement in results.\n",
        "\n",
        "These things might happen. But it's important to remember, it's not over. There may be more we can do.\n",
        "\n",
        "In a hyperparameter tuning sense, there may be a better set we could find through more extensive searching with RandomizedSearchCV and GridSearchCV but it's likely these improvements will be marginal.\n",
        "\n",
        "A few next ideas you could try:\n",
        "* Collecting more data - Based on the results our models are getting now, it seems like they're finding some patterns. Collecting more data may improve a models ability to find patterns. However, your ability to do this will largely depend on the project you're working on.\n",
        "* Try a more advanced model - Although our tuned Random Forest model is doing pretty well, a more advanced ensemble method such as [XGBoost](https://xgboost.ai/) or [CatBoost](https://catboost.ai/) might perform better.\n",
        "\n",
        "Since machine learning is part engineering, part science, these kind of experiments are common place in any machine learning project.\n",
        "\n",
        "Now you've got a somewhat tuned Random Forest model, the next thing you might want to do is export it and save it so you could share it with your team or use it in an application without having to retrain it."
      ]
    },
    {
      "cell_type": "markdown",
      "metadata": {
        "id": "5EvVMh4GdAQO"
      },
      "source": [
        "## 6. Saving and loading trained machine learning models\n",
        "\n",
        "Since our `GridSearchCV` model has the best results so far, we'll export it and save it to file.\n",
        "\n",
        "### 6.1 Saving and loading a model with [`pickle`](https://docs.python.org/3/library/pickle.html)\n",
        "\n",
        "We saw right at the start, one way to save a model is using Python's [`pickle` module](https://docs.python.org/3/library/pickle.html).\n",
        "\n",
        "We'll use `pickle`'s `dump()` function and pass it our model, `gs_clf`, along with the `open()` function containing a string for the filename we want to save our model as, along with the `\"wb\"` string which stands for \"write binary\", which is the file type `open()` will write our model as."
      ]
    },
    {
      "cell_type": "code",
      "execution_count": null,
      "metadata": {
        "id": "84A2lTUrdAQO"
      },
      "outputs": [],
      "source": [
        "import pickle\n",
        "\n",
        "# Save an existing model to file\n",
        "pickle.dump(gs_clf, open(\"gs_random_forest_model_1.pkl\", \"wb\"))"
      ]
    },
    {
      "cell_type": "markdown",
      "metadata": {
        "id": "7-A_nZb9dAQO"
      },
      "source": [
        "Once it's saved, we can import it using `pickle`'s `load()` function, passing it `open()` containing the filename as a string and `\"rb\"` standing for \"read binary\"."
      ]
    },
    {
      "cell_type": "code",
      "execution_count": null,
      "metadata": {
        "id": "NbkZB9u_dAQO"
      },
      "outputs": [],
      "source": [
        "# Load a saved model\n",
        "loaded_pickle_model = pickle.load(open(\"gs_random_forest_model_1.pkl\", \"rb\"))"
      ]
    },
    {
      "cell_type": "markdown",
      "metadata": {
        "id": "78-yd3ZVdAQO"
      },
      "source": [
        "Once you've reimported your trained model using `pickle`, you can use it to make predictions as usual."
      ]
    },
    {
      "cell_type": "code",
      "execution_count": null,
      "metadata": {
        "id": "iylaE49qdAQO"
      },
      "outputs": [],
      "source": [
        "# Make predictions and evaluate the loaded model\n",
        "pickle_y_preds = loaded_pickle_model.predict(X_test)\n",
        "evaluate_preds(y_test, pickle_y_preds)"
      ]
    },
    {
      "cell_type": "markdown",
      "metadata": {
        "id": "UEmRRLjjdAQP"
      },
      "source": [
        "You'll notice the reimported model evaluation metrics are the same as the model before we exported it.\n",
        "\n",
        "### 6.2 Saving and loading a model with [`joblib`](https://joblib.readthedocs.io/en/latest/persistence.html)\n",
        "\n",
        "The other way to load and save models is with `joblib`. Which works relatively the same as `pickle`.\n",
        "\n",
        "To save a model, we can use `joblib`'s `dump()` function, passing it the model (`gs_clf`) and the desired filename."
      ]
    },
    {
      "cell_type": "code",
      "execution_count": null,
      "metadata": {
        "id": "GmpdBwC6dAQP"
      },
      "outputs": [],
      "source": [
        "from joblib import dump, load\n",
        "\n",
        "# Save a model to file\n",
        "dump(gs_clf, filename=\"gs_random_forest_model_1.joblib\")"
      ]
    },
    {
      "cell_type": "markdown",
      "metadata": {
        "id": "HadcERhKdAQP"
      },
      "source": [
        "Once you've saved a model using `dump()`, you can import it using `load()` and passing it the filename of the model."
      ]
    },
    {
      "cell_type": "code",
      "execution_count": null,
      "metadata": {
        "id": "dzW1jNpfdAQP"
      },
      "outputs": [],
      "source": [
        "# Import a saved joblib model\n",
        "loaded_joblib_model = load(filename=\"gs_random_forest_model_1.joblib\")"
      ]
    },
    {
      "cell_type": "markdown",
      "metadata": {
        "id": "M4lxoTxVdAQQ"
      },
      "source": [
        "Again, once imported, we can make predictions with our model."
      ]
    },
    {
      "cell_type": "code",
      "execution_count": null,
      "metadata": {
        "id": "6TLjCh1sdAQQ"
      },
      "outputs": [],
      "source": [
        "# Make and evaluate joblib predictions\n",
        "joblib_y_preds = loaded_joblib_model.predict(X_test)\n",
        "evaluate_preds(y_test, joblib_y_preds)"
      ]
    },
    {
      "cell_type": "markdown",
      "metadata": {
        "id": "lEHaZRCpdAQQ"
      },
      "source": [
        "You'll notice the evaluation metrics are the same as before.\n",
        "\n",
        "Which one should you use, `pickle` or `joblib`?\n",
        "\n",
        "According to [Scikit-Learn's documentation](https://scikit-learn.org/stable/modules/model_persistence.html), they suggest it may be more efficient to use `joblib` as it's more efficient with large numpy array (which is what may be contained in trained/fitted Scikit-Learn models).\n",
        "\n",
        "Either way, they both function fairly similar so deciding on which one to use, shouldn't cause too much of an issue."
      ]
    },
    {
      "cell_type": "markdown",
      "metadata": {
        "id": "znjl0eGDdAQQ"
      },
      "source": [
        "## 7. Revisit the pipeline one more time, knowing what we know now\n",
        "\n",
        "We've covered a lot. And so far, it seems to be all over the place, which it is. But not to worry, machine learning projects often start out like this. A whole bunch of experimenting and code all over the place at the start and then once you've found something which works, the refinement process begins.\n",
        "\n",
        "What would this refinement process look like?\n",
        "\n",
        "We'll use the car sales regression problem (predicting the sale price of cars) as an example.\n",
        "\n",
        "To tidy things up, we'll be using Scikit-Learn's [`Pipeline`](https://scikit-learn.org/stable/modules/generated/sklearn.pipeline.Pipeline.html) class. You can imagine `Pipeline` as being a way to string a number of different Scikit-Learn processes together."
      ]
    },
    {
      "cell_type": "markdown",
      "metadata": {
        "id": "5eY2jytpdAQQ"
      },
      "source": [
        "### 7.1 Creating a regression [`Pipeline`](https://scikit-learn.org/stable/modules/generated/sklearn.pipeline.Pipeline.html)\n",
        "You might recall when, way back in Section 2: Getting Data Ready, we dealt with the car sales data, to build a regression model on it, we had to encode the categorical features into numbers and fill the missing data.\n",
        "\n",
        "The code we used worked, but it was a bit all over the place. Good news is, `Pipeline` can help us clean it up.\n",
        "\n",
        "Let's remind ourselves what the data looks like."
      ]
    },
    {
      "cell_type": "code",
      "execution_count": null,
      "metadata": {
        "id": "KQGuaUBgdAQQ"
      },
      "outputs": [],
      "source": [
        "data = pd.read_csv(\"../data/car-sales-extended-missing-data.csv\")\n",
        "data"
      ]
    },
    {
      "cell_type": "code",
      "execution_count": null,
      "metadata": {
        "id": "Yb-gRo9EdAQR"
      },
      "outputs": [],
      "source": [
        "data.dtypes"
      ]
    },
    {
      "cell_type": "code",
      "execution_count": null,
      "metadata": {
        "id": "60JHVubGdAQR"
      },
      "outputs": [],
      "source": [
        "data.isna().sum()"
      ]
    },
    {
      "cell_type": "markdown",
      "metadata": {
        "id": "jxPgn-TIdAQR"
      },
      "source": [
        "There's 1000 rows, three features are categorical (`Make`, `Colour`, `Doors`), the other two are numerical (`Odometer (KM)`, `Price`) and there's 249 missing values.\n",
        "\n",
        "We're going to have to turn the categorical features into numbers and fill the missing values before we can fit a model.\n",
        "\n",
        "We'll build a [`Pipeline()`](https://scikit-learn.org/stable/modules/generated/sklearn.pipeline.Pipeline.html) to do so.\n",
        "\n",
        "`Pipeline()`'s main input is `steps` which is a list (`[(step_name, action_to_take)]`) of the step name, plus the action you'd like it to perform.\n",
        "\n",
        "In our case, you could think of the steps as:\n",
        "1. Fill missing data\n",
        "2. Convert data to numbers\n",
        "3. Build a model on the data\n",
        "\n",
        "Let's do it."
      ]
    },
    {
      "cell_type": "code",
      "execution_count": null,
      "metadata": {
        "id": "TBnUgk0RdAQR"
      },
      "outputs": [],
      "source": [
        "# Getting data ready\n",
        "import pandas as pd\n",
        "from sklearn.compose import ColumnTransformer\n",
        "from sklearn.pipeline import Pipeline\n",
        "from sklearn.impute import SimpleImputer\n",
        "from sklearn.preprocessing import OneHotEncoder\n",
        "\n",
        "# Modelling\n",
        "from sklearn.ensemble import RandomForestRegressor\n",
        "from sklearn.model_selection import train_test_split, GridSearchCV\n",
        "\n",
        "# Setup random seed\n",
        "import numpy as np\n",
        "np.random.seed(42)\n",
        "\n",
        "# Import data and drop the rows with missing labels\n",
        "data = pd.read_csv(\"../data/car-sales-extended-missing-data.csv\")\n",
        "data.dropna(subset=[\"Price\"], inplace=True)\n",
        "\n",
        "# Define different features and transformer pipelines\n",
        "categorical_features = [\"Make\", \"Colour\"]\n",
        "categorical_transformer = Pipeline(steps=[\n",
        "    (\"imputer\", SimpleImputer(strategy=\"constant\", fill_value=\"missing\")),\n",
        "    (\"onehot\", OneHotEncoder(handle_unknown=\"ignore\"))])\n",
        "\n",
        "door_feature = [\"Doors\"]\n",
        "door_transformer = Pipeline(steps=[\n",
        "    (\"imputer\", SimpleImputer(strategy=\"constant\", fill_value=4))])\n",
        "\n",
        "numeric_features = [\"Odometer (KM)\"]\n",
        "numeric_transformer = Pipeline(steps=[\n",
        "    (\"imputer\", SimpleImputer(strategy=\"mean\"))\n",
        "])\n",
        "\n",
        "# Setup preprocessing steps (fill missing values, then convert to numbers)\n",
        "preprocessor = ColumnTransformer(\n",
        "    transformers=[\n",
        "        (\"cat\", categorical_transformer, categorical_features),\n",
        "        (\"door\", door_transformer, door_feature),\n",
        "        (\"num\", numeric_transformer, numeric_features)])\n",
        "\n",
        "# Create a preprocessing and modelling pipeline\n",
        "model = Pipeline(steps=[(\"preprocessor\", preprocessor),\n",
        "                        (\"model\", RandomForestRegressor())])\n",
        "\n",
        "# Split data\n",
        "X = data.drop(\"Price\", axis=1)\n",
        "y = data[\"Price\"]\n",
        "X_train, X_test, y_train, y_test = train_test_split(X, y, test_size=0.2)\n",
        "\n",
        "# Fit and score the model\n",
        "model.fit(X_train, y_train)\n",
        "model.score(X_test, y_test)"
      ]
    },
    {
      "cell_type": "markdown",
      "metadata": {
        "id": "xOL4PnvqdAQR"
      },
      "source": [
        "What we've done is combine a series of data preprocessing steps (filling missing values, encoding numerical values) as well as a model into a `Pipeline()`.\n",
        "\n",
        "Doing so not only cleans up the code, it ensures the same steps are taken every time the code is run rather than having multiple different processing steps happening in different stages.\n",
        "\n",
        "It's also possible to `GridSearchCV` or `RandomizedSearchCV` with a `Pipeline`.\n",
        "\n",
        "The main difference is when creating a hyperparameter grid, you have to add a prefix to each hyperparameter.\n",
        "\n",
        "The prefix is the name of the `Pipeline` step you'd like to alter, followed by two underscores.\n",
        "\n",
        "For example, to adjust `n_estimators` of `\"model\"` in the `Pipeline`, you'd use: `\"model__n_estimators\"`.\n",
        "\n",
        "Let's see it."
      ]
    },
    {
      "cell_type": "code",
      "execution_count": null,
      "metadata": {
        "id": "Hv27yXfrdAQR"
      },
      "outputs": [],
      "source": [
        "# Using grid search with pipeline\n",
        "pipe_grid = {\n",
        "    \"preprocessor__num__imputer__strategy\": [\"mean\", \"median\"],\n",
        "    \"model__n_estimators\": [100, 1000],\n",
        "    \"model__max_depth\": [None, 5],\n",
        "    \"model__max_features\": [\"auto\", \"sqrt\"],\n",
        "    \"model__min_samples_split\": [2, 4]\n",
        "}\n",
        "\n",
        "gs_model = GridSearchCV(model, pipe_grid, cv=5, verbose=2)\n",
        "gs_model.fit(X_train, y_train)"
      ]
    },
    {
      "cell_type": "code",
      "execution_count": null,
      "metadata": {
        "id": "zLZ5xGzOdAQS"
      },
      "outputs": [],
      "source": [
        "# Score the best model\n",
        "gs_model.score(X_test, y_test)"
      ]
    },
    {
      "cell_type": "markdown",
      "metadata": {
        "id": "jXIgzD_cdAQS"
      },
      "source": [
        "Beautiful! Using `GridSearchCV` we see a nice boost in our models score. And the best thing is, because it's all in a `Pipeline`, we could easily replicate these results."
      ]
    },
    {
      "cell_type": "markdown",
      "metadata": {
        "id": "-a7LNg5DdAQS"
      },
      "source": [
        "## Where to next?\n",
        "\n",
        "If you've made it this far, congratulations! You've covered a lot of ground in the Scikit-Learn library.\n",
        "\n",
        "As you might've guessed, there's a lot more that hasn't been covered.\n",
        "\n",
        "But for the time being, you should be equipped with some of the most useful features of the library to start trying to apply them to your own problems.\n",
        "\n",
        "Somewhere you might like to look next is to apply what you've learned above to a Kaggle competition. Kaggle competitions are great places to practice your data science and machine learning skills and compare your results with others.\n",
        "\n",
        "A great idea would be to try to combine the heart disease classification code, as well as the `Pipeline` code, to build a model for the [Titanic dataset](https://www.kaggle.com/c/titanic).\n",
        "\n",
        "Otherwise, if you'd like to figure out what else the Scikit-Learn library is capable, [check out the documentation](https://scikit-learn.org/stable/user_guide.html)."
      ]
    }
  ],
  "metadata": {
    "interpreter": {
      "hash": "e036ea145f52bb5f15dc913c23df31dcf3e5fc6207d09d4cecab06a90d0c7407"
    },
    "kernelspec": {
      "display_name": "Python 3",
      "language": "python",
      "name": "python3"
    },
    "language_info": {
      "codemirror_mode": {
        "name": "ipython",
        "version": 3
      },
      "file_extension": ".py",
      "mimetype": "text/x-python",
      "name": "python",
      "nbconvert_exporter": "python",
      "pygments_lexer": "ipython3",
      "version": "3.8.3"
    },
    "colab": {
      "provenance": [],
      "include_colab_link": true
    }
  },
  "nbformat": 4,
  "nbformat_minor": 0
}