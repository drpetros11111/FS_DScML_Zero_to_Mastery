{
  "cells": [
    {
      "cell_type": "markdown",
      "metadata": {
        "id": "view-in-github",
        "colab_type": "text"
      },
      "source": [
        "<a href=\"https://colab.research.google.com/github/drpetros11111/FS_DScML_Zero_to_Mastery/blob/15_Introduction_to_Numpy/introduction_to_numpy_video.ipynb\" target=\"_parent\"><img src=\"https://colab.research.google.com/assets/colab-badge.svg\" alt=\"Open In Colab\"/></a>"
      ]
    },
    {
      "cell_type": "code",
      "execution_count": 200,
      "metadata": {
        "id": "4THqhM3LB4M5"
      },
      "outputs": [],
      "source": [
        "import numpy as np"
      ]
    },
    {
      "cell_type": "markdown",
      "metadata": {
        "id": "I5bBrUdjB4M7"
      },
      "source": [
        "## 1. DataTypes & Attributes"
      ]
    },
    {
      "cell_type": "code",
      "execution_count": 201,
      "metadata": {
        "id": "cKleBnx-B4M8",
        "outputId": "6d651ec3-b81a-436e-c7b0-a524ee31ae7c",
        "colab": {
          "base_uri": "https://localhost:8080/"
        }
      },
      "outputs": [
        {
          "output_type": "execute_result",
          "data": {
            "text/plain": [
              "array([1, 2, 3])"
            ]
          },
          "metadata": {},
          "execution_count": 201
        }
      ],
      "source": [
        "# NumPy's main datatype is ndarray\n",
        "a1 = np.array([1, 2, 3])\n",
        "a1"
      ]
    },
    {
      "cell_type": "code",
      "execution_count": 202,
      "metadata": {
        "id": "hFt15MNXB4M-",
        "outputId": "336bc95c-2ec0-4672-c920-1ebef5bca316",
        "colab": {
          "base_uri": "https://localhost:8080/"
        }
      },
      "outputs": [
        {
          "output_type": "execute_result",
          "data": {
            "text/plain": [
              "numpy.ndarray"
            ]
          },
          "metadata": {},
          "execution_count": 202
        }
      ],
      "source": [
        "type(a1)"
      ]
    },
    {
      "cell_type": "code",
      "execution_count": 203,
      "metadata": {
        "id": "dPjBm39TB4M-"
      },
      "outputs": [],
      "source": [
        "a2 = np.array([[1, 2.0, 3.3],\n",
        "               [4, 5, 6.5]])\n",
        "\n",
        "a3 = np.array([[[1, 2, 3],\n",
        "                [4, 5, 6],\n",
        "                [7, 8, 9]],\n",
        "               [[10, 11, 12],\n",
        "                [13, 14, 15],\n",
        "                [16, 17, 18]]])"
      ]
    },
    {
      "cell_type": "code",
      "execution_count": 204,
      "metadata": {
        "id": "8Kyq5zxhB4M_",
        "outputId": "c0a14c70-0a21-4fab-f8c7-8f26f3c585a9",
        "colab": {
          "base_uri": "https://localhost:8080/"
        }
      },
      "outputs": [
        {
          "output_type": "execute_result",
          "data": {
            "text/plain": [
              "array([[1. , 2. , 3.3],\n",
              "       [4. , 5. , 6.5]])"
            ]
          },
          "metadata": {},
          "execution_count": 204
        }
      ],
      "source": [
        "a2"
      ]
    },
    {
      "cell_type": "code",
      "execution_count": 205,
      "metadata": {
        "id": "S1dDv5s5B4M_",
        "outputId": "c71462c0-747a-4021-f5e8-78485743551f",
        "colab": {
          "base_uri": "https://localhost:8080/"
        }
      },
      "outputs": [
        {
          "output_type": "execute_result",
          "data": {
            "text/plain": [
              "array([[[ 1,  2,  3],\n",
              "        [ 4,  5,  6],\n",
              "        [ 7,  8,  9]],\n",
              "\n",
              "       [[10, 11, 12],\n",
              "        [13, 14, 15],\n",
              "        [16, 17, 18]]])"
            ]
          },
          "metadata": {},
          "execution_count": 205
        }
      ],
      "source": [
        "a3"
      ]
    },
    {
      "cell_type": "code",
      "execution_count": 206,
      "metadata": {
        "id": "M_XrBy5OB4M_",
        "outputId": "14e399cc-d6cb-42d5-851b-0ef5717044c9",
        "colab": {
          "base_uri": "https://localhost:8080/"
        }
      },
      "outputs": [
        {
          "output_type": "execute_result",
          "data": {
            "text/plain": [
              "(3,)"
            ]
          },
          "metadata": {},
          "execution_count": 206
        }
      ],
      "source": [
        "a1.shape"
      ]
    },
    {
      "cell_type": "code",
      "execution_count": 207,
      "metadata": {
        "id": "EwmS5w2lB4NA",
        "outputId": "da794876-04ba-4026-9e3d-f87816dc45eb",
        "colab": {
          "base_uri": "https://localhost:8080/"
        }
      },
      "outputs": [
        {
          "output_type": "execute_result",
          "data": {
            "text/plain": [
              "(2, 3)"
            ]
          },
          "metadata": {},
          "execution_count": 207
        }
      ],
      "source": [
        "a2.shape"
      ]
    },
    {
      "cell_type": "code",
      "execution_count": 208,
      "metadata": {
        "id": "bs2UjX5oB4NA",
        "outputId": "dc225701-ae8b-483d-dc17-ab7199fc3cdb",
        "colab": {
          "base_uri": "https://localhost:8080/"
        }
      },
      "outputs": [
        {
          "output_type": "execute_result",
          "data": {
            "text/plain": [
              "(2, 3, 3)"
            ]
          },
          "metadata": {},
          "execution_count": 208
        }
      ],
      "source": [
        "a3.shape"
      ]
    },
    {
      "cell_type": "code",
      "execution_count": 209,
      "metadata": {
        "id": "l98-8E3GB4NB",
        "outputId": "0117f85a-67d9-49af-8dae-fc35a3397a45",
        "colab": {
          "base_uri": "https://localhost:8080/"
        }
      },
      "outputs": [
        {
          "output_type": "execute_result",
          "data": {
            "text/plain": [
              "array([1, 2, 3])"
            ]
          },
          "metadata": {},
          "execution_count": 209
        }
      ],
      "source": [
        "a1"
      ]
    },
    {
      "cell_type": "code",
      "execution_count": 210,
      "metadata": {
        "id": "fm1nOn08B4NB",
        "outputId": "4019a32f-f2be-4789-97ea-f384410e99ef",
        "colab": {
          "base_uri": "https://localhost:8080/"
        }
      },
      "outputs": [
        {
          "output_type": "execute_result",
          "data": {
            "text/plain": [
              "array([[1. , 2. , 3.3],\n",
              "       [4. , 5. , 6.5]])"
            ]
          },
          "metadata": {},
          "execution_count": 210
        }
      ],
      "source": [
        "a2"
      ]
    },
    {
      "cell_type": "code",
      "execution_count": 211,
      "metadata": {
        "id": "muCFki4SB4NC",
        "outputId": "3ba57e2e-de8d-49e3-8e13-a538a0e09458",
        "colab": {
          "base_uri": "https://localhost:8080/"
        }
      },
      "outputs": [
        {
          "output_type": "execute_result",
          "data": {
            "text/plain": [
              "array([[[ 1,  2,  3],\n",
              "        [ 4,  5,  6],\n",
              "        [ 7,  8,  9]],\n",
              "\n",
              "       [[10, 11, 12],\n",
              "        [13, 14, 15],\n",
              "        [16, 17, 18]]])"
            ]
          },
          "metadata": {},
          "execution_count": 211
        }
      ],
      "source": [
        "a3"
      ]
    },
    {
      "cell_type": "code",
      "execution_count": 212,
      "metadata": {
        "id": "VkXXoQciB4NC",
        "outputId": "cfb9580f-10ad-46ea-b028-ef24c600f996",
        "colab": {
          "base_uri": "https://localhost:8080/"
        }
      },
      "outputs": [
        {
          "output_type": "execute_result",
          "data": {
            "text/plain": [
              "(1, 2, 3)"
            ]
          },
          "metadata": {},
          "execution_count": 212
        }
      ],
      "source": [
        "a1.ndim, a2.ndim, a3.ndim"
      ]
    },
    {
      "cell_type": "code",
      "execution_count": 213,
      "metadata": {
        "id": "2IESXRnnB4NC",
        "outputId": "d86bd9a6-b64f-407f-f869-4298c406a071",
        "colab": {
          "base_uri": "https://localhost:8080/"
        }
      },
      "outputs": [
        {
          "output_type": "execute_result",
          "data": {
            "text/plain": [
              "(dtype('int64'), dtype('float64'), dtype('int64'))"
            ]
          },
          "metadata": {},
          "execution_count": 213
        }
      ],
      "source": [
        "a1.dtype, a2.dtype, a3.dtype"
      ]
    },
    {
      "cell_type": "code",
      "execution_count": 214,
      "metadata": {
        "id": "HCrEjK_tB4NC",
        "outputId": "45f0eb79-e061-46a6-e9fb-68bb2b01fffe",
        "colab": {
          "base_uri": "https://localhost:8080/"
        }
      },
      "outputs": [
        {
          "output_type": "execute_result",
          "data": {
            "text/plain": [
              "array([[[ 1,  2,  3],\n",
              "        [ 4,  5,  6],\n",
              "        [ 7,  8,  9]],\n",
              "\n",
              "       [[10, 11, 12],\n",
              "        [13, 14, 15],\n",
              "        [16, 17, 18]]])"
            ]
          },
          "metadata": {},
          "execution_count": 214
        }
      ],
      "source": [
        "a3"
      ]
    },
    {
      "cell_type": "code",
      "execution_count": 215,
      "metadata": {
        "id": "95jXmYDlB4ND",
        "outputId": "611fe135-cec8-4d95-a0be-cde48070d333",
        "colab": {
          "base_uri": "https://localhost:8080/"
        }
      },
      "outputs": [
        {
          "output_type": "execute_result",
          "data": {
            "text/plain": [
              "(3, 6, 18)"
            ]
          },
          "metadata": {},
          "execution_count": 215
        }
      ],
      "source": [
        "a1.size, a2.size, a3.size"
      ]
    },
    {
      "cell_type": "code",
      "execution_count": 216,
      "metadata": {
        "id": "UFnY8NsUB4ND",
        "outputId": "96c0917c-b99f-4320-c656-6047f7735f37",
        "colab": {
          "base_uri": "https://localhost:8080/"
        }
      },
      "outputs": [
        {
          "output_type": "execute_result",
          "data": {
            "text/plain": [
              "(numpy.ndarray, numpy.ndarray, numpy.ndarray)"
            ]
          },
          "metadata": {},
          "execution_count": 216
        }
      ],
      "source": [
        "type(a1), type(a2), type(a3)"
      ]
    },
    {
      "cell_type": "code",
      "execution_count": 217,
      "metadata": {
        "id": "Gmao-aQCB4ND",
        "outputId": "88233731-38b9-411b-a39d-0147ec56653b",
        "colab": {
          "base_uri": "https://localhost:8080/"
        }
      },
      "outputs": [
        {
          "output_type": "execute_result",
          "data": {
            "text/plain": [
              "array([[1. , 2. , 3.3],\n",
              "       [4. , 5. , 6.5]])"
            ]
          },
          "metadata": {},
          "execution_count": 217
        }
      ],
      "source": [
        "a2"
      ]
    },
    {
      "cell_type": "code",
      "execution_count": 218,
      "metadata": {
        "id": "RUQCfw6-B4ND",
        "outputId": "9e07c2ff-c719-426f-d19b-768e7b867509",
        "colab": {
          "base_uri": "https://localhost:8080/",
          "height": 125
        }
      },
      "outputs": [
        {
          "output_type": "execute_result",
          "data": {
            "text/plain": [
              "     0    1    2\n",
              "0  1.0  2.0  3.3\n",
              "1  4.0  5.0  6.5"
            ],
            "text/html": [
              "\n",
              "  <div id=\"df-df53af45-940e-4fc6-8183-35fdf2743d5b\" class=\"colab-df-container\">\n",
              "    <div>\n",
              "<style scoped>\n",
              "    .dataframe tbody tr th:only-of-type {\n",
              "        vertical-align: middle;\n",
              "    }\n",
              "\n",
              "    .dataframe tbody tr th {\n",
              "        vertical-align: top;\n",
              "    }\n",
              "\n",
              "    .dataframe thead th {\n",
              "        text-align: right;\n",
              "    }\n",
              "</style>\n",
              "<table border=\"1\" class=\"dataframe\">\n",
              "  <thead>\n",
              "    <tr style=\"text-align: right;\">\n",
              "      <th></th>\n",
              "      <th>0</th>\n",
              "      <th>1</th>\n",
              "      <th>2</th>\n",
              "    </tr>\n",
              "  </thead>\n",
              "  <tbody>\n",
              "    <tr>\n",
              "      <th>0</th>\n",
              "      <td>1.0</td>\n",
              "      <td>2.0</td>\n",
              "      <td>3.3</td>\n",
              "    </tr>\n",
              "    <tr>\n",
              "      <th>1</th>\n",
              "      <td>4.0</td>\n",
              "      <td>5.0</td>\n",
              "      <td>6.5</td>\n",
              "    </tr>\n",
              "  </tbody>\n",
              "</table>\n",
              "</div>\n",
              "    <div class=\"colab-df-buttons\">\n",
              "\n",
              "  <div class=\"colab-df-container\">\n",
              "    <button class=\"colab-df-convert\" onclick=\"convertToInteractive('df-df53af45-940e-4fc6-8183-35fdf2743d5b')\"\n",
              "            title=\"Convert this dataframe to an interactive table.\"\n",
              "            style=\"display:none;\">\n",
              "\n",
              "  <svg xmlns=\"http://www.w3.org/2000/svg\" height=\"24px\" viewBox=\"0 -960 960 960\">\n",
              "    <path d=\"M120-120v-720h720v720H120Zm60-500h600v-160H180v160Zm220 220h160v-160H400v160Zm0 220h160v-160H400v160ZM180-400h160v-160H180v160Zm440 0h160v-160H620v160ZM180-180h160v-160H180v160Zm440 0h160v-160H620v160Z\"/>\n",
              "  </svg>\n",
              "    </button>\n",
              "\n",
              "  <style>\n",
              "    .colab-df-container {\n",
              "      display:flex;\n",
              "      gap: 12px;\n",
              "    }\n",
              "\n",
              "    .colab-df-convert {\n",
              "      background-color: #E8F0FE;\n",
              "      border: none;\n",
              "      border-radius: 50%;\n",
              "      cursor: pointer;\n",
              "      display: none;\n",
              "      fill: #1967D2;\n",
              "      height: 32px;\n",
              "      padding: 0 0 0 0;\n",
              "      width: 32px;\n",
              "    }\n",
              "\n",
              "    .colab-df-convert:hover {\n",
              "      background-color: #E2EBFA;\n",
              "      box-shadow: 0px 1px 2px rgba(60, 64, 67, 0.3), 0px 1px 3px 1px rgba(60, 64, 67, 0.15);\n",
              "      fill: #174EA6;\n",
              "    }\n",
              "\n",
              "    .colab-df-buttons div {\n",
              "      margin-bottom: 4px;\n",
              "    }\n",
              "\n",
              "    [theme=dark] .colab-df-convert {\n",
              "      background-color: #3B4455;\n",
              "      fill: #D2E3FC;\n",
              "    }\n",
              "\n",
              "    [theme=dark] .colab-df-convert:hover {\n",
              "      background-color: #434B5C;\n",
              "      box-shadow: 0px 1px 3px 1px rgba(0, 0, 0, 0.15);\n",
              "      filter: drop-shadow(0px 1px 2px rgba(0, 0, 0, 0.3));\n",
              "      fill: #FFFFFF;\n",
              "    }\n",
              "  </style>\n",
              "\n",
              "    <script>\n",
              "      const buttonEl =\n",
              "        document.querySelector('#df-df53af45-940e-4fc6-8183-35fdf2743d5b button.colab-df-convert');\n",
              "      buttonEl.style.display =\n",
              "        google.colab.kernel.accessAllowed ? 'block' : 'none';\n",
              "\n",
              "      async function convertToInteractive(key) {\n",
              "        const element = document.querySelector('#df-df53af45-940e-4fc6-8183-35fdf2743d5b');\n",
              "        const dataTable =\n",
              "          await google.colab.kernel.invokeFunction('convertToInteractive',\n",
              "                                                    [key], {});\n",
              "        if (!dataTable) return;\n",
              "\n",
              "        const docLinkHtml = 'Like what you see? Visit the ' +\n",
              "          '<a target=\"_blank\" href=https://colab.research.google.com/notebooks/data_table.ipynb>data table notebook</a>'\n",
              "          + ' to learn more about interactive tables.';\n",
              "        element.innerHTML = '';\n",
              "        dataTable['output_type'] = 'display_data';\n",
              "        await google.colab.output.renderOutput(dataTable, element);\n",
              "        const docLink = document.createElement('div');\n",
              "        docLink.innerHTML = docLinkHtml;\n",
              "        element.appendChild(docLink);\n",
              "      }\n",
              "    </script>\n",
              "  </div>\n",
              "\n",
              "\n",
              "<div id=\"df-7a0e6efb-bf5f-4cb3-b582-9a8adc84928c\">\n",
              "  <button class=\"colab-df-quickchart\" onclick=\"quickchart('df-7a0e6efb-bf5f-4cb3-b582-9a8adc84928c')\"\n",
              "            title=\"Suggest charts\"\n",
              "            style=\"display:none;\">\n",
              "\n",
              "<svg xmlns=\"http://www.w3.org/2000/svg\" height=\"24px\"viewBox=\"0 0 24 24\"\n",
              "     width=\"24px\">\n",
              "    <g>\n",
              "        <path d=\"M19 3H5c-1.1 0-2 .9-2 2v14c0 1.1.9 2 2 2h14c1.1 0 2-.9 2-2V5c0-1.1-.9-2-2-2zM9 17H7v-7h2v7zm4 0h-2V7h2v10zm4 0h-2v-4h2v4z\"/>\n",
              "    </g>\n",
              "</svg>\n",
              "  </button>\n",
              "\n",
              "<style>\n",
              "  .colab-df-quickchart {\n",
              "      --bg-color: #E8F0FE;\n",
              "      --fill-color: #1967D2;\n",
              "      --hover-bg-color: #E2EBFA;\n",
              "      --hover-fill-color: #174EA6;\n",
              "      --disabled-fill-color: #AAA;\n",
              "      --disabled-bg-color: #DDD;\n",
              "  }\n",
              "\n",
              "  [theme=dark] .colab-df-quickchart {\n",
              "      --bg-color: #3B4455;\n",
              "      --fill-color: #D2E3FC;\n",
              "      --hover-bg-color: #434B5C;\n",
              "      --hover-fill-color: #FFFFFF;\n",
              "      --disabled-bg-color: #3B4455;\n",
              "      --disabled-fill-color: #666;\n",
              "  }\n",
              "\n",
              "  .colab-df-quickchart {\n",
              "    background-color: var(--bg-color);\n",
              "    border: none;\n",
              "    border-radius: 50%;\n",
              "    cursor: pointer;\n",
              "    display: none;\n",
              "    fill: var(--fill-color);\n",
              "    height: 32px;\n",
              "    padding: 0;\n",
              "    width: 32px;\n",
              "  }\n",
              "\n",
              "  .colab-df-quickchart:hover {\n",
              "    background-color: var(--hover-bg-color);\n",
              "    box-shadow: 0 1px 2px rgba(60, 64, 67, 0.3), 0 1px 3px 1px rgba(60, 64, 67, 0.15);\n",
              "    fill: var(--button-hover-fill-color);\n",
              "  }\n",
              "\n",
              "  .colab-df-quickchart-complete:disabled,\n",
              "  .colab-df-quickchart-complete:disabled:hover {\n",
              "    background-color: var(--disabled-bg-color);\n",
              "    fill: var(--disabled-fill-color);\n",
              "    box-shadow: none;\n",
              "  }\n",
              "\n",
              "  .colab-df-spinner {\n",
              "    border: 2px solid var(--fill-color);\n",
              "    border-color: transparent;\n",
              "    border-bottom-color: var(--fill-color);\n",
              "    animation:\n",
              "      spin 1s steps(1) infinite;\n",
              "  }\n",
              "\n",
              "  @keyframes spin {\n",
              "    0% {\n",
              "      border-color: transparent;\n",
              "      border-bottom-color: var(--fill-color);\n",
              "      border-left-color: var(--fill-color);\n",
              "    }\n",
              "    20% {\n",
              "      border-color: transparent;\n",
              "      border-left-color: var(--fill-color);\n",
              "      border-top-color: var(--fill-color);\n",
              "    }\n",
              "    30% {\n",
              "      border-color: transparent;\n",
              "      border-left-color: var(--fill-color);\n",
              "      border-top-color: var(--fill-color);\n",
              "      border-right-color: var(--fill-color);\n",
              "    }\n",
              "    40% {\n",
              "      border-color: transparent;\n",
              "      border-right-color: var(--fill-color);\n",
              "      border-top-color: var(--fill-color);\n",
              "    }\n",
              "    60% {\n",
              "      border-color: transparent;\n",
              "      border-right-color: var(--fill-color);\n",
              "    }\n",
              "    80% {\n",
              "      border-color: transparent;\n",
              "      border-right-color: var(--fill-color);\n",
              "      border-bottom-color: var(--fill-color);\n",
              "    }\n",
              "    90% {\n",
              "      border-color: transparent;\n",
              "      border-bottom-color: var(--fill-color);\n",
              "    }\n",
              "  }\n",
              "</style>\n",
              "\n",
              "  <script>\n",
              "    async function quickchart(key) {\n",
              "      const quickchartButtonEl =\n",
              "        document.querySelector('#' + key + ' button');\n",
              "      quickchartButtonEl.disabled = true;  // To prevent multiple clicks.\n",
              "      quickchartButtonEl.classList.add('colab-df-spinner');\n",
              "      try {\n",
              "        const charts = await google.colab.kernel.invokeFunction(\n",
              "            'suggestCharts', [key], {});\n",
              "      } catch (error) {\n",
              "        console.error('Error during call to suggestCharts:', error);\n",
              "      }\n",
              "      quickchartButtonEl.classList.remove('colab-df-spinner');\n",
              "      quickchartButtonEl.classList.add('colab-df-quickchart-complete');\n",
              "    }\n",
              "    (() => {\n",
              "      let quickchartButtonEl =\n",
              "        document.querySelector('#df-7a0e6efb-bf5f-4cb3-b582-9a8adc84928c button');\n",
              "      quickchartButtonEl.style.display =\n",
              "        google.colab.kernel.accessAllowed ? 'block' : 'none';\n",
              "    })();\n",
              "  </script>\n",
              "</div>\n",
              "\n",
              "  <div id=\"id_bff8c8e5-098a-41b4-895f-d1edd9a813cc\">\n",
              "    <style>\n",
              "      .colab-df-generate {\n",
              "        background-color: #E8F0FE;\n",
              "        border: none;\n",
              "        border-radius: 50%;\n",
              "        cursor: pointer;\n",
              "        display: none;\n",
              "        fill: #1967D2;\n",
              "        height: 32px;\n",
              "        padding: 0 0 0 0;\n",
              "        width: 32px;\n",
              "      }\n",
              "\n",
              "      .colab-df-generate:hover {\n",
              "        background-color: #E2EBFA;\n",
              "        box-shadow: 0px 1px 2px rgba(60, 64, 67, 0.3), 0px 1px 3px 1px rgba(60, 64, 67, 0.15);\n",
              "        fill: #174EA6;\n",
              "      }\n",
              "\n",
              "      [theme=dark] .colab-df-generate {\n",
              "        background-color: #3B4455;\n",
              "        fill: #D2E3FC;\n",
              "      }\n",
              "\n",
              "      [theme=dark] .colab-df-generate:hover {\n",
              "        background-color: #434B5C;\n",
              "        box-shadow: 0px 1px 3px 1px rgba(0, 0, 0, 0.15);\n",
              "        filter: drop-shadow(0px 1px 2px rgba(0, 0, 0, 0.3));\n",
              "        fill: #FFFFFF;\n",
              "      }\n",
              "    </style>\n",
              "    <button class=\"colab-df-generate\" onclick=\"generateWithVariable('df')\"\n",
              "            title=\"Generate code using this dataframe.\"\n",
              "            style=\"display:none;\">\n",
              "\n",
              "  <svg xmlns=\"http://www.w3.org/2000/svg\" height=\"24px\"viewBox=\"0 0 24 24\"\n",
              "       width=\"24px\">\n",
              "    <path d=\"M7,19H8.4L18.45,9,17,7.55,7,17.6ZM5,21V16.75L18.45,3.32a2,2,0,0,1,2.83,0l1.4,1.43a1.91,1.91,0,0,1,.58,1.4,1.91,1.91,0,0,1-.58,1.4L9.25,21ZM18.45,9,17,7.55Zm-12,3A5.31,5.31,0,0,0,4.9,8.1,5.31,5.31,0,0,0,1,6.5,5.31,5.31,0,0,0,4.9,4.9,5.31,5.31,0,0,0,6.5,1,5.31,5.31,0,0,0,8.1,4.9,5.31,5.31,0,0,0,12,6.5,5.46,5.46,0,0,0,6.5,12Z\"/>\n",
              "  </svg>\n",
              "    </button>\n",
              "    <script>\n",
              "      (() => {\n",
              "      const buttonEl =\n",
              "        document.querySelector('#id_bff8c8e5-098a-41b4-895f-d1edd9a813cc button.colab-df-generate');\n",
              "      buttonEl.style.display =\n",
              "        google.colab.kernel.accessAllowed ? 'block' : 'none';\n",
              "\n",
              "      buttonEl.onclick = () => {\n",
              "        google.colab.notebook.generateWithVariable('df');\n",
              "      }\n",
              "      })();\n",
              "    </script>\n",
              "  </div>\n",
              "\n",
              "    </div>\n",
              "  </div>\n"
            ],
            "application/vnd.google.colaboratory.intrinsic+json": {
              "type": "dataframe",
              "variable_name": "df",
              "summary": "{\n  \"name\": \"df\",\n  \"rows\": 2,\n  \"fields\": [\n    {\n      \"column\": 0,\n      \"properties\": {\n        \"dtype\": \"number\",\n        \"std\": 2.1213203435596424,\n        \"min\": 1.0,\n        \"max\": 4.0,\n        \"num_unique_values\": 2,\n        \"samples\": [\n          4.0,\n          1.0\n        ],\n        \"semantic_type\": \"\",\n        \"description\": \"\"\n      }\n    },\n    {\n      \"column\": 1,\n      \"properties\": {\n        \"dtype\": \"number\",\n        \"std\": 2.1213203435596424,\n        \"min\": 2.0,\n        \"max\": 5.0,\n        \"num_unique_values\": 2,\n        \"samples\": [\n          5.0,\n          2.0\n        ],\n        \"semantic_type\": \"\",\n        \"description\": \"\"\n      }\n    },\n    {\n      \"column\": 2,\n      \"properties\": {\n        \"dtype\": \"number\",\n        \"std\": 2.2627416997969525,\n        \"min\": 3.3,\n        \"max\": 6.5,\n        \"num_unique_values\": 2,\n        \"samples\": [\n          6.5,\n          3.3\n        ],\n        \"semantic_type\": \"\",\n        \"description\": \"\"\n      }\n    }\n  ]\n}"
            }
          },
          "metadata": {},
          "execution_count": 218
        }
      ],
      "source": [
        "# Create a DataFrame from a NumPy array\n",
        "import pandas as pd\n",
        "\n",
        "df = pd.DataFrame(a2)\n",
        "df"
      ]
    },
    {
      "cell_type": "markdown",
      "metadata": {
        "id": "6XcACRCtB4NE"
      },
      "source": [
        "## 2. Creating arrays"
      ]
    },
    {
      "cell_type": "code",
      "execution_count": 219,
      "metadata": {
        "id": "gpUeJsY0B4NE",
        "outputId": "691ca353-9832-414e-9e80-89658b2d0e39",
        "colab": {
          "base_uri": "https://localhost:8080/"
        }
      },
      "outputs": [
        {
          "output_type": "execute_result",
          "data": {
            "text/plain": [
              "array([1, 2, 3])"
            ]
          },
          "metadata": {},
          "execution_count": 219
        }
      ],
      "source": [
        "sample_array = np.array([1, 2, 3])\n",
        "sample_array"
      ]
    },
    {
      "cell_type": "code",
      "execution_count": 220,
      "metadata": {
        "id": "2TG0catDB4NE",
        "outputId": "6a984a09-3737-4b62-eebe-0ce25e1574b4",
        "colab": {
          "base_uri": "https://localhost:8080/"
        }
      },
      "outputs": [
        {
          "output_type": "execute_result",
          "data": {
            "text/plain": [
              "dtype('int64')"
            ]
          },
          "metadata": {},
          "execution_count": 220
        }
      ],
      "source": [
        "sample_array.dtype"
      ]
    },
    {
      "cell_type": "code",
      "execution_count": 221,
      "metadata": {
        "id": "7JyEeAzTB4NE"
      },
      "outputs": [],
      "source": [
        "ones = np.ones((2, 3))"
      ]
    },
    {
      "cell_type": "code",
      "execution_count": 222,
      "metadata": {
        "id": "3FnPHBTFB4NF",
        "outputId": "339bdaa6-f602-4eab-84a8-5f0fda39a70f",
        "colab": {
          "base_uri": "https://localhost:8080/"
        }
      },
      "outputs": [
        {
          "output_type": "execute_result",
          "data": {
            "text/plain": [
              "array([[1., 1., 1.],\n",
              "       [1., 1., 1.]])"
            ]
          },
          "metadata": {},
          "execution_count": 222
        }
      ],
      "source": [
        "ones"
      ]
    },
    {
      "cell_type": "code",
      "execution_count": 223,
      "metadata": {
        "id": "PpvfvsS6B4NF",
        "outputId": "47c16af5-9c15-4f45-f0d2-b387d24b5e03",
        "colab": {
          "base_uri": "https://localhost:8080/"
        }
      },
      "outputs": [
        {
          "output_type": "execute_result",
          "data": {
            "text/plain": [
              "dtype('float64')"
            ]
          },
          "metadata": {},
          "execution_count": 223
        }
      ],
      "source": [
        "ones.dtype"
      ]
    },
    {
      "cell_type": "code",
      "execution_count": 224,
      "metadata": {
        "id": "GOgcf2SWB4NF",
        "outputId": "541a9c58-a8f7-4878-b040-ae831aa56989",
        "colab": {
          "base_uri": "https://localhost:8080/"
        }
      },
      "outputs": [
        {
          "output_type": "execute_result",
          "data": {
            "text/plain": [
              "numpy.ndarray"
            ]
          },
          "metadata": {},
          "execution_count": 224
        }
      ],
      "source": [
        "type(ones)"
      ]
    },
    {
      "cell_type": "code",
      "execution_count": 225,
      "metadata": {
        "id": "BbAnfF0yB4NF"
      },
      "outputs": [],
      "source": [
        "zeros = np.zeros((2, 3))"
      ]
    },
    {
      "cell_type": "code",
      "execution_count": 226,
      "metadata": {
        "id": "Fii7BkTDB4NF",
        "outputId": "85979ba9-c3de-4a30-c79a-6f43343d1d77",
        "colab": {
          "base_uri": "https://localhost:8080/"
        }
      },
      "outputs": [
        {
          "output_type": "execute_result",
          "data": {
            "text/plain": [
              "array([[0., 0., 0.],\n",
              "       [0., 0., 0.]])"
            ]
          },
          "metadata": {},
          "execution_count": 226
        }
      ],
      "source": [
        "zeros"
      ]
    },
    {
      "cell_type": "code",
      "execution_count": 227,
      "metadata": {
        "id": "mrH4NX3rB4NG",
        "outputId": "a12f9caf-4163-4062-bebd-cebafae86566",
        "colab": {
          "base_uri": "https://localhost:8080/"
        }
      },
      "outputs": [
        {
          "output_type": "execute_result",
          "data": {
            "text/plain": [
              "array([0, 2, 4, 6, 8])"
            ]
          },
          "metadata": {},
          "execution_count": 227
        }
      ],
      "source": [
        "range_array = np.arange(0, 10, 2)\n",
        "range_array"
      ]
    },
    {
      "cell_type": "code",
      "execution_count": 228,
      "metadata": {
        "id": "mMe9dv1rB4NG",
        "outputId": "e1ddf888-1c72-4212-d0df-8660225c0a02",
        "colab": {
          "base_uri": "https://localhost:8080/"
        }
      },
      "outputs": [
        {
          "output_type": "execute_result",
          "data": {
            "text/plain": [
              "array([[1, 1, 5, 3, 2],\n",
              "       [0, 4, 8, 7, 1],\n",
              "       [4, 9, 3, 6, 7]])"
            ]
          },
          "metadata": {},
          "execution_count": 228
        }
      ],
      "source": [
        "random_array = np.random.randint(0, 10, size=(3, 5))\n",
        "random_array"
      ]
    },
    {
      "cell_type": "code",
      "execution_count": 229,
      "metadata": {
        "id": "aa3x3ofXB4NG",
        "outputId": "772db281-2477-4426-efdb-88454fd177fc",
        "colab": {
          "base_uri": "https://localhost:8080/"
        }
      },
      "outputs": [
        {
          "output_type": "execute_result",
          "data": {
            "text/plain": [
              "15"
            ]
          },
          "metadata": {},
          "execution_count": 229
        }
      ],
      "source": [
        "random_array.size"
      ]
    },
    {
      "cell_type": "code",
      "execution_count": 230,
      "metadata": {
        "id": "_ZgUSCb4B4NG",
        "outputId": "9da48f23-0656-4ed9-f872-c0fffabada70",
        "colab": {
          "base_uri": "https://localhost:8080/"
        }
      },
      "outputs": [
        {
          "output_type": "execute_result",
          "data": {
            "text/plain": [
              "(3, 5)"
            ]
          },
          "metadata": {},
          "execution_count": 230
        }
      ],
      "source": [
        "random_array.shape"
      ]
    },
    {
      "cell_type": "code",
      "execution_count": 231,
      "metadata": {
        "id": "kr95ywWLB4NH",
        "outputId": "0b89e4b7-19d1-405f-9acd-121c0564a84b",
        "colab": {
          "base_uri": "https://localhost:8080/"
        }
      },
      "outputs": [
        {
          "output_type": "execute_result",
          "data": {
            "text/plain": [
              "array([[0.63847702, 0.86288872, 0.63662654],\n",
              "       [0.99929706, 0.51778008, 0.32761664],\n",
              "       [0.09877324, 0.5667664 , 0.21520794],\n",
              "       [0.01179079, 0.29921532, 0.03897743],\n",
              "       [0.97621382, 0.55145308, 0.07171621]])"
            ]
          },
          "metadata": {},
          "execution_count": 231
        }
      ],
      "source": [
        "random_array_2 = np.random.random((5, 3))\n",
        "random_array_2"
      ]
    },
    {
      "cell_type": "code",
      "execution_count": 232,
      "metadata": {
        "id": "e0aCGoN5B4NH",
        "outputId": "dfac4cfe-ce1f-449a-f617-ec7ee8f9bef6",
        "colab": {
          "base_uri": "https://localhost:8080/"
        }
      },
      "outputs": [
        {
          "output_type": "execute_result",
          "data": {
            "text/plain": [
              "(5, 3)"
            ]
          },
          "metadata": {},
          "execution_count": 232
        }
      ],
      "source": [
        "random_array_2.shape"
      ]
    },
    {
      "cell_type": "code",
      "execution_count": 233,
      "metadata": {
        "id": "GCFv7DjOB4NH",
        "outputId": "0a26ed04-9021-4a4e-ada5-9edb11985592",
        "colab": {
          "base_uri": "https://localhost:8080/"
        }
      },
      "outputs": [
        {
          "output_type": "execute_result",
          "data": {
            "text/plain": [
              "array([[0.34006782, 0.24290239, 0.10735082],\n",
              "       [0.77033058, 0.35060155, 0.18764274],\n",
              "       [0.91265269, 0.86114826, 0.39889823],\n",
              "       [0.54633644, 0.45037544, 0.69359919],\n",
              "       [0.21384609, 0.3237989 , 0.73989292]])"
            ]
          },
          "metadata": {},
          "execution_count": 233
        }
      ],
      "source": [
        "random_array_3 = np.random.rand(5, 3)\n",
        "random_array_3"
      ]
    },
    {
      "cell_type": "code",
      "execution_count": 234,
      "metadata": {
        "id": "uqAoxJ1xB4NH",
        "outputId": "8dd2d68a-2b72-43f6-8196-bdac208cd1c6",
        "colab": {
          "base_uri": "https://localhost:8080/"
        }
      },
      "outputs": [
        {
          "output_type": "execute_result",
          "data": {
            "text/plain": [
              "array([[0, 3, 1],\n",
              "       [8, 1, 3],\n",
              "       [8, 5, 6],\n",
              "       [0, 6, 0],\n",
              "       [4, 0, 9]])"
            ]
          },
          "metadata": {},
          "execution_count": 234
        }
      ],
      "source": [
        "# Pseudo-random numbers\n",
        "np.random.seed(seed=99999)\n",
        "random_array_4 = np.random.randint(10, size=(5, 3))\n",
        "random_array_4"
      ]
    },
    {
      "cell_type": "code",
      "execution_count": 235,
      "metadata": {
        "id": "i68alOeuB4NH",
        "outputId": "d2291c2c-ab49-4ed1-cbac-75cd14bc1d38",
        "colab": {
          "base_uri": "https://localhost:8080/"
        }
      },
      "outputs": [
        {
          "output_type": "execute_result",
          "data": {
            "text/plain": [
              "array([[0.07630829, 0.77991879, 0.43840923],\n",
              "       [0.72346518, 0.97798951, 0.53849587],\n",
              "       [0.50112046, 0.07205113, 0.26843898],\n",
              "       [0.4998825 , 0.67923   , 0.80373904],\n",
              "       [0.38094113, 0.06593635, 0.2881456 ]])"
            ]
          },
          "metadata": {},
          "execution_count": 235
        }
      ],
      "source": [
        "np.random.seed(7)\n",
        "random_array_5 = np.random.random((5, 3))\n",
        "random_array_5"
      ]
    },
    {
      "cell_type": "code",
      "execution_count": 236,
      "metadata": {
        "id": "izL43vVFB4NH",
        "outputId": "6c3927e3-5a30-4e81-8cab-2508c5cbb4eb",
        "colab": {
          "base_uri": "https://localhost:8080/"
        }
      },
      "outputs": [
        {
          "output_type": "execute_result",
          "data": {
            "text/plain": [
              "array([[0.90959353, 0.21338535, 0.45212396],\n",
              "       [0.93120602, 0.02489923, 0.60054892],\n",
              "       [0.9501295 , 0.23030288, 0.54848992],\n",
              "       [0.90912837, 0.13316945, 0.52341258],\n",
              "       [0.75040986, 0.66901324, 0.46775286]])"
            ]
          },
          "metadata": {},
          "execution_count": 236
        }
      ],
      "source": [
        "random_array_5 = np.random.random((5, 3))\n",
        "random_array_5"
      ]
    },
    {
      "cell_type": "code",
      "execution_count": 237,
      "metadata": {
        "id": "QXNbu0v-B4NM",
        "outputId": "7b0be3f5-5f03-49c3-f336-4209b95f7fe5",
        "colab": {
          "base_uri": "https://localhost:8080/"
        }
      },
      "outputs": [
        {
          "output_type": "execute_result",
          "data": {
            "text/plain": [
              "array([[0, 3, 1],\n",
              "       [8, 1, 3],\n",
              "       [8, 5, 6],\n",
              "       [0, 6, 0],\n",
              "       [4, 0, 9]])"
            ]
          },
          "metadata": {},
          "execution_count": 237
        }
      ],
      "source": [
        "random_array_4"
      ]
    },
    {
      "cell_type": "markdown",
      "metadata": {
        "id": "L8cmXaztB4NM"
      },
      "source": [
        "## 3. Viewing arrays and matrices"
      ]
    },
    {
      "cell_type": "code",
      "execution_count": 238,
      "metadata": {
        "id": "xtDcZnBGB4NM",
        "outputId": "c3a23fe1-7710-491f-bd4f-e174b61c4b21",
        "colab": {
          "base_uri": "https://localhost:8080/"
        }
      },
      "outputs": [
        {
          "output_type": "execute_result",
          "data": {
            "text/plain": [
              "array([0, 1, 3, 4, 5, 6, 8, 9])"
            ]
          },
          "metadata": {},
          "execution_count": 238
        }
      ],
      "source": [
        "np.unique(random_array_4)"
      ]
    },
    {
      "cell_type": "code",
      "execution_count": 239,
      "metadata": {
        "id": "PaP0mjbIB4NN",
        "outputId": "e46be161-23c8-4cd6-ff75-14750f965241",
        "colab": {
          "base_uri": "https://localhost:8080/"
        }
      },
      "outputs": [
        {
          "output_type": "execute_result",
          "data": {
            "text/plain": [
              "array([1, 2, 3])"
            ]
          },
          "metadata": {},
          "execution_count": 239
        }
      ],
      "source": [
        "a1"
      ]
    },
    {
      "cell_type": "code",
      "execution_count": 240,
      "metadata": {
        "id": "DRd9iLVkB4NN",
        "outputId": "ae1c606f-8e87-4a39-bf66-2184d6e4fb86",
        "colab": {
          "base_uri": "https://localhost:8080/"
        }
      },
      "outputs": [
        {
          "output_type": "execute_result",
          "data": {
            "text/plain": [
              "array([[1. , 2. , 3.3],\n",
              "       [4. , 5. , 6.5]])"
            ]
          },
          "metadata": {},
          "execution_count": 240
        }
      ],
      "source": [
        "a2"
      ]
    },
    {
      "cell_type": "code",
      "execution_count": 241,
      "metadata": {
        "id": "CujaurwXB4NN",
        "outputId": "bb277a05-3995-4a3f-9f5f-4ceebd4e8c1d",
        "colab": {
          "base_uri": "https://localhost:8080/"
        }
      },
      "outputs": [
        {
          "output_type": "execute_result",
          "data": {
            "text/plain": [
              "array([[[ 1,  2,  3],\n",
              "        [ 4,  5,  6],\n",
              "        [ 7,  8,  9]],\n",
              "\n",
              "       [[10, 11, 12],\n",
              "        [13, 14, 15],\n",
              "        [16, 17, 18]]])"
            ]
          },
          "metadata": {},
          "execution_count": 241
        }
      ],
      "source": [
        "a3"
      ]
    },
    {
      "cell_type": "code",
      "execution_count": 242,
      "metadata": {
        "id": "K5rtgxeTB4NN",
        "outputId": "01880042-a5da-4098-c30f-aed1ef9b4c10",
        "colab": {
          "base_uri": "https://localhost:8080/"
        }
      },
      "outputs": [
        {
          "output_type": "execute_result",
          "data": {
            "text/plain": [
              "1"
            ]
          },
          "metadata": {},
          "execution_count": 242
        }
      ],
      "source": [
        "a1[0]"
      ]
    },
    {
      "cell_type": "code",
      "execution_count": 243,
      "metadata": {
        "id": "qJk0AZhPB4NN",
        "outputId": "a7323d40-5dd2-41eb-b5b3-22f1be5b3563",
        "colab": {
          "base_uri": "https://localhost:8080/"
        }
      },
      "outputs": [
        {
          "output_type": "execute_result",
          "data": {
            "text/plain": [
              "(2, 3)"
            ]
          },
          "metadata": {},
          "execution_count": 243
        }
      ],
      "source": [
        "a2.shape"
      ]
    },
    {
      "cell_type": "code",
      "execution_count": 244,
      "metadata": {
        "id": "-VdZEI7aB4NO",
        "outputId": "8a640ab7-f656-47ab-de97-942b5472c104",
        "colab": {
          "base_uri": "https://localhost:8080/"
        }
      },
      "outputs": [
        {
          "output_type": "execute_result",
          "data": {
            "text/plain": [
              "array([1. , 2. , 3.3])"
            ]
          },
          "metadata": {},
          "execution_count": 244
        }
      ],
      "source": [
        "a2[0]"
      ]
    },
    {
      "cell_type": "code",
      "execution_count": 245,
      "metadata": {
        "id": "2xygcUJcB4NO",
        "outputId": "053db9fc-a125-4386-b4e4-84e5f448e047",
        "colab": {
          "base_uri": "https://localhost:8080/"
        }
      },
      "outputs": [
        {
          "output_type": "execute_result",
          "data": {
            "text/plain": [
              "(2, 3, 3)"
            ]
          },
          "metadata": {},
          "execution_count": 245
        }
      ],
      "source": [
        "a3.shape"
      ]
    },
    {
      "cell_type": "code",
      "execution_count": 246,
      "metadata": {
        "id": "jAae9QOyB4NO",
        "outputId": "c5a0e7ea-ca05-4d6c-bfcf-5d25f002755e",
        "colab": {
          "base_uri": "https://localhost:8080/"
        }
      },
      "outputs": [
        {
          "output_type": "execute_result",
          "data": {
            "text/plain": [
              "array([[1, 2, 3],\n",
              "       [4, 5, 6],\n",
              "       [7, 8, 9]])"
            ]
          },
          "metadata": {},
          "execution_count": 246
        }
      ],
      "source": [
        "a3[0]"
      ]
    },
    {
      "cell_type": "code",
      "execution_count": 247,
      "metadata": {
        "id": "OoSGiI1tB4NO",
        "outputId": "8bbd93c7-f9d5-4e3c-c118-dd9af68e3521",
        "colab": {
          "base_uri": "https://localhost:8080/"
        }
      },
      "outputs": [
        {
          "output_type": "execute_result",
          "data": {
            "text/plain": [
              "array([[[ 1,  2,  3],\n",
              "        [ 4,  5,  6],\n",
              "        [ 7,  8,  9]],\n",
              "\n",
              "       [[10, 11, 12],\n",
              "        [13, 14, 15],\n",
              "        [16, 17, 18]]])"
            ]
          },
          "metadata": {},
          "execution_count": 247
        }
      ],
      "source": [
        "a3"
      ]
    },
    {
      "cell_type": "code",
      "execution_count": 248,
      "metadata": {
        "id": "We3ERftIB4NO",
        "outputId": "c5a66597-23b6-4170-8dfa-aba5dfd940ff",
        "colab": {
          "base_uri": "https://localhost:8080/"
        }
      },
      "outputs": [
        {
          "output_type": "execute_result",
          "data": {
            "text/plain": [
              "array([[1. , 2. , 3.3],\n",
              "       [4. , 5. , 6.5]])"
            ]
          },
          "metadata": {},
          "execution_count": 248
        }
      ],
      "source": [
        "a2"
      ]
    },
    {
      "cell_type": "code",
      "execution_count": 249,
      "metadata": {
        "id": "Q8t6jnr1B4NP",
        "outputId": "6637289f-6239-452b-cc78-034ed45df082",
        "colab": {
          "base_uri": "https://localhost:8080/"
        }
      },
      "outputs": [
        {
          "output_type": "execute_result",
          "data": {
            "text/plain": [
              "array([4. , 5. , 6.5])"
            ]
          },
          "metadata": {},
          "execution_count": 249
        }
      ],
      "source": [
        "a2[1]"
      ]
    },
    {
      "cell_type": "code",
      "execution_count": 250,
      "metadata": {
        "id": "4enZzPNFB4NP",
        "outputId": "a2973338-9968-4ade-d5ce-7391d65873d8",
        "colab": {
          "base_uri": "https://localhost:8080/"
        }
      },
      "outputs": [
        {
          "output_type": "execute_result",
          "data": {
            "text/plain": [
              "array([[[ 1,  2,  3],\n",
              "        [ 4,  5,  6],\n",
              "        [ 7,  8,  9]],\n",
              "\n",
              "       [[10, 11, 12],\n",
              "        [13, 14, 15],\n",
              "        [16, 17, 18]]])"
            ]
          },
          "metadata": {},
          "execution_count": 250
        }
      ],
      "source": [
        "a3"
      ]
    },
    {
      "cell_type": "code",
      "execution_count": 251,
      "metadata": {
        "id": "Cxj53CM8B4NP",
        "outputId": "2853bf77-a4c8-4eba-d4c4-13bdac40da81",
        "colab": {
          "base_uri": "https://localhost:8080/"
        }
      },
      "outputs": [
        {
          "output_type": "execute_result",
          "data": {
            "text/plain": [
              "(2, 3, 3)"
            ]
          },
          "metadata": {},
          "execution_count": 251
        }
      ],
      "source": [
        "a3.shape"
      ]
    },
    {
      "cell_type": "code",
      "execution_count": 252,
      "metadata": {
        "id": "yKuchWqHB4NP",
        "outputId": "be1f118c-49bd-456f-e1eb-fd085138905a",
        "colab": {
          "base_uri": "https://localhost:8080/"
        }
      },
      "outputs": [
        {
          "output_type": "execute_result",
          "data": {
            "text/plain": [
              "array([[[ 1,  2],\n",
              "        [ 4,  5]],\n",
              "\n",
              "       [[10, 11],\n",
              "        [13, 14]]])"
            ]
          },
          "metadata": {},
          "execution_count": 252
        }
      ],
      "source": [
        "a3[:2, :2, :2]"
      ]
    },
    {
      "cell_type": "code",
      "execution_count": 253,
      "metadata": {
        "id": "Xpe1RukvB4NQ",
        "outputId": "b6ddb426-4413-4561-9417-4f2481d4ba4d",
        "colab": {
          "base_uri": "https://localhost:8080/"
        }
      },
      "outputs": [
        {
          "output_type": "execute_result",
          "data": {
            "text/plain": [
              "array([[[[6, 7, 7, 9, 3],\n",
              "         [0, 7, 7, 7, 0],\n",
              "         [5, 4, 3, 1, 3],\n",
              "         [1, 3, 4, 3, 1]],\n",
              "\n",
              "        [[9, 5, 9, 1, 2],\n",
              "         [3, 2, 2, 5, 7],\n",
              "         [3, 0, 9, 9, 3],\n",
              "         [4, 5, 3, 0, 4]],\n",
              "\n",
              "        [[8, 6, 7, 2, 7],\n",
              "         [3, 8, 6, 6, 5],\n",
              "         [6, 5, 7, 1, 5],\n",
              "         [4, 4, 9, 9, 0]]],\n",
              "\n",
              "\n",
              "       [[[6, 2, 6, 8, 2],\n",
              "         [4, 1, 6, 1, 5],\n",
              "         [1, 6, 9, 8, 6],\n",
              "         [5, 9, 7, 5, 4]],\n",
              "\n",
              "        [[9, 6, 8, 1, 5],\n",
              "         [5, 8, 3, 7, 7],\n",
              "         [9, 4, 7, 5, 9],\n",
              "         [6, 2, 0, 5, 3]],\n",
              "\n",
              "        [[0, 5, 7, 1, 8],\n",
              "         [4, 9, 0, 2, 0],\n",
              "         [7, 6, 2, 9, 9],\n",
              "         [5, 1, 0, 0, 9]]]])"
            ]
          },
          "metadata": {},
          "execution_count": 253
        }
      ],
      "source": [
        "a4 = np.random.randint(10, size=(2, 3, 4, 5))\n",
        "a4"
      ]
    },
    {
      "cell_type": "code",
      "execution_count": 254,
      "metadata": {
        "id": "EzD7deGWB4NQ",
        "outputId": "4802596f-fd2d-4b66-dfd3-660891d96430",
        "colab": {
          "base_uri": "https://localhost:8080/"
        }
      },
      "outputs": [
        {
          "output_type": "execute_result",
          "data": {
            "text/plain": [
              "((2, 3, 4, 5), 4)"
            ]
          },
          "metadata": {},
          "execution_count": 254
        }
      ],
      "source": [
        "a4.shape, a4.ndim"
      ]
    },
    {
      "cell_type": "code",
      "execution_count": 255,
      "metadata": {
        "id": "2qDfP7fAB4NQ",
        "outputId": "01b00ddd-4f3b-4aa7-a793-e435dfdae281",
        "colab": {
          "base_uri": "https://localhost:8080/"
        }
      },
      "outputs": [
        {
          "output_type": "execute_result",
          "data": {
            "text/plain": [
              "array([[[[6],\n",
              "         [0],\n",
              "         [5],\n",
              "         [1]],\n",
              "\n",
              "        [[9],\n",
              "         [3],\n",
              "         [3],\n",
              "         [4]],\n",
              "\n",
              "        [[8],\n",
              "         [3],\n",
              "         [6],\n",
              "         [4]]],\n",
              "\n",
              "\n",
              "       [[[6],\n",
              "         [4],\n",
              "         [1],\n",
              "         [5]],\n",
              "\n",
              "        [[9],\n",
              "         [5],\n",
              "         [9],\n",
              "         [6]],\n",
              "\n",
              "        [[0],\n",
              "         [4],\n",
              "         [7],\n",
              "         [5]]]])"
            ]
          },
          "metadata": {},
          "execution_count": 255
        }
      ],
      "source": [
        "# Get the first 4 numbers of the inner most arrays\n",
        "a4[:, :, :, :1]"
      ]
    },
    {
      "cell_type": "markdown",
      "metadata": {
        "id": "OtL-88IhB4NQ"
      },
      "source": [
        "## 4. Manipulating & comparing arrays"
      ]
    },
    {
      "cell_type": "markdown",
      "metadata": {
        "id": "Qf58FJYdB4NQ"
      },
      "source": [
        "### Arithmetic"
      ]
    },
    {
      "cell_type": "code",
      "execution_count": 256,
      "metadata": {
        "id": "aWcC57lAB4NR",
        "outputId": "4195795d-604b-4669-9a05-38a107f130e2",
        "colab": {
          "base_uri": "https://localhost:8080/"
        }
      },
      "outputs": [
        {
          "output_type": "execute_result",
          "data": {
            "text/plain": [
              "array([1, 2, 3])"
            ]
          },
          "metadata": {},
          "execution_count": 256
        }
      ],
      "source": [
        "a1"
      ]
    },
    {
      "cell_type": "code",
      "execution_count": 257,
      "metadata": {
        "id": "Y4goL-MBB4NR",
        "outputId": "d4111511-420d-4a6b-ffd0-ca430f2328bd",
        "colab": {
          "base_uri": "https://localhost:8080/"
        }
      },
      "outputs": [
        {
          "output_type": "execute_result",
          "data": {
            "text/plain": [
              "array([1., 1., 1.])"
            ]
          },
          "metadata": {},
          "execution_count": 257
        }
      ],
      "source": [
        "ones = np.ones(3)\n",
        "ones"
      ]
    },
    {
      "cell_type": "code",
      "execution_count": 258,
      "metadata": {
        "id": "8FwrJ1yzB4NR",
        "outputId": "c785fd48-fcb3-4d4f-e575-e156c8438d26",
        "colab": {
          "base_uri": "https://localhost:8080/"
        }
      },
      "outputs": [
        {
          "output_type": "execute_result",
          "data": {
            "text/plain": [
              "array([2., 3., 4.])"
            ]
          },
          "metadata": {},
          "execution_count": 258
        }
      ],
      "source": [
        "a1 + ones"
      ]
    },
    {
      "cell_type": "code",
      "execution_count": 259,
      "metadata": {
        "id": "Sf6_qzDCB4NR",
        "outputId": "2a8da684-88f5-4660-cf7d-d475795a4360",
        "colab": {
          "base_uri": "https://localhost:8080/"
        }
      },
      "outputs": [
        {
          "output_type": "execute_result",
          "data": {
            "text/plain": [
              "array([0., 1., 2.])"
            ]
          },
          "metadata": {},
          "execution_count": 259
        }
      ],
      "source": [
        "a1 - ones"
      ]
    },
    {
      "cell_type": "code",
      "execution_count": 260,
      "metadata": {
        "id": "erupB0IaB4NR",
        "outputId": "9a76c563-0c01-4218-f75b-5c2ff12a07b4",
        "colab": {
          "base_uri": "https://localhost:8080/"
        }
      },
      "outputs": [
        {
          "output_type": "execute_result",
          "data": {
            "text/plain": [
              "array([1., 2., 3.])"
            ]
          },
          "metadata": {},
          "execution_count": 260
        }
      ],
      "source": [
        "a1 * ones"
      ]
    },
    {
      "cell_type": "code",
      "execution_count": 261,
      "metadata": {
        "id": "rHzBNuafB4NR",
        "outputId": "633cfda7-60d0-4fcb-9461-88748290a4fd",
        "colab": {
          "base_uri": "https://localhost:8080/"
        }
      },
      "outputs": [
        {
          "output_type": "execute_result",
          "data": {
            "text/plain": [
              "array([1, 2, 3])"
            ]
          },
          "metadata": {},
          "execution_count": 261
        }
      ],
      "source": [
        "a1"
      ]
    },
    {
      "cell_type": "code",
      "execution_count": 262,
      "metadata": {
        "id": "YrrPVuuIB4NS",
        "outputId": "f1723cb6-8cf9-4f25-e37c-727adabf56a3",
        "colab": {
          "base_uri": "https://localhost:8080/"
        }
      },
      "outputs": [
        {
          "output_type": "execute_result",
          "data": {
            "text/plain": [
              "array([[1. , 2. , 3.3],\n",
              "       [4. , 5. , 6.5]])"
            ]
          },
          "metadata": {},
          "execution_count": 262
        }
      ],
      "source": [
        "a2"
      ]
    },
    {
      "cell_type": "code",
      "execution_count": 263,
      "metadata": {
        "id": "xqbZrL7tB4NS",
        "outputId": "f29de69f-c8db-4d25-9cb0-7221ac5687b1",
        "colab": {
          "base_uri": "https://localhost:8080/"
        }
      },
      "outputs": [
        {
          "output_type": "execute_result",
          "data": {
            "text/plain": [
              "array([[ 1. ,  4. ,  9.9],\n",
              "       [ 4. , 10. , 19.5]])"
            ]
          },
          "metadata": {},
          "execution_count": 263
        }
      ],
      "source": [
        "a1 * a2"
      ]
    },
    {
      "cell_type": "code",
      "execution_count": 264,
      "metadata": {
        "id": "lXE_qDIIB4NS",
        "outputId": "064cf9a2-fabe-433d-8d32-c660302f83e9",
        "colab": {
          "base_uri": "https://localhost:8080/"
        }
      },
      "outputs": [
        {
          "output_type": "execute_result",
          "data": {
            "text/plain": [
              "array([[[ 1,  2,  3],\n",
              "        [ 4,  5,  6],\n",
              "        [ 7,  8,  9]],\n",
              "\n",
              "       [[10, 11, 12],\n",
              "        [13, 14, 15],\n",
              "        [16, 17, 18]]])"
            ]
          },
          "metadata": {},
          "execution_count": 264
        }
      ],
      "source": [
        "a3"
      ]
    },
    {
      "cell_type": "code",
      "execution_count": 266,
      "metadata": {
        "id": "els5YiiAB4NS",
        "outputId": "4d5bc187-65af-491d-a1e7-1978b2194244",
        "colab": {
          "base_uri": "https://localhost:8080/"
        }
      },
      "outputs": [
        {
          "output_type": "stream",
          "name": "stdout",
          "text": [
            "[[[  1.    2.    3. ]\n",
            "  [  8.   10.   12. ]\n",
            "  [ 23.1  26.4  29.7]]\n",
            "\n",
            " [[ 40.   44.   48. ]\n",
            "  [ 65.   70.   75. ]\n",
            "  [104.  110.5 117. ]]]\n"
          ]
        }
      ],
      "source": [
        "# How can you reshape a2 to be compatible with a3?\n",
        "# Search: \"How to reshape numpy array\"\n",
        "\n",
        "import numpy as np  # Import NumPy for array manipulation\n",
        "\n",
        "# Reshape a2 to be compatible with a3 for broadcasting\n",
        "a2_reshaped = a2[:,:, np.newaxis]  # Add a new axis to a2\n",
        "\n",
        "# Now you can perform the multiplication\n",
        "result = a2_reshaped * a3\n",
        "\n",
        "print(result)"
      ]
    },
    {
      "cell_type": "markdown",
      "source": [
        "Let's break down the expression a2[:,:, np.newaxis]:\n",
        "\n",
        "Understanding Array Slicing and np.newaxis\n",
        "\n",
        "Array Slicing: In NumPy, you can extract portions of an array using slicing. The general syntax is array[start:stop:step]. When you use colons without specifying start and stop indices, it selects all elements along that dimension.\n",
        "np.newaxis: This is a special object in NumPy that, when used in array indexing, adds a new dimension (axis) to the array.\n",
        "Putting it Together\n",
        "\n",
        "a2[:,:]: This selects all rows and all columns of the array a2. Essentially, it's a way to reference the entire a2 array without modifying it.\n",
        "\n",
        "np.newaxis: By placing np.newaxis as the third index (a2[:,:,np.newaxis]), you're instructing NumPy to insert a new axis along the third dimension (depth).\n",
        "\n",
        "Effect on Shape\n",
        "\n",
        "Let's say a2 originally has the shape (2, 3) (2 rows, 3 columns). After using a2[:,:, np.newaxis], the shape becomes (2, 3, 1) (2 rows, 3 columns, 1 depth). This effectively transforms the 2D array into a 3D array with a single element along the depth dimension.\n",
        "\n",
        "Why This Matters for Broadcasting\n",
        "\n",
        "Broadcasting in NumPy allows arithmetic operations between arrays with different shapes under certain conditions. One of those conditions is that dimensions must either be equal or one of them must be 1. By adding a new axis to a2 and making its depth 1, you enable broadcasting with a3, which has a depth of 3.\n",
        "\n",
        "Let me know if you have any further questions or would like more clarification!"
      ],
      "metadata": {
        "id": "VxOjOJAuGP3M"
      }
    },
    {
      "cell_type": "code",
      "execution_count": null,
      "metadata": {
        "id": "owRgOkQHB4NT"
      },
      "outputs": [],
      "source": [
        "a1 / ones"
      ]
    },
    {
      "cell_type": "code",
      "execution_count": null,
      "metadata": {
        "id": "WhKlTcH8B4NT"
      },
      "outputs": [],
      "source": [
        "a2 / a1"
      ]
    },
    {
      "cell_type": "code",
      "execution_count": null,
      "metadata": {
        "id": "NTZKabR4B4NT"
      },
      "outputs": [],
      "source": [
        "# Floor division removes the decimals (rounds down)\n",
        "a2 // a1"
      ]
    },
    {
      "cell_type": "code",
      "execution_count": null,
      "metadata": {
        "id": "iAqzu58eB4NT"
      },
      "outputs": [],
      "source": [
        "a2"
      ]
    },
    {
      "cell_type": "code",
      "execution_count": null,
      "metadata": {
        "id": "qiM0IvgSB4NT"
      },
      "outputs": [],
      "source": [
        "a2 ** 2"
      ]
    },
    {
      "cell_type": "code",
      "execution_count": null,
      "metadata": {
        "id": "C1V90OonB4NT"
      },
      "outputs": [],
      "source": [
        "np.square(a2)"
      ]
    },
    {
      "cell_type": "code",
      "execution_count": null,
      "metadata": {
        "id": "1Sn9gg_TB4NU"
      },
      "outputs": [],
      "source": [
        "a1 + ones"
      ]
    },
    {
      "cell_type": "code",
      "execution_count": null,
      "metadata": {
        "id": "jprvxRQsB4NU"
      },
      "outputs": [],
      "source": [
        "np.add(a1, ones)"
      ]
    },
    {
      "cell_type": "code",
      "execution_count": null,
      "metadata": {
        "id": "ZOHPdH9CB4NU"
      },
      "outputs": [],
      "source": [
        "a1 % 2"
      ]
    },
    {
      "cell_type": "code",
      "execution_count": null,
      "metadata": {
        "id": "AF-W4pW9B4NU"
      },
      "outputs": [],
      "source": [
        "a1 / 2"
      ]
    },
    {
      "cell_type": "code",
      "execution_count": null,
      "metadata": {
        "id": "hgm0PrhDB4NU"
      },
      "outputs": [],
      "source": [
        "a2 % 2"
      ]
    },
    {
      "cell_type": "code",
      "execution_count": null,
      "metadata": {
        "id": "fF5t-WuJB4NV"
      },
      "outputs": [],
      "source": [
        "np.exp(a1)"
      ]
    },
    {
      "cell_type": "code",
      "execution_count": null,
      "metadata": {
        "id": "DXMDYtfoB4NV"
      },
      "outputs": [],
      "source": [
        "np.log(a1)"
      ]
    },
    {
      "cell_type": "markdown",
      "metadata": {
        "id": "hLkL95chB4NV"
      },
      "source": [
        "### Aggregation\n",
        "\n",
        "Aggregation = performing the same operation on a number of things"
      ]
    },
    {
      "cell_type": "code",
      "execution_count": null,
      "metadata": {
        "id": "7Mx6z73FB4NV"
      },
      "outputs": [],
      "source": [
        "listy_list = [1, 2, 3]\n",
        "type(listy_list)"
      ]
    },
    {
      "cell_type": "code",
      "execution_count": null,
      "metadata": {
        "id": "qJe30lfOB4NW"
      },
      "outputs": [],
      "source": [
        "sum(listy_list)"
      ]
    },
    {
      "cell_type": "code",
      "execution_count": null,
      "metadata": {
        "id": "TTmOUtmQB4NW"
      },
      "outputs": [],
      "source": [
        "sum(a1)"
      ]
    },
    {
      "cell_type": "code",
      "execution_count": null,
      "metadata": {
        "id": "zoHRFK-LB4NW"
      },
      "outputs": [],
      "source": [
        "np.sum(a1)"
      ]
    },
    {
      "cell_type": "markdown",
      "metadata": {
        "id": "OfSX4QePB4NW"
      },
      "source": [
        "Use Python's methods (`sum()`) on Python datatypes and use NumPy's methods on NumPy arrays (`np.sum()`)."
      ]
    },
    {
      "cell_type": "code",
      "execution_count": null,
      "metadata": {
        "id": "ZynkPtkMB4NW"
      },
      "outputs": [],
      "source": [
        "# Creative a massive NumPy array\n",
        "massive_array = np.random.random(100000)\n",
        "massive_array.size"
      ]
    },
    {
      "cell_type": "code",
      "execution_count": null,
      "metadata": {
        "id": "GGRSmIIjB4NW"
      },
      "outputs": [],
      "source": [
        "massive_array[:10]"
      ]
    },
    {
      "cell_type": "code",
      "execution_count": null,
      "metadata": {
        "id": "lr9N0_3zB4NX"
      },
      "outputs": [],
      "source": [
        "%timeit sum(massive_array) # Python's sum()\n",
        "%timeit np.sum(massive_array) # NumPy's np.sum()"
      ]
    },
    {
      "cell_type": "code",
      "execution_count": null,
      "metadata": {
        "id": "f_iPnXixB4NX"
      },
      "outputs": [],
      "source": [
        "17900 / 34"
      ]
    },
    {
      "cell_type": "code",
      "execution_count": null,
      "metadata": {
        "id": "Wx2iUFZAB4NX"
      },
      "outputs": [],
      "source": [
        "a2"
      ]
    },
    {
      "cell_type": "code",
      "execution_count": null,
      "metadata": {
        "id": "Tl-_DvFRB4NX"
      },
      "outputs": [],
      "source": [
        "np.mean(a2)"
      ]
    },
    {
      "cell_type": "code",
      "execution_count": null,
      "metadata": {
        "id": "y8BBDsT9B4NX"
      },
      "outputs": [],
      "source": [
        "np.max(a2)"
      ]
    },
    {
      "cell_type": "code",
      "execution_count": null,
      "metadata": {
        "id": "HA7WV29mB4NY"
      },
      "outputs": [],
      "source": [
        "np.min(a2)"
      ]
    },
    {
      "cell_type": "markdown",
      "metadata": {
        "id": "PYgJjaGJB4NY"
      },
      "source": [
        "**Standard deviation** and **variance** are measures of 'spread' of data.\n",
        "\n",
        "The higher standard deviation and the higher variance of data, the more spread out the values are.\n",
        "\n",
        "The lower standard deviation and lower variance, the less spread out the values are."
      ]
    },
    {
      "cell_type": "code",
      "execution_count": null,
      "metadata": {
        "id": "p5Ei20KRB4NY"
      },
      "outputs": [],
      "source": [
        "# Standard deviation = a measure of how spread out a group of numbers is from the mean\n",
        "np.std(a2)"
      ]
    },
    {
      "cell_type": "code",
      "execution_count": null,
      "metadata": {
        "scrolled": true,
        "id": "0ECVD8GkB4NY"
      },
      "outputs": [],
      "source": [
        "# Variance = measure of the average degree to which each number is different to the mean\n",
        "# Higher variance = wider range of numbers\n",
        "# Lower variance = lower range of numbers\n",
        "np.var(a2)"
      ]
    },
    {
      "cell_type": "code",
      "execution_count": null,
      "metadata": {
        "id": "pre5sVvAB4NY"
      },
      "outputs": [],
      "source": [
        "# Standard deviation = squareroot of variance\n",
        "np.sqrt(np.var(a2))"
      ]
    },
    {
      "cell_type": "code",
      "execution_count": null,
      "metadata": {
        "id": "TtmZaGBRB4NZ"
      },
      "outputs": [],
      "source": [
        "# Demo of std and var\n",
        "high_var_array = np.array([1, 100, 200, 300, 4000, 5000])\n",
        "low_var_array = np.array([2, 4, 6, 8, 10])"
      ]
    },
    {
      "cell_type": "code",
      "execution_count": null,
      "metadata": {
        "id": "hd10iExoB4NZ"
      },
      "outputs": [],
      "source": [
        "np.var(high_var_array), np.var(low_var_array)"
      ]
    },
    {
      "cell_type": "code",
      "execution_count": null,
      "metadata": {
        "id": "B0j5qKT8B4NZ"
      },
      "outputs": [],
      "source": [
        "np.std(high_var_array), np.std(low_var_array)"
      ]
    },
    {
      "cell_type": "code",
      "execution_count": null,
      "metadata": {
        "id": "OeTJ1UNZB4NZ"
      },
      "outputs": [],
      "source": [
        "np.mean(high_var_array), np.mean(low_var_array)"
      ]
    },
    {
      "cell_type": "code",
      "execution_count": null,
      "metadata": {
        "id": "UFwtbIKkB4NZ"
      },
      "outputs": [],
      "source": [
        "%matplotlib inline\n",
        "import matplotlib.pyplot as plt\n",
        "plt.hist(high_var_array)\n",
        "plt.show()"
      ]
    },
    {
      "cell_type": "code",
      "execution_count": null,
      "metadata": {
        "id": "LLrj29P7B4Na"
      },
      "outputs": [],
      "source": [
        "plt.hist(low_var_array)\n",
        "plt.show()"
      ]
    },
    {
      "cell_type": "markdown",
      "metadata": {
        "id": "8UMulri_B4Na"
      },
      "source": [
        "### Reshaping & transposing"
      ]
    },
    {
      "cell_type": "code",
      "execution_count": null,
      "metadata": {
        "id": "M-tQOBN5B4Na"
      },
      "outputs": [],
      "source": [
        "a2"
      ]
    },
    {
      "cell_type": "code",
      "execution_count": null,
      "metadata": {
        "id": "6qsLSYJAB4Na"
      },
      "outputs": [],
      "source": [
        "a2.shape"
      ]
    },
    {
      "cell_type": "code",
      "execution_count": null,
      "metadata": {
        "id": "ictIUZWcB4Na"
      },
      "outputs": [],
      "source": [
        "a3"
      ]
    },
    {
      "cell_type": "code",
      "execution_count": null,
      "metadata": {
        "id": "z9aTM6CdB4Na"
      },
      "outputs": [],
      "source": [
        "a3.shape"
      ]
    },
    {
      "cell_type": "code",
      "execution_count": null,
      "metadata": {
        "id": "3e5rJUW4B4Nb"
      },
      "outputs": [],
      "source": [
        "a2 * a3"
      ]
    },
    {
      "cell_type": "code",
      "execution_count": null,
      "metadata": {
        "id": "9IeHH0KQB4Nb"
      },
      "outputs": [],
      "source": [
        "a2.shape"
      ]
    },
    {
      "cell_type": "code",
      "execution_count": null,
      "metadata": {
        "id": "dBgBBC-CB4Nb"
      },
      "outputs": [],
      "source": [
        "a2.reshape(2, 3, 1).shape"
      ]
    },
    {
      "cell_type": "code",
      "execution_count": null,
      "metadata": {
        "id": "cc-RG1ByB4Nb"
      },
      "outputs": [],
      "source": [
        "a3.shape"
      ]
    },
    {
      "cell_type": "code",
      "execution_count": null,
      "metadata": {
        "id": "UdlRNr8UB4Nb"
      },
      "outputs": [],
      "source": [
        "a2_reshape = a2.reshape(2, 3, 1)\n",
        "a2_reshape"
      ]
    },
    {
      "cell_type": "code",
      "execution_count": null,
      "metadata": {
        "id": "9JW7i9jMB4Nb"
      },
      "outputs": [],
      "source": [
        "a2_reshape * a3"
      ]
    },
    {
      "cell_type": "code",
      "execution_count": null,
      "metadata": {
        "id": "7oQb8SlkB4Nc"
      },
      "outputs": [],
      "source": [
        "a2"
      ]
    },
    {
      "cell_type": "code",
      "execution_count": null,
      "metadata": {
        "id": "76M7wdR8B4Nc"
      },
      "outputs": [],
      "source": [
        "a2.shape"
      ]
    },
    {
      "cell_type": "code",
      "execution_count": null,
      "metadata": {
        "id": "i2QiSb-sB4Nc"
      },
      "outputs": [],
      "source": [
        "# Transpose = switches the axis'\n",
        "a2.T"
      ]
    },
    {
      "cell_type": "code",
      "execution_count": null,
      "metadata": {
        "id": "ZhYkZfH-B4Nc"
      },
      "outputs": [],
      "source": [
        "a2.T.shape"
      ]
    },
    {
      "cell_type": "code",
      "execution_count": null,
      "metadata": {
        "id": "CMnbjoHHB4Nc"
      },
      "outputs": [],
      "source": [
        "a3"
      ]
    },
    {
      "cell_type": "code",
      "execution_count": null,
      "metadata": {
        "id": "m6CuReLMB4Nd"
      },
      "outputs": [],
      "source": [
        "a3.shape"
      ]
    },
    {
      "cell_type": "code",
      "execution_count": null,
      "metadata": {
        "id": "M3k5Iwq1B4Nd"
      },
      "outputs": [],
      "source": [
        "a3.T"
      ]
    },
    {
      "cell_type": "code",
      "execution_count": null,
      "metadata": {
        "id": "R6ggwuaxB4Nd"
      },
      "outputs": [],
      "source": [
        "a3.T.shape"
      ]
    },
    {
      "cell_type": "markdown",
      "metadata": {
        "id": "qoksusGBB4Nd"
      },
      "source": [
        "## Dot product"
      ]
    },
    {
      "cell_type": "code",
      "execution_count": null,
      "metadata": {
        "id": "fuZoIL3iB4Ne"
      },
      "outputs": [],
      "source": [
        "np.random.seed(0)\n",
        "\n",
        "mat1 = np.random.randint(10, size=(5, 3))\n",
        "mat2 = np.random.randint(10, size=(5, 3))\n",
        "\n",
        "mat1"
      ]
    },
    {
      "cell_type": "code",
      "execution_count": null,
      "metadata": {
        "id": "uzqrsuKlB4Ne"
      },
      "outputs": [],
      "source": [
        "mat2"
      ]
    },
    {
      "cell_type": "code",
      "execution_count": null,
      "metadata": {
        "id": "j3RGAhKqB4Ne"
      },
      "outputs": [],
      "source": [
        "mat1.shape, mat2.shape"
      ]
    },
    {
      "cell_type": "code",
      "execution_count": null,
      "metadata": {
        "id": "ici19H78B4Ne"
      },
      "outputs": [],
      "source": [
        "mat1"
      ]
    },
    {
      "cell_type": "code",
      "execution_count": null,
      "metadata": {
        "id": "qYF6NkZBB4Ne"
      },
      "outputs": [],
      "source": [
        "mat2"
      ]
    },
    {
      "cell_type": "code",
      "execution_count": null,
      "metadata": {
        "id": "ooOVs_mtB4Ne"
      },
      "outputs": [],
      "source": [
        "# Element-wise multiplication (Hadamard product)\n",
        "mat1 * mat2"
      ]
    },
    {
      "cell_type": "code",
      "execution_count": null,
      "metadata": {
        "id": "4iaDhaCtB4Nf"
      },
      "outputs": [],
      "source": [
        "# Dot product\n",
        "np.dot(mat1, mat2)"
      ]
    },
    {
      "cell_type": "code",
      "execution_count": null,
      "metadata": {
        "id": "65xoVGHdB4Nf"
      },
      "outputs": [],
      "source": [
        "# Transpose mat1\n",
        "mat1.T"
      ]
    },
    {
      "cell_type": "code",
      "execution_count": null,
      "metadata": {
        "id": "t6OHD-6PB4Nf"
      },
      "outputs": [],
      "source": [
        "mat1.shape, mat2.T.shape"
      ]
    },
    {
      "cell_type": "code",
      "execution_count": null,
      "metadata": {
        "id": "iNjhjPjWB4Nf"
      },
      "outputs": [],
      "source": [
        "mat3 = np.dot(mat1, mat2.T)\n",
        "mat3"
      ]
    },
    {
      "cell_type": "code",
      "execution_count": null,
      "metadata": {
        "id": "8HeJGAqcB4Nf"
      },
      "outputs": [],
      "source": [
        "mat3.shape"
      ]
    },
    {
      "cell_type": "markdown",
      "metadata": {
        "id": "ckwufk3LB4Ng"
      },
      "source": [
        "### Dot product exmaple (nut butter sales)"
      ]
    },
    {
      "cell_type": "code",
      "execution_count": null,
      "metadata": {
        "id": "5L-SzBvPB4Ng"
      },
      "outputs": [],
      "source": [
        "np.random.seed(0)\n",
        "# Number of jars sold\n",
        "sales_amounts = np.random.randint(20, size=(5,3))\n",
        "sales_amounts"
      ]
    },
    {
      "cell_type": "code",
      "execution_count": null,
      "metadata": {
        "id": "TIUY_uzmB4Ng"
      },
      "outputs": [],
      "source": [
        "# Create weekly_sales DataFrame\n",
        "weekly_sales = pd.DataFrame(sales_amounts,\n",
        "                            index=[\"Mon\", \"Tues\", \"Wed\", \"Thurs\", \"Fri\"],\n",
        "                            columns=[\"Almond butter\", \"Peanut butter\", \"Cashew butter\"])\n",
        "weekly_sales"
      ]
    },
    {
      "cell_type": "code",
      "execution_count": null,
      "metadata": {
        "id": "O4K1HU5uB4Ng"
      },
      "outputs": [],
      "source": [
        "# Create prices array\n",
        "prices = np.array([10, 8, 12])\n",
        "prices"
      ]
    },
    {
      "cell_type": "code",
      "execution_count": null,
      "metadata": {
        "id": "4qnrXrVnB4Ng"
      },
      "outputs": [],
      "source": [
        "prices.shape"
      ]
    },
    {
      "cell_type": "code",
      "execution_count": 199,
      "metadata": {
        "id": "0z3L3cJ4B4Nh",
        "outputId": "14c807b1-13ae-4233-d32a-75f92716e216",
        "colab": {
          "base_uri": "https://localhost:8080/",
          "height": 211
        }
      },
      "outputs": [
        {
          "output_type": "error",
          "ename": "NameError",
          "evalue": "name 'prices' is not defined",
          "traceback": [
            "\u001b[0;31m---------------------------------------------------------------------------\u001b[0m",
            "\u001b[0;31mNameError\u001b[0m                                 Traceback (most recent call last)",
            "\u001b[0;32m<ipython-input-199-d339fd3f15a9>\u001b[0m in \u001b[0;36m<cell line: 2>\u001b[0;34m()\u001b[0m\n\u001b[1;32m      1\u001b[0m \u001b[0;31m# Create butter_prices DataFrame\u001b[0m\u001b[0;34m\u001b[0m\u001b[0;34m\u001b[0m\u001b[0m\n\u001b[0;32m----> 2\u001b[0;31m butter_prices = pd.DataFrame(prices.reshape(1, 3),\n\u001b[0m\u001b[1;32m      3\u001b[0m                              \u001b[0mindex\u001b[0m\u001b[0;34m=\u001b[0m\u001b[0;34m[\u001b[0m\u001b[0;34m\"Price\"\u001b[0m\u001b[0;34m]\u001b[0m\u001b[0;34m,\u001b[0m\u001b[0;34m\u001b[0m\u001b[0;34m\u001b[0m\u001b[0m\n\u001b[1;32m      4\u001b[0m                              columns=[\"Almond butter\", \"Peanut butter\", \"Cashew butter\"])\n\u001b[1;32m      5\u001b[0m \u001b[0mbutter_prices\u001b[0m\u001b[0;34m\u001b[0m\u001b[0;34m\u001b[0m\u001b[0m\n",
            "\u001b[0;31mNameError\u001b[0m: name 'prices' is not defined"
          ]
        }
      ],
      "source": [
        "# Create butter_prices DataFrame\n",
        "butter_prices = pd.DataFrame(prices.reshape(1, 3),\n",
        "                             index=[\"Price\"],\n",
        "                             columns=[\"Almond butter\", \"Peanut butter\", \"Cashew butter\"])\n",
        "butter_prices"
      ]
    },
    {
      "cell_type": "code",
      "execution_count": null,
      "metadata": {
        "id": "4JwA0vzrB4Nh"
      },
      "outputs": [],
      "source": [
        "prices.shape"
      ]
    },
    {
      "cell_type": "code",
      "execution_count": null,
      "metadata": {
        "id": "QxRYjdP9B4Nh"
      },
      "outputs": [],
      "source": [
        "sales_amounts.shape"
      ]
    },
    {
      "cell_type": "code",
      "execution_count": null,
      "metadata": {
        "id": "KR3ln_AFB4Nh"
      },
      "outputs": [],
      "source": [
        "total_sales = prices.dot(sales_amounts)"
      ]
    },
    {
      "cell_type": "code",
      "execution_count": null,
      "metadata": {
        "id": "hYqAItWrB4Nh"
      },
      "outputs": [],
      "source": [
        "# Shape aren't aligned, let's transpose\n",
        "total_sales = prices.dot(sales_amounts.T)\n",
        "total_sales"
      ]
    },
    {
      "cell_type": "code",
      "execution_count": null,
      "metadata": {
        "id": "uw7rPHg-B4Nh"
      },
      "outputs": [],
      "source": [
        "# Create daily_sales\n",
        "butter_prices.shape, weekly_sales.shape"
      ]
    },
    {
      "cell_type": "code",
      "execution_count": null,
      "metadata": {
        "id": "YStXTjh3B4Ni"
      },
      "outputs": [],
      "source": [
        "weekly_sales.T.shape"
      ]
    },
    {
      "cell_type": "code",
      "execution_count": null,
      "metadata": {
        "id": "5U0Ek0WuB4Ni"
      },
      "outputs": [],
      "source": [
        "daily_sales = butter_prices.dot(weekly_sales.T)\n",
        "daily_sales.shape"
      ]
    },
    {
      "cell_type": "code",
      "execution_count": null,
      "metadata": {
        "id": "7Ibu5gJsB4Ni"
      },
      "outputs": [],
      "source": [
        "weekly_sales.shape"
      ]
    },
    {
      "cell_type": "code",
      "execution_count": null,
      "metadata": {
        "id": "-1Wns0pvB4Ni"
      },
      "outputs": [],
      "source": [
        "weekly_sales"
      ]
    },
    {
      "cell_type": "code",
      "execution_count": 131,
      "metadata": {
        "id": "s-qirYfWB4Ni",
        "outputId": "63b839fd-0485-48d6-dd87-740fe4d08433",
        "colab": {
          "base_uri": "https://localhost:8080/",
          "height": 176
        }
      },
      "outputs": [
        {
          "output_type": "error",
          "ename": "NameError",
          "evalue": "name 'daily_sales' is not defined",
          "traceback": [
            "\u001b[0;31m---------------------------------------------------------------------------\u001b[0m",
            "\u001b[0;31mNameError\u001b[0m                                 Traceback (most recent call last)",
            "\u001b[0;32m<ipython-input-131-6cf746dcf15e>\u001b[0m in \u001b[0;36m<cell line: 2>\u001b[0;34m()\u001b[0m\n\u001b[1;32m      1\u001b[0m \u001b[0;31m# Doesn't work, not the right shape\u001b[0m\u001b[0;34m\u001b[0m\u001b[0;34m\u001b[0m\u001b[0m\n\u001b[0;32m----> 2\u001b[0;31m \u001b[0mweekly_sales\u001b[0m\u001b[0;34m[\u001b[0m\u001b[0;34m\"Total ($)\"\u001b[0m\u001b[0;34m]\u001b[0m \u001b[0;34m=\u001b[0m \u001b[0mdaily_sales\u001b[0m\u001b[0;34m\u001b[0m\u001b[0;34m\u001b[0m\u001b[0m\n\u001b[0m\u001b[1;32m      3\u001b[0m \u001b[0mweekly_sales\u001b[0m\u001b[0;34m\u001b[0m\u001b[0;34m\u001b[0m\u001b[0m\n",
            "\u001b[0;31mNameError\u001b[0m: name 'daily_sales' is not defined"
          ]
        }
      ],
      "source": [
        "# Doesn't work, not the right shape\n",
        "weekly_sales[\"Total ($)\"] = daily_sales\n",
        "weekly_sales"
      ]
    },
    {
      "cell_type": "code",
      "execution_count": null,
      "metadata": {
        "id": "JiCgdutXB4Ni",
        "outputId": "41dcfc6f-5e39-4d49-c29a-6cc6f97528ab"
      },
      "outputs": [
        {
          "data": {
            "text/html": [
              "<div>\n",
              "<style scoped>\n",
              "    .dataframe tbody tr th:only-of-type {\n",
              "        vertical-align: middle;\n",
              "    }\n",
              "\n",
              "    .dataframe tbody tr th {\n",
              "        vertical-align: top;\n",
              "    }\n",
              "\n",
              "    .dataframe thead th {\n",
              "        text-align: right;\n",
              "    }\n",
              "</style>\n",
              "<table border=\"1\" class=\"dataframe\">\n",
              "  <thead>\n",
              "    <tr style=\"text-align: right;\">\n",
              "      <th></th>\n",
              "      <th>Almond butter</th>\n",
              "      <th>Peanut butter</th>\n",
              "      <th>Cashew butter</th>\n",
              "      <th>Total ($)</th>\n",
              "    </tr>\n",
              "  </thead>\n",
              "  <tbody>\n",
              "    <tr>\n",
              "      <td>Mon</td>\n",
              "      <td>12</td>\n",
              "      <td>15</td>\n",
              "      <td>0</td>\n",
              "      <td>240</td>\n",
              "    </tr>\n",
              "    <tr>\n",
              "      <td>Tues</td>\n",
              "      <td>3</td>\n",
              "      <td>3</td>\n",
              "      <td>7</td>\n",
              "      <td>138</td>\n",
              "    </tr>\n",
              "    <tr>\n",
              "      <td>Wed</td>\n",
              "      <td>9</td>\n",
              "      <td>19</td>\n",
              "      <td>18</td>\n",
              "      <td>458</td>\n",
              "    </tr>\n",
              "    <tr>\n",
              "      <td>Thurs</td>\n",
              "      <td>4</td>\n",
              "      <td>6</td>\n",
              "      <td>12</td>\n",
              "      <td>232</td>\n",
              "    </tr>\n",
              "    <tr>\n",
              "      <td>Fri</td>\n",
              "      <td>1</td>\n",
              "      <td>6</td>\n",
              "      <td>7</td>\n",
              "      <td>142</td>\n",
              "    </tr>\n",
              "  </tbody>\n",
              "</table>\n",
              "</div>"
            ],
            "text/plain": [
              "       Almond butter  Peanut butter  Cashew butter  Total ($)\n",
              "Mon               12             15              0        240\n",
              "Tues               3              3              7        138\n",
              "Wed                9             19             18        458\n",
              "Thurs              4              6             12        232\n",
              "Fri                1              6              7        142"
            ]
          },
          "execution_count": 294,
          "metadata": {},
          "output_type": "execute_result"
        }
      ],
      "source": [
        "weekly_sales[\"Total ($)\"] = daily_sales.T\n",
        "weekly_sales"
      ]
    },
    {
      "cell_type": "markdown",
      "metadata": {
        "id": "cjNXoIiKB4Nj"
      },
      "source": [
        "### Comparison Operators"
      ]
    },
    {
      "cell_type": "code",
      "execution_count": null,
      "metadata": {
        "id": "tJEYTvwFB4Nj",
        "outputId": "47825dc5-6d3e-4b97-aee8-cd1c265da86d"
      },
      "outputs": [
        {
          "data": {
            "text/plain": [
              "array([1, 2, 3])"
            ]
          },
          "execution_count": 295,
          "metadata": {},
          "output_type": "execute_result"
        }
      ],
      "source": [
        "a1"
      ]
    },
    {
      "cell_type": "code",
      "execution_count": null,
      "metadata": {
        "id": "C72G2dxjB4Nj",
        "outputId": "d302e541-1776-4707-9680-70398f195f7a"
      },
      "outputs": [
        {
          "data": {
            "text/plain": [
              "array([[1. , 2. , 3.3],\n",
              "       [4. , 5. , 6.5]])"
            ]
          },
          "execution_count": 296,
          "metadata": {},
          "output_type": "execute_result"
        }
      ],
      "source": [
        "a2"
      ]
    },
    {
      "cell_type": "code",
      "execution_count": null,
      "metadata": {
        "id": "_jqw28jJB4Nj",
        "outputId": "100e0476-bc47-45b2-9fcd-1f416ddd4c8b"
      },
      "outputs": [
        {
          "data": {
            "text/plain": [
              "array([[False, False, False],\n",
              "       [False, False, False]])"
            ]
          },
          "execution_count": 297,
          "metadata": {},
          "output_type": "execute_result"
        }
      ],
      "source": [
        "a1 > a2"
      ]
    },
    {
      "cell_type": "code",
      "execution_count": null,
      "metadata": {
        "id": "2G9Oa_PKB4Nj",
        "outputId": "936c4e49-e572-4378-b470-d64965da8204"
      },
      "outputs": [
        {
          "data": {
            "text/plain": [
              "array([[ True,  True, False],\n",
              "       [False, False, False]])"
            ]
          },
          "execution_count": 299,
          "metadata": {},
          "output_type": "execute_result"
        }
      ],
      "source": [
        "bool_array = a1 >= a2\n",
        "bool_array"
      ]
    },
    {
      "cell_type": "code",
      "execution_count": null,
      "metadata": {
        "id": "Ycxp4v99B4Nj",
        "outputId": "c9192b41-7298-4705-aa9c-9795132bf594"
      },
      "outputs": [
        {
          "data": {
            "text/plain": [
              "(numpy.ndarray, dtype('bool'))"
            ]
          },
          "execution_count": 301,
          "metadata": {},
          "output_type": "execute_result"
        }
      ],
      "source": [
        "type(bool_array), bool_array.dtype"
      ]
    },
    {
      "cell_type": "code",
      "execution_count": null,
      "metadata": {
        "id": "MAc-evLAB4Nk",
        "outputId": "30de5817-f00e-4754-fe05-e7b2001330ed"
      },
      "outputs": [
        {
          "data": {
            "text/plain": [
              "array([False, False, False])"
            ]
          },
          "execution_count": 302,
          "metadata": {},
          "output_type": "execute_result"
        }
      ],
      "source": [
        "a1 > 5"
      ]
    },
    {
      "cell_type": "code",
      "execution_count": null,
      "metadata": {
        "id": "0X4mq7l4B4Nk",
        "outputId": "269da046-068c-4621-d075-211671ea7ec3"
      },
      "outputs": [
        {
          "data": {
            "text/plain": [
              "array([ True,  True,  True])"
            ]
          },
          "execution_count": 303,
          "metadata": {},
          "output_type": "execute_result"
        }
      ],
      "source": [
        "a1 < 5"
      ]
    },
    {
      "cell_type": "code",
      "execution_count": null,
      "metadata": {
        "id": "AnIdwj7QB4Nk",
        "outputId": "c3f9719b-e2c5-4e51-b6bb-56ea84a85cc9"
      },
      "outputs": [
        {
          "data": {
            "text/plain": [
              "array([ True,  True,  True])"
            ]
          },
          "execution_count": 304,
          "metadata": {},
          "output_type": "execute_result"
        }
      ],
      "source": [
        "a1 == a1"
      ]
    },
    {
      "cell_type": "code",
      "execution_count": null,
      "metadata": {
        "id": "5u-4gWnoB4Nk",
        "outputId": "0281f142-fdcc-445b-fdfc-24f5cd85d604"
      },
      "outputs": [
        {
          "data": {
            "text/plain": [
              "array([1, 2, 3])"
            ]
          },
          "execution_count": 306,
          "metadata": {},
          "output_type": "execute_result"
        }
      ],
      "source": [
        "a1"
      ]
    },
    {
      "cell_type": "code",
      "execution_count": null,
      "metadata": {
        "id": "LSNjOOwgB4Nk",
        "outputId": "7d846783-e87b-4361-989b-b9895f9f9e33"
      },
      "outputs": [
        {
          "data": {
            "text/plain": [
              "array([[1. , 2. , 3.3],\n",
              "       [4. , 5. , 6.5]])"
            ]
          },
          "execution_count": 307,
          "metadata": {},
          "output_type": "execute_result"
        }
      ],
      "source": [
        "a2"
      ]
    },
    {
      "cell_type": "code",
      "execution_count": null,
      "metadata": {
        "id": "zOKSnrCRB4Nl",
        "outputId": "f7f65764-07fc-433b-d7c4-62311ab7e614"
      },
      "outputs": [
        {
          "data": {
            "text/plain": [
              "array([[ True,  True, False],\n",
              "       [False, False, False]])"
            ]
          },
          "execution_count": 305,
          "metadata": {},
          "output_type": "execute_result"
        }
      ],
      "source": [
        "a1 == a2"
      ]
    },
    {
      "cell_type": "markdown",
      "metadata": {
        "id": "iplRA9hZB4Nl"
      },
      "source": [
        "## 5. Sorting arrays"
      ]
    },
    {
      "cell_type": "code",
      "execution_count": null,
      "metadata": {
        "id": "NDmDsO9DB4Nl",
        "outputId": "262f3952-98d5-4f2f-fdc4-4946c3c640a1"
      },
      "outputs": [
        {
          "data": {
            "text/plain": [
              "array([[7, 8, 1, 5, 9],\n",
              "       [8, 9, 4, 3, 0],\n",
              "       [3, 5, 0, 2, 3]])"
            ]
          },
          "execution_count": 310,
          "metadata": {},
          "output_type": "execute_result"
        }
      ],
      "source": [
        "random_array = np.random.randint(10, size=(3, 5))\n",
        "random_array"
      ]
    },
    {
      "cell_type": "code",
      "execution_count": null,
      "metadata": {
        "id": "6n0F0IcHB4Nl",
        "outputId": "bf5d0bd4-ae7d-41b5-b541-2f323723f864"
      },
      "outputs": [
        {
          "data": {
            "text/plain": [
              "(3, 5)"
            ]
          },
          "execution_count": 311,
          "metadata": {},
          "output_type": "execute_result"
        }
      ],
      "source": [
        "random_array.shape"
      ]
    },
    {
      "cell_type": "code",
      "execution_count": null,
      "metadata": {
        "id": "KlZiSA59B4Nm",
        "outputId": "55606fb2-0799-4e92-dba1-c18c2993d985"
      },
      "outputs": [
        {
          "data": {
            "text/plain": [
              "array([[1, 5, 7, 8, 9],\n",
              "       [0, 3, 4, 8, 9],\n",
              "       [0, 2, 3, 3, 5]])"
            ]
          },
          "execution_count": 312,
          "metadata": {},
          "output_type": "execute_result"
        }
      ],
      "source": [
        "np.sort(random_array)"
      ]
    },
    {
      "cell_type": "code",
      "execution_count": null,
      "metadata": {
        "id": "Y8SmI9H-B4Nm",
        "outputId": "f68df1ba-0af6-4531-a401-46249de7f508"
      },
      "outputs": [
        {
          "data": {
            "text/plain": [
              "array([[7, 8, 1, 5, 9],\n",
              "       [8, 9, 4, 3, 0],\n",
              "       [3, 5, 0, 2, 3]])"
            ]
          },
          "execution_count": 314,
          "metadata": {},
          "output_type": "execute_result"
        }
      ],
      "source": [
        "random_array"
      ]
    },
    {
      "cell_type": "code",
      "execution_count": null,
      "metadata": {
        "id": "mKq8ZL2ZB4Nm",
        "outputId": "70eaf016-701b-4147-c41f-53cde7448994"
      },
      "outputs": [
        {
          "data": {
            "text/plain": [
              "array([[2, 3, 0, 1, 4],\n",
              "       [4, 3, 2, 0, 1],\n",
              "       [2, 3, 0, 4, 1]])"
            ]
          },
          "execution_count": 313,
          "metadata": {},
          "output_type": "execute_result"
        }
      ],
      "source": [
        "np.argsort(random_array)"
      ]
    },
    {
      "cell_type": "code",
      "execution_count": null,
      "metadata": {
        "id": "qWXTehcuB4Nm",
        "outputId": "23f71414-cf91-49fb-f2d4-38c4a65ed024"
      },
      "outputs": [
        {
          "data": {
            "text/plain": [
              "array([1, 2, 3])"
            ]
          },
          "execution_count": 315,
          "metadata": {},
          "output_type": "execute_result"
        }
      ],
      "source": [
        "a1"
      ]
    },
    {
      "cell_type": "code",
      "execution_count": null,
      "metadata": {
        "id": "SzArB9F0B4Nm",
        "outputId": "fa10c8f0-f161-4679-9f02-54bdf03b1997"
      },
      "outputs": [
        {
          "data": {
            "text/plain": [
              "array([0, 1, 2])"
            ]
          },
          "execution_count": 316,
          "metadata": {},
          "output_type": "execute_result"
        }
      ],
      "source": [
        "np.argsort(a1)"
      ]
    },
    {
      "cell_type": "code",
      "execution_count": null,
      "metadata": {
        "id": "ui5LVnfAB4Nn",
        "outputId": "3be86598-2756-4a39-e352-161f0e07dcd7"
      },
      "outputs": [
        {
          "data": {
            "text/plain": [
              "0"
            ]
          },
          "execution_count": 317,
          "metadata": {},
          "output_type": "execute_result"
        }
      ],
      "source": [
        "np.argmin(a1)"
      ]
    },
    {
      "cell_type": "code",
      "execution_count": null,
      "metadata": {
        "id": "TJNSfb5dB4Nn",
        "outputId": "536f5b0f-887f-4ca4-b8c3-d1db7a6832df"
      },
      "outputs": [
        {
          "data": {
            "text/plain": [
              "2"
            ]
          },
          "execution_count": 318,
          "metadata": {},
          "output_type": "execute_result"
        }
      ],
      "source": [
        "np.argmax(a1)"
      ]
    },
    {
      "cell_type": "code",
      "execution_count": null,
      "metadata": {
        "id": "zhdLti1PB4Nn",
        "outputId": "709060a0-55bf-4ac0-f5c2-79e2147711ae"
      },
      "outputs": [
        {
          "data": {
            "text/plain": [
              "array([[7, 8, 1, 5, 9],\n",
              "       [8, 9, 4, 3, 0],\n",
              "       [3, 5, 0, 2, 3]])"
            ]
          },
          "execution_count": 319,
          "metadata": {},
          "output_type": "execute_result"
        }
      ],
      "source": [
        "random_array"
      ]
    },
    {
      "cell_type": "code",
      "execution_count": null,
      "metadata": {
        "id": "JSMM1w1rB4Nn",
        "outputId": "ed0e8543-05c9-4d80-b713-444ca6b13500"
      },
      "outputs": [
        {
          "data": {
            "text/plain": [
              "array([1, 1, 1, 0, 0])"
            ]
          },
          "execution_count": 321,
          "metadata": {},
          "output_type": "execute_result"
        }
      ],
      "source": [
        "np.argmax(random_array, axis=0)"
      ]
    },
    {
      "cell_type": "code",
      "execution_count": null,
      "metadata": {
        "id": "2aUcuK7fB4Nn",
        "outputId": "5899d96a-3285-4308-c027-1776bfe015a0"
      },
      "outputs": [
        {
          "data": {
            "text/plain": [
              "array([4, 1, 1])"
            ]
          },
          "execution_count": 322,
          "metadata": {},
          "output_type": "execute_result"
        }
      ],
      "source": [
        "np.argmax(random_array, axis=1)"
      ]
    },
    {
      "cell_type": "markdown",
      "metadata": {
        "id": "JSGsvQPuB4Nn"
      },
      "source": [
        "## 6. Practical Example - NumPy in Action!!!!"
      ]
    },
    {
      "cell_type": "markdown",
      "metadata": {
        "id": "cICutpfwB4No"
      },
      "source": [
        "<img src=\"https://github.com/drpetros11111/FS_DScML_Zero_to_Mastery/blob/15_Introduction_to_Numpy/images/panda.png?raw=1\"/>"
      ]
    },
    {
      "cell_type": "code",
      "execution_count": null,
      "metadata": {
        "id": "L9llXZBcB4No",
        "outputId": "a6c2920a-9a32-4e0c-cdc0-a0b14acf3e1f"
      },
      "outputs": [
        {
          "name": "stdout",
          "output_type": "stream",
          "text": [
            "<class 'numpy.ndarray'>\n"
          ]
        }
      ],
      "source": [
        "# Turn an image into a NumPy array\n",
        "from matplotlib.image import imread\n",
        "\n",
        "panda = imread(\"images/panda.png\")\n",
        "print(type(panda))"
      ]
    },
    {
      "cell_type": "code",
      "execution_count": null,
      "metadata": {
        "id": "ZV-IhxidB4No",
        "outputId": "25077f02-c88a-4ba4-cf28-423f33726085"
      },
      "outputs": [
        {
          "data": {
            "text/plain": [
              "(24465000, (2330, 3500, 3), 3)"
            ]
          },
          "execution_count": 327,
          "metadata": {},
          "output_type": "execute_result"
        }
      ],
      "source": [
        "panda.size, panda.shape, panda.ndim"
      ]
    },
    {
      "cell_type": "code",
      "execution_count": null,
      "metadata": {
        "id": "Ce856NG2B4No",
        "outputId": "862e768c-a010-4938-9f2e-a77b94ed900a"
      },
      "outputs": [
        {
          "data": {
            "text/plain": [
              "array([[[0.05490196, 0.10588235, 0.06666667],\n",
              "        [0.05490196, 0.10588235, 0.06666667],\n",
              "        [0.05490196, 0.10588235, 0.06666667],\n",
              "        ...,\n",
              "        [0.16470589, 0.12941177, 0.09411765],\n",
              "        [0.16470589, 0.12941177, 0.09411765],\n",
              "        [0.16470589, 0.12941177, 0.09411765]],\n",
              "\n",
              "       [[0.05490196, 0.10588235, 0.06666667],\n",
              "        [0.05490196, 0.10588235, 0.06666667],\n",
              "        [0.05490196, 0.10588235, 0.06666667],\n",
              "        ...,\n",
              "        [0.16470589, 0.12941177, 0.09411765],\n",
              "        [0.16470589, 0.12941177, 0.09411765],\n",
              "        [0.16470589, 0.12941177, 0.09411765]],\n",
              "\n",
              "       [[0.05490196, 0.10588235, 0.06666667],\n",
              "        [0.05490196, 0.10588235, 0.06666667],\n",
              "        [0.05490196, 0.10588235, 0.06666667],\n",
              "        ...,\n",
              "        [0.16470589, 0.12941177, 0.09411765],\n",
              "        [0.16470589, 0.12941177, 0.09411765],\n",
              "        [0.16470589, 0.12941177, 0.09411765]],\n",
              "\n",
              "       [[0.05490196, 0.10588235, 0.06666667],\n",
              "        [0.05490196, 0.10588235, 0.06666667],\n",
              "        [0.05490196, 0.10588235, 0.06666667],\n",
              "        ...,\n",
              "        [0.16862746, 0.13333334, 0.09803922],\n",
              "        [0.16862746, 0.13333334, 0.09803922],\n",
              "        [0.16862746, 0.13333334, 0.09803922]],\n",
              "\n",
              "       [[0.05490196, 0.10588235, 0.06666667],\n",
              "        [0.05490196, 0.10588235, 0.06666667],\n",
              "        [0.05490196, 0.10588235, 0.06666667],\n",
              "        ...,\n",
              "        [0.16862746, 0.13333334, 0.09803922],\n",
              "        [0.16862746, 0.13333334, 0.09803922],\n",
              "        [0.16862746, 0.13333334, 0.09803922]]], dtype=float32)"
            ]
          },
          "execution_count": 330,
          "metadata": {},
          "output_type": "execute_result"
        }
      ],
      "source": [
        "panda[:5]"
      ]
    },
    {
      "cell_type": "markdown",
      "metadata": {
        "id": "AUA8izIEB4No"
      },
      "source": [
        "<img src=\"https://github.com/drpetros11111/FS_DScML_Zero_to_Mastery/blob/15_Introduction_to_Numpy/images/car-photo.png?raw=1\"/>"
      ]
    },
    {
      "cell_type": "code",
      "execution_count": null,
      "metadata": {
        "id": "xS8l4sHwB4No",
        "outputId": "e5b0294a-7f4a-40f2-dfe9-b43e75a744f2"
      },
      "outputs": [
        {
          "name": "stdout",
          "output_type": "stream",
          "text": [
            "<class 'numpy.ndarray'>\n"
          ]
        }
      ],
      "source": [
        "car = imread(\"images/car-photo.png\")\n",
        "print(type(car))"
      ]
    },
    {
      "cell_type": "code",
      "execution_count": null,
      "metadata": {
        "id": "Ii5UWmdLB4Np",
        "outputId": "27d56b4a-92f4-451b-d3d4-65f66c041e72"
      },
      "outputs": [
        {
          "data": {
            "text/plain": [
              "array([[[0.5019608 , 0.50980395, 0.4862745 , 1.        ],\n",
              "        [0.3372549 , 0.34509805, 0.30588236, 1.        ],\n",
              "        [0.20392157, 0.21568628, 0.14901961, 1.        ],\n",
              "        ...,\n",
              "        [0.64705884, 0.7058824 , 0.54901963, 1.        ],\n",
              "        [0.59607846, 0.63529414, 0.45882353, 1.        ],\n",
              "        [0.44705883, 0.47058824, 0.3372549 , 1.        ]]], dtype=float32)"
            ]
          },
          "execution_count": 333,
          "metadata": {},
          "output_type": "execute_result"
        }
      ],
      "source": [
        "car[:1]"
      ]
    },
    {
      "cell_type": "markdown",
      "metadata": {
        "id": "_Gs4pK8GB4Np"
      },
      "source": [
        "<img src=\"https://github.com/drpetros11111/FS_DScML_Zero_to_Mastery/blob/15_Introduction_to_Numpy/images/dog-photo.png?raw=1\"/>"
      ]
    },
    {
      "cell_type": "code",
      "execution_count": null,
      "metadata": {
        "id": "O2IoZUd9B4Np",
        "outputId": "9f3b3cad-c6af-467d-de10-661c5b6fb374"
      },
      "outputs": [
        {
          "name": "stdout",
          "output_type": "stream",
          "text": [
            "<class 'numpy.ndarray'>\n"
          ]
        }
      ],
      "source": [
        "dog = imread(\"images/dog-photo.png\")\n",
        "print(type(dog))"
      ]
    },
    {
      "cell_type": "code",
      "execution_count": null,
      "metadata": {
        "id": "ASYuat1eB4Np",
        "outputId": "ab24e26d-c082-4495-8c4b-3172b2c8050d"
      },
      "outputs": [
        {
          "data": {
            "text/plain": [
              "array([[[0.70980394, 0.80784315, 0.88235295, 1.        ],\n",
              "        [0.72156864, 0.8117647 , 0.8862745 , 1.        ],\n",
              "        [0.7411765 , 0.8156863 , 0.8862745 , 1.        ],\n",
              "        ...,\n",
              "        [0.49803922, 0.6862745 , 0.8392157 , 1.        ],\n",
              "        [0.49411765, 0.68235296, 0.8392157 , 1.        ],\n",
              "        [0.49411765, 0.68235296, 0.8352941 , 1.        ]],\n",
              "\n",
              "       [[0.69411767, 0.8039216 , 0.8862745 , 1.        ],\n",
              "        [0.7019608 , 0.8039216 , 0.88235295, 1.        ],\n",
              "        [0.7058824 , 0.80784315, 0.88235295, 1.        ],\n",
              "        ...,\n",
              "        [0.5019608 , 0.6862745 , 0.84705883, 1.        ],\n",
              "        [0.49411765, 0.68235296, 0.84313726, 1.        ],\n",
              "        [0.49411765, 0.68235296, 0.8392157 , 1.        ]],\n",
              "\n",
              "       [[0.6901961 , 0.8       , 0.88235295, 1.        ],\n",
              "        [0.69803923, 0.8039216 , 0.88235295, 1.        ],\n",
              "        [0.7058824 , 0.80784315, 0.88235295, 1.        ],\n",
              "        ...,\n",
              "        [0.5019608 , 0.6862745 , 0.84705883, 1.        ],\n",
              "        [0.49803922, 0.6862745 , 0.84313726, 1.        ],\n",
              "        [0.49803922, 0.6862745 , 0.84313726, 1.        ]],\n",
              "\n",
              "       ...,\n",
              "\n",
              "       [[0.9098039 , 0.81960785, 0.654902  , 1.        ],\n",
              "        [0.8352941 , 0.7490196 , 0.6509804 , 1.        ],\n",
              "        [0.72156864, 0.6313726 , 0.5372549 , 1.        ],\n",
              "        ...,\n",
              "        [0.01568628, 0.07058824, 0.02352941, 1.        ],\n",
              "        [0.03921569, 0.09411765, 0.03529412, 1.        ],\n",
              "        [0.03921569, 0.09019608, 0.05490196, 1.        ]],\n",
              "\n",
              "       [[0.9137255 , 0.83137256, 0.6784314 , 1.        ],\n",
              "        [0.8117647 , 0.7294118 , 0.627451  , 1.        ],\n",
              "        [0.65882355, 0.5686275 , 0.47843137, 1.        ],\n",
              "        ...,\n",
              "        [0.00392157, 0.05490196, 0.03529412, 1.        ],\n",
              "        [0.03137255, 0.09019608, 0.05490196, 1.        ],\n",
              "        [0.04705882, 0.10588235, 0.06666667, 1.        ]],\n",
              "\n",
              "       [[0.9137255 , 0.83137256, 0.68235296, 1.        ],\n",
              "        [0.76862746, 0.68235296, 0.5882353 , 1.        ],\n",
              "        [0.59607846, 0.5058824 , 0.44313726, 1.        ],\n",
              "        ...,\n",
              "        [0.03921569, 0.10196079, 0.07058824, 1.        ],\n",
              "        [0.02745098, 0.08235294, 0.05882353, 1.        ],\n",
              "        [0.05098039, 0.11372549, 0.07058824, 1.        ]]], dtype=float32)"
            ]
          },
          "execution_count": 335,
          "metadata": {},
          "output_type": "execute_result"
        }
      ],
      "source": [
        "dog"
      ]
    },
    {
      "cell_type": "code",
      "execution_count": null,
      "metadata": {
        "id": "LxehutJrB4Np"
      },
      "outputs": [],
      "source": []
    }
  ],
  "metadata": {
    "kernelspec": {
      "display_name": "Python 3",
      "language": "python",
      "name": "python3"
    },
    "language_info": {
      "codemirror_mode": {
        "name": "ipython",
        "version": 3
      },
      "file_extension": ".py",
      "mimetype": "text/x-python",
      "name": "python",
      "nbconvert_exporter": "python",
      "pygments_lexer": "ipython3",
      "version": "3.7.6"
    },
    "colab": {
      "provenance": [],
      "include_colab_link": true
    }
  },
  "nbformat": 4,
  "nbformat_minor": 0
}